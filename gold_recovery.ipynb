{
 "cells": [
  {
   "cell_type": "markdown",
   "metadata": {},
   "source": [
    "# Восстановление золота из руды"
   ]
  },
  {
   "cell_type": "markdown",
   "metadata": {},
   "source": [
    "Подготовьте прототип модели машинного обучения для «Цифры». Компания разрабатывает решения для эффективной работы промышленных предприятий.\n",
    "\n",
    "Модель должна предсказать коэффициент восстановления золота из золотосодержащей руды. Используйте данные с параметрами добычи и очистки. \n",
    "\n",
    "Модель поможет оптимизировать производство, чтобы не запускать предприятие с убыточными характеристиками.\n",
    "\n",
    "Вам нужно:\n",
    "\n",
    "1. Подготовить данные;\n",
    "2. Провести исследовательский анализ данных;\n",
    "3. Построить и обучить модель.\n",
    "\n",
    "Чтобы выполнить проект, обращайтесь к библиотекам *pandas*, *matplotlib* и *sklearn.* Вам поможет их документация."
   ]
  },
  {
   "cell_type": "markdown",
   "metadata": {},
   "source": [
    "## Подготовка данных"
   ]
  },
  {
   "cell_type": "markdown",
   "metadata": {},
   "source": [
    "### Исследование данных"
   ]
  },
  {
   "cell_type": "markdown",
   "metadata": {},
   "source": [
    "Импорт библиотек `pandas` и `matplotlib`, а также необходимых функций из библиотеки `sklearn`:"
   ]
  },
  {
   "cell_type": "code",
   "execution_count": 1,
   "metadata": {},
   "outputs": [],
   "source": [
    "import pandas as pd\n",
    "import numpy as np\n",
    "import matplotlib.pyplot as plt\n",
    "from sklearn.linear_model import LinearRegression\n",
    "from sklearn.tree import DecisionTreeRegressor\n",
    "from sklearn.ensemble import RandomForestRegressor\n",
    "from sklearn.preprocessing import StandardScaler\n",
    "from sklearn.metrics import mean_absolute_error\n",
    "from sklearn.dummy import DummyRegressor\n",
    "from sklearn.model_selection import GridSearchCV\n",
    "from sklearn.model_selection import cross_val_score\n",
    "from sklearn.metrics import make_scorer"
   ]
  },
  {
   "cell_type": "markdown",
   "metadata": {},
   "source": [
    "Для отображения всех столбцов и строк укажем параметры:"
   ]
  },
  {
   "cell_type": "code",
   "execution_count": 2,
   "metadata": {},
   "outputs": [],
   "source": [
    "pd.set_option('display.max_rows', None)\n",
    "pd.set_option('display.max_columns', None)"
   ]
  },
  {
   "cell_type": "markdown",
   "metadata": {},
   "source": [
    "Чтение csv-файла и вывод первых 10 строк обучающего датасета:"
   ]
  },
  {
   "cell_type": "code",
   "execution_count": 3,
   "metadata": {},
   "outputs": [
    {
     "data": {
      "text/html": [
       "<div>\n",
       "<style scoped>\n",
       "    .dataframe tbody tr th:only-of-type {\n",
       "        vertical-align: middle;\n",
       "    }\n",
       "\n",
       "    .dataframe tbody tr th {\n",
       "        vertical-align: top;\n",
       "    }\n",
       "\n",
       "    .dataframe thead th {\n",
       "        text-align: right;\n",
       "    }\n",
       "</style>\n",
       "<table border=\"1\" class=\"dataframe\">\n",
       "  <thead>\n",
       "    <tr style=\"text-align: right;\">\n",
       "      <th></th>\n",
       "      <th>date</th>\n",
       "      <th>final.output.concentrate_ag</th>\n",
       "      <th>final.output.concentrate_pb</th>\n",
       "      <th>final.output.concentrate_sol</th>\n",
       "      <th>final.output.concentrate_au</th>\n",
       "      <th>final.output.recovery</th>\n",
       "      <th>final.output.tail_ag</th>\n",
       "      <th>final.output.tail_pb</th>\n",
       "      <th>final.output.tail_sol</th>\n",
       "      <th>final.output.tail_au</th>\n",
       "      <th>primary_cleaner.input.sulfate</th>\n",
       "      <th>primary_cleaner.input.depressant</th>\n",
       "      <th>primary_cleaner.input.feed_size</th>\n",
       "      <th>primary_cleaner.input.xanthate</th>\n",
       "      <th>primary_cleaner.output.concentrate_ag</th>\n",
       "      <th>primary_cleaner.output.concentrate_pb</th>\n",
       "      <th>primary_cleaner.output.concentrate_sol</th>\n",
       "      <th>primary_cleaner.output.concentrate_au</th>\n",
       "      <th>primary_cleaner.output.tail_ag</th>\n",
       "      <th>primary_cleaner.output.tail_pb</th>\n",
       "      <th>primary_cleaner.output.tail_sol</th>\n",
       "      <th>primary_cleaner.output.tail_au</th>\n",
       "      <th>primary_cleaner.state.floatbank8_a_air</th>\n",
       "      <th>primary_cleaner.state.floatbank8_a_level</th>\n",
       "      <th>primary_cleaner.state.floatbank8_b_air</th>\n",
       "      <th>primary_cleaner.state.floatbank8_b_level</th>\n",
       "      <th>primary_cleaner.state.floatbank8_c_air</th>\n",
       "      <th>primary_cleaner.state.floatbank8_c_level</th>\n",
       "      <th>primary_cleaner.state.floatbank8_d_air</th>\n",
       "      <th>primary_cleaner.state.floatbank8_d_level</th>\n",
       "      <th>rougher.calculation.sulfate_to_au_concentrate</th>\n",
       "      <th>rougher.calculation.floatbank10_sulfate_to_au_feed</th>\n",
       "      <th>rougher.calculation.floatbank11_sulfate_to_au_feed</th>\n",
       "      <th>rougher.calculation.au_pb_ratio</th>\n",
       "      <th>rougher.input.feed_ag</th>\n",
       "      <th>rougher.input.feed_pb</th>\n",
       "      <th>rougher.input.feed_rate</th>\n",
       "      <th>rougher.input.feed_size</th>\n",
       "      <th>rougher.input.feed_sol</th>\n",
       "      <th>rougher.input.feed_au</th>\n",
       "      <th>rougher.input.floatbank10_sulfate</th>\n",
       "      <th>rougher.input.floatbank10_xanthate</th>\n",
       "      <th>rougher.input.floatbank11_sulfate</th>\n",
       "      <th>rougher.input.floatbank11_xanthate</th>\n",
       "      <th>rougher.output.concentrate_ag</th>\n",
       "      <th>rougher.output.concentrate_pb</th>\n",
       "      <th>rougher.output.concentrate_sol</th>\n",
       "      <th>rougher.output.concentrate_au</th>\n",
       "      <th>rougher.output.recovery</th>\n",
       "      <th>rougher.output.tail_ag</th>\n",
       "      <th>rougher.output.tail_pb</th>\n",
       "      <th>rougher.output.tail_sol</th>\n",
       "      <th>rougher.output.tail_au</th>\n",
       "      <th>rougher.state.floatbank10_a_air</th>\n",
       "      <th>rougher.state.floatbank10_a_level</th>\n",
       "      <th>rougher.state.floatbank10_b_air</th>\n",
       "      <th>rougher.state.floatbank10_b_level</th>\n",
       "      <th>rougher.state.floatbank10_c_air</th>\n",
       "      <th>rougher.state.floatbank10_c_level</th>\n",
       "      <th>rougher.state.floatbank10_d_air</th>\n",
       "      <th>rougher.state.floatbank10_d_level</th>\n",
       "      <th>rougher.state.floatbank10_e_air</th>\n",
       "      <th>rougher.state.floatbank10_e_level</th>\n",
       "      <th>rougher.state.floatbank10_f_air</th>\n",
       "      <th>rougher.state.floatbank10_f_level</th>\n",
       "      <th>secondary_cleaner.output.tail_ag</th>\n",
       "      <th>secondary_cleaner.output.tail_pb</th>\n",
       "      <th>secondary_cleaner.output.tail_sol</th>\n",
       "      <th>secondary_cleaner.output.tail_au</th>\n",
       "      <th>secondary_cleaner.state.floatbank2_a_air</th>\n",
       "      <th>secondary_cleaner.state.floatbank2_a_level</th>\n",
       "      <th>secondary_cleaner.state.floatbank2_b_air</th>\n",
       "      <th>secondary_cleaner.state.floatbank2_b_level</th>\n",
       "      <th>secondary_cleaner.state.floatbank3_a_air</th>\n",
       "      <th>secondary_cleaner.state.floatbank3_a_level</th>\n",
       "      <th>secondary_cleaner.state.floatbank3_b_air</th>\n",
       "      <th>secondary_cleaner.state.floatbank3_b_level</th>\n",
       "      <th>secondary_cleaner.state.floatbank4_a_air</th>\n",
       "      <th>secondary_cleaner.state.floatbank4_a_level</th>\n",
       "      <th>secondary_cleaner.state.floatbank4_b_air</th>\n",
       "      <th>secondary_cleaner.state.floatbank4_b_level</th>\n",
       "      <th>secondary_cleaner.state.floatbank5_a_air</th>\n",
       "      <th>secondary_cleaner.state.floatbank5_a_level</th>\n",
       "      <th>secondary_cleaner.state.floatbank5_b_air</th>\n",
       "      <th>secondary_cleaner.state.floatbank5_b_level</th>\n",
       "      <th>secondary_cleaner.state.floatbank6_a_air</th>\n",
       "      <th>secondary_cleaner.state.floatbank6_a_level</th>\n",
       "    </tr>\n",
       "  </thead>\n",
       "  <tbody>\n",
       "    <tr>\n",
       "      <th>0</th>\n",
       "      <td>2016-01-15 00:00:00</td>\n",
       "      <td>6.055403</td>\n",
       "      <td>9.889648</td>\n",
       "      <td>5.507324</td>\n",
       "      <td>42.192020</td>\n",
       "      <td>70.541216</td>\n",
       "      <td>10.411962</td>\n",
       "      <td>0.895447</td>\n",
       "      <td>16.904297</td>\n",
       "      <td>2.143149</td>\n",
       "      <td>127.092003</td>\n",
       "      <td>10.128295</td>\n",
       "      <td>7.25</td>\n",
       "      <td>0.988759</td>\n",
       "      <td>8.547551</td>\n",
       "      <td>10.389648</td>\n",
       "      <td>19.529297</td>\n",
       "      <td>34.174427</td>\n",
       "      <td>14.936526</td>\n",
       "      <td>2.534912</td>\n",
       "      <td>7.476074</td>\n",
       "      <td>2.106679</td>\n",
       "      <td>1549.775757</td>\n",
       "      <td>-498.912140</td>\n",
       "      <td>1551.434204</td>\n",
       "      <td>-516.403442</td>\n",
       "      <td>1549.873901</td>\n",
       "      <td>-498.666595</td>\n",
       "      <td>1554.367432</td>\n",
       "      <td>-493.428131</td>\n",
       "      <td>41885.707031</td>\n",
       "      <td>3481.779053</td>\n",
       "      <td>3520.337158</td>\n",
       "      <td>2.838687</td>\n",
       "      <td>6.100378</td>\n",
       "      <td>2.284912</td>\n",
       "      <td>523.546326</td>\n",
       "      <td>55.486599</td>\n",
       "      <td>36.808594</td>\n",
       "      <td>6.486150</td>\n",
       "      <td>11.986616</td>\n",
       "      <td>6.007990</td>\n",
       "      <td>11.836743</td>\n",
       "      <td>6.005818</td>\n",
       "      <td>11.500771</td>\n",
       "      <td>7.101074</td>\n",
       "      <td>28.029297</td>\n",
       "      <td>19.793808</td>\n",
       "      <td>87.107763</td>\n",
       "      <td>5.008018</td>\n",
       "      <td>0.508728</td>\n",
       "      <td>19.154297</td>\n",
       "      <td>1.170244</td>\n",
       "      <td>999.706909</td>\n",
       "      <td>-404.066986</td>\n",
       "      <td>1603.011353</td>\n",
       "      <td>-434.715027</td>\n",
       "      <td>1602.375000</td>\n",
       "      <td>-442.204468</td>\n",
       "      <td>1598.937256</td>\n",
       "      <td>-451.294128</td>\n",
       "      <td>1404.472046</td>\n",
       "      <td>-455.462982</td>\n",
       "      <td>1416.354980</td>\n",
       "      <td>-451.939636</td>\n",
       "      <td>14.500184</td>\n",
       "      <td>4.694824</td>\n",
       "      <td>8.764648</td>\n",
       "      <td>2.606185</td>\n",
       "      <td>25.853109</td>\n",
       "      <td>-498.526489</td>\n",
       "      <td>23.893660</td>\n",
       "      <td>-501.406281</td>\n",
       "      <td>23.961798</td>\n",
       "      <td>-495.262817</td>\n",
       "      <td>21.940409</td>\n",
       "      <td>-499.340973</td>\n",
       "      <td>14.016835</td>\n",
       "      <td>-502.488007</td>\n",
       "      <td>12.099931</td>\n",
       "      <td>-504.715942</td>\n",
       "      <td>9.925633</td>\n",
       "      <td>-498.310211</td>\n",
       "      <td>8.079666</td>\n",
       "      <td>-500.470978</td>\n",
       "      <td>14.151341</td>\n",
       "      <td>-605.841980</td>\n",
       "    </tr>\n",
       "    <tr>\n",
       "      <th>1</th>\n",
       "      <td>2016-01-15 01:00:00</td>\n",
       "      <td>6.029369</td>\n",
       "      <td>9.968944</td>\n",
       "      <td>5.257781</td>\n",
       "      <td>42.701629</td>\n",
       "      <td>69.266198</td>\n",
       "      <td>10.462676</td>\n",
       "      <td>0.927452</td>\n",
       "      <td>16.634514</td>\n",
       "      <td>2.224930</td>\n",
       "      <td>125.629232</td>\n",
       "      <td>10.296251</td>\n",
       "      <td>7.25</td>\n",
       "      <td>1.002663</td>\n",
       "      <td>8.558743</td>\n",
       "      <td>10.497069</td>\n",
       "      <td>19.369147</td>\n",
       "      <td>34.118526</td>\n",
       "      <td>16.250511</td>\n",
       "      <td>3.049646</td>\n",
       "      <td>6.733907</td>\n",
       "      <td>2.353017</td>\n",
       "      <td>1576.166671</td>\n",
       "      <td>-500.904965</td>\n",
       "      <td>1575.950626</td>\n",
       "      <td>-499.865889</td>\n",
       "      <td>1575.994189</td>\n",
       "      <td>-499.315107</td>\n",
       "      <td>1574.479259</td>\n",
       "      <td>-498.931665</td>\n",
       "      <td>42050.861809</td>\n",
       "      <td>3498.370979</td>\n",
       "      <td>3489.981857</td>\n",
       "      <td>2.858998</td>\n",
       "      <td>6.161113</td>\n",
       "      <td>2.266033</td>\n",
       "      <td>525.290581</td>\n",
       "      <td>57.278666</td>\n",
       "      <td>35.753385</td>\n",
       "      <td>6.478583</td>\n",
       "      <td>11.971193</td>\n",
       "      <td>6.005766</td>\n",
       "      <td>11.996163</td>\n",
       "      <td>6.012594</td>\n",
       "      <td>11.615865</td>\n",
       "      <td>7.278807</td>\n",
       "      <td>28.067063</td>\n",
       "      <td>20.050975</td>\n",
       "      <td>86.843261</td>\n",
       "      <td>4.955378</td>\n",
       "      <td>0.536689</td>\n",
       "      <td>18.965234</td>\n",
       "      <td>1.184827</td>\n",
       "      <td>1000.286398</td>\n",
       "      <td>-400.065196</td>\n",
       "      <td>1600.754587</td>\n",
       "      <td>-449.953435</td>\n",
       "      <td>1600.479580</td>\n",
       "      <td>-449.830646</td>\n",
       "      <td>1600.527589</td>\n",
       "      <td>-449.953649</td>\n",
       "      <td>1399.227084</td>\n",
       "      <td>-450.869848</td>\n",
       "      <td>1399.719514</td>\n",
       "      <td>-450.119001</td>\n",
       "      <td>14.265474</td>\n",
       "      <td>4.592547</td>\n",
       "      <td>9.001494</td>\n",
       "      <td>2.488248</td>\n",
       "      <td>25.880539</td>\n",
       "      <td>-499.989656</td>\n",
       "      <td>23.889530</td>\n",
       "      <td>-500.372428</td>\n",
       "      <td>23.970550</td>\n",
       "      <td>-500.085473</td>\n",
       "      <td>22.085714</td>\n",
       "      <td>-499.446897</td>\n",
       "      <td>13.992281</td>\n",
       "      <td>-505.503262</td>\n",
       "      <td>11.950531</td>\n",
       "      <td>-501.331529</td>\n",
       "      <td>10.039245</td>\n",
       "      <td>-500.169983</td>\n",
       "      <td>7.984757</td>\n",
       "      <td>-500.582168</td>\n",
       "      <td>13.998353</td>\n",
       "      <td>-599.787184</td>\n",
       "    </tr>\n",
       "    <tr>\n",
       "      <th>2</th>\n",
       "      <td>2016-01-15 02:00:00</td>\n",
       "      <td>6.055926</td>\n",
       "      <td>10.213995</td>\n",
       "      <td>5.383759</td>\n",
       "      <td>42.657501</td>\n",
       "      <td>68.116445</td>\n",
       "      <td>10.507046</td>\n",
       "      <td>0.953716</td>\n",
       "      <td>16.208849</td>\n",
       "      <td>2.257889</td>\n",
       "      <td>123.819808</td>\n",
       "      <td>11.316280</td>\n",
       "      <td>7.25</td>\n",
       "      <td>0.991265</td>\n",
       "      <td>8.603505</td>\n",
       "      <td>10.354494</td>\n",
       "      <td>19.167579</td>\n",
       "      <td>33.969464</td>\n",
       "      <td>16.491823</td>\n",
       "      <td>3.124664</td>\n",
       "      <td>6.471768</td>\n",
       "      <td>2.416800</td>\n",
       "      <td>1601.556163</td>\n",
       "      <td>-499.997791</td>\n",
       "      <td>1600.386685</td>\n",
       "      <td>-500.607762</td>\n",
       "      <td>1602.003542</td>\n",
       "      <td>-500.870069</td>\n",
       "      <td>1599.541515</td>\n",
       "      <td>-499.827444</td>\n",
       "      <td>42018.101184</td>\n",
       "      <td>3495.348910</td>\n",
       "      <td>3502.359819</td>\n",
       "      <td>2.945989</td>\n",
       "      <td>6.116455</td>\n",
       "      <td>2.159622</td>\n",
       "      <td>530.026610</td>\n",
       "      <td>57.510649</td>\n",
       "      <td>35.971630</td>\n",
       "      <td>6.362222</td>\n",
       "      <td>11.920603</td>\n",
       "      <td>6.197377</td>\n",
       "      <td>11.920305</td>\n",
       "      <td>6.204633</td>\n",
       "      <td>11.695753</td>\n",
       "      <td>7.216833</td>\n",
       "      <td>27.454037</td>\n",
       "      <td>19.737170</td>\n",
       "      <td>86.842308</td>\n",
       "      <td>4.843460</td>\n",
       "      <td>0.546416</td>\n",
       "      <td>18.808533</td>\n",
       "      <td>1.162562</td>\n",
       "      <td>999.719565</td>\n",
       "      <td>-400.074028</td>\n",
       "      <td>1599.337330</td>\n",
       "      <td>-450.008530</td>\n",
       "      <td>1599.672797</td>\n",
       "      <td>-449.954491</td>\n",
       "      <td>1599.849325</td>\n",
       "      <td>-449.954185</td>\n",
       "      <td>1399.180945</td>\n",
       "      <td>-449.937588</td>\n",
       "      <td>1400.316682</td>\n",
       "      <td>-450.527147</td>\n",
       "      <td>14.115662</td>\n",
       "      <td>4.624775</td>\n",
       "      <td>8.842896</td>\n",
       "      <td>2.458187</td>\n",
       "      <td>26.005245</td>\n",
       "      <td>-499.929616</td>\n",
       "      <td>23.886657</td>\n",
       "      <td>-499.951928</td>\n",
       "      <td>23.913535</td>\n",
       "      <td>-499.442343</td>\n",
       "      <td>23.957717</td>\n",
       "      <td>-499.901982</td>\n",
       "      <td>14.015015</td>\n",
       "      <td>-502.520901</td>\n",
       "      <td>11.912783</td>\n",
       "      <td>-501.133383</td>\n",
       "      <td>10.070913</td>\n",
       "      <td>-500.129135</td>\n",
       "      <td>8.013877</td>\n",
       "      <td>-500.517572</td>\n",
       "      <td>14.028663</td>\n",
       "      <td>-601.427363</td>\n",
       "    </tr>\n",
       "    <tr>\n",
       "      <th>3</th>\n",
       "      <td>2016-01-15 03:00:00</td>\n",
       "      <td>6.047977</td>\n",
       "      <td>9.977019</td>\n",
       "      <td>4.858634</td>\n",
       "      <td>42.689819</td>\n",
       "      <td>68.347543</td>\n",
       "      <td>10.422762</td>\n",
       "      <td>0.883763</td>\n",
       "      <td>16.532835</td>\n",
       "      <td>2.146849</td>\n",
       "      <td>122.270188</td>\n",
       "      <td>11.322140</td>\n",
       "      <td>7.25</td>\n",
       "      <td>0.996739</td>\n",
       "      <td>7.221879</td>\n",
       "      <td>8.496563</td>\n",
       "      <td>15.978538</td>\n",
       "      <td>28.260743</td>\n",
       "      <td>16.024359</td>\n",
       "      <td>2.960362</td>\n",
       "      <td>6.843791</td>\n",
       "      <td>2.262051</td>\n",
       "      <td>1599.968720</td>\n",
       "      <td>-500.951778</td>\n",
       "      <td>1600.659236</td>\n",
       "      <td>-499.677094</td>\n",
       "      <td>1600.304144</td>\n",
       "      <td>-500.727997</td>\n",
       "      <td>1600.449520</td>\n",
       "      <td>-500.052575</td>\n",
       "      <td>42029.447991</td>\n",
       "      <td>3498.578313</td>\n",
       "      <td>3499.162912</td>\n",
       "      <td>3.002340</td>\n",
       "      <td>6.043309</td>\n",
       "      <td>2.037807</td>\n",
       "      <td>542.590390</td>\n",
       "      <td>57.792734</td>\n",
       "      <td>36.862241</td>\n",
       "      <td>6.118189</td>\n",
       "      <td>11.630094</td>\n",
       "      <td>6.203177</td>\n",
       "      <td>11.692450</td>\n",
       "      <td>6.196578</td>\n",
       "      <td>11.915047</td>\n",
       "      <td>7.175616</td>\n",
       "      <td>27.341277</td>\n",
       "      <td>19.320810</td>\n",
       "      <td>87.226430</td>\n",
       "      <td>4.655288</td>\n",
       "      <td>0.542525</td>\n",
       "      <td>19.330200</td>\n",
       "      <td>1.079755</td>\n",
       "      <td>999.814770</td>\n",
       "      <td>-400.200179</td>\n",
       "      <td>1600.059442</td>\n",
       "      <td>-450.619948</td>\n",
       "      <td>1600.012842</td>\n",
       "      <td>-449.910497</td>\n",
       "      <td>1597.725177</td>\n",
       "      <td>-450.130127</td>\n",
       "      <td>1400.943157</td>\n",
       "      <td>-450.030142</td>\n",
       "      <td>1400.234743</td>\n",
       "      <td>-449.790835</td>\n",
       "      <td>13.732071</td>\n",
       "      <td>4.482453</td>\n",
       "      <td>9.122857</td>\n",
       "      <td>2.322062</td>\n",
       "      <td>25.942508</td>\n",
       "      <td>-499.176749</td>\n",
       "      <td>23.955516</td>\n",
       "      <td>-499.848796</td>\n",
       "      <td>23.966838</td>\n",
       "      <td>-500.008812</td>\n",
       "      <td>23.954443</td>\n",
       "      <td>-499.944710</td>\n",
       "      <td>14.036510</td>\n",
       "      <td>-500.857308</td>\n",
       "      <td>11.999550</td>\n",
       "      <td>-501.193686</td>\n",
       "      <td>9.970366</td>\n",
       "      <td>-499.201640</td>\n",
       "      <td>7.977324</td>\n",
       "      <td>-500.255908</td>\n",
       "      <td>14.005551</td>\n",
       "      <td>-599.996129</td>\n",
       "    </tr>\n",
       "    <tr>\n",
       "      <th>4</th>\n",
       "      <td>2016-01-15 04:00:00</td>\n",
       "      <td>6.148599</td>\n",
       "      <td>10.142511</td>\n",
       "      <td>4.939416</td>\n",
       "      <td>42.774141</td>\n",
       "      <td>66.927016</td>\n",
       "      <td>10.360302</td>\n",
       "      <td>0.792826</td>\n",
       "      <td>16.525686</td>\n",
       "      <td>2.055292</td>\n",
       "      <td>117.988169</td>\n",
       "      <td>11.913613</td>\n",
       "      <td>7.25</td>\n",
       "      <td>1.009869</td>\n",
       "      <td>9.089428</td>\n",
       "      <td>9.986786</td>\n",
       "      <td>19.199864</td>\n",
       "      <td>33.044932</td>\n",
       "      <td>16.480185</td>\n",
       "      <td>3.112100</td>\n",
       "      <td>6.550154</td>\n",
       "      <td>2.277073</td>\n",
       "      <td>1601.339707</td>\n",
       "      <td>-498.975456</td>\n",
       "      <td>1601.437854</td>\n",
       "      <td>-500.323246</td>\n",
       "      <td>1599.581894</td>\n",
       "      <td>-500.888152</td>\n",
       "      <td>1602.649541</td>\n",
       "      <td>-500.593010</td>\n",
       "      <td>42125.354245</td>\n",
       "      <td>3494.800771</td>\n",
       "      <td>3506.679315</td>\n",
       "      <td>3.169615</td>\n",
       "      <td>6.060915</td>\n",
       "      <td>1.786875</td>\n",
       "      <td>540.531893</td>\n",
       "      <td>56.047189</td>\n",
       "      <td>34.347666</td>\n",
       "      <td>5.663707</td>\n",
       "      <td>10.957755</td>\n",
       "      <td>6.198826</td>\n",
       "      <td>10.960521</td>\n",
       "      <td>6.194897</td>\n",
       "      <td>12.411054</td>\n",
       "      <td>7.240205</td>\n",
       "      <td>27.041023</td>\n",
       "      <td>19.216101</td>\n",
       "      <td>86.688794</td>\n",
       "      <td>4.552800</td>\n",
       "      <td>0.515438</td>\n",
       "      <td>19.267422</td>\n",
       "      <td>1.012642</td>\n",
       "      <td>999.678690</td>\n",
       "      <td>-399.752729</td>\n",
       "      <td>1600.208824</td>\n",
       "      <td>-449.599614</td>\n",
       "      <td>1600.357732</td>\n",
       "      <td>-450.034364</td>\n",
       "      <td>1599.759049</td>\n",
       "      <td>-449.909799</td>\n",
       "      <td>1401.560902</td>\n",
       "      <td>-448.877187</td>\n",
       "      <td>1401.160227</td>\n",
       "      <td>-450.407128</td>\n",
       "      <td>14.079996</td>\n",
       "      <td>4.470737</td>\n",
       "      <td>8.871028</td>\n",
       "      <td>2.330448</td>\n",
       "      <td>26.024787</td>\n",
       "      <td>-500.279091</td>\n",
       "      <td>23.955345</td>\n",
       "      <td>-500.593614</td>\n",
       "      <td>23.985703</td>\n",
       "      <td>-500.083811</td>\n",
       "      <td>23.958945</td>\n",
       "      <td>-499.990309</td>\n",
       "      <td>14.027298</td>\n",
       "      <td>-499.838632</td>\n",
       "      <td>11.953070</td>\n",
       "      <td>-501.053894</td>\n",
       "      <td>9.925709</td>\n",
       "      <td>-501.686727</td>\n",
       "      <td>7.894242</td>\n",
       "      <td>-500.356035</td>\n",
       "      <td>13.996647</td>\n",
       "      <td>-601.496691</td>\n",
       "    </tr>\n",
       "    <tr>\n",
       "      <th>5</th>\n",
       "      <td>2016-01-15 05:00:00</td>\n",
       "      <td>6.482968</td>\n",
       "      <td>10.049416</td>\n",
       "      <td>5.480257</td>\n",
       "      <td>41.633678</td>\n",
       "      <td>69.465816</td>\n",
       "      <td>10.182708</td>\n",
       "      <td>0.664118</td>\n",
       "      <td>16.999638</td>\n",
       "      <td>1.918586</td>\n",
       "      <td>115.581252</td>\n",
       "      <td>12.470773</td>\n",
       "      <td>7.25</td>\n",
       "      <td>0.965760</td>\n",
       "      <td>9.553724</td>\n",
       "      <td>9.816215</td>\n",
       "      <td>19.167328</td>\n",
       "      <td>32.070664</td>\n",
       "      <td>15.931540</td>\n",
       "      <td>2.844511</td>\n",
       "      <td>6.724197</td>\n",
       "      <td>2.114558</td>\n",
       "      <td>1602.964922</td>\n",
       "      <td>-498.090944</td>\n",
       "      <td>1602.074298</td>\n",
       "      <td>-500.179481</td>\n",
       "      <td>1602.154812</td>\n",
       "      <td>-498.642614</td>\n",
       "      <td>1605.020106</td>\n",
       "      <td>-500.538177</td>\n",
       "      <td>41973.280986</td>\n",
       "      <td>3501.916973</td>\n",
       "      <td>3499.527175</td>\n",
       "      <td>3.026134</td>\n",
       "      <td>5.801920</td>\n",
       "      <td>1.879351</td>\n",
       "      <td>546.173470</td>\n",
       "      <td>57.469578</td>\n",
       "      <td>35.470082</td>\n",
       "      <td>5.687168</td>\n",
       "      <td>11.072517</td>\n",
       "      <td>6.200383</td>\n",
       "      <td>11.075009</td>\n",
       "      <td>6.202362</td>\n",
       "      <td>11.985584</td>\n",
       "      <td>7.121903</td>\n",
       "      <td>26.898046</td>\n",
       "      <td>18.950385</td>\n",
       "      <td>88.156912</td>\n",
       "      <td>4.397415</td>\n",
       "      <td>0.491350</td>\n",
       "      <td>19.640269</td>\n",
       "      <td>0.915835</td>\n",
       "      <td>999.934134</td>\n",
       "      <td>-400.599524</td>\n",
       "      <td>1601.080554</td>\n",
       "      <td>-450.120760</td>\n",
       "      <td>1603.164805</td>\n",
       "      <td>-450.097732</td>\n",
       "      <td>1603.368371</td>\n",
       "      <td>-446.306150</td>\n",
       "      <td>1403.393100</td>\n",
       "      <td>-447.899904</td>\n",
       "      <td>1402.903175</td>\n",
       "      <td>-448.872321</td>\n",
       "      <td>13.615012</td>\n",
       "      <td>4.286817</td>\n",
       "      <td>9.302669</td>\n",
       "      <td>2.192127</td>\n",
       "      <td>26.014841</td>\n",
       "      <td>-498.864670</td>\n",
       "      <td>23.880214</td>\n",
       "      <td>-499.738447</td>\n",
       "      <td>23.982635</td>\n",
       "      <td>-500.495272</td>\n",
       "      <td>24.009749</td>\n",
       "      <td>-499.433825</td>\n",
       "      <td>13.938497</td>\n",
       "      <td>-500.970168</td>\n",
       "      <td>11.883350</td>\n",
       "      <td>-500.395298</td>\n",
       "      <td>10.054147</td>\n",
       "      <td>-496.374715</td>\n",
       "      <td>7.965083</td>\n",
       "      <td>-499.364752</td>\n",
       "      <td>14.017067</td>\n",
       "      <td>-599.707915</td>\n",
       "    </tr>\n",
       "    <tr>\n",
       "      <th>6</th>\n",
       "      <td>2016-01-15 06:00:00</td>\n",
       "      <td>6.533849</td>\n",
       "      <td>10.058141</td>\n",
       "      <td>4.569100</td>\n",
       "      <td>41.995316</td>\n",
       "      <td>69.300835</td>\n",
       "      <td>10.304598</td>\n",
       "      <td>0.807342</td>\n",
       "      <td>16.723575</td>\n",
       "      <td>2.058913</td>\n",
       "      <td>117.322323</td>\n",
       "      <td>12.469088</td>\n",
       "      <td>7.25</td>\n",
       "      <td>0.895207</td>\n",
       "      <td>8.968869</td>\n",
       "      <td>10.081306</td>\n",
       "      <td>18.930855</td>\n",
       "      <td>33.184823</td>\n",
       "      <td>16.078368</td>\n",
       "      <td>2.938979</td>\n",
       "      <td>6.623598</td>\n",
       "      <td>2.223152</td>\n",
       "      <td>1597.532455</td>\n",
       "      <td>-500.985364</td>\n",
       "      <td>1602.816321</td>\n",
       "      <td>-500.696736</td>\n",
       "      <td>1603.572091</td>\n",
       "      <td>-500.256955</td>\n",
       "      <td>1597.597437</td>\n",
       "      <td>-500.378192</td>\n",
       "      <td>41956.468979</td>\n",
       "      <td>3497.427365</td>\n",
       "      <td>3506.352790</td>\n",
       "      <td>2.867933</td>\n",
       "      <td>6.056253</td>\n",
       "      <td>2.105501</td>\n",
       "      <td>523.376439</td>\n",
       "      <td>56.674647</td>\n",
       "      <td>34.920570</td>\n",
       "      <td>6.038436</td>\n",
       "      <td>11.535899</td>\n",
       "      <td>6.204974</td>\n",
       "      <td>11.539227</td>\n",
       "      <td>6.200515</td>\n",
       "      <td>11.684307</td>\n",
       "      <td>7.304849</td>\n",
       "      <td>27.063672</td>\n",
       "      <td>19.319591</td>\n",
       "      <td>88.168065</td>\n",
       "      <td>4.478080</td>\n",
       "      <td>0.518266</td>\n",
       "      <td>19.262491</td>\n",
       "      <td>0.986248</td>\n",
       "      <td>999.832373</td>\n",
       "      <td>-399.353521</td>\n",
       "      <td>1600.753019</td>\n",
       "      <td>-450.050089</td>\n",
       "      <td>1599.019966</td>\n",
       "      <td>-449.848507</td>\n",
       "      <td>1600.298267</td>\n",
       "      <td>-453.102891</td>\n",
       "      <td>1397.853265</td>\n",
       "      <td>-451.306640</td>\n",
       "      <td>1397.973670</td>\n",
       "      <td>-451.355626</td>\n",
       "      <td>13.597056</td>\n",
       "      <td>4.487865</td>\n",
       "      <td>9.103047</td>\n",
       "      <td>2.316720</td>\n",
       "      <td>25.957594</td>\n",
       "      <td>-500.134472</td>\n",
       "      <td>24.077199</td>\n",
       "      <td>-500.089190</td>\n",
       "      <td>23.991710</td>\n",
       "      <td>-500.391528</td>\n",
       "      <td>23.954144</td>\n",
       "      <td>-501.872171</td>\n",
       "      <td>14.046819</td>\n",
       "      <td>-500.971133</td>\n",
       "      <td>12.091543</td>\n",
       "      <td>-500.501426</td>\n",
       "      <td>10.003247</td>\n",
       "      <td>-497.083180</td>\n",
       "      <td>8.010890</td>\n",
       "      <td>-500.002423</td>\n",
       "      <td>14.029649</td>\n",
       "      <td>-600.905470</td>\n",
       "    </tr>\n",
       "    <tr>\n",
       "      <th>7</th>\n",
       "      <td>2016-01-15 07:00:00</td>\n",
       "      <td>6.130823</td>\n",
       "      <td>9.935481</td>\n",
       "      <td>4.389813</td>\n",
       "      <td>42.452727</td>\n",
       "      <td>70.230976</td>\n",
       "      <td>10.443288</td>\n",
       "      <td>0.949346</td>\n",
       "      <td>16.689959</td>\n",
       "      <td>2.143437</td>\n",
       "      <td>124.592960</td>\n",
       "      <td>12.467403</td>\n",
       "      <td>7.25</td>\n",
       "      <td>0.901202</td>\n",
       "      <td>8.545238</td>\n",
       "      <td>10.224540</td>\n",
       "      <td>18.735813</td>\n",
       "      <td>34.027719</td>\n",
       "      <td>15.797720</td>\n",
       "      <td>2.881529</td>\n",
       "      <td>6.872033</td>\n",
       "      <td>2.112025</td>\n",
       "      <td>1597.946266</td>\n",
       "      <td>-501.592304</td>\n",
       "      <td>1601.078254</td>\n",
       "      <td>-499.494115</td>\n",
       "      <td>1602.630688</td>\n",
       "      <td>-500.173741</td>\n",
       "      <td>1595.937990</td>\n",
       "      <td>-498.929825</td>\n",
       "      <td>41812.416893</td>\n",
       "      <td>3497.275828</td>\n",
       "      <td>3501.000030</td>\n",
       "      <td>2.784698</td>\n",
       "      <td>5.955053</td>\n",
       "      <td>2.310432</td>\n",
       "      <td>549.842749</td>\n",
       "      <td>56.730325</td>\n",
       "      <td>36.091386</td>\n",
       "      <td>6.433854</td>\n",
       "      <td>12.557906</td>\n",
       "      <td>6.799275</td>\n",
       "      <td>12.583109</td>\n",
       "      <td>6.798354</td>\n",
       "      <td>11.182624</td>\n",
       "      <td>7.258496</td>\n",
       "      <td>27.231114</td>\n",
       "      <td>19.507897</td>\n",
       "      <td>87.668336</td>\n",
       "      <td>4.728325</td>\n",
       "      <td>0.548067</td>\n",
       "      <td>18.861866</td>\n",
       "      <td>1.116110</td>\n",
       "      <td>1000.166602</td>\n",
       "      <td>-400.556601</td>\n",
       "      <td>1598.877246</td>\n",
       "      <td>-450.070980</td>\n",
       "      <td>1598.108717</td>\n",
       "      <td>-449.211334</td>\n",
       "      <td>1592.872844</td>\n",
       "      <td>-449.806802</td>\n",
       "      <td>1396.580752</td>\n",
       "      <td>-453.548352</td>\n",
       "      <td>1397.289884</td>\n",
       "      <td>-450.221696</td>\n",
       "      <td>13.177237</td>\n",
       "      <td>4.432448</td>\n",
       "      <td>9.369209</td>\n",
       "      <td>2.192197</td>\n",
       "      <td>25.938026</td>\n",
       "      <td>-499.657795</td>\n",
       "      <td>24.020179</td>\n",
       "      <td>-499.798396</td>\n",
       "      <td>24.031555</td>\n",
       "      <td>-500.550436</td>\n",
       "      <td>23.968160</td>\n",
       "      <td>-499.836513</td>\n",
       "      <td>13.974691</td>\n",
       "      <td>-501.819696</td>\n",
       "      <td>12.101324</td>\n",
       "      <td>-500.583446</td>\n",
       "      <td>9.873169</td>\n",
       "      <td>-499.171928</td>\n",
       "      <td>7.993381</td>\n",
       "      <td>-499.794518</td>\n",
       "      <td>13.984498</td>\n",
       "      <td>-600.411070</td>\n",
       "    </tr>\n",
       "    <tr>\n",
       "      <th>8</th>\n",
       "      <td>2016-01-15 08:00:00</td>\n",
       "      <td>5.834140</td>\n",
       "      <td>10.071156</td>\n",
       "      <td>4.876389</td>\n",
       "      <td>43.404078</td>\n",
       "      <td>69.688595</td>\n",
       "      <td>10.420140</td>\n",
       "      <td>1.065453</td>\n",
       "      <td>17.201948</td>\n",
       "      <td>2.209881</td>\n",
       "      <td>131.781026</td>\n",
       "      <td>12.465718</td>\n",
       "      <td>7.25</td>\n",
       "      <td>0.885535</td>\n",
       "      <td>8.046686</td>\n",
       "      <td>10.500065</td>\n",
       "      <td>18.560288</td>\n",
       "      <td>34.964974</td>\n",
       "      <td>16.195420</td>\n",
       "      <td>3.089922</td>\n",
       "      <td>6.705633</td>\n",
       "      <td>2.243817</td>\n",
       "      <td>1601.670053</td>\n",
       "      <td>-499.548891</td>\n",
       "      <td>1598.804355</td>\n",
       "      <td>-499.689644</td>\n",
       "      <td>1601.689285</td>\n",
       "      <td>-500.484957</td>\n",
       "      <td>1602.431117</td>\n",
       "      <td>-500.650982</td>\n",
       "      <td>41905.757985</td>\n",
       "      <td>3498.332166</td>\n",
       "      <td>3498.120075</td>\n",
       "      <td>2.728844</td>\n",
       "      <td>5.878084</td>\n",
       "      <td>2.391713</td>\n",
       "      <td>560.115242</td>\n",
       "      <td>56.649893</td>\n",
       "      <td>35.753879</td>\n",
       "      <td>6.526612</td>\n",
       "      <td>13.166128</td>\n",
       "      <td>6.798659</td>\n",
       "      <td>13.184764</td>\n",
       "      <td>6.800021</td>\n",
       "      <td>11.051323</td>\n",
       "      <td>7.380043</td>\n",
       "      <td>27.404296</td>\n",
       "      <td>19.789465</td>\n",
       "      <td>87.035862</td>\n",
       "      <td>4.764300</td>\n",
       "      <td>0.599181</td>\n",
       "      <td>18.873082</td>\n",
       "      <td>1.186780</td>\n",
       "      <td>1000.026864</td>\n",
       "      <td>-399.968583</td>\n",
       "      <td>1599.813104</td>\n",
       "      <td>-450.481122</td>\n",
       "      <td>1600.024621</td>\n",
       "      <td>-450.365493</td>\n",
       "      <td>1594.448648</td>\n",
       "      <td>-449.882428</td>\n",
       "      <td>1402.033682</td>\n",
       "      <td>-448.545552</td>\n",
       "      <td>1400.748347</td>\n",
       "      <td>-450.303991</td>\n",
       "      <td>13.487870</td>\n",
       "      <td>4.608756</td>\n",
       "      <td>9.437044</td>\n",
       "      <td>2.212084</td>\n",
       "      <td>25.929511</td>\n",
       "      <td>-500.079889</td>\n",
       "      <td>23.977375</td>\n",
       "      <td>-500.005187</td>\n",
       "      <td>23.998809</td>\n",
       "      <td>-500.400133</td>\n",
       "      <td>23.982633</td>\n",
       "      <td>-499.826311</td>\n",
       "      <td>13.964030</td>\n",
       "      <td>-504.252450</td>\n",
       "      <td>12.060738</td>\n",
       "      <td>-501.174549</td>\n",
       "      <td>10.033838</td>\n",
       "      <td>-501.178133</td>\n",
       "      <td>7.881604</td>\n",
       "      <td>-499.729434</td>\n",
       "      <td>13.967135</td>\n",
       "      <td>-599.061188</td>\n",
       "    </tr>\n",
       "    <tr>\n",
       "      <th>9</th>\n",
       "      <td>2016-01-15 09:00:00</td>\n",
       "      <td>5.687063</td>\n",
       "      <td>9.980404</td>\n",
       "      <td>5.282514</td>\n",
       "      <td>43.235220</td>\n",
       "      <td>70.279619</td>\n",
       "      <td>10.487013</td>\n",
       "      <td>1.159805</td>\n",
       "      <td>17.483979</td>\n",
       "      <td>2.209593</td>\n",
       "      <td>138.120409</td>\n",
       "      <td>12.464032</td>\n",
       "      <td>7.25</td>\n",
       "      <td>0.898779</td>\n",
       "      <td>8.098985</td>\n",
       "      <td>10.525324</td>\n",
       "      <td>18.436589</td>\n",
       "      <td>34.826500</td>\n",
       "      <td>15.535214</td>\n",
       "      <td>2.866688</td>\n",
       "      <td>7.265906</td>\n",
       "      <td>2.025454</td>\n",
       "      <td>1603.436598</td>\n",
       "      <td>-499.864400</td>\n",
       "      <td>1597.455353</td>\n",
       "      <td>-500.266905</td>\n",
       "      <td>1600.747882</td>\n",
       "      <td>-500.541002</td>\n",
       "      <td>1599.754053</td>\n",
       "      <td>-499.216962</td>\n",
       "      <td>41882.126352</td>\n",
       "      <td>3499.915439</td>\n",
       "      <td>3519.952954</td>\n",
       "      <td>2.717442</td>\n",
       "      <td>5.908793</td>\n",
       "      <td>2.440899</td>\n",
       "      <td>573.076049</td>\n",
       "      <td>58.509262</td>\n",
       "      <td>36.958540</td>\n",
       "      <td>6.633002</td>\n",
       "      <td>13.707775</td>\n",
       "      <td>6.820245</td>\n",
       "      <td>13.812674</td>\n",
       "      <td>6.790624</td>\n",
       "      <td>11.116297</td>\n",
       "      <td>7.297363</td>\n",
       "      <td>27.497520</td>\n",
       "      <td>19.497669</td>\n",
       "      <td>87.650868</td>\n",
       "      <td>4.667157</td>\n",
       "      <td>0.615418</td>\n",
       "      <td>18.907179</td>\n",
       "      <td>1.167140</td>\n",
       "      <td>1000.589156</td>\n",
       "      <td>-398.879586</td>\n",
       "      <td>1598.975250</td>\n",
       "      <td>-451.238638</td>\n",
       "      <td>1600.058139</td>\n",
       "      <td>-451.271448</td>\n",
       "      <td>1610.182874</td>\n",
       "      <td>-450.460190</td>\n",
       "      <td>1399.194663</td>\n",
       "      <td>-450.332681</td>\n",
       "      <td>1399.638290</td>\n",
       "      <td>-450.198722</td>\n",
       "      <td>13.209191</td>\n",
       "      <td>4.550553</td>\n",
       "      <td>9.813732</td>\n",
       "      <td>2.073737</td>\n",
       "      <td>26.059510</td>\n",
       "      <td>-499.151646</td>\n",
       "      <td>23.934570</td>\n",
       "      <td>-499.351758</td>\n",
       "      <td>23.994184</td>\n",
       "      <td>-500.078566</td>\n",
       "      <td>23.924481</td>\n",
       "      <td>-499.989024</td>\n",
       "      <td>13.989632</td>\n",
       "      <td>-503.195299</td>\n",
       "      <td>12.052233</td>\n",
       "      <td>-500.928547</td>\n",
       "      <td>9.962574</td>\n",
       "      <td>-502.986357</td>\n",
       "      <td>7.979219</td>\n",
       "      <td>-500.146835</td>\n",
       "      <td>13.981614</td>\n",
       "      <td>-598.070855</td>\n",
       "    </tr>\n",
       "  </tbody>\n",
       "</table>\n",
       "</div>"
      ],
      "text/plain": [
       "                  date  final.output.concentrate_ag  \\\n",
       "0  2016-01-15 00:00:00                     6.055403   \n",
       "1  2016-01-15 01:00:00                     6.029369   \n",
       "2  2016-01-15 02:00:00                     6.055926   \n",
       "3  2016-01-15 03:00:00                     6.047977   \n",
       "4  2016-01-15 04:00:00                     6.148599   \n",
       "5  2016-01-15 05:00:00                     6.482968   \n",
       "6  2016-01-15 06:00:00                     6.533849   \n",
       "7  2016-01-15 07:00:00                     6.130823   \n",
       "8  2016-01-15 08:00:00                     5.834140   \n",
       "9  2016-01-15 09:00:00                     5.687063   \n",
       "\n",
       "   final.output.concentrate_pb  final.output.concentrate_sol  \\\n",
       "0                     9.889648                      5.507324   \n",
       "1                     9.968944                      5.257781   \n",
       "2                    10.213995                      5.383759   \n",
       "3                     9.977019                      4.858634   \n",
       "4                    10.142511                      4.939416   \n",
       "5                    10.049416                      5.480257   \n",
       "6                    10.058141                      4.569100   \n",
       "7                     9.935481                      4.389813   \n",
       "8                    10.071156                      4.876389   \n",
       "9                     9.980404                      5.282514   \n",
       "\n",
       "   final.output.concentrate_au  final.output.recovery  final.output.tail_ag  \\\n",
       "0                    42.192020              70.541216             10.411962   \n",
       "1                    42.701629              69.266198             10.462676   \n",
       "2                    42.657501              68.116445             10.507046   \n",
       "3                    42.689819              68.347543             10.422762   \n",
       "4                    42.774141              66.927016             10.360302   \n",
       "5                    41.633678              69.465816             10.182708   \n",
       "6                    41.995316              69.300835             10.304598   \n",
       "7                    42.452727              70.230976             10.443288   \n",
       "8                    43.404078              69.688595             10.420140   \n",
       "9                    43.235220              70.279619             10.487013   \n",
       "\n",
       "   final.output.tail_pb  final.output.tail_sol  final.output.tail_au  \\\n",
       "0              0.895447              16.904297              2.143149   \n",
       "1              0.927452              16.634514              2.224930   \n",
       "2              0.953716              16.208849              2.257889   \n",
       "3              0.883763              16.532835              2.146849   \n",
       "4              0.792826              16.525686              2.055292   \n",
       "5              0.664118              16.999638              1.918586   \n",
       "6              0.807342              16.723575              2.058913   \n",
       "7              0.949346              16.689959              2.143437   \n",
       "8              1.065453              17.201948              2.209881   \n",
       "9              1.159805              17.483979              2.209593   \n",
       "\n",
       "   primary_cleaner.input.sulfate  primary_cleaner.input.depressant  \\\n",
       "0                     127.092003                         10.128295   \n",
       "1                     125.629232                         10.296251   \n",
       "2                     123.819808                         11.316280   \n",
       "3                     122.270188                         11.322140   \n",
       "4                     117.988169                         11.913613   \n",
       "5                     115.581252                         12.470773   \n",
       "6                     117.322323                         12.469088   \n",
       "7                     124.592960                         12.467403   \n",
       "8                     131.781026                         12.465718   \n",
       "9                     138.120409                         12.464032   \n",
       "\n",
       "   primary_cleaner.input.feed_size  primary_cleaner.input.xanthate  \\\n",
       "0                             7.25                        0.988759   \n",
       "1                             7.25                        1.002663   \n",
       "2                             7.25                        0.991265   \n",
       "3                             7.25                        0.996739   \n",
       "4                             7.25                        1.009869   \n",
       "5                             7.25                        0.965760   \n",
       "6                             7.25                        0.895207   \n",
       "7                             7.25                        0.901202   \n",
       "8                             7.25                        0.885535   \n",
       "9                             7.25                        0.898779   \n",
       "\n",
       "   primary_cleaner.output.concentrate_ag  \\\n",
       "0                               8.547551   \n",
       "1                               8.558743   \n",
       "2                               8.603505   \n",
       "3                               7.221879   \n",
       "4                               9.089428   \n",
       "5                               9.553724   \n",
       "6                               8.968869   \n",
       "7                               8.545238   \n",
       "8                               8.046686   \n",
       "9                               8.098985   \n",
       "\n",
       "   primary_cleaner.output.concentrate_pb  \\\n",
       "0                              10.389648   \n",
       "1                              10.497069   \n",
       "2                              10.354494   \n",
       "3                               8.496563   \n",
       "4                               9.986786   \n",
       "5                               9.816215   \n",
       "6                              10.081306   \n",
       "7                              10.224540   \n",
       "8                              10.500065   \n",
       "9                              10.525324   \n",
       "\n",
       "   primary_cleaner.output.concentrate_sol  \\\n",
       "0                               19.529297   \n",
       "1                               19.369147   \n",
       "2                               19.167579   \n",
       "3                               15.978538   \n",
       "4                               19.199864   \n",
       "5                               19.167328   \n",
       "6                               18.930855   \n",
       "7                               18.735813   \n",
       "8                               18.560288   \n",
       "9                               18.436589   \n",
       "\n",
       "   primary_cleaner.output.concentrate_au  primary_cleaner.output.tail_ag  \\\n",
       "0                              34.174427                       14.936526   \n",
       "1                              34.118526                       16.250511   \n",
       "2                              33.969464                       16.491823   \n",
       "3                              28.260743                       16.024359   \n",
       "4                              33.044932                       16.480185   \n",
       "5                              32.070664                       15.931540   \n",
       "6                              33.184823                       16.078368   \n",
       "7                              34.027719                       15.797720   \n",
       "8                              34.964974                       16.195420   \n",
       "9                              34.826500                       15.535214   \n",
       "\n",
       "   primary_cleaner.output.tail_pb  primary_cleaner.output.tail_sol  \\\n",
       "0                        2.534912                         7.476074   \n",
       "1                        3.049646                         6.733907   \n",
       "2                        3.124664                         6.471768   \n",
       "3                        2.960362                         6.843791   \n",
       "4                        3.112100                         6.550154   \n",
       "5                        2.844511                         6.724197   \n",
       "6                        2.938979                         6.623598   \n",
       "7                        2.881529                         6.872033   \n",
       "8                        3.089922                         6.705633   \n",
       "9                        2.866688                         7.265906   \n",
       "\n",
       "   primary_cleaner.output.tail_au  primary_cleaner.state.floatbank8_a_air  \\\n",
       "0                        2.106679                             1549.775757   \n",
       "1                        2.353017                             1576.166671   \n",
       "2                        2.416800                             1601.556163   \n",
       "3                        2.262051                             1599.968720   \n",
       "4                        2.277073                             1601.339707   \n",
       "5                        2.114558                             1602.964922   \n",
       "6                        2.223152                             1597.532455   \n",
       "7                        2.112025                             1597.946266   \n",
       "8                        2.243817                             1601.670053   \n",
       "9                        2.025454                             1603.436598   \n",
       "\n",
       "   primary_cleaner.state.floatbank8_a_level  \\\n",
       "0                               -498.912140   \n",
       "1                               -500.904965   \n",
       "2                               -499.997791   \n",
       "3                               -500.951778   \n",
       "4                               -498.975456   \n",
       "5                               -498.090944   \n",
       "6                               -500.985364   \n",
       "7                               -501.592304   \n",
       "8                               -499.548891   \n",
       "9                               -499.864400   \n",
       "\n",
       "   primary_cleaner.state.floatbank8_b_air  \\\n",
       "0                             1551.434204   \n",
       "1                             1575.950626   \n",
       "2                             1600.386685   \n",
       "3                             1600.659236   \n",
       "4                             1601.437854   \n",
       "5                             1602.074298   \n",
       "6                             1602.816321   \n",
       "7                             1601.078254   \n",
       "8                             1598.804355   \n",
       "9                             1597.455353   \n",
       "\n",
       "   primary_cleaner.state.floatbank8_b_level  \\\n",
       "0                               -516.403442   \n",
       "1                               -499.865889   \n",
       "2                               -500.607762   \n",
       "3                               -499.677094   \n",
       "4                               -500.323246   \n",
       "5                               -500.179481   \n",
       "6                               -500.696736   \n",
       "7                               -499.494115   \n",
       "8                               -499.689644   \n",
       "9                               -500.266905   \n",
       "\n",
       "   primary_cleaner.state.floatbank8_c_air  \\\n",
       "0                             1549.873901   \n",
       "1                             1575.994189   \n",
       "2                             1602.003542   \n",
       "3                             1600.304144   \n",
       "4                             1599.581894   \n",
       "5                             1602.154812   \n",
       "6                             1603.572091   \n",
       "7                             1602.630688   \n",
       "8                             1601.689285   \n",
       "9                             1600.747882   \n",
       "\n",
       "   primary_cleaner.state.floatbank8_c_level  \\\n",
       "0                               -498.666595   \n",
       "1                               -499.315107   \n",
       "2                               -500.870069   \n",
       "3                               -500.727997   \n",
       "4                               -500.888152   \n",
       "5                               -498.642614   \n",
       "6                               -500.256955   \n",
       "7                               -500.173741   \n",
       "8                               -500.484957   \n",
       "9                               -500.541002   \n",
       "\n",
       "   primary_cleaner.state.floatbank8_d_air  \\\n",
       "0                             1554.367432   \n",
       "1                             1574.479259   \n",
       "2                             1599.541515   \n",
       "3                             1600.449520   \n",
       "4                             1602.649541   \n",
       "5                             1605.020106   \n",
       "6                             1597.597437   \n",
       "7                             1595.937990   \n",
       "8                             1602.431117   \n",
       "9                             1599.754053   \n",
       "\n",
       "   primary_cleaner.state.floatbank8_d_level  \\\n",
       "0                               -493.428131   \n",
       "1                               -498.931665   \n",
       "2                               -499.827444   \n",
       "3                               -500.052575   \n",
       "4                               -500.593010   \n",
       "5                               -500.538177   \n",
       "6                               -500.378192   \n",
       "7                               -498.929825   \n",
       "8                               -500.650982   \n",
       "9                               -499.216962   \n",
       "\n",
       "   rougher.calculation.sulfate_to_au_concentrate  \\\n",
       "0                                   41885.707031   \n",
       "1                                   42050.861809   \n",
       "2                                   42018.101184   \n",
       "3                                   42029.447991   \n",
       "4                                   42125.354245   \n",
       "5                                   41973.280986   \n",
       "6                                   41956.468979   \n",
       "7                                   41812.416893   \n",
       "8                                   41905.757985   \n",
       "9                                   41882.126352   \n",
       "\n",
       "   rougher.calculation.floatbank10_sulfate_to_au_feed  \\\n",
       "0                                        3481.779053    \n",
       "1                                        3498.370979    \n",
       "2                                        3495.348910    \n",
       "3                                        3498.578313    \n",
       "4                                        3494.800771    \n",
       "5                                        3501.916973    \n",
       "6                                        3497.427365    \n",
       "7                                        3497.275828    \n",
       "8                                        3498.332166    \n",
       "9                                        3499.915439    \n",
       "\n",
       "   rougher.calculation.floatbank11_sulfate_to_au_feed  \\\n",
       "0                                        3520.337158    \n",
       "1                                        3489.981857    \n",
       "2                                        3502.359819    \n",
       "3                                        3499.162912    \n",
       "4                                        3506.679315    \n",
       "5                                        3499.527175    \n",
       "6                                        3506.352790    \n",
       "7                                        3501.000030    \n",
       "8                                        3498.120075    \n",
       "9                                        3519.952954    \n",
       "\n",
       "   rougher.calculation.au_pb_ratio  rougher.input.feed_ag  \\\n",
       "0                         2.838687               6.100378   \n",
       "1                         2.858998               6.161113   \n",
       "2                         2.945989               6.116455   \n",
       "3                         3.002340               6.043309   \n",
       "4                         3.169615               6.060915   \n",
       "5                         3.026134               5.801920   \n",
       "6                         2.867933               6.056253   \n",
       "7                         2.784698               5.955053   \n",
       "8                         2.728844               5.878084   \n",
       "9                         2.717442               5.908793   \n",
       "\n",
       "   rougher.input.feed_pb  rougher.input.feed_rate  rougher.input.feed_size  \\\n",
       "0               2.284912               523.546326                55.486599   \n",
       "1               2.266033               525.290581                57.278666   \n",
       "2               2.159622               530.026610                57.510649   \n",
       "3               2.037807               542.590390                57.792734   \n",
       "4               1.786875               540.531893                56.047189   \n",
       "5               1.879351               546.173470                57.469578   \n",
       "6               2.105501               523.376439                56.674647   \n",
       "7               2.310432               549.842749                56.730325   \n",
       "8               2.391713               560.115242                56.649893   \n",
       "9               2.440899               573.076049                58.509262   \n",
       "\n",
       "   rougher.input.feed_sol  rougher.input.feed_au  \\\n",
       "0               36.808594               6.486150   \n",
       "1               35.753385               6.478583   \n",
       "2               35.971630               6.362222   \n",
       "3               36.862241               6.118189   \n",
       "4               34.347666               5.663707   \n",
       "5               35.470082               5.687168   \n",
       "6               34.920570               6.038436   \n",
       "7               36.091386               6.433854   \n",
       "8               35.753879               6.526612   \n",
       "9               36.958540               6.633002   \n",
       "\n",
       "   rougher.input.floatbank10_sulfate  rougher.input.floatbank10_xanthate  \\\n",
       "0                          11.986616                            6.007990   \n",
       "1                          11.971193                            6.005766   \n",
       "2                          11.920603                            6.197377   \n",
       "3                          11.630094                            6.203177   \n",
       "4                          10.957755                            6.198826   \n",
       "5                          11.072517                            6.200383   \n",
       "6                          11.535899                            6.204974   \n",
       "7                          12.557906                            6.799275   \n",
       "8                          13.166128                            6.798659   \n",
       "9                          13.707775                            6.820245   \n",
       "\n",
       "   rougher.input.floatbank11_sulfate  rougher.input.floatbank11_xanthate  \\\n",
       "0                          11.836743                            6.005818   \n",
       "1                          11.996163                            6.012594   \n",
       "2                          11.920305                            6.204633   \n",
       "3                          11.692450                            6.196578   \n",
       "4                          10.960521                            6.194897   \n",
       "5                          11.075009                            6.202362   \n",
       "6                          11.539227                            6.200515   \n",
       "7                          12.583109                            6.798354   \n",
       "8                          13.184764                            6.800021   \n",
       "9                          13.812674                            6.790624   \n",
       "\n",
       "   rougher.output.concentrate_ag  rougher.output.concentrate_pb  \\\n",
       "0                      11.500771                       7.101074   \n",
       "1                      11.615865                       7.278807   \n",
       "2                      11.695753                       7.216833   \n",
       "3                      11.915047                       7.175616   \n",
       "4                      12.411054                       7.240205   \n",
       "5                      11.985584                       7.121903   \n",
       "6                      11.684307                       7.304849   \n",
       "7                      11.182624                       7.258496   \n",
       "8                      11.051323                       7.380043   \n",
       "9                      11.116297                       7.297363   \n",
       "\n",
       "   rougher.output.concentrate_sol  rougher.output.concentrate_au  \\\n",
       "0                       28.029297                      19.793808   \n",
       "1                       28.067063                      20.050975   \n",
       "2                       27.454037                      19.737170   \n",
       "3                       27.341277                      19.320810   \n",
       "4                       27.041023                      19.216101   \n",
       "5                       26.898046                      18.950385   \n",
       "6                       27.063672                      19.319591   \n",
       "7                       27.231114                      19.507897   \n",
       "8                       27.404296                      19.789465   \n",
       "9                       27.497520                      19.497669   \n",
       "\n",
       "   rougher.output.recovery  rougher.output.tail_ag  rougher.output.tail_pb  \\\n",
       "0                87.107763                5.008018                0.508728   \n",
       "1                86.843261                4.955378                0.536689   \n",
       "2                86.842308                4.843460                0.546416   \n",
       "3                87.226430                4.655288                0.542525   \n",
       "4                86.688794                4.552800                0.515438   \n",
       "5                88.156912                4.397415                0.491350   \n",
       "6                88.168065                4.478080                0.518266   \n",
       "7                87.668336                4.728325                0.548067   \n",
       "8                87.035862                4.764300                0.599181   \n",
       "9                87.650868                4.667157                0.615418   \n",
       "\n",
       "   rougher.output.tail_sol  rougher.output.tail_au  \\\n",
       "0                19.154297                1.170244   \n",
       "1                18.965234                1.184827   \n",
       "2                18.808533                1.162562   \n",
       "3                19.330200                1.079755   \n",
       "4                19.267422                1.012642   \n",
       "5                19.640269                0.915835   \n",
       "6                19.262491                0.986248   \n",
       "7                18.861866                1.116110   \n",
       "8                18.873082                1.186780   \n",
       "9                18.907179                1.167140   \n",
       "\n",
       "   rougher.state.floatbank10_a_air  rougher.state.floatbank10_a_level  \\\n",
       "0                       999.706909                        -404.066986   \n",
       "1                      1000.286398                        -400.065196   \n",
       "2                       999.719565                        -400.074028   \n",
       "3                       999.814770                        -400.200179   \n",
       "4                       999.678690                        -399.752729   \n",
       "5                       999.934134                        -400.599524   \n",
       "6                       999.832373                        -399.353521   \n",
       "7                      1000.166602                        -400.556601   \n",
       "8                      1000.026864                        -399.968583   \n",
       "9                      1000.589156                        -398.879586   \n",
       "\n",
       "   rougher.state.floatbank10_b_air  rougher.state.floatbank10_b_level  \\\n",
       "0                      1603.011353                        -434.715027   \n",
       "1                      1600.754587                        -449.953435   \n",
       "2                      1599.337330                        -450.008530   \n",
       "3                      1600.059442                        -450.619948   \n",
       "4                      1600.208824                        -449.599614   \n",
       "5                      1601.080554                        -450.120760   \n",
       "6                      1600.753019                        -450.050089   \n",
       "7                      1598.877246                        -450.070980   \n",
       "8                      1599.813104                        -450.481122   \n",
       "9                      1598.975250                        -451.238638   \n",
       "\n",
       "   rougher.state.floatbank10_c_air  rougher.state.floatbank10_c_level  \\\n",
       "0                      1602.375000                        -442.204468   \n",
       "1                      1600.479580                        -449.830646   \n",
       "2                      1599.672797                        -449.954491   \n",
       "3                      1600.012842                        -449.910497   \n",
       "4                      1600.357732                        -450.034364   \n",
       "5                      1603.164805                        -450.097732   \n",
       "6                      1599.019966                        -449.848507   \n",
       "7                      1598.108717                        -449.211334   \n",
       "8                      1600.024621                        -450.365493   \n",
       "9                      1600.058139                        -451.271448   \n",
       "\n",
       "   rougher.state.floatbank10_d_air  rougher.state.floatbank10_d_level  \\\n",
       "0                      1598.937256                        -451.294128   \n",
       "1                      1600.527589                        -449.953649   \n",
       "2                      1599.849325                        -449.954185   \n",
       "3                      1597.725177                        -450.130127   \n",
       "4                      1599.759049                        -449.909799   \n",
       "5                      1603.368371                        -446.306150   \n",
       "6                      1600.298267                        -453.102891   \n",
       "7                      1592.872844                        -449.806802   \n",
       "8                      1594.448648                        -449.882428   \n",
       "9                      1610.182874                        -450.460190   \n",
       "\n",
       "   rougher.state.floatbank10_e_air  rougher.state.floatbank10_e_level  \\\n",
       "0                      1404.472046                        -455.462982   \n",
       "1                      1399.227084                        -450.869848   \n",
       "2                      1399.180945                        -449.937588   \n",
       "3                      1400.943157                        -450.030142   \n",
       "4                      1401.560902                        -448.877187   \n",
       "5                      1403.393100                        -447.899904   \n",
       "6                      1397.853265                        -451.306640   \n",
       "7                      1396.580752                        -453.548352   \n",
       "8                      1402.033682                        -448.545552   \n",
       "9                      1399.194663                        -450.332681   \n",
       "\n",
       "   rougher.state.floatbank10_f_air  rougher.state.floatbank10_f_level  \\\n",
       "0                      1416.354980                        -451.939636   \n",
       "1                      1399.719514                        -450.119001   \n",
       "2                      1400.316682                        -450.527147   \n",
       "3                      1400.234743                        -449.790835   \n",
       "4                      1401.160227                        -450.407128   \n",
       "5                      1402.903175                        -448.872321   \n",
       "6                      1397.973670                        -451.355626   \n",
       "7                      1397.289884                        -450.221696   \n",
       "8                      1400.748347                        -450.303991   \n",
       "9                      1399.638290                        -450.198722   \n",
       "\n",
       "   secondary_cleaner.output.tail_ag  secondary_cleaner.output.tail_pb  \\\n",
       "0                         14.500184                          4.694824   \n",
       "1                         14.265474                          4.592547   \n",
       "2                         14.115662                          4.624775   \n",
       "3                         13.732071                          4.482453   \n",
       "4                         14.079996                          4.470737   \n",
       "5                         13.615012                          4.286817   \n",
       "6                         13.597056                          4.487865   \n",
       "7                         13.177237                          4.432448   \n",
       "8                         13.487870                          4.608756   \n",
       "9                         13.209191                          4.550553   \n",
       "\n",
       "   secondary_cleaner.output.tail_sol  secondary_cleaner.output.tail_au  \\\n",
       "0                           8.764648                          2.606185   \n",
       "1                           9.001494                          2.488248   \n",
       "2                           8.842896                          2.458187   \n",
       "3                           9.122857                          2.322062   \n",
       "4                           8.871028                          2.330448   \n",
       "5                           9.302669                          2.192127   \n",
       "6                           9.103047                          2.316720   \n",
       "7                           9.369209                          2.192197   \n",
       "8                           9.437044                          2.212084   \n",
       "9                           9.813732                          2.073737   \n",
       "\n",
       "   secondary_cleaner.state.floatbank2_a_air  \\\n",
       "0                                 25.853109   \n",
       "1                                 25.880539   \n",
       "2                                 26.005245   \n",
       "3                                 25.942508   \n",
       "4                                 26.024787   \n",
       "5                                 26.014841   \n",
       "6                                 25.957594   \n",
       "7                                 25.938026   \n",
       "8                                 25.929511   \n",
       "9                                 26.059510   \n",
       "\n",
       "   secondary_cleaner.state.floatbank2_a_level  \\\n",
       "0                                 -498.526489   \n",
       "1                                 -499.989656   \n",
       "2                                 -499.929616   \n",
       "3                                 -499.176749   \n",
       "4                                 -500.279091   \n",
       "5                                 -498.864670   \n",
       "6                                 -500.134472   \n",
       "7                                 -499.657795   \n",
       "8                                 -500.079889   \n",
       "9                                 -499.151646   \n",
       "\n",
       "   secondary_cleaner.state.floatbank2_b_air  \\\n",
       "0                                 23.893660   \n",
       "1                                 23.889530   \n",
       "2                                 23.886657   \n",
       "3                                 23.955516   \n",
       "4                                 23.955345   \n",
       "5                                 23.880214   \n",
       "6                                 24.077199   \n",
       "7                                 24.020179   \n",
       "8                                 23.977375   \n",
       "9                                 23.934570   \n",
       "\n",
       "   secondary_cleaner.state.floatbank2_b_level  \\\n",
       "0                                 -501.406281   \n",
       "1                                 -500.372428   \n",
       "2                                 -499.951928   \n",
       "3                                 -499.848796   \n",
       "4                                 -500.593614   \n",
       "5                                 -499.738447   \n",
       "6                                 -500.089190   \n",
       "7                                 -499.798396   \n",
       "8                                 -500.005187   \n",
       "9                                 -499.351758   \n",
       "\n",
       "   secondary_cleaner.state.floatbank3_a_air  \\\n",
       "0                                 23.961798   \n",
       "1                                 23.970550   \n",
       "2                                 23.913535   \n",
       "3                                 23.966838   \n",
       "4                                 23.985703   \n",
       "5                                 23.982635   \n",
       "6                                 23.991710   \n",
       "7                                 24.031555   \n",
       "8                                 23.998809   \n",
       "9                                 23.994184   \n",
       "\n",
       "   secondary_cleaner.state.floatbank3_a_level  \\\n",
       "0                                 -495.262817   \n",
       "1                                 -500.085473   \n",
       "2                                 -499.442343   \n",
       "3                                 -500.008812   \n",
       "4                                 -500.083811   \n",
       "5                                 -500.495272   \n",
       "6                                 -500.391528   \n",
       "7                                 -500.550436   \n",
       "8                                 -500.400133   \n",
       "9                                 -500.078566   \n",
       "\n",
       "   secondary_cleaner.state.floatbank3_b_air  \\\n",
       "0                                 21.940409   \n",
       "1                                 22.085714   \n",
       "2                                 23.957717   \n",
       "3                                 23.954443   \n",
       "4                                 23.958945   \n",
       "5                                 24.009749   \n",
       "6                                 23.954144   \n",
       "7                                 23.968160   \n",
       "8                                 23.982633   \n",
       "9                                 23.924481   \n",
       "\n",
       "   secondary_cleaner.state.floatbank3_b_level  \\\n",
       "0                                 -499.340973   \n",
       "1                                 -499.446897   \n",
       "2                                 -499.901982   \n",
       "3                                 -499.944710   \n",
       "4                                 -499.990309   \n",
       "5                                 -499.433825   \n",
       "6                                 -501.872171   \n",
       "7                                 -499.836513   \n",
       "8                                 -499.826311   \n",
       "9                                 -499.989024   \n",
       "\n",
       "   secondary_cleaner.state.floatbank4_a_air  \\\n",
       "0                                 14.016835   \n",
       "1                                 13.992281   \n",
       "2                                 14.015015   \n",
       "3                                 14.036510   \n",
       "4                                 14.027298   \n",
       "5                                 13.938497   \n",
       "6                                 14.046819   \n",
       "7                                 13.974691   \n",
       "8                                 13.964030   \n",
       "9                                 13.989632   \n",
       "\n",
       "   secondary_cleaner.state.floatbank4_a_level  \\\n",
       "0                                 -502.488007   \n",
       "1                                 -505.503262   \n",
       "2                                 -502.520901   \n",
       "3                                 -500.857308   \n",
       "4                                 -499.838632   \n",
       "5                                 -500.970168   \n",
       "6                                 -500.971133   \n",
       "7                                 -501.819696   \n",
       "8                                 -504.252450   \n",
       "9                                 -503.195299   \n",
       "\n",
       "   secondary_cleaner.state.floatbank4_b_air  \\\n",
       "0                                 12.099931   \n",
       "1                                 11.950531   \n",
       "2                                 11.912783   \n",
       "3                                 11.999550   \n",
       "4                                 11.953070   \n",
       "5                                 11.883350   \n",
       "6                                 12.091543   \n",
       "7                                 12.101324   \n",
       "8                                 12.060738   \n",
       "9                                 12.052233   \n",
       "\n",
       "   secondary_cleaner.state.floatbank4_b_level  \\\n",
       "0                                 -504.715942   \n",
       "1                                 -501.331529   \n",
       "2                                 -501.133383   \n",
       "3                                 -501.193686   \n",
       "4                                 -501.053894   \n",
       "5                                 -500.395298   \n",
       "6                                 -500.501426   \n",
       "7                                 -500.583446   \n",
       "8                                 -501.174549   \n",
       "9                                 -500.928547   \n",
       "\n",
       "   secondary_cleaner.state.floatbank5_a_air  \\\n",
       "0                                  9.925633   \n",
       "1                                 10.039245   \n",
       "2                                 10.070913   \n",
       "3                                  9.970366   \n",
       "4                                  9.925709   \n",
       "5                                 10.054147   \n",
       "6                                 10.003247   \n",
       "7                                  9.873169   \n",
       "8                                 10.033838   \n",
       "9                                  9.962574   \n",
       "\n",
       "   secondary_cleaner.state.floatbank5_a_level  \\\n",
       "0                                 -498.310211   \n",
       "1                                 -500.169983   \n",
       "2                                 -500.129135   \n",
       "3                                 -499.201640   \n",
       "4                                 -501.686727   \n",
       "5                                 -496.374715   \n",
       "6                                 -497.083180   \n",
       "7                                 -499.171928   \n",
       "8                                 -501.178133   \n",
       "9                                 -502.986357   \n",
       "\n",
       "   secondary_cleaner.state.floatbank5_b_air  \\\n",
       "0                                  8.079666   \n",
       "1                                  7.984757   \n",
       "2                                  8.013877   \n",
       "3                                  7.977324   \n",
       "4                                  7.894242   \n",
       "5                                  7.965083   \n",
       "6                                  8.010890   \n",
       "7                                  7.993381   \n",
       "8                                  7.881604   \n",
       "9                                  7.979219   \n",
       "\n",
       "   secondary_cleaner.state.floatbank5_b_level  \\\n",
       "0                                 -500.470978   \n",
       "1                                 -500.582168   \n",
       "2                                 -500.517572   \n",
       "3                                 -500.255908   \n",
       "4                                 -500.356035   \n",
       "5                                 -499.364752   \n",
       "6                                 -500.002423   \n",
       "7                                 -499.794518   \n",
       "8                                 -499.729434   \n",
       "9                                 -500.146835   \n",
       "\n",
       "   secondary_cleaner.state.floatbank6_a_air  \\\n",
       "0                                 14.151341   \n",
       "1                                 13.998353   \n",
       "2                                 14.028663   \n",
       "3                                 14.005551   \n",
       "4                                 13.996647   \n",
       "5                                 14.017067   \n",
       "6                                 14.029649   \n",
       "7                                 13.984498   \n",
       "8                                 13.967135   \n",
       "9                                 13.981614   \n",
       "\n",
       "   secondary_cleaner.state.floatbank6_a_level  \n",
       "0                                 -605.841980  \n",
       "1                                 -599.787184  \n",
       "2                                 -601.427363  \n",
       "3                                 -599.996129  \n",
       "4                                 -601.496691  \n",
       "5                                 -599.707915  \n",
       "6                                 -600.905470  \n",
       "7                                 -600.411070  \n",
       "8                                 -599.061188  \n",
       "9                                 -598.070855  "
      ]
     },
     "execution_count": 3,
     "metadata": {},
     "output_type": "execute_result"
    }
   ],
   "source": [
    "df_train = pd.read_csv('/datasets/gold_recovery_train_new.csv')\n",
    "df_train.head(10)"
   ]
  },
  {
   "cell_type": "markdown",
   "metadata": {},
   "source": [
    "Вывод информации об обучающей выборке методами `info()` и `describe()`."
   ]
  },
  {
   "cell_type": "code",
   "execution_count": 4,
   "metadata": {
    "scrolled": true
   },
   "outputs": [
    {
     "name": "stdout",
     "output_type": "stream",
     "text": [
      "<class 'pandas.core.frame.DataFrame'>\n",
      "RangeIndex: 14149 entries, 0 to 14148\n",
      "Data columns (total 87 columns):\n",
      " #   Column                                              Non-Null Count  Dtype  \n",
      "---  ------                                              --------------  -----  \n",
      " 0   date                                                14149 non-null  object \n",
      " 1   final.output.concentrate_ag                         14148 non-null  float64\n",
      " 2   final.output.concentrate_pb                         14148 non-null  float64\n",
      " 3   final.output.concentrate_sol                        13938 non-null  float64\n",
      " 4   final.output.concentrate_au                         14149 non-null  float64\n",
      " 5   final.output.recovery                               14149 non-null  float64\n",
      " 6   final.output.tail_ag                                14149 non-null  float64\n",
      " 7   final.output.tail_pb                                14049 non-null  float64\n",
      " 8   final.output.tail_sol                               14144 non-null  float64\n",
      " 9   final.output.tail_au                                14149 non-null  float64\n",
      " 10  primary_cleaner.input.sulfate                       14129 non-null  float64\n",
      " 11  primary_cleaner.input.depressant                    14117 non-null  float64\n",
      " 12  primary_cleaner.input.feed_size                     14149 non-null  float64\n",
      " 13  primary_cleaner.input.xanthate                      14049 non-null  float64\n",
      " 14  primary_cleaner.output.concentrate_ag               14149 non-null  float64\n",
      " 15  primary_cleaner.output.concentrate_pb               14063 non-null  float64\n",
      " 16  primary_cleaner.output.concentrate_sol              13863 non-null  float64\n",
      " 17  primary_cleaner.output.concentrate_au               14149 non-null  float64\n",
      " 18  primary_cleaner.output.tail_ag                      14148 non-null  float64\n",
      " 19  primary_cleaner.output.tail_pb                      14134 non-null  float64\n",
      " 20  primary_cleaner.output.tail_sol                     14103 non-null  float64\n",
      " 21  primary_cleaner.output.tail_au                      14149 non-null  float64\n",
      " 22  primary_cleaner.state.floatbank8_a_air              14145 non-null  float64\n",
      " 23  primary_cleaner.state.floatbank8_a_level            14148 non-null  float64\n",
      " 24  primary_cleaner.state.floatbank8_b_air              14145 non-null  float64\n",
      " 25  primary_cleaner.state.floatbank8_b_level            14148 non-null  float64\n",
      " 26  primary_cleaner.state.floatbank8_c_air              14147 non-null  float64\n",
      " 27  primary_cleaner.state.floatbank8_c_level            14148 non-null  float64\n",
      " 28  primary_cleaner.state.floatbank8_d_air              14146 non-null  float64\n",
      " 29  primary_cleaner.state.floatbank8_d_level            14148 non-null  float64\n",
      " 30  rougher.calculation.sulfate_to_au_concentrate       14148 non-null  float64\n",
      " 31  rougher.calculation.floatbank10_sulfate_to_au_feed  14148 non-null  float64\n",
      " 32  rougher.calculation.floatbank11_sulfate_to_au_feed  14148 non-null  float64\n",
      " 33  rougher.calculation.au_pb_ratio                     14149 non-null  float64\n",
      " 34  rougher.input.feed_ag                               14149 non-null  float64\n",
      " 35  rougher.input.feed_pb                               14049 non-null  float64\n",
      " 36  rougher.input.feed_rate                             14141 non-null  float64\n",
      " 37  rougher.input.feed_size                             14005 non-null  float64\n",
      " 38  rougher.input.feed_sol                              14071 non-null  float64\n",
      " 39  rougher.input.feed_au                               14149 non-null  float64\n",
      " 40  rougher.input.floatbank10_sulfate                   14120 non-null  float64\n",
      " 41  rougher.input.floatbank10_xanthate                  14141 non-null  float64\n",
      " 42  rougher.input.floatbank11_sulfate                   14113 non-null  float64\n",
      " 43  rougher.input.floatbank11_xanthate                  13721 non-null  float64\n",
      " 44  rougher.output.concentrate_ag                       14149 non-null  float64\n",
      " 45  rougher.output.concentrate_pb                       14149 non-null  float64\n",
      " 46  rougher.output.concentrate_sol                      14127 non-null  float64\n",
      " 47  rougher.output.concentrate_au                       14149 non-null  float64\n",
      " 48  rougher.output.recovery                             14149 non-null  float64\n",
      " 49  rougher.output.tail_ag                              14148 non-null  float64\n",
      " 50  rougher.output.tail_pb                              14149 non-null  float64\n",
      " 51  rougher.output.tail_sol                             14149 non-null  float64\n",
      " 52  rougher.output.tail_au                              14149 non-null  float64\n",
      " 53  rougher.state.floatbank10_a_air                     14148 non-null  float64\n",
      " 54  rougher.state.floatbank10_a_level                   14148 non-null  float64\n",
      " 55  rougher.state.floatbank10_b_air                     14148 non-null  float64\n",
      " 56  rougher.state.floatbank10_b_level                   14148 non-null  float64\n",
      " 57  rougher.state.floatbank10_c_air                     14148 non-null  float64\n",
      " 58  rougher.state.floatbank10_c_level                   14148 non-null  float64\n",
      " 59  rougher.state.floatbank10_d_air                     14149 non-null  float64\n",
      " 60  rougher.state.floatbank10_d_level                   14149 non-null  float64\n",
      " 61  rougher.state.floatbank10_e_air                     13713 non-null  float64\n",
      " 62  rougher.state.floatbank10_e_level                   14149 non-null  float64\n",
      " 63  rougher.state.floatbank10_f_air                     14149 non-null  float64\n",
      " 64  rougher.state.floatbank10_f_level                   14149 non-null  float64\n",
      " 65  secondary_cleaner.output.tail_ag                    14147 non-null  float64\n",
      " 66  secondary_cleaner.output.tail_pb                    14139 non-null  float64\n",
      " 67  secondary_cleaner.output.tail_sol                   12544 non-null  float64\n",
      " 68  secondary_cleaner.output.tail_au                    14149 non-null  float64\n",
      " 69  secondary_cleaner.state.floatbank2_a_air            13932 non-null  float64\n",
      " 70  secondary_cleaner.state.floatbank2_a_level          14148 non-null  float64\n",
      " 71  secondary_cleaner.state.floatbank2_b_air            14128 non-null  float64\n",
      " 72  secondary_cleaner.state.floatbank2_b_level          14148 non-null  float64\n",
      " 73  secondary_cleaner.state.floatbank3_a_air            14145 non-null  float64\n",
      " 74  secondary_cleaner.state.floatbank3_a_level          14148 non-null  float64\n",
      " 75  secondary_cleaner.state.floatbank3_b_air            14148 non-null  float64\n",
      " 76  secondary_cleaner.state.floatbank3_b_level          14148 non-null  float64\n",
      " 77  secondary_cleaner.state.floatbank4_a_air            14143 non-null  float64\n",
      " 78  secondary_cleaner.state.floatbank4_a_level          14148 non-null  float64\n",
      " 79  secondary_cleaner.state.floatbank4_b_air            14148 non-null  float64\n",
      " 80  secondary_cleaner.state.floatbank4_b_level          14148 non-null  float64\n",
      " 81  secondary_cleaner.state.floatbank5_a_air            14148 non-null  float64\n",
      " 82  secondary_cleaner.state.floatbank5_a_level          14148 non-null  float64\n",
      " 83  secondary_cleaner.state.floatbank5_b_air            14148 non-null  float64\n",
      " 84  secondary_cleaner.state.floatbank5_b_level          14148 non-null  float64\n",
      " 85  secondary_cleaner.state.floatbank6_a_air            14147 non-null  float64\n",
      " 86  secondary_cleaner.state.floatbank6_a_level          14148 non-null  float64\n",
      "dtypes: float64(86), object(1)\n",
      "memory usage: 9.4+ MB\n"
     ]
    }
   ],
   "source": [
    "df_train.info()"
   ]
  },
  {
   "cell_type": "code",
   "execution_count": 5,
   "metadata": {},
   "outputs": [
    {
     "data": {
      "text/html": [
       "<div>\n",
       "<style scoped>\n",
       "    .dataframe tbody tr th:only-of-type {\n",
       "        vertical-align: middle;\n",
       "    }\n",
       "\n",
       "    .dataframe tbody tr th {\n",
       "        vertical-align: top;\n",
       "    }\n",
       "\n",
       "    .dataframe thead th {\n",
       "        text-align: right;\n",
       "    }\n",
       "</style>\n",
       "<table border=\"1\" class=\"dataframe\">\n",
       "  <thead>\n",
       "    <tr style=\"text-align: right;\">\n",
       "      <th></th>\n",
       "      <th>date</th>\n",
       "      <th>final.output.concentrate_ag</th>\n",
       "      <th>final.output.concentrate_pb</th>\n",
       "      <th>final.output.concentrate_sol</th>\n",
       "      <th>final.output.concentrate_au</th>\n",
       "      <th>final.output.recovery</th>\n",
       "      <th>final.output.tail_ag</th>\n",
       "      <th>final.output.tail_pb</th>\n",
       "      <th>final.output.tail_sol</th>\n",
       "      <th>final.output.tail_au</th>\n",
       "      <th>primary_cleaner.input.sulfate</th>\n",
       "      <th>primary_cleaner.input.depressant</th>\n",
       "      <th>primary_cleaner.input.feed_size</th>\n",
       "      <th>primary_cleaner.input.xanthate</th>\n",
       "      <th>primary_cleaner.output.concentrate_ag</th>\n",
       "      <th>primary_cleaner.output.concentrate_pb</th>\n",
       "      <th>primary_cleaner.output.concentrate_sol</th>\n",
       "      <th>primary_cleaner.output.concentrate_au</th>\n",
       "      <th>primary_cleaner.output.tail_ag</th>\n",
       "      <th>primary_cleaner.output.tail_pb</th>\n",
       "      <th>primary_cleaner.output.tail_sol</th>\n",
       "      <th>primary_cleaner.output.tail_au</th>\n",
       "      <th>primary_cleaner.state.floatbank8_a_air</th>\n",
       "      <th>primary_cleaner.state.floatbank8_a_level</th>\n",
       "      <th>primary_cleaner.state.floatbank8_b_air</th>\n",
       "      <th>primary_cleaner.state.floatbank8_b_level</th>\n",
       "      <th>primary_cleaner.state.floatbank8_c_air</th>\n",
       "      <th>primary_cleaner.state.floatbank8_c_level</th>\n",
       "      <th>primary_cleaner.state.floatbank8_d_air</th>\n",
       "      <th>primary_cleaner.state.floatbank8_d_level</th>\n",
       "      <th>rougher.calculation.sulfate_to_au_concentrate</th>\n",
       "      <th>rougher.calculation.floatbank10_sulfate_to_au_feed</th>\n",
       "      <th>rougher.calculation.floatbank11_sulfate_to_au_feed</th>\n",
       "      <th>rougher.calculation.au_pb_ratio</th>\n",
       "      <th>rougher.input.feed_ag</th>\n",
       "      <th>rougher.input.feed_pb</th>\n",
       "      <th>rougher.input.feed_rate</th>\n",
       "      <th>rougher.input.feed_size</th>\n",
       "      <th>rougher.input.feed_sol</th>\n",
       "      <th>rougher.input.feed_au</th>\n",
       "      <th>rougher.input.floatbank10_sulfate</th>\n",
       "      <th>rougher.input.floatbank10_xanthate</th>\n",
       "      <th>rougher.input.floatbank11_sulfate</th>\n",
       "      <th>rougher.input.floatbank11_xanthate</th>\n",
       "      <th>rougher.output.concentrate_ag</th>\n",
       "      <th>rougher.output.concentrate_pb</th>\n",
       "      <th>rougher.output.concentrate_sol</th>\n",
       "      <th>rougher.output.concentrate_au</th>\n",
       "      <th>rougher.output.recovery</th>\n",
       "      <th>rougher.output.tail_ag</th>\n",
       "      <th>rougher.output.tail_pb</th>\n",
       "      <th>rougher.output.tail_sol</th>\n",
       "      <th>rougher.output.tail_au</th>\n",
       "      <th>rougher.state.floatbank10_a_air</th>\n",
       "      <th>rougher.state.floatbank10_a_level</th>\n",
       "      <th>rougher.state.floatbank10_b_air</th>\n",
       "      <th>rougher.state.floatbank10_b_level</th>\n",
       "      <th>rougher.state.floatbank10_c_air</th>\n",
       "      <th>rougher.state.floatbank10_c_level</th>\n",
       "      <th>rougher.state.floatbank10_d_air</th>\n",
       "      <th>rougher.state.floatbank10_d_level</th>\n",
       "      <th>rougher.state.floatbank10_e_air</th>\n",
       "      <th>rougher.state.floatbank10_e_level</th>\n",
       "      <th>rougher.state.floatbank10_f_air</th>\n",
       "      <th>rougher.state.floatbank10_f_level</th>\n",
       "      <th>secondary_cleaner.output.tail_ag</th>\n",
       "      <th>secondary_cleaner.output.tail_pb</th>\n",
       "      <th>secondary_cleaner.output.tail_sol</th>\n",
       "      <th>secondary_cleaner.output.tail_au</th>\n",
       "      <th>secondary_cleaner.state.floatbank2_a_air</th>\n",
       "      <th>secondary_cleaner.state.floatbank2_a_level</th>\n",
       "      <th>secondary_cleaner.state.floatbank2_b_air</th>\n",
       "      <th>secondary_cleaner.state.floatbank2_b_level</th>\n",
       "      <th>secondary_cleaner.state.floatbank3_a_air</th>\n",
       "      <th>secondary_cleaner.state.floatbank3_a_level</th>\n",
       "      <th>secondary_cleaner.state.floatbank3_b_air</th>\n",
       "      <th>secondary_cleaner.state.floatbank3_b_level</th>\n",
       "      <th>secondary_cleaner.state.floatbank4_a_air</th>\n",
       "      <th>secondary_cleaner.state.floatbank4_a_level</th>\n",
       "      <th>secondary_cleaner.state.floatbank4_b_air</th>\n",
       "      <th>secondary_cleaner.state.floatbank4_b_level</th>\n",
       "      <th>secondary_cleaner.state.floatbank5_a_air</th>\n",
       "      <th>secondary_cleaner.state.floatbank5_a_level</th>\n",
       "      <th>secondary_cleaner.state.floatbank5_b_air</th>\n",
       "      <th>secondary_cleaner.state.floatbank5_b_level</th>\n",
       "      <th>secondary_cleaner.state.floatbank6_a_air</th>\n",
       "      <th>secondary_cleaner.state.floatbank6_a_level</th>\n",
       "    </tr>\n",
       "  </thead>\n",
       "  <tbody>\n",
       "    <tr>\n",
       "      <th>count</th>\n",
       "      <td>14149</td>\n",
       "      <td>14148.000000</td>\n",
       "      <td>14148.000000</td>\n",
       "      <td>13938.000000</td>\n",
       "      <td>14149.000000</td>\n",
       "      <td>14149.000000</td>\n",
       "      <td>14149.000000</td>\n",
       "      <td>14049.000000</td>\n",
       "      <td>14144.000000</td>\n",
       "      <td>14149.000000</td>\n",
       "      <td>14129.000000</td>\n",
       "      <td>14117.000000</td>\n",
       "      <td>14149.000000</td>\n",
       "      <td>14049.000000</td>\n",
       "      <td>14149.000000</td>\n",
       "      <td>14063.000000</td>\n",
       "      <td>13863.000000</td>\n",
       "      <td>14149.000000</td>\n",
       "      <td>14148.000000</td>\n",
       "      <td>14134.000000</td>\n",
       "      <td>14103.000000</td>\n",
       "      <td>14149.000000</td>\n",
       "      <td>14145.000000</td>\n",
       "      <td>14148.000000</td>\n",
       "      <td>14145.000000</td>\n",
       "      <td>14148.000000</td>\n",
       "      <td>14147.000000</td>\n",
       "      <td>14148.000000</td>\n",
       "      <td>14146.000000</td>\n",
       "      <td>14148.000000</td>\n",
       "      <td>1.414800e+04</td>\n",
       "      <td>14148.000000</td>\n",
       "      <td>14148.000000</td>\n",
       "      <td>14149.000000</td>\n",
       "      <td>14149.000000</td>\n",
       "      <td>14049.000000</td>\n",
       "      <td>14141.000000</td>\n",
       "      <td>14005.000000</td>\n",
       "      <td>14071.000000</td>\n",
       "      <td>14149.000000</td>\n",
       "      <td>14120.000000</td>\n",
       "      <td>14141.000000</td>\n",
       "      <td>14113.000000</td>\n",
       "      <td>13721.000000</td>\n",
       "      <td>14149.000000</td>\n",
       "      <td>14149.000000</td>\n",
       "      <td>14127.000000</td>\n",
       "      <td>14149.000000</td>\n",
       "      <td>14149.000000</td>\n",
       "      <td>14148.000000</td>\n",
       "      <td>14149.000000</td>\n",
       "      <td>14149.000000</td>\n",
       "      <td>14149.000000</td>\n",
       "      <td>14148.000000</td>\n",
       "      <td>14148.000000</td>\n",
       "      <td>14148.000000</td>\n",
       "      <td>14148.000000</td>\n",
       "      <td>14148.000000</td>\n",
       "      <td>14148.000000</td>\n",
       "      <td>14149.000000</td>\n",
       "      <td>14149.000000</td>\n",
       "      <td>13713.000000</td>\n",
       "      <td>14149.000000</td>\n",
       "      <td>14149.000000</td>\n",
       "      <td>14149.000000</td>\n",
       "      <td>14147.000000</td>\n",
       "      <td>14139.000000</td>\n",
       "      <td>12544.000000</td>\n",
       "      <td>14149.000000</td>\n",
       "      <td>13932.000000</td>\n",
       "      <td>14148.000000</td>\n",
       "      <td>14128.000000</td>\n",
       "      <td>14148.000000</td>\n",
       "      <td>14145.000000</td>\n",
       "      <td>14148.000000</td>\n",
       "      <td>14148.000000</td>\n",
       "      <td>14148.000000</td>\n",
       "      <td>14143.000000</td>\n",
       "      <td>14148.000000</td>\n",
       "      <td>14148.000000</td>\n",
       "      <td>14148.000000</td>\n",
       "      <td>14148.000000</td>\n",
       "      <td>14148.000000</td>\n",
       "      <td>14148.000000</td>\n",
       "      <td>14148.000000</td>\n",
       "      <td>14147.000000</td>\n",
       "      <td>14148.000000</td>\n",
       "    </tr>\n",
       "    <tr>\n",
       "      <th>unique</th>\n",
       "      <td>14149</td>\n",
       "      <td>NaN</td>\n",
       "      <td>NaN</td>\n",
       "      <td>NaN</td>\n",
       "      <td>NaN</td>\n",
       "      <td>NaN</td>\n",
       "      <td>NaN</td>\n",
       "      <td>NaN</td>\n",
       "      <td>NaN</td>\n",
       "      <td>NaN</td>\n",
       "      <td>NaN</td>\n",
       "      <td>NaN</td>\n",
       "      <td>NaN</td>\n",
       "      <td>NaN</td>\n",
       "      <td>NaN</td>\n",
       "      <td>NaN</td>\n",
       "      <td>NaN</td>\n",
       "      <td>NaN</td>\n",
       "      <td>NaN</td>\n",
       "      <td>NaN</td>\n",
       "      <td>NaN</td>\n",
       "      <td>NaN</td>\n",
       "      <td>NaN</td>\n",
       "      <td>NaN</td>\n",
       "      <td>NaN</td>\n",
       "      <td>NaN</td>\n",
       "      <td>NaN</td>\n",
       "      <td>NaN</td>\n",
       "      <td>NaN</td>\n",
       "      <td>NaN</td>\n",
       "      <td>NaN</td>\n",
       "      <td>NaN</td>\n",
       "      <td>NaN</td>\n",
       "      <td>NaN</td>\n",
       "      <td>NaN</td>\n",
       "      <td>NaN</td>\n",
       "      <td>NaN</td>\n",
       "      <td>NaN</td>\n",
       "      <td>NaN</td>\n",
       "      <td>NaN</td>\n",
       "      <td>NaN</td>\n",
       "      <td>NaN</td>\n",
       "      <td>NaN</td>\n",
       "      <td>NaN</td>\n",
       "      <td>NaN</td>\n",
       "      <td>NaN</td>\n",
       "      <td>NaN</td>\n",
       "      <td>NaN</td>\n",
       "      <td>NaN</td>\n",
       "      <td>NaN</td>\n",
       "      <td>NaN</td>\n",
       "      <td>NaN</td>\n",
       "      <td>NaN</td>\n",
       "      <td>NaN</td>\n",
       "      <td>NaN</td>\n",
       "      <td>NaN</td>\n",
       "      <td>NaN</td>\n",
       "      <td>NaN</td>\n",
       "      <td>NaN</td>\n",
       "      <td>NaN</td>\n",
       "      <td>NaN</td>\n",
       "      <td>NaN</td>\n",
       "      <td>NaN</td>\n",
       "      <td>NaN</td>\n",
       "      <td>NaN</td>\n",
       "      <td>NaN</td>\n",
       "      <td>NaN</td>\n",
       "      <td>NaN</td>\n",
       "      <td>NaN</td>\n",
       "      <td>NaN</td>\n",
       "      <td>NaN</td>\n",
       "      <td>NaN</td>\n",
       "      <td>NaN</td>\n",
       "      <td>NaN</td>\n",
       "      <td>NaN</td>\n",
       "      <td>NaN</td>\n",
       "      <td>NaN</td>\n",
       "      <td>NaN</td>\n",
       "      <td>NaN</td>\n",
       "      <td>NaN</td>\n",
       "      <td>NaN</td>\n",
       "      <td>NaN</td>\n",
       "      <td>NaN</td>\n",
       "      <td>NaN</td>\n",
       "      <td>NaN</td>\n",
       "      <td>NaN</td>\n",
       "      <td>NaN</td>\n",
       "    </tr>\n",
       "    <tr>\n",
       "      <th>top</th>\n",
       "      <td>2018-04-14 23:59:59</td>\n",
       "      <td>NaN</td>\n",
       "      <td>NaN</td>\n",
       "      <td>NaN</td>\n",
       "      <td>NaN</td>\n",
       "      <td>NaN</td>\n",
       "      <td>NaN</td>\n",
       "      <td>NaN</td>\n",
       "      <td>NaN</td>\n",
       "      <td>NaN</td>\n",
       "      <td>NaN</td>\n",
       "      <td>NaN</td>\n",
       "      <td>NaN</td>\n",
       "      <td>NaN</td>\n",
       "      <td>NaN</td>\n",
       "      <td>NaN</td>\n",
       "      <td>NaN</td>\n",
       "      <td>NaN</td>\n",
       "      <td>NaN</td>\n",
       "      <td>NaN</td>\n",
       "      <td>NaN</td>\n",
       "      <td>NaN</td>\n",
       "      <td>NaN</td>\n",
       "      <td>NaN</td>\n",
       "      <td>NaN</td>\n",
       "      <td>NaN</td>\n",
       "      <td>NaN</td>\n",
       "      <td>NaN</td>\n",
       "      <td>NaN</td>\n",
       "      <td>NaN</td>\n",
       "      <td>NaN</td>\n",
       "      <td>NaN</td>\n",
       "      <td>NaN</td>\n",
       "      <td>NaN</td>\n",
       "      <td>NaN</td>\n",
       "      <td>NaN</td>\n",
       "      <td>NaN</td>\n",
       "      <td>NaN</td>\n",
       "      <td>NaN</td>\n",
       "      <td>NaN</td>\n",
       "      <td>NaN</td>\n",
       "      <td>NaN</td>\n",
       "      <td>NaN</td>\n",
       "      <td>NaN</td>\n",
       "      <td>NaN</td>\n",
       "      <td>NaN</td>\n",
       "      <td>NaN</td>\n",
       "      <td>NaN</td>\n",
       "      <td>NaN</td>\n",
       "      <td>NaN</td>\n",
       "      <td>NaN</td>\n",
       "      <td>NaN</td>\n",
       "      <td>NaN</td>\n",
       "      <td>NaN</td>\n",
       "      <td>NaN</td>\n",
       "      <td>NaN</td>\n",
       "      <td>NaN</td>\n",
       "      <td>NaN</td>\n",
       "      <td>NaN</td>\n",
       "      <td>NaN</td>\n",
       "      <td>NaN</td>\n",
       "      <td>NaN</td>\n",
       "      <td>NaN</td>\n",
       "      <td>NaN</td>\n",
       "      <td>NaN</td>\n",
       "      <td>NaN</td>\n",
       "      <td>NaN</td>\n",
       "      <td>NaN</td>\n",
       "      <td>NaN</td>\n",
       "      <td>NaN</td>\n",
       "      <td>NaN</td>\n",
       "      <td>NaN</td>\n",
       "      <td>NaN</td>\n",
       "      <td>NaN</td>\n",
       "      <td>NaN</td>\n",
       "      <td>NaN</td>\n",
       "      <td>NaN</td>\n",
       "      <td>NaN</td>\n",
       "      <td>NaN</td>\n",
       "      <td>NaN</td>\n",
       "      <td>NaN</td>\n",
       "      <td>NaN</td>\n",
       "      <td>NaN</td>\n",
       "      <td>NaN</td>\n",
       "      <td>NaN</td>\n",
       "      <td>NaN</td>\n",
       "      <td>NaN</td>\n",
       "    </tr>\n",
       "    <tr>\n",
       "      <th>freq</th>\n",
       "      <td>1</td>\n",
       "      <td>NaN</td>\n",
       "      <td>NaN</td>\n",
       "      <td>NaN</td>\n",
       "      <td>NaN</td>\n",
       "      <td>NaN</td>\n",
       "      <td>NaN</td>\n",
       "      <td>NaN</td>\n",
       "      <td>NaN</td>\n",
       "      <td>NaN</td>\n",
       "      <td>NaN</td>\n",
       "      <td>NaN</td>\n",
       "      <td>NaN</td>\n",
       "      <td>NaN</td>\n",
       "      <td>NaN</td>\n",
       "      <td>NaN</td>\n",
       "      <td>NaN</td>\n",
       "      <td>NaN</td>\n",
       "      <td>NaN</td>\n",
       "      <td>NaN</td>\n",
       "      <td>NaN</td>\n",
       "      <td>NaN</td>\n",
       "      <td>NaN</td>\n",
       "      <td>NaN</td>\n",
       "      <td>NaN</td>\n",
       "      <td>NaN</td>\n",
       "      <td>NaN</td>\n",
       "      <td>NaN</td>\n",
       "      <td>NaN</td>\n",
       "      <td>NaN</td>\n",
       "      <td>NaN</td>\n",
       "      <td>NaN</td>\n",
       "      <td>NaN</td>\n",
       "      <td>NaN</td>\n",
       "      <td>NaN</td>\n",
       "      <td>NaN</td>\n",
       "      <td>NaN</td>\n",
       "      <td>NaN</td>\n",
       "      <td>NaN</td>\n",
       "      <td>NaN</td>\n",
       "      <td>NaN</td>\n",
       "      <td>NaN</td>\n",
       "      <td>NaN</td>\n",
       "      <td>NaN</td>\n",
       "      <td>NaN</td>\n",
       "      <td>NaN</td>\n",
       "      <td>NaN</td>\n",
       "      <td>NaN</td>\n",
       "      <td>NaN</td>\n",
       "      <td>NaN</td>\n",
       "      <td>NaN</td>\n",
       "      <td>NaN</td>\n",
       "      <td>NaN</td>\n",
       "      <td>NaN</td>\n",
       "      <td>NaN</td>\n",
       "      <td>NaN</td>\n",
       "      <td>NaN</td>\n",
       "      <td>NaN</td>\n",
       "      <td>NaN</td>\n",
       "      <td>NaN</td>\n",
       "      <td>NaN</td>\n",
       "      <td>NaN</td>\n",
       "      <td>NaN</td>\n",
       "      <td>NaN</td>\n",
       "      <td>NaN</td>\n",
       "      <td>NaN</td>\n",
       "      <td>NaN</td>\n",
       "      <td>NaN</td>\n",
       "      <td>NaN</td>\n",
       "      <td>NaN</td>\n",
       "      <td>NaN</td>\n",
       "      <td>NaN</td>\n",
       "      <td>NaN</td>\n",
       "      <td>NaN</td>\n",
       "      <td>NaN</td>\n",
       "      <td>NaN</td>\n",
       "      <td>NaN</td>\n",
       "      <td>NaN</td>\n",
       "      <td>NaN</td>\n",
       "      <td>NaN</td>\n",
       "      <td>NaN</td>\n",
       "      <td>NaN</td>\n",
       "      <td>NaN</td>\n",
       "      <td>NaN</td>\n",
       "      <td>NaN</td>\n",
       "      <td>NaN</td>\n",
       "      <td>NaN</td>\n",
       "    </tr>\n",
       "    <tr>\n",
       "      <th>mean</th>\n",
       "      <td>NaN</td>\n",
       "      <td>5.142034</td>\n",
       "      <td>10.132960</td>\n",
       "      <td>9.202849</td>\n",
       "      <td>44.003792</td>\n",
       "      <td>66.518832</td>\n",
       "      <td>9.607035</td>\n",
       "      <td>2.597298</td>\n",
       "      <td>10.512122</td>\n",
       "      <td>2.918421</td>\n",
       "      <td>133.320659</td>\n",
       "      <td>8.866996</td>\n",
       "      <td>7.322310</td>\n",
       "      <td>0.885588</td>\n",
       "      <td>8.200916</td>\n",
       "      <td>9.588862</td>\n",
       "      <td>10.114745</td>\n",
       "      <td>32.386836</td>\n",
       "      <td>16.303929</td>\n",
       "      <td>3.443398</td>\n",
       "      <td>7.533566</td>\n",
       "      <td>3.839637</td>\n",
       "      <td>1608.000064</td>\n",
       "      <td>-488.775525</td>\n",
       "      <td>1608.610983</td>\n",
       "      <td>-489.171786</td>\n",
       "      <td>1608.879407</td>\n",
       "      <td>-489.605549</td>\n",
       "      <td>1542.189963</td>\n",
       "      <td>-483.462423</td>\n",
       "      <td>4.038265e+04</td>\n",
       "      <td>3456.608298</td>\n",
       "      <td>3253.356387</td>\n",
       "      <td>2.367314</td>\n",
       "      <td>8.579195</td>\n",
       "      <td>3.522778</td>\n",
       "      <td>474.027714</td>\n",
       "      <td>60.110518</td>\n",
       "      <td>36.312593</td>\n",
       "      <td>7.866577</td>\n",
       "      <td>11.764931</td>\n",
       "      <td>5.854529</td>\n",
       "      <td>11.368685</td>\n",
       "      <td>5.894176</td>\n",
       "      <td>11.775812</td>\n",
       "      <td>7.664555</td>\n",
       "      <td>28.302715</td>\n",
       "      <td>19.439958</td>\n",
       "      <td>82.704502</td>\n",
       "      <td>5.567124</td>\n",
       "      <td>0.653277</td>\n",
       "      <td>17.882853</td>\n",
       "      <td>1.757473</td>\n",
       "      <td>1124.726280</td>\n",
       "      <td>-369.460950</td>\n",
       "      <td>1320.705069</td>\n",
       "      <td>-464.258983</td>\n",
       "      <td>1299.360578</td>\n",
       "      <td>-465.054849</td>\n",
       "      <td>1210.335236</td>\n",
       "      <td>-465.457377</td>\n",
       "      <td>1090.213187</td>\n",
       "      <td>-464.919119</td>\n",
       "      <td>1035.490299</td>\n",
       "      <td>-464.688631</td>\n",
       "      <td>14.281629</td>\n",
       "      <td>5.848863</td>\n",
       "      <td>6.938693</td>\n",
       "      <td>4.246961</td>\n",
       "      <td>29.613649</td>\n",
       "      <td>-502.223914</td>\n",
       "      <td>24.914403</td>\n",
       "      <td>-503.695706</td>\n",
       "      <td>29.243372</td>\n",
       "      <td>-478.244059</td>\n",
       "      <td>22.656261</td>\n",
       "      <td>-488.924046</td>\n",
       "      <td>19.985454</td>\n",
       "      <td>-478.696836</td>\n",
       "      <td>15.487065</td>\n",
       "      <td>-460.229416</td>\n",
       "      <td>16.775136</td>\n",
       "      <td>-483.956022</td>\n",
       "      <td>13.064590</td>\n",
       "      <td>-483.966564</td>\n",
       "      <td>19.577539</td>\n",
       "      <td>-506.798480</td>\n",
       "    </tr>\n",
       "    <tr>\n",
       "      <th>std</th>\n",
       "      <td>NaN</td>\n",
       "      <td>1.369586</td>\n",
       "      <td>1.654930</td>\n",
       "      <td>2.790516</td>\n",
       "      <td>4.905261</td>\n",
       "      <td>10.295402</td>\n",
       "      <td>2.319069</td>\n",
       "      <td>0.971843</td>\n",
       "      <td>3.003617</td>\n",
       "      <td>0.903712</td>\n",
       "      <td>39.431659</td>\n",
       "      <td>3.361589</td>\n",
       "      <td>0.614062</td>\n",
       "      <td>0.372714</td>\n",
       "      <td>2.005185</td>\n",
       "      <td>2.694296</td>\n",
       "      <td>4.064076</td>\n",
       "      <td>5.798843</td>\n",
       "      <td>3.739843</td>\n",
       "      <td>1.490106</td>\n",
       "      <td>2.133220</td>\n",
       "      <td>1.603544</td>\n",
       "      <td>128.394355</td>\n",
       "      <td>35.704184</td>\n",
       "      <td>131.112729</td>\n",
       "      <td>33.604449</td>\n",
       "      <td>134.266898</td>\n",
       "      <td>35.624002</td>\n",
       "      <td>278.316132</td>\n",
       "      <td>47.100934</td>\n",
       "      <td>3.801436e+05</td>\n",
       "      <td>5772.510248</td>\n",
       "      <td>6753.290662</td>\n",
       "      <td>0.873551</td>\n",
       "      <td>1.896284</td>\n",
       "      <td>1.073394</td>\n",
       "      <td>104.039838</td>\n",
       "      <td>22.418485</td>\n",
       "      <td>4.956057</td>\n",
       "      <td>1.919506</td>\n",
       "      <td>3.278813</td>\n",
       "      <td>1.104263</td>\n",
       "      <td>3.743672</td>\n",
       "      <td>1.124233</td>\n",
       "      <td>2.731747</td>\n",
       "      <td>1.856279</td>\n",
       "      <td>6.102982</td>\n",
       "      <td>3.765192</td>\n",
       "      <td>14.479156</td>\n",
       "      <td>1.039136</td>\n",
       "      <td>0.263766</td>\n",
       "      <td>3.432859</td>\n",
       "      <td>0.713187</td>\n",
       "      <td>169.310825</td>\n",
       "      <td>93.952787</td>\n",
       "      <td>183.155975</td>\n",
       "      <td>57.401954</td>\n",
       "      <td>213.404094</td>\n",
       "      <td>55.904716</td>\n",
       "      <td>210.431555</td>\n",
       "      <td>55.771393</td>\n",
       "      <td>184.610118</td>\n",
       "      <td>56.602962</td>\n",
       "      <td>175.052279</td>\n",
       "      <td>56.645965</td>\n",
       "      <td>4.477126</td>\n",
       "      <td>2.861799</td>\n",
       "      <td>4.155487</td>\n",
       "      <td>2.389060</td>\n",
       "      <td>5.800494</td>\n",
       "      <td>60.281705</td>\n",
       "      <td>5.994959</td>\n",
       "      <td>62.837357</td>\n",
       "      <td>5.637309</td>\n",
       "      <td>54.655143</td>\n",
       "      <td>4.996017</td>\n",
       "      <td>41.928112</td>\n",
       "      <td>5.657723</td>\n",
       "      <td>50.736021</td>\n",
       "      <td>5.255655</td>\n",
       "      <td>58.843586</td>\n",
       "      <td>5.831906</td>\n",
       "      <td>37.892788</td>\n",
       "      <td>5.765617</td>\n",
       "      <td>39.207913</td>\n",
       "      <td>5.764417</td>\n",
       "      <td>37.079249</td>\n",
       "    </tr>\n",
       "    <tr>\n",
       "      <th>min</th>\n",
       "      <td>NaN</td>\n",
       "      <td>0.000000</td>\n",
       "      <td>0.000000</td>\n",
       "      <td>0.000000</td>\n",
       "      <td>0.000000</td>\n",
       "      <td>0.000000</td>\n",
       "      <td>0.000000</td>\n",
       "      <td>0.000000</td>\n",
       "      <td>0.000000</td>\n",
       "      <td>0.000000</td>\n",
       "      <td>0.003112</td>\n",
       "      <td>0.000000</td>\n",
       "      <td>1.080000</td>\n",
       "      <td>0.000005</td>\n",
       "      <td>0.000000</td>\n",
       "      <td>0.000000</td>\n",
       "      <td>0.000000</td>\n",
       "      <td>0.000000</td>\n",
       "      <td>0.000000</td>\n",
       "      <td>0.000000</td>\n",
       "      <td>0.000000</td>\n",
       "      <td>0.000000</td>\n",
       "      <td>0.006352</td>\n",
       "      <td>-798.641662</td>\n",
       "      <td>0.008700</td>\n",
       "      <td>-740.122129</td>\n",
       "      <td>0.015159</td>\n",
       "      <td>-799.803073</td>\n",
       "      <td>0.008655</td>\n",
       "      <td>-799.788598</td>\n",
       "      <td>-4.223520e+07</td>\n",
       "      <td>-486.598675</td>\n",
       "      <td>-264.982785</td>\n",
       "      <td>-0.010548</td>\n",
       "      <td>0.010000</td>\n",
       "      <td>0.010000</td>\n",
       "      <td>0.012786</td>\n",
       "      <td>9.659576</td>\n",
       "      <td>0.010000</td>\n",
       "      <td>0.010000</td>\n",
       "      <td>0.001083</td>\n",
       "      <td>0.001428</td>\n",
       "      <td>0.000098</td>\n",
       "      <td>0.000290</td>\n",
       "      <td>0.000000</td>\n",
       "      <td>0.000000</td>\n",
       "      <td>0.000000</td>\n",
       "      <td>0.000000</td>\n",
       "      <td>0.000000</td>\n",
       "      <td>0.594562</td>\n",
       "      <td>0.007566</td>\n",
       "      <td>10.014648</td>\n",
       "      <td>0.020676</td>\n",
       "      <td>-0.041078</td>\n",
       "      <td>-650.202881</td>\n",
       "      <td>-0.653384</td>\n",
       "      <td>-650.260008</td>\n",
       "      <td>-0.035112</td>\n",
       "      <td>-640.995627</td>\n",
       "      <td>-0.554299</td>\n",
       "      <td>-640.519003</td>\n",
       "      <td>-1.970275</td>\n",
       "      <td>-649.443911</td>\n",
       "      <td>-2.430587</td>\n",
       "      <td>-649.880981</td>\n",
       "      <td>0.000000</td>\n",
       "      <td>0.000000</td>\n",
       "      <td>0.000000</td>\n",
       "      <td>0.000000</td>\n",
       "      <td>0.077503</td>\n",
       "      <td>-799.606441</td>\n",
       "      <td>0.000000</td>\n",
       "      <td>-799.873878</td>\n",
       "      <td>0.000000</td>\n",
       "      <td>-799.613013</td>\n",
       "      <td>0.000000</td>\n",
       "      <td>-759.177381</td>\n",
       "      <td>0.000000</td>\n",
       "      <td>-799.709069</td>\n",
       "      <td>0.000000</td>\n",
       "      <td>-799.889113</td>\n",
       "      <td>-0.372054</td>\n",
       "      <td>-797.142475</td>\n",
       "      <td>0.646208</td>\n",
       "      <td>-800.006180</td>\n",
       "      <td>0.195324</td>\n",
       "      <td>-809.398668</td>\n",
       "    </tr>\n",
       "    <tr>\n",
       "      <th>25%</th>\n",
       "      <td>NaN</td>\n",
       "      <td>4.211620</td>\n",
       "      <td>9.297355</td>\n",
       "      <td>7.484645</td>\n",
       "      <td>43.276111</td>\n",
       "      <td>62.545817</td>\n",
       "      <td>7.997429</td>\n",
       "      <td>1.905973</td>\n",
       "      <td>8.811324</td>\n",
       "      <td>2.368607</td>\n",
       "      <td>107.006651</td>\n",
       "      <td>6.040604</td>\n",
       "      <td>6.960000</td>\n",
       "      <td>0.607021</td>\n",
       "      <td>7.107126</td>\n",
       "      <td>8.333489</td>\n",
       "      <td>7.488139</td>\n",
       "      <td>30.857764</td>\n",
       "      <td>13.873147</td>\n",
       "      <td>2.420259</td>\n",
       "      <td>6.332548</td>\n",
       "      <td>2.867957</td>\n",
       "      <td>1595.695815</td>\n",
       "      <td>-500.287952</td>\n",
       "      <td>1558.959943</td>\n",
       "      <td>-500.375645</td>\n",
       "      <td>1549.871886</td>\n",
       "      <td>-500.601718</td>\n",
       "      <td>1452.678767</td>\n",
       "      <td>-500.459917</td>\n",
       "      <td>3.999430e+04</td>\n",
       "      <td>2527.093354</td>\n",
       "      <td>2512.200873</td>\n",
       "      <td>1.999588</td>\n",
       "      <td>7.132802</td>\n",
       "      <td>2.780010</td>\n",
       "      <td>420.781913</td>\n",
       "      <td>48.973027</td>\n",
       "      <td>34.117635</td>\n",
       "      <td>6.596217</td>\n",
       "      <td>9.861100</td>\n",
       "      <td>5.117359</td>\n",
       "      <td>9.505507</td>\n",
       "      <td>5.199168</td>\n",
       "      <td>10.486871</td>\n",
       "      <td>6.850501</td>\n",
       "      <td>26.703554</td>\n",
       "      <td>18.432161</td>\n",
       "      <td>79.993067</td>\n",
       "      <td>4.921647</td>\n",
       "      <td>0.474047</td>\n",
       "      <td>15.688727</td>\n",
       "      <td>1.310800</td>\n",
       "      <td>999.799166</td>\n",
       "      <td>-499.787867</td>\n",
       "      <td>1199.366448</td>\n",
       "      <td>-500.183028</td>\n",
       "      <td>1103.095071</td>\n",
       "      <td>-500.211863</td>\n",
       "      <td>1059.708509</td>\n",
       "      <td>-500.359197</td>\n",
       "      <td>997.183864</td>\n",
       "      <td>-500.250033</td>\n",
       "      <td>900.966986</td>\n",
       "      <td>-500.476526</td>\n",
       "      <td>12.177364</td>\n",
       "      <td>3.982298</td>\n",
       "      <td>3.225486</td>\n",
       "      <td>3.153122</td>\n",
       "      <td>25.099584</td>\n",
       "      <td>-500.248814</td>\n",
       "      <td>22.048294</td>\n",
       "      <td>-500.270997</td>\n",
       "      <td>24.991662</td>\n",
       "      <td>-500.175065</td>\n",
       "      <td>19.948436</td>\n",
       "      <td>-500.110581</td>\n",
       "      <td>14.990775</td>\n",
       "      <td>-500.628656</td>\n",
       "      <td>11.894558</td>\n",
       "      <td>-500.149000</td>\n",
       "      <td>11.083980</td>\n",
       "      <td>-500.363177</td>\n",
       "      <td>8.994405</td>\n",
       "      <td>-500.105994</td>\n",
       "      <td>14.989304</td>\n",
       "      <td>-500.745104</td>\n",
       "    </tr>\n",
       "    <tr>\n",
       "      <th>50%</th>\n",
       "      <td>NaN</td>\n",
       "      <td>4.994652</td>\n",
       "      <td>10.297144</td>\n",
       "      <td>8.845462</td>\n",
       "      <td>44.872436</td>\n",
       "      <td>67.432775</td>\n",
       "      <td>9.480270</td>\n",
       "      <td>2.592022</td>\n",
       "      <td>10.514621</td>\n",
       "      <td>2.851025</td>\n",
       "      <td>133.018328</td>\n",
       "      <td>8.035811</td>\n",
       "      <td>7.290000</td>\n",
       "      <td>0.888749</td>\n",
       "      <td>8.226247</td>\n",
       "      <td>9.933520</td>\n",
       "      <td>9.726566</td>\n",
       "      <td>33.225835</td>\n",
       "      <td>15.800604</td>\n",
       "      <td>3.218374</td>\n",
       "      <td>7.714419</td>\n",
       "      <td>3.510337</td>\n",
       "      <td>1601.824410</td>\n",
       "      <td>-499.909375</td>\n",
       "      <td>1601.818514</td>\n",
       "      <td>-499.938003</td>\n",
       "      <td>1601.574628</td>\n",
       "      <td>-499.871346</td>\n",
       "      <td>1600.168346</td>\n",
       "      <td>-499.831833</td>\n",
       "      <td>4.368431e+04</td>\n",
       "      <td>2975.892211</td>\n",
       "      <td>2899.807724</td>\n",
       "      <td>2.249275</td>\n",
       "      <td>8.156092</td>\n",
       "      <td>3.422677</td>\n",
       "      <td>499.454777</td>\n",
       "      <td>55.373885</td>\n",
       "      <td>37.020345</td>\n",
       "      <td>7.649138</td>\n",
       "      <td>11.688702</td>\n",
       "      <td>5.951071</td>\n",
       "      <td>11.384283</td>\n",
       "      <td>5.998460</td>\n",
       "      <td>11.747362</td>\n",
       "      <td>7.760435</td>\n",
       "      <td>29.257545</td>\n",
       "      <td>19.947312</td>\n",
       "      <td>85.299462</td>\n",
       "      <td>5.722018</td>\n",
       "      <td>0.625805</td>\n",
       "      <td>18.015894</td>\n",
       "      <td>1.745513</td>\n",
       "      <td>1001.685708</td>\n",
       "      <td>-300.175125</td>\n",
       "      <td>1301.365123</td>\n",
       "      <td>-499.764620</td>\n",
       "      <td>1300.213385</td>\n",
       "      <td>-499.682528</td>\n",
       "      <td>1200.744308</td>\n",
       "      <td>-499.465285</td>\n",
       "      <td>1050.496363</td>\n",
       "      <td>-499.611447</td>\n",
       "      <td>1000.053757</td>\n",
       "      <td>-499.364335</td>\n",
       "      <td>15.357951</td>\n",
       "      <td>5.442310</td>\n",
       "      <td>7.302639</td>\n",
       "      <td>3.980210</td>\n",
       "      <td>30.027721</td>\n",
       "      <td>-499.959206</td>\n",
       "      <td>27.022783</td>\n",
       "      <td>-500.014092</td>\n",
       "      <td>28.016530</td>\n",
       "      <td>-499.877837</td>\n",
       "      <td>22.037270</td>\n",
       "      <td>-499.966809</td>\n",
       "      <td>20.001789</td>\n",
       "      <td>-499.681450</td>\n",
       "      <td>14.975536</td>\n",
       "      <td>-499.388738</td>\n",
       "      <td>17.932223</td>\n",
       "      <td>-499.702452</td>\n",
       "      <td>11.997547</td>\n",
       "      <td>-499.914556</td>\n",
       "      <td>19.984175</td>\n",
       "      <td>-500.061431</td>\n",
       "    </tr>\n",
       "    <tr>\n",
       "      <th>75%</th>\n",
       "      <td>NaN</td>\n",
       "      <td>5.859540</td>\n",
       "      <td>11.170603</td>\n",
       "      <td>10.487508</td>\n",
       "      <td>46.166425</td>\n",
       "      <td>72.346428</td>\n",
       "      <td>11.003707</td>\n",
       "      <td>3.241723</td>\n",
       "      <td>11.933009</td>\n",
       "      <td>3.434764</td>\n",
       "      <td>159.825396</td>\n",
       "      <td>11.522173</td>\n",
       "      <td>7.700000</td>\n",
       "      <td>1.100933</td>\n",
       "      <td>9.504924</td>\n",
       "      <td>11.310817</td>\n",
       "      <td>13.052807</td>\n",
       "      <td>35.330145</td>\n",
       "      <td>18.450109</td>\n",
       "      <td>4.253218</td>\n",
       "      <td>8.910664</td>\n",
       "      <td>4.492470</td>\n",
       "      <td>1699.716408</td>\n",
       "      <td>-499.378551</td>\n",
       "      <td>1700.215351</td>\n",
       "      <td>-499.389658</td>\n",
       "      <td>1700.464037</td>\n",
       "      <td>-498.801774</td>\n",
       "      <td>1699.358771</td>\n",
       "      <td>-498.480341</td>\n",
       "      <td>4.776041e+04</td>\n",
       "      <td>3716.360822</td>\n",
       "      <td>3596.534806</td>\n",
       "      <td>2.660896</td>\n",
       "      <td>9.918304</td>\n",
       "      <td>4.226107</td>\n",
       "      <td>547.334973</td>\n",
       "      <td>66.080172</td>\n",
       "      <td>39.423265</td>\n",
       "      <td>9.066976</td>\n",
       "      <td>13.607115</td>\n",
       "      <td>6.602533</td>\n",
       "      <td>13.497134</td>\n",
       "      <td>6.699006</td>\n",
       "      <td>13.426419</td>\n",
       "      <td>8.601927</td>\n",
       "      <td>31.743913</td>\n",
       "      <td>21.392714</td>\n",
       "      <td>90.165021</td>\n",
       "      <td>6.310633</td>\n",
       "      <td>0.794326</td>\n",
       "      <td>19.938672</td>\n",
       "      <td>2.186790</td>\n",
       "      <td>1299.505513</td>\n",
       "      <td>-299.963153</td>\n",
       "      <td>1449.553689</td>\n",
       "      <td>-400.425493</td>\n",
       "      <td>1450.350668</td>\n",
       "      <td>-400.664736</td>\n",
       "      <td>1344.378462</td>\n",
       "      <td>-401.052891</td>\n",
       "      <td>1200.047746</td>\n",
       "      <td>-400.596104</td>\n",
       "      <td>1100.165435</td>\n",
       "      <td>-401.014951</td>\n",
       "      <td>17.230151</td>\n",
       "      <td>7.797948</td>\n",
       "      <td>10.547068</td>\n",
       "      <td>4.883943</td>\n",
       "      <td>34.893057</td>\n",
       "      <td>-499.593198</td>\n",
       "      <td>28.939454</td>\n",
       "      <td>-499.764112</td>\n",
       "      <td>34.990095</td>\n",
       "      <td>-436.923166</td>\n",
       "      <td>25.970365</td>\n",
       "      <td>-499.757501</td>\n",
       "      <td>24.990826</td>\n",
       "      <td>-477.472413</td>\n",
       "      <td>20.059375</td>\n",
       "      <td>-400.039008</td>\n",
       "      <td>21.346550</td>\n",
       "      <td>-487.712108</td>\n",
       "      <td>17.982903</td>\n",
       "      <td>-453.186936</td>\n",
       "      <td>24.991623</td>\n",
       "      <td>-499.536466</td>\n",
       "    </tr>\n",
       "    <tr>\n",
       "      <th>max</th>\n",
       "      <td>NaN</td>\n",
       "      <td>16.001945</td>\n",
       "      <td>17.031899</td>\n",
       "      <td>18.124851</td>\n",
       "      <td>52.756638</td>\n",
       "      <td>100.000000</td>\n",
       "      <td>19.552149</td>\n",
       "      <td>5.639565</td>\n",
       "      <td>22.317730</td>\n",
       "      <td>8.197408</td>\n",
       "      <td>250.127834</td>\n",
       "      <td>20.052255</td>\n",
       "      <td>10.470000</td>\n",
       "      <td>2.512968</td>\n",
       "      <td>16.081632</td>\n",
       "      <td>17.081278</td>\n",
       "      <td>22.280845</td>\n",
       "      <td>45.933934</td>\n",
       "      <td>29.459575</td>\n",
       "      <td>9.634565</td>\n",
       "      <td>20.620833</td>\n",
       "      <td>17.788925</td>\n",
       "      <td>2079.531340</td>\n",
       "      <td>-330.134203</td>\n",
       "      <td>2114.906758</td>\n",
       "      <td>-347.354380</td>\n",
       "      <td>2013.156457</td>\n",
       "      <td>-346.653450</td>\n",
       "      <td>2398.903635</td>\n",
       "      <td>-30.601828</td>\n",
       "      <td>3.428099e+06</td>\n",
       "      <td>629638.977914</td>\n",
       "      <td>718684.955855</td>\n",
       "      <td>39.379272</td>\n",
       "      <td>14.596026</td>\n",
       "      <td>7.142594</td>\n",
       "      <td>717.508837</td>\n",
       "      <td>484.967466</td>\n",
       "      <td>48.363177</td>\n",
       "      <td>13.126043</td>\n",
       "      <td>36.118275</td>\n",
       "      <td>9.703448</td>\n",
       "      <td>37.980648</td>\n",
       "      <td>9.698407</td>\n",
       "      <td>24.480271</td>\n",
       "      <td>13.617072</td>\n",
       "      <td>38.351193</td>\n",
       "      <td>28.146838</td>\n",
       "      <td>100.000000</td>\n",
       "      <td>12.719177</td>\n",
       "      <td>3.778064</td>\n",
       "      <td>66.117188</td>\n",
       "      <td>9.688980</td>\n",
       "      <td>1521.980372</td>\n",
       "      <td>-281.039299</td>\n",
       "      <td>1809.194008</td>\n",
       "      <td>-296.383080</td>\n",
       "      <td>2499.129174</td>\n",
       "      <td>-292.155509</td>\n",
       "      <td>1817.199290</td>\n",
       "      <td>-208.330673</td>\n",
       "      <td>1922.636637</td>\n",
       "      <td>-272.199598</td>\n",
       "      <td>1706.307502</td>\n",
       "      <td>-191.718480</td>\n",
       "      <td>23.264738</td>\n",
       "      <td>17.042505</td>\n",
       "      <td>17.976171</td>\n",
       "      <td>26.811643</td>\n",
       "      <td>52.651399</td>\n",
       "      <td>-127.875565</td>\n",
       "      <td>35.152122</td>\n",
       "      <td>-212.064665</td>\n",
       "      <td>44.260464</td>\n",
       "      <td>-191.678810</td>\n",
       "      <td>35.072841</td>\n",
       "      <td>-159.742331</td>\n",
       "      <td>30.115735</td>\n",
       "      <td>-245.239184</td>\n",
       "      <td>24.007913</td>\n",
       "      <td>-145.071088</td>\n",
       "      <td>43.709931</td>\n",
       "      <td>-275.073125</td>\n",
       "      <td>27.926001</td>\n",
       "      <td>-157.396071</td>\n",
       "      <td>32.188906</td>\n",
       "      <td>-104.427459</td>\n",
       "    </tr>\n",
       "  </tbody>\n",
       "</table>\n",
       "</div>"
      ],
      "text/plain": [
       "                       date  final.output.concentrate_ag  \\\n",
       "count                 14149                 14148.000000   \n",
       "unique                14149                          NaN   \n",
       "top     2018-04-14 23:59:59                          NaN   \n",
       "freq                      1                          NaN   \n",
       "mean                    NaN                     5.142034   \n",
       "std                     NaN                     1.369586   \n",
       "min                     NaN                     0.000000   \n",
       "25%                     NaN                     4.211620   \n",
       "50%                     NaN                     4.994652   \n",
       "75%                     NaN                     5.859540   \n",
       "max                     NaN                    16.001945   \n",
       "\n",
       "        final.output.concentrate_pb  final.output.concentrate_sol  \\\n",
       "count                  14148.000000                  13938.000000   \n",
       "unique                          NaN                           NaN   \n",
       "top                             NaN                           NaN   \n",
       "freq                            NaN                           NaN   \n",
       "mean                      10.132960                      9.202849   \n",
       "std                        1.654930                      2.790516   \n",
       "min                        0.000000                      0.000000   \n",
       "25%                        9.297355                      7.484645   \n",
       "50%                       10.297144                      8.845462   \n",
       "75%                       11.170603                     10.487508   \n",
       "max                       17.031899                     18.124851   \n",
       "\n",
       "        final.output.concentrate_au  final.output.recovery  \\\n",
       "count                  14149.000000           14149.000000   \n",
       "unique                          NaN                    NaN   \n",
       "top                             NaN                    NaN   \n",
       "freq                            NaN                    NaN   \n",
       "mean                      44.003792              66.518832   \n",
       "std                        4.905261              10.295402   \n",
       "min                        0.000000               0.000000   \n",
       "25%                       43.276111              62.545817   \n",
       "50%                       44.872436              67.432775   \n",
       "75%                       46.166425              72.346428   \n",
       "max                       52.756638             100.000000   \n",
       "\n",
       "        final.output.tail_ag  final.output.tail_pb  final.output.tail_sol  \\\n",
       "count           14149.000000          14049.000000           14144.000000   \n",
       "unique                   NaN                   NaN                    NaN   \n",
       "top                      NaN                   NaN                    NaN   \n",
       "freq                     NaN                   NaN                    NaN   \n",
       "mean                9.607035              2.597298              10.512122   \n",
       "std                 2.319069              0.971843               3.003617   \n",
       "min                 0.000000              0.000000               0.000000   \n",
       "25%                 7.997429              1.905973               8.811324   \n",
       "50%                 9.480270              2.592022              10.514621   \n",
       "75%                11.003707              3.241723              11.933009   \n",
       "max                19.552149              5.639565              22.317730   \n",
       "\n",
       "        final.output.tail_au  primary_cleaner.input.sulfate  \\\n",
       "count           14149.000000                   14129.000000   \n",
       "unique                   NaN                            NaN   \n",
       "top                      NaN                            NaN   \n",
       "freq                     NaN                            NaN   \n",
       "mean                2.918421                     133.320659   \n",
       "std                 0.903712                      39.431659   \n",
       "min                 0.000000                       0.003112   \n",
       "25%                 2.368607                     107.006651   \n",
       "50%                 2.851025                     133.018328   \n",
       "75%                 3.434764                     159.825396   \n",
       "max                 8.197408                     250.127834   \n",
       "\n",
       "        primary_cleaner.input.depressant  primary_cleaner.input.feed_size  \\\n",
       "count                       14117.000000                     14149.000000   \n",
       "unique                               NaN                              NaN   \n",
       "top                                  NaN                              NaN   \n",
       "freq                                 NaN                              NaN   \n",
       "mean                            8.866996                         7.322310   \n",
       "std                             3.361589                         0.614062   \n",
       "min                             0.000000                         1.080000   \n",
       "25%                             6.040604                         6.960000   \n",
       "50%                             8.035811                         7.290000   \n",
       "75%                            11.522173                         7.700000   \n",
       "max                            20.052255                        10.470000   \n",
       "\n",
       "        primary_cleaner.input.xanthate  primary_cleaner.output.concentrate_ag  \\\n",
       "count                     14049.000000                           14149.000000   \n",
       "unique                             NaN                                    NaN   \n",
       "top                                NaN                                    NaN   \n",
       "freq                               NaN                                    NaN   \n",
       "mean                          0.885588                               8.200916   \n",
       "std                           0.372714                               2.005185   \n",
       "min                           0.000005                               0.000000   \n",
       "25%                           0.607021                               7.107126   \n",
       "50%                           0.888749                               8.226247   \n",
       "75%                           1.100933                               9.504924   \n",
       "max                           2.512968                              16.081632   \n",
       "\n",
       "        primary_cleaner.output.concentrate_pb  \\\n",
       "count                            14063.000000   \n",
       "unique                                    NaN   \n",
       "top                                       NaN   \n",
       "freq                                      NaN   \n",
       "mean                                 9.588862   \n",
       "std                                  2.694296   \n",
       "min                                  0.000000   \n",
       "25%                                  8.333489   \n",
       "50%                                  9.933520   \n",
       "75%                                 11.310817   \n",
       "max                                 17.081278   \n",
       "\n",
       "        primary_cleaner.output.concentrate_sol  \\\n",
       "count                             13863.000000   \n",
       "unique                                     NaN   \n",
       "top                                        NaN   \n",
       "freq                                       NaN   \n",
       "mean                                 10.114745   \n",
       "std                                   4.064076   \n",
       "min                                   0.000000   \n",
       "25%                                   7.488139   \n",
       "50%                                   9.726566   \n",
       "75%                                  13.052807   \n",
       "max                                  22.280845   \n",
       "\n",
       "        primary_cleaner.output.concentrate_au  primary_cleaner.output.tail_ag  \\\n",
       "count                            14149.000000                    14148.000000   \n",
       "unique                                    NaN                             NaN   \n",
       "top                                       NaN                             NaN   \n",
       "freq                                      NaN                             NaN   \n",
       "mean                                32.386836                       16.303929   \n",
       "std                                  5.798843                        3.739843   \n",
       "min                                  0.000000                        0.000000   \n",
       "25%                                 30.857764                       13.873147   \n",
       "50%                                 33.225835                       15.800604   \n",
       "75%                                 35.330145                       18.450109   \n",
       "max                                 45.933934                       29.459575   \n",
       "\n",
       "        primary_cleaner.output.tail_pb  primary_cleaner.output.tail_sol  \\\n",
       "count                     14134.000000                     14103.000000   \n",
       "unique                             NaN                              NaN   \n",
       "top                                NaN                              NaN   \n",
       "freq                               NaN                              NaN   \n",
       "mean                          3.443398                         7.533566   \n",
       "std                           1.490106                         2.133220   \n",
       "min                           0.000000                         0.000000   \n",
       "25%                           2.420259                         6.332548   \n",
       "50%                           3.218374                         7.714419   \n",
       "75%                           4.253218                         8.910664   \n",
       "max                           9.634565                        20.620833   \n",
       "\n",
       "        primary_cleaner.output.tail_au  \\\n",
       "count                     14149.000000   \n",
       "unique                             NaN   \n",
       "top                                NaN   \n",
       "freq                               NaN   \n",
       "mean                          3.839637   \n",
       "std                           1.603544   \n",
       "min                           0.000000   \n",
       "25%                           2.867957   \n",
       "50%                           3.510337   \n",
       "75%                           4.492470   \n",
       "max                          17.788925   \n",
       "\n",
       "        primary_cleaner.state.floatbank8_a_air  \\\n",
       "count                             14145.000000   \n",
       "unique                                     NaN   \n",
       "top                                        NaN   \n",
       "freq                                       NaN   \n",
       "mean                               1608.000064   \n",
       "std                                 128.394355   \n",
       "min                                   0.006352   \n",
       "25%                                1595.695815   \n",
       "50%                                1601.824410   \n",
       "75%                                1699.716408   \n",
       "max                                2079.531340   \n",
       "\n",
       "        primary_cleaner.state.floatbank8_a_level  \\\n",
       "count                               14148.000000   \n",
       "unique                                       NaN   \n",
       "top                                          NaN   \n",
       "freq                                         NaN   \n",
       "mean                                 -488.775525   \n",
       "std                                    35.704184   \n",
       "min                                  -798.641662   \n",
       "25%                                  -500.287952   \n",
       "50%                                  -499.909375   \n",
       "75%                                  -499.378551   \n",
       "max                                  -330.134203   \n",
       "\n",
       "        primary_cleaner.state.floatbank8_b_air  \\\n",
       "count                             14145.000000   \n",
       "unique                                     NaN   \n",
       "top                                        NaN   \n",
       "freq                                       NaN   \n",
       "mean                               1608.610983   \n",
       "std                                 131.112729   \n",
       "min                                   0.008700   \n",
       "25%                                1558.959943   \n",
       "50%                                1601.818514   \n",
       "75%                                1700.215351   \n",
       "max                                2114.906758   \n",
       "\n",
       "        primary_cleaner.state.floatbank8_b_level  \\\n",
       "count                               14148.000000   \n",
       "unique                                       NaN   \n",
       "top                                          NaN   \n",
       "freq                                         NaN   \n",
       "mean                                 -489.171786   \n",
       "std                                    33.604449   \n",
       "min                                  -740.122129   \n",
       "25%                                  -500.375645   \n",
       "50%                                  -499.938003   \n",
       "75%                                  -499.389658   \n",
       "max                                  -347.354380   \n",
       "\n",
       "        primary_cleaner.state.floatbank8_c_air  \\\n",
       "count                             14147.000000   \n",
       "unique                                     NaN   \n",
       "top                                        NaN   \n",
       "freq                                       NaN   \n",
       "mean                               1608.879407   \n",
       "std                                 134.266898   \n",
       "min                                   0.015159   \n",
       "25%                                1549.871886   \n",
       "50%                                1601.574628   \n",
       "75%                                1700.464037   \n",
       "max                                2013.156457   \n",
       "\n",
       "        primary_cleaner.state.floatbank8_c_level  \\\n",
       "count                               14148.000000   \n",
       "unique                                       NaN   \n",
       "top                                          NaN   \n",
       "freq                                         NaN   \n",
       "mean                                 -489.605549   \n",
       "std                                    35.624002   \n",
       "min                                  -799.803073   \n",
       "25%                                  -500.601718   \n",
       "50%                                  -499.871346   \n",
       "75%                                  -498.801774   \n",
       "max                                  -346.653450   \n",
       "\n",
       "        primary_cleaner.state.floatbank8_d_air  \\\n",
       "count                             14146.000000   \n",
       "unique                                     NaN   \n",
       "top                                        NaN   \n",
       "freq                                       NaN   \n",
       "mean                               1542.189963   \n",
       "std                                 278.316132   \n",
       "min                                   0.008655   \n",
       "25%                                1452.678767   \n",
       "50%                                1600.168346   \n",
       "75%                                1699.358771   \n",
       "max                                2398.903635   \n",
       "\n",
       "        primary_cleaner.state.floatbank8_d_level  \\\n",
       "count                               14148.000000   \n",
       "unique                                       NaN   \n",
       "top                                          NaN   \n",
       "freq                                         NaN   \n",
       "mean                                 -483.462423   \n",
       "std                                    47.100934   \n",
       "min                                  -799.788598   \n",
       "25%                                  -500.459917   \n",
       "50%                                  -499.831833   \n",
       "75%                                  -498.480341   \n",
       "max                                   -30.601828   \n",
       "\n",
       "        rougher.calculation.sulfate_to_au_concentrate  \\\n",
       "count                                    1.414800e+04   \n",
       "unique                                            NaN   \n",
       "top                                               NaN   \n",
       "freq                                              NaN   \n",
       "mean                                     4.038265e+04   \n",
       "std                                      3.801436e+05   \n",
       "min                                     -4.223520e+07   \n",
       "25%                                      3.999430e+04   \n",
       "50%                                      4.368431e+04   \n",
       "75%                                      4.776041e+04   \n",
       "max                                      3.428099e+06   \n",
       "\n",
       "        rougher.calculation.floatbank10_sulfate_to_au_feed  \\\n",
       "count                                        14148.000000    \n",
       "unique                                                NaN    \n",
       "top                                                   NaN    \n",
       "freq                                                  NaN    \n",
       "mean                                          3456.608298    \n",
       "std                                           5772.510248    \n",
       "min                                           -486.598675    \n",
       "25%                                           2527.093354    \n",
       "50%                                           2975.892211    \n",
       "75%                                           3716.360822    \n",
       "max                                         629638.977914    \n",
       "\n",
       "        rougher.calculation.floatbank11_sulfate_to_au_feed  \\\n",
       "count                                        14148.000000    \n",
       "unique                                                NaN    \n",
       "top                                                   NaN    \n",
       "freq                                                  NaN    \n",
       "mean                                          3253.356387    \n",
       "std                                           6753.290662    \n",
       "min                                           -264.982785    \n",
       "25%                                           2512.200873    \n",
       "50%                                           2899.807724    \n",
       "75%                                           3596.534806    \n",
       "max                                         718684.955855    \n",
       "\n",
       "        rougher.calculation.au_pb_ratio  rougher.input.feed_ag  \\\n",
       "count                      14149.000000           14149.000000   \n",
       "unique                              NaN                    NaN   \n",
       "top                                 NaN                    NaN   \n",
       "freq                                NaN                    NaN   \n",
       "mean                           2.367314               8.579195   \n",
       "std                            0.873551               1.896284   \n",
       "min                           -0.010548               0.010000   \n",
       "25%                            1.999588               7.132802   \n",
       "50%                            2.249275               8.156092   \n",
       "75%                            2.660896               9.918304   \n",
       "max                           39.379272              14.596026   \n",
       "\n",
       "        rougher.input.feed_pb  rougher.input.feed_rate  \\\n",
       "count            14049.000000             14141.000000   \n",
       "unique                    NaN                      NaN   \n",
       "top                       NaN                      NaN   \n",
       "freq                      NaN                      NaN   \n",
       "mean                 3.522778               474.027714   \n",
       "std                  1.073394               104.039838   \n",
       "min                  0.010000                 0.012786   \n",
       "25%                  2.780010               420.781913   \n",
       "50%                  3.422677               499.454777   \n",
       "75%                  4.226107               547.334973   \n",
       "max                  7.142594               717.508837   \n",
       "\n",
       "        rougher.input.feed_size  rougher.input.feed_sol  \\\n",
       "count              14005.000000            14071.000000   \n",
       "unique                      NaN                     NaN   \n",
       "top                         NaN                     NaN   \n",
       "freq                        NaN                     NaN   \n",
       "mean                  60.110518               36.312593   \n",
       "std                   22.418485                4.956057   \n",
       "min                    9.659576                0.010000   \n",
       "25%                   48.973027               34.117635   \n",
       "50%                   55.373885               37.020345   \n",
       "75%                   66.080172               39.423265   \n",
       "max                  484.967466               48.363177   \n",
       "\n",
       "        rougher.input.feed_au  rougher.input.floatbank10_sulfate  \\\n",
       "count            14149.000000                       14120.000000   \n",
       "unique                    NaN                                NaN   \n",
       "top                       NaN                                NaN   \n",
       "freq                      NaN                                NaN   \n",
       "mean                 7.866577                          11.764931   \n",
       "std                  1.919506                           3.278813   \n",
       "min                  0.010000                           0.001083   \n",
       "25%                  6.596217                           9.861100   \n",
       "50%                  7.649138                          11.688702   \n",
       "75%                  9.066976                          13.607115   \n",
       "max                 13.126043                          36.118275   \n",
       "\n",
       "        rougher.input.floatbank10_xanthate  rougher.input.floatbank11_sulfate  \\\n",
       "count                         14141.000000                       14113.000000   \n",
       "unique                                 NaN                                NaN   \n",
       "top                                    NaN                                NaN   \n",
       "freq                                   NaN                                NaN   \n",
       "mean                              5.854529                          11.368685   \n",
       "std                               1.104263                           3.743672   \n",
       "min                               0.001428                           0.000098   \n",
       "25%                               5.117359                           9.505507   \n",
       "50%                               5.951071                          11.384283   \n",
       "75%                               6.602533                          13.497134   \n",
       "max                               9.703448                          37.980648   \n",
       "\n",
       "        rougher.input.floatbank11_xanthate  rougher.output.concentrate_ag  \\\n",
       "count                         13721.000000                   14149.000000   \n",
       "unique                                 NaN                            NaN   \n",
       "top                                    NaN                            NaN   \n",
       "freq                                   NaN                            NaN   \n",
       "mean                              5.894176                      11.775812   \n",
       "std                               1.124233                       2.731747   \n",
       "min                               0.000290                       0.000000   \n",
       "25%                               5.199168                      10.486871   \n",
       "50%                               5.998460                      11.747362   \n",
       "75%                               6.699006                      13.426419   \n",
       "max                               9.698407                      24.480271   \n",
       "\n",
       "        rougher.output.concentrate_pb  rougher.output.concentrate_sol  \\\n",
       "count                    14149.000000                    14127.000000   \n",
       "unique                            NaN                             NaN   \n",
       "top                               NaN                             NaN   \n",
       "freq                              NaN                             NaN   \n",
       "mean                         7.664555                       28.302715   \n",
       "std                          1.856279                        6.102982   \n",
       "min                          0.000000                        0.000000   \n",
       "25%                          6.850501                       26.703554   \n",
       "50%                          7.760435                       29.257545   \n",
       "75%                          8.601927                       31.743913   \n",
       "max                         13.617072                       38.351193   \n",
       "\n",
       "        rougher.output.concentrate_au  rougher.output.recovery  \\\n",
       "count                    14149.000000             14149.000000   \n",
       "unique                            NaN                      NaN   \n",
       "top                               NaN                      NaN   \n",
       "freq                              NaN                      NaN   \n",
       "mean                        19.439958                82.704502   \n",
       "std                          3.765192                14.479156   \n",
       "min                          0.000000                 0.000000   \n",
       "25%                         18.432161                79.993067   \n",
       "50%                         19.947312                85.299462   \n",
       "75%                         21.392714                90.165021   \n",
       "max                         28.146838               100.000000   \n",
       "\n",
       "        rougher.output.tail_ag  rougher.output.tail_pb  \\\n",
       "count             14148.000000            14149.000000   \n",
       "unique                     NaN                     NaN   \n",
       "top                        NaN                     NaN   \n",
       "freq                       NaN                     NaN   \n",
       "mean                  5.567124                0.653277   \n",
       "std                   1.039136                0.263766   \n",
       "min                   0.594562                0.007566   \n",
       "25%                   4.921647                0.474047   \n",
       "50%                   5.722018                0.625805   \n",
       "75%                   6.310633                0.794326   \n",
       "max                  12.719177                3.778064   \n",
       "\n",
       "        rougher.output.tail_sol  rougher.output.tail_au  \\\n",
       "count              14149.000000            14149.000000   \n",
       "unique                      NaN                     NaN   \n",
       "top                         NaN                     NaN   \n",
       "freq                        NaN                     NaN   \n",
       "mean                  17.882853                1.757473   \n",
       "std                    3.432859                0.713187   \n",
       "min                   10.014648                0.020676   \n",
       "25%                   15.688727                1.310800   \n",
       "50%                   18.015894                1.745513   \n",
       "75%                   19.938672                2.186790   \n",
       "max                   66.117188                9.688980   \n",
       "\n",
       "        rougher.state.floatbank10_a_air  rougher.state.floatbank10_a_level  \\\n",
       "count                      14148.000000                       14148.000000   \n",
       "unique                              NaN                                NaN   \n",
       "top                                 NaN                                NaN   \n",
       "freq                                NaN                                NaN   \n",
       "mean                        1124.726280                        -369.460950   \n",
       "std                          169.310825                          93.952787   \n",
       "min                           -0.041078                        -650.202881   \n",
       "25%                          999.799166                        -499.787867   \n",
       "50%                         1001.685708                        -300.175125   \n",
       "75%                         1299.505513                        -299.963153   \n",
       "max                         1521.980372                        -281.039299   \n",
       "\n",
       "        rougher.state.floatbank10_b_air  rougher.state.floatbank10_b_level  \\\n",
       "count                      14148.000000                       14148.000000   \n",
       "unique                              NaN                                NaN   \n",
       "top                                 NaN                                NaN   \n",
       "freq                                NaN                                NaN   \n",
       "mean                        1320.705069                        -464.258983   \n",
       "std                          183.155975                          57.401954   \n",
       "min                           -0.653384                        -650.260008   \n",
       "25%                         1199.366448                        -500.183028   \n",
       "50%                         1301.365123                        -499.764620   \n",
       "75%                         1449.553689                        -400.425493   \n",
       "max                         1809.194008                        -296.383080   \n",
       "\n",
       "        rougher.state.floatbank10_c_air  rougher.state.floatbank10_c_level  \\\n",
       "count                      14148.000000                       14148.000000   \n",
       "unique                              NaN                                NaN   \n",
       "top                                 NaN                                NaN   \n",
       "freq                                NaN                                NaN   \n",
       "mean                        1299.360578                        -465.054849   \n",
       "std                          213.404094                          55.904716   \n",
       "min                           -0.035112                        -640.995627   \n",
       "25%                         1103.095071                        -500.211863   \n",
       "50%                         1300.213385                        -499.682528   \n",
       "75%                         1450.350668                        -400.664736   \n",
       "max                         2499.129174                        -292.155509   \n",
       "\n",
       "        rougher.state.floatbank10_d_air  rougher.state.floatbank10_d_level  \\\n",
       "count                      14149.000000                       14149.000000   \n",
       "unique                              NaN                                NaN   \n",
       "top                                 NaN                                NaN   \n",
       "freq                                NaN                                NaN   \n",
       "mean                        1210.335236                        -465.457377   \n",
       "std                          210.431555                          55.771393   \n",
       "min                           -0.554299                        -640.519003   \n",
       "25%                         1059.708509                        -500.359197   \n",
       "50%                         1200.744308                        -499.465285   \n",
       "75%                         1344.378462                        -401.052891   \n",
       "max                         1817.199290                        -208.330673   \n",
       "\n",
       "        rougher.state.floatbank10_e_air  rougher.state.floatbank10_e_level  \\\n",
       "count                      13713.000000                       14149.000000   \n",
       "unique                              NaN                                NaN   \n",
       "top                                 NaN                                NaN   \n",
       "freq                                NaN                                NaN   \n",
       "mean                        1090.213187                        -464.919119   \n",
       "std                          184.610118                          56.602962   \n",
       "min                           -1.970275                        -649.443911   \n",
       "25%                          997.183864                        -500.250033   \n",
       "50%                         1050.496363                        -499.611447   \n",
       "75%                         1200.047746                        -400.596104   \n",
       "max                         1922.636637                        -272.199598   \n",
       "\n",
       "        rougher.state.floatbank10_f_air  rougher.state.floatbank10_f_level  \\\n",
       "count                      14149.000000                       14149.000000   \n",
       "unique                              NaN                                NaN   \n",
       "top                                 NaN                                NaN   \n",
       "freq                                NaN                                NaN   \n",
       "mean                        1035.490299                        -464.688631   \n",
       "std                          175.052279                          56.645965   \n",
       "min                           -2.430587                        -649.880981   \n",
       "25%                          900.966986                        -500.476526   \n",
       "50%                         1000.053757                        -499.364335   \n",
       "75%                         1100.165435                        -401.014951   \n",
       "max                         1706.307502                        -191.718480   \n",
       "\n",
       "        secondary_cleaner.output.tail_ag  secondary_cleaner.output.tail_pb  \\\n",
       "count                       14147.000000                      14139.000000   \n",
       "unique                               NaN                               NaN   \n",
       "top                                  NaN                               NaN   \n",
       "freq                                 NaN                               NaN   \n",
       "mean                           14.281629                          5.848863   \n",
       "std                             4.477126                          2.861799   \n",
       "min                             0.000000                          0.000000   \n",
       "25%                            12.177364                          3.982298   \n",
       "50%                            15.357951                          5.442310   \n",
       "75%                            17.230151                          7.797948   \n",
       "max                            23.264738                         17.042505   \n",
       "\n",
       "        secondary_cleaner.output.tail_sol  secondary_cleaner.output.tail_au  \\\n",
       "count                        12544.000000                      14149.000000   \n",
       "unique                                NaN                               NaN   \n",
       "top                                   NaN                               NaN   \n",
       "freq                                  NaN                               NaN   \n",
       "mean                             6.938693                          4.246961   \n",
       "std                              4.155487                          2.389060   \n",
       "min                              0.000000                          0.000000   \n",
       "25%                              3.225486                          3.153122   \n",
       "50%                              7.302639                          3.980210   \n",
       "75%                             10.547068                          4.883943   \n",
       "max                             17.976171                         26.811643   \n",
       "\n",
       "        secondary_cleaner.state.floatbank2_a_air  \\\n",
       "count                               13932.000000   \n",
       "unique                                       NaN   \n",
       "top                                          NaN   \n",
       "freq                                         NaN   \n",
       "mean                                   29.613649   \n",
       "std                                     5.800494   \n",
       "min                                     0.077503   \n",
       "25%                                    25.099584   \n",
       "50%                                    30.027721   \n",
       "75%                                    34.893057   \n",
       "max                                    52.651399   \n",
       "\n",
       "        secondary_cleaner.state.floatbank2_a_level  \\\n",
       "count                                 14148.000000   \n",
       "unique                                         NaN   \n",
       "top                                            NaN   \n",
       "freq                                           NaN   \n",
       "mean                                   -502.223914   \n",
       "std                                      60.281705   \n",
       "min                                    -799.606441   \n",
       "25%                                    -500.248814   \n",
       "50%                                    -499.959206   \n",
       "75%                                    -499.593198   \n",
       "max                                    -127.875565   \n",
       "\n",
       "        secondary_cleaner.state.floatbank2_b_air  \\\n",
       "count                               14128.000000   \n",
       "unique                                       NaN   \n",
       "top                                          NaN   \n",
       "freq                                         NaN   \n",
       "mean                                   24.914403   \n",
       "std                                     5.994959   \n",
       "min                                     0.000000   \n",
       "25%                                    22.048294   \n",
       "50%                                    27.022783   \n",
       "75%                                    28.939454   \n",
       "max                                    35.152122   \n",
       "\n",
       "        secondary_cleaner.state.floatbank2_b_level  \\\n",
       "count                                 14148.000000   \n",
       "unique                                         NaN   \n",
       "top                                            NaN   \n",
       "freq                                           NaN   \n",
       "mean                                   -503.695706   \n",
       "std                                      62.837357   \n",
       "min                                    -799.873878   \n",
       "25%                                    -500.270997   \n",
       "50%                                    -500.014092   \n",
       "75%                                    -499.764112   \n",
       "max                                    -212.064665   \n",
       "\n",
       "        secondary_cleaner.state.floatbank3_a_air  \\\n",
       "count                               14145.000000   \n",
       "unique                                       NaN   \n",
       "top                                          NaN   \n",
       "freq                                         NaN   \n",
       "mean                                   29.243372   \n",
       "std                                     5.637309   \n",
       "min                                     0.000000   \n",
       "25%                                    24.991662   \n",
       "50%                                    28.016530   \n",
       "75%                                    34.990095   \n",
       "max                                    44.260464   \n",
       "\n",
       "        secondary_cleaner.state.floatbank3_a_level  \\\n",
       "count                                 14148.000000   \n",
       "unique                                         NaN   \n",
       "top                                            NaN   \n",
       "freq                                           NaN   \n",
       "mean                                   -478.244059   \n",
       "std                                      54.655143   \n",
       "min                                    -799.613013   \n",
       "25%                                    -500.175065   \n",
       "50%                                    -499.877837   \n",
       "75%                                    -436.923166   \n",
       "max                                    -191.678810   \n",
       "\n",
       "        secondary_cleaner.state.floatbank3_b_air  \\\n",
       "count                               14148.000000   \n",
       "unique                                       NaN   \n",
       "top                                          NaN   \n",
       "freq                                         NaN   \n",
       "mean                                   22.656261   \n",
       "std                                     4.996017   \n",
       "min                                     0.000000   \n",
       "25%                                    19.948436   \n",
       "50%                                    22.037270   \n",
       "75%                                    25.970365   \n",
       "max                                    35.072841   \n",
       "\n",
       "        secondary_cleaner.state.floatbank3_b_level  \\\n",
       "count                                 14148.000000   \n",
       "unique                                         NaN   \n",
       "top                                            NaN   \n",
       "freq                                           NaN   \n",
       "mean                                   -488.924046   \n",
       "std                                      41.928112   \n",
       "min                                    -759.177381   \n",
       "25%                                    -500.110581   \n",
       "50%                                    -499.966809   \n",
       "75%                                    -499.757501   \n",
       "max                                    -159.742331   \n",
       "\n",
       "        secondary_cleaner.state.floatbank4_a_air  \\\n",
       "count                               14143.000000   \n",
       "unique                                       NaN   \n",
       "top                                          NaN   \n",
       "freq                                         NaN   \n",
       "mean                                   19.985454   \n",
       "std                                     5.657723   \n",
       "min                                     0.000000   \n",
       "25%                                    14.990775   \n",
       "50%                                    20.001789   \n",
       "75%                                    24.990826   \n",
       "max                                    30.115735   \n",
       "\n",
       "        secondary_cleaner.state.floatbank4_a_level  \\\n",
       "count                                 14148.000000   \n",
       "unique                                         NaN   \n",
       "top                                            NaN   \n",
       "freq                                           NaN   \n",
       "mean                                   -478.696836   \n",
       "std                                      50.736021   \n",
       "min                                    -799.709069   \n",
       "25%                                    -500.628656   \n",
       "50%                                    -499.681450   \n",
       "75%                                    -477.472413   \n",
       "max                                    -245.239184   \n",
       "\n",
       "        secondary_cleaner.state.floatbank4_b_air  \\\n",
       "count                               14148.000000   \n",
       "unique                                       NaN   \n",
       "top                                          NaN   \n",
       "freq                                         NaN   \n",
       "mean                                   15.487065   \n",
       "std                                     5.255655   \n",
       "min                                     0.000000   \n",
       "25%                                    11.894558   \n",
       "50%                                    14.975536   \n",
       "75%                                    20.059375   \n",
       "max                                    24.007913   \n",
       "\n",
       "        secondary_cleaner.state.floatbank4_b_level  \\\n",
       "count                                 14148.000000   \n",
       "unique                                         NaN   \n",
       "top                                            NaN   \n",
       "freq                                           NaN   \n",
       "mean                                   -460.229416   \n",
       "std                                      58.843586   \n",
       "min                                    -799.889113   \n",
       "25%                                    -500.149000   \n",
       "50%                                    -499.388738   \n",
       "75%                                    -400.039008   \n",
       "max                                    -145.071088   \n",
       "\n",
       "        secondary_cleaner.state.floatbank5_a_air  \\\n",
       "count                               14148.000000   \n",
       "unique                                       NaN   \n",
       "top                                          NaN   \n",
       "freq                                         NaN   \n",
       "mean                                   16.775136   \n",
       "std                                     5.831906   \n",
       "min                                    -0.372054   \n",
       "25%                                    11.083980   \n",
       "50%                                    17.932223   \n",
       "75%                                    21.346550   \n",
       "max                                    43.709931   \n",
       "\n",
       "        secondary_cleaner.state.floatbank5_a_level  \\\n",
       "count                                 14148.000000   \n",
       "unique                                         NaN   \n",
       "top                                            NaN   \n",
       "freq                                           NaN   \n",
       "mean                                   -483.956022   \n",
       "std                                      37.892788   \n",
       "min                                    -797.142475   \n",
       "25%                                    -500.363177   \n",
       "50%                                    -499.702452   \n",
       "75%                                    -487.712108   \n",
       "max                                    -275.073125   \n",
       "\n",
       "        secondary_cleaner.state.floatbank5_b_air  \\\n",
       "count                               14148.000000   \n",
       "unique                                       NaN   \n",
       "top                                          NaN   \n",
       "freq                                         NaN   \n",
       "mean                                   13.064590   \n",
       "std                                     5.765617   \n",
       "min                                     0.646208   \n",
       "25%                                     8.994405   \n",
       "50%                                    11.997547   \n",
       "75%                                    17.982903   \n",
       "max                                    27.926001   \n",
       "\n",
       "        secondary_cleaner.state.floatbank5_b_level  \\\n",
       "count                                 14148.000000   \n",
       "unique                                         NaN   \n",
       "top                                            NaN   \n",
       "freq                                           NaN   \n",
       "mean                                   -483.966564   \n",
       "std                                      39.207913   \n",
       "min                                    -800.006180   \n",
       "25%                                    -500.105994   \n",
       "50%                                    -499.914556   \n",
       "75%                                    -453.186936   \n",
       "max                                    -157.396071   \n",
       "\n",
       "        secondary_cleaner.state.floatbank6_a_air  \\\n",
       "count                               14147.000000   \n",
       "unique                                       NaN   \n",
       "top                                          NaN   \n",
       "freq                                         NaN   \n",
       "mean                                   19.577539   \n",
       "std                                     5.764417   \n",
       "min                                     0.195324   \n",
       "25%                                    14.989304   \n",
       "50%                                    19.984175   \n",
       "75%                                    24.991623   \n",
       "max                                    32.188906   \n",
       "\n",
       "        secondary_cleaner.state.floatbank6_a_level  \n",
       "count                                 14148.000000  \n",
       "unique                                         NaN  \n",
       "top                                            NaN  \n",
       "freq                                           NaN  \n",
       "mean                                   -506.798480  \n",
       "std                                      37.079249  \n",
       "min                                    -809.398668  \n",
       "25%                                    -500.745104  \n",
       "50%                                    -500.061431  \n",
       "75%                                    -499.536466  \n",
       "max                                    -104.427459  "
      ]
     },
     "execution_count": 5,
     "metadata": {},
     "output_type": "execute_result"
    }
   ],
   "source": [
    "df_train.describe(include='all')"
   ]
  },
  {
   "cell_type": "markdown",
   "metadata": {},
   "source": [
    "Чтение csv-файла и вывод первых 10 строк тестового датасета:"
   ]
  },
  {
   "cell_type": "code",
   "execution_count": 6,
   "metadata": {},
   "outputs": [
    {
     "data": {
      "text/html": [
       "<div>\n",
       "<style scoped>\n",
       "    .dataframe tbody tr th:only-of-type {\n",
       "        vertical-align: middle;\n",
       "    }\n",
       "\n",
       "    .dataframe tbody tr th {\n",
       "        vertical-align: top;\n",
       "    }\n",
       "\n",
       "    .dataframe thead th {\n",
       "        text-align: right;\n",
       "    }\n",
       "</style>\n",
       "<table border=\"1\" class=\"dataframe\">\n",
       "  <thead>\n",
       "    <tr style=\"text-align: right;\">\n",
       "      <th></th>\n",
       "      <th>date</th>\n",
       "      <th>primary_cleaner.input.sulfate</th>\n",
       "      <th>primary_cleaner.input.depressant</th>\n",
       "      <th>primary_cleaner.input.feed_size</th>\n",
       "      <th>primary_cleaner.input.xanthate</th>\n",
       "      <th>primary_cleaner.state.floatbank8_a_air</th>\n",
       "      <th>primary_cleaner.state.floatbank8_a_level</th>\n",
       "      <th>primary_cleaner.state.floatbank8_b_air</th>\n",
       "      <th>primary_cleaner.state.floatbank8_b_level</th>\n",
       "      <th>primary_cleaner.state.floatbank8_c_air</th>\n",
       "      <th>primary_cleaner.state.floatbank8_c_level</th>\n",
       "      <th>primary_cleaner.state.floatbank8_d_air</th>\n",
       "      <th>primary_cleaner.state.floatbank8_d_level</th>\n",
       "      <th>rougher.input.feed_ag</th>\n",
       "      <th>rougher.input.feed_pb</th>\n",
       "      <th>rougher.input.feed_rate</th>\n",
       "      <th>rougher.input.feed_size</th>\n",
       "      <th>rougher.input.feed_sol</th>\n",
       "      <th>rougher.input.feed_au</th>\n",
       "      <th>rougher.input.floatbank10_sulfate</th>\n",
       "      <th>rougher.input.floatbank10_xanthate</th>\n",
       "      <th>rougher.input.floatbank11_sulfate</th>\n",
       "      <th>rougher.input.floatbank11_xanthate</th>\n",
       "      <th>rougher.state.floatbank10_a_air</th>\n",
       "      <th>rougher.state.floatbank10_a_level</th>\n",
       "      <th>rougher.state.floatbank10_b_air</th>\n",
       "      <th>rougher.state.floatbank10_b_level</th>\n",
       "      <th>rougher.state.floatbank10_c_air</th>\n",
       "      <th>rougher.state.floatbank10_c_level</th>\n",
       "      <th>rougher.state.floatbank10_d_air</th>\n",
       "      <th>rougher.state.floatbank10_d_level</th>\n",
       "      <th>rougher.state.floatbank10_e_air</th>\n",
       "      <th>rougher.state.floatbank10_e_level</th>\n",
       "      <th>rougher.state.floatbank10_f_air</th>\n",
       "      <th>rougher.state.floatbank10_f_level</th>\n",
       "      <th>secondary_cleaner.state.floatbank2_a_air</th>\n",
       "      <th>secondary_cleaner.state.floatbank2_a_level</th>\n",
       "      <th>secondary_cleaner.state.floatbank2_b_air</th>\n",
       "      <th>secondary_cleaner.state.floatbank2_b_level</th>\n",
       "      <th>secondary_cleaner.state.floatbank3_a_air</th>\n",
       "      <th>secondary_cleaner.state.floatbank3_a_level</th>\n",
       "      <th>secondary_cleaner.state.floatbank3_b_air</th>\n",
       "      <th>secondary_cleaner.state.floatbank3_b_level</th>\n",
       "      <th>secondary_cleaner.state.floatbank4_a_air</th>\n",
       "      <th>secondary_cleaner.state.floatbank4_a_level</th>\n",
       "      <th>secondary_cleaner.state.floatbank4_b_air</th>\n",
       "      <th>secondary_cleaner.state.floatbank4_b_level</th>\n",
       "      <th>secondary_cleaner.state.floatbank5_a_air</th>\n",
       "      <th>secondary_cleaner.state.floatbank5_a_level</th>\n",
       "      <th>secondary_cleaner.state.floatbank5_b_air</th>\n",
       "      <th>secondary_cleaner.state.floatbank5_b_level</th>\n",
       "      <th>secondary_cleaner.state.floatbank6_a_air</th>\n",
       "      <th>secondary_cleaner.state.floatbank6_a_level</th>\n",
       "    </tr>\n",
       "  </thead>\n",
       "  <tbody>\n",
       "    <tr>\n",
       "      <th>0</th>\n",
       "      <td>2016-09-01 00:59:59</td>\n",
       "      <td>210.800909</td>\n",
       "      <td>14.993118</td>\n",
       "      <td>8.080000</td>\n",
       "      <td>1.005021</td>\n",
       "      <td>1398.981301</td>\n",
       "      <td>-500.225577</td>\n",
       "      <td>1399.144926</td>\n",
       "      <td>-499.919735</td>\n",
       "      <td>1400.102998</td>\n",
       "      <td>-500.704369</td>\n",
       "      <td>1399.001695</td>\n",
       "      <td>-499.485144</td>\n",
       "      <td>13.128569</td>\n",
       "      <td>5.636710</td>\n",
       "      <td>489.793655</td>\n",
       "      <td>62.710452</td>\n",
       "      <td>42.022440</td>\n",
       "      <td>12.084103</td>\n",
       "      <td>16.922877</td>\n",
       "      <td>6.153479</td>\n",
       "      <td>16.867518</td>\n",
       "      <td>6.150709</td>\n",
       "      <td>1001.849317</td>\n",
       "      <td>-350.301265</td>\n",
       "      <td>1249.738612</td>\n",
       "      <td>-399.107531</td>\n",
       "      <td>1249.750520</td>\n",
       "      <td>-399.396730</td>\n",
       "      <td>1198.287855</td>\n",
       "      <td>-399.488594</td>\n",
       "      <td>999.472250</td>\n",
       "      <td>-399.530962</td>\n",
       "      <td>949.566189</td>\n",
       "      <td>-398.180807</td>\n",
       "      <td>24.938200</td>\n",
       "      <td>-500.490963</td>\n",
       "      <td>14.947607</td>\n",
       "      <td>-500.013837</td>\n",
       "      <td>20.018166</td>\n",
       "      <td>-450.395995</td>\n",
       "      <td>13.987058</td>\n",
       "      <td>-449.831513</td>\n",
       "      <td>12.023554</td>\n",
       "      <td>-497.795834</td>\n",
       "      <td>8.016656</td>\n",
       "      <td>-501.289139</td>\n",
       "      <td>7.946562</td>\n",
       "      <td>-432.317850</td>\n",
       "      <td>4.872511</td>\n",
       "      <td>-500.037437</td>\n",
       "      <td>26.705889</td>\n",
       "      <td>-499.709414</td>\n",
       "    </tr>\n",
       "    <tr>\n",
       "      <th>1</th>\n",
       "      <td>2016-09-01 01:59:59</td>\n",
       "      <td>215.392455</td>\n",
       "      <td>14.987471</td>\n",
       "      <td>8.080000</td>\n",
       "      <td>0.990469</td>\n",
       "      <td>1398.777912</td>\n",
       "      <td>-500.057435</td>\n",
       "      <td>1398.055362</td>\n",
       "      <td>-499.778182</td>\n",
       "      <td>1396.151033</td>\n",
       "      <td>-499.240168</td>\n",
       "      <td>1399.508091</td>\n",
       "      <td>-500.416324</td>\n",
       "      <td>13.036280</td>\n",
       "      <td>5.526065</td>\n",
       "      <td>490.104534</td>\n",
       "      <td>61.961163</td>\n",
       "      <td>41.187903</td>\n",
       "      <td>11.918977</td>\n",
       "      <td>17.002532</td>\n",
       "      <td>5.999043</td>\n",
       "      <td>16.996063</td>\n",
       "      <td>6.002315</td>\n",
       "      <td>998.690785</td>\n",
       "      <td>-350.425704</td>\n",
       "      <td>1248.395457</td>\n",
       "      <td>-399.946025</td>\n",
       "      <td>1249.514451</td>\n",
       "      <td>-399.630810</td>\n",
       "      <td>1200.506459</td>\n",
       "      <td>-399.942434</td>\n",
       "      <td>1000.002114</td>\n",
       "      <td>-399.491528</td>\n",
       "      <td>950.200009</td>\n",
       "      <td>-405.787514</td>\n",
       "      <td>24.923466</td>\n",
       "      <td>-499.813963</td>\n",
       "      <td>14.930873</td>\n",
       "      <td>-500.764452</td>\n",
       "      <td>19.988503</td>\n",
       "      <td>-450.114024</td>\n",
       "      <td>14.092981</td>\n",
       "      <td>-450.059163</td>\n",
       "      <td>12.058140</td>\n",
       "      <td>-498.695773</td>\n",
       "      <td>8.130979</td>\n",
       "      <td>-499.634209</td>\n",
       "      <td>7.958270</td>\n",
       "      <td>-525.839648</td>\n",
       "      <td>4.878850</td>\n",
       "      <td>-500.162375</td>\n",
       "      <td>25.019940</td>\n",
       "      <td>-499.819438</td>\n",
       "    </tr>\n",
       "    <tr>\n",
       "      <th>2</th>\n",
       "      <td>2016-09-01 02:59:59</td>\n",
       "      <td>215.259946</td>\n",
       "      <td>12.884934</td>\n",
       "      <td>7.786667</td>\n",
       "      <td>0.996043</td>\n",
       "      <td>1398.493666</td>\n",
       "      <td>-500.868360</td>\n",
       "      <td>1398.860436</td>\n",
       "      <td>-499.764529</td>\n",
       "      <td>1398.075709</td>\n",
       "      <td>-502.151509</td>\n",
       "      <td>1399.497088</td>\n",
       "      <td>-499.715479</td>\n",
       "      <td>13.138412</td>\n",
       "      <td>5.426561</td>\n",
       "      <td>489.617969</td>\n",
       "      <td>66.903807</td>\n",
       "      <td>42.546294</td>\n",
       "      <td>12.091332</td>\n",
       "      <td>16.992520</td>\n",
       "      <td>5.850632</td>\n",
       "      <td>16.982096</td>\n",
       "      <td>5.853594</td>\n",
       "      <td>998.516720</td>\n",
       "      <td>-349.783538</td>\n",
       "      <td>1247.440748</td>\n",
       "      <td>-400.264330</td>\n",
       "      <td>1248.207204</td>\n",
       "      <td>-401.074405</td>\n",
       "      <td>1199.770026</td>\n",
       "      <td>-400.790582</td>\n",
       "      <td>999.925519</td>\n",
       "      <td>-399.236999</td>\n",
       "      <td>950.320481</td>\n",
       "      <td>-400.864340</td>\n",
       "      <td>24.908732</td>\n",
       "      <td>-500.304035</td>\n",
       "      <td>14.996511</td>\n",
       "      <td>-500.993821</td>\n",
       "      <td>20.039689</td>\n",
       "      <td>-450.263164</td>\n",
       "      <td>14.077881</td>\n",
       "      <td>-449.660997</td>\n",
       "      <td>11.962366</td>\n",
       "      <td>-498.767484</td>\n",
       "      <td>8.096893</td>\n",
       "      <td>-500.827423</td>\n",
       "      <td>8.071056</td>\n",
       "      <td>-500.801673</td>\n",
       "      <td>4.905125</td>\n",
       "      <td>-499.828510</td>\n",
       "      <td>24.994862</td>\n",
       "      <td>-500.622559</td>\n",
       "    </tr>\n",
       "    <tr>\n",
       "      <th>3</th>\n",
       "      <td>2016-09-01 03:59:59</td>\n",
       "      <td>215.336236</td>\n",
       "      <td>12.006805</td>\n",
       "      <td>7.640000</td>\n",
       "      <td>0.863514</td>\n",
       "      <td>1399.618111</td>\n",
       "      <td>-498.863574</td>\n",
       "      <td>1397.440120</td>\n",
       "      <td>-499.211024</td>\n",
       "      <td>1400.129303</td>\n",
       "      <td>-498.355873</td>\n",
       "      <td>1401.065165</td>\n",
       "      <td>-501.038738</td>\n",
       "      <td>12.400507</td>\n",
       "      <td>5.114758</td>\n",
       "      <td>476.618130</td>\n",
       "      <td>59.865919</td>\n",
       "      <td>41.060195</td>\n",
       "      <td>12.181597</td>\n",
       "      <td>16.532144</td>\n",
       "      <td>5.801935</td>\n",
       "      <td>16.515277</td>\n",
       "      <td>5.803657</td>\n",
       "      <td>1000.276604</td>\n",
       "      <td>-350.172597</td>\n",
       "      <td>1251.322675</td>\n",
       "      <td>-398.655289</td>\n",
       "      <td>1250.493702</td>\n",
       "      <td>-399.746728</td>\n",
       "      <td>1199.398691</td>\n",
       "      <td>-397.503052</td>\n",
       "      <td>1001.930679</td>\n",
       "      <td>-400.437573</td>\n",
       "      <td>950.735324</td>\n",
       "      <td>-399.802986</td>\n",
       "      <td>24.893998</td>\n",
       "      <td>-499.382374</td>\n",
       "      <td>14.916674</td>\n",
       "      <td>-499.862299</td>\n",
       "      <td>20.031100</td>\n",
       "      <td>-449.372570</td>\n",
       "      <td>14.013968</td>\n",
       "      <td>-449.526900</td>\n",
       "      <td>12.033091</td>\n",
       "      <td>-498.350935</td>\n",
       "      <td>8.074946</td>\n",
       "      <td>-499.474407</td>\n",
       "      <td>7.897085</td>\n",
       "      <td>-500.868509</td>\n",
       "      <td>4.931400</td>\n",
       "      <td>-499.963623</td>\n",
       "      <td>24.948919</td>\n",
       "      <td>-498.709987</td>\n",
       "    </tr>\n",
       "    <tr>\n",
       "      <th>4</th>\n",
       "      <td>2016-09-01 04:59:59</td>\n",
       "      <td>199.099327</td>\n",
       "      <td>10.682530</td>\n",
       "      <td>7.530000</td>\n",
       "      <td>0.805575</td>\n",
       "      <td>1401.268123</td>\n",
       "      <td>-500.808305</td>\n",
       "      <td>1398.128818</td>\n",
       "      <td>-499.504543</td>\n",
       "      <td>1402.172226</td>\n",
       "      <td>-500.810606</td>\n",
       "      <td>1399.480508</td>\n",
       "      <td>-499.374053</td>\n",
       "      <td>11.327427</td>\n",
       "      <td>4.767383</td>\n",
       "      <td>488.248117</td>\n",
       "      <td>63.315324</td>\n",
       "      <td>41.269161</td>\n",
       "      <td>11.290425</td>\n",
       "      <td>13.607257</td>\n",
       "      <td>5.738081</td>\n",
       "      <td>13.650053</td>\n",
       "      <td>5.739634</td>\n",
       "      <td>996.541302</td>\n",
       "      <td>-350.562517</td>\n",
       "      <td>1304.658848</td>\n",
       "      <td>-399.511519</td>\n",
       "      <td>1306.455515</td>\n",
       "      <td>-399.050685</td>\n",
       "      <td>1248.699349</td>\n",
       "      <td>-400.876894</td>\n",
       "      <td>1058.839106</td>\n",
       "      <td>-398.988239</td>\n",
       "      <td>949.645313</td>\n",
       "      <td>-399.277632</td>\n",
       "      <td>24.886905</td>\n",
       "      <td>-499.357375</td>\n",
       "      <td>14.979233</td>\n",
       "      <td>-500.186804</td>\n",
       "      <td>19.962364</td>\n",
       "      <td>-450.638828</td>\n",
       "      <td>14.009245</td>\n",
       "      <td>-450.022259</td>\n",
       "      <td>12.025367</td>\n",
       "      <td>-500.786497</td>\n",
       "      <td>8.054678</td>\n",
       "      <td>-500.397500</td>\n",
       "      <td>8.107890</td>\n",
       "      <td>-509.526725</td>\n",
       "      <td>4.957674</td>\n",
       "      <td>-500.360026</td>\n",
       "      <td>25.003331</td>\n",
       "      <td>-500.856333</td>\n",
       "    </tr>\n",
       "    <tr>\n",
       "      <th>5</th>\n",
       "      <td>2016-09-01 05:59:59</td>\n",
       "      <td>168.485085</td>\n",
       "      <td>8.817007</td>\n",
       "      <td>7.420000</td>\n",
       "      <td>0.791191</td>\n",
       "      <td>1402.826803</td>\n",
       "      <td>-499.299521</td>\n",
       "      <td>1401.511119</td>\n",
       "      <td>-499.205357</td>\n",
       "      <td>1404.088107</td>\n",
       "      <td>-497.903666</td>\n",
       "      <td>1400.479070</td>\n",
       "      <td>-500.842752</td>\n",
       "      <td>9.658909</td>\n",
       "      <td>4.290008</td>\n",
       "      <td>490.908013</td>\n",
       "      <td>69.218255</td>\n",
       "      <td>41.515115</td>\n",
       "      <td>9.779850</td>\n",
       "      <td>10.696589</td>\n",
       "      <td>5.596642</td>\n",
       "      <td>10.699891</td>\n",
       "      <td>5.597860</td>\n",
       "      <td>998.650980</td>\n",
       "      <td>-349.659046</td>\n",
       "      <td>1349.964264</td>\n",
       "      <td>-399.393077</td>\n",
       "      <td>1349.764702</td>\n",
       "      <td>-399.233016</td>\n",
       "      <td>1302.258827</td>\n",
       "      <td>-399.946857</td>\n",
       "      <td>1100.278629</td>\n",
       "      <td>-399.742287</td>\n",
       "      <td>949.622431</td>\n",
       "      <td>-399.096175</td>\n",
       "      <td>24.920872</td>\n",
       "      <td>-500.006603</td>\n",
       "      <td>14.916602</td>\n",
       "      <td>-499.899348</td>\n",
       "      <td>20.019330</td>\n",
       "      <td>-449.836319</td>\n",
       "      <td>14.041691</td>\n",
       "      <td>-450.185369</td>\n",
       "      <td>12.029797</td>\n",
       "      <td>-499.814895</td>\n",
       "      <td>8.036586</td>\n",
       "      <td>-500.371492</td>\n",
       "      <td>8.041446</td>\n",
       "      <td>-510.037054</td>\n",
       "      <td>4.983949</td>\n",
       "      <td>-499.990990</td>\n",
       "      <td>24.978973</td>\n",
       "      <td>-500.475640</td>\n",
       "    </tr>\n",
       "    <tr>\n",
       "      <th>6</th>\n",
       "      <td>2016-09-01 06:59:59</td>\n",
       "      <td>144.133440</td>\n",
       "      <td>7.924610</td>\n",
       "      <td>7.420000</td>\n",
       "      <td>0.788838</td>\n",
       "      <td>1398.252401</td>\n",
       "      <td>-499.748672</td>\n",
       "      <td>1393.255503</td>\n",
       "      <td>-499.195380</td>\n",
       "      <td>1396.738566</td>\n",
       "      <td>-497.923683</td>\n",
       "      <td>1399.535678</td>\n",
       "      <td>-500.256895</td>\n",
       "      <td>8.902324</td>\n",
       "      <td>4.043502</td>\n",
       "      <td>490.081681</td>\n",
       "      <td>75.856243</td>\n",
       "      <td>43.157100</td>\n",
       "      <td>9.168984</td>\n",
       "      <td>10.004265</td>\n",
       "      <td>5.602029</td>\n",
       "      <td>10.004993</td>\n",
       "      <td>5.598335</td>\n",
       "      <td>999.686022</td>\n",
       "      <td>-350.086605</td>\n",
       "      <td>1349.452840</td>\n",
       "      <td>-400.372133</td>\n",
       "      <td>1349.739875</td>\n",
       "      <td>-400.045549</td>\n",
       "      <td>1299.687671</td>\n",
       "      <td>-399.981643</td>\n",
       "      <td>1099.813504</td>\n",
       "      <td>-400.249376</td>\n",
       "      <td>949.798421</td>\n",
       "      <td>-400.710664</td>\n",
       "      <td>24.966566</td>\n",
       "      <td>-500.375242</td>\n",
       "      <td>12.573283</td>\n",
       "      <td>-499.670366</td>\n",
       "      <td>19.959853</td>\n",
       "      <td>-485.725045</td>\n",
       "      <td>12.465845</td>\n",
       "      <td>-485.778583</td>\n",
       "      <td>12.026296</td>\n",
       "      <td>-499.473127</td>\n",
       "      <td>8.027984</td>\n",
       "      <td>-500.983079</td>\n",
       "      <td>7.907340</td>\n",
       "      <td>-507.964971</td>\n",
       "      <td>5.010224</td>\n",
       "      <td>-500.043697</td>\n",
       "      <td>25.040709</td>\n",
       "      <td>-499.501984</td>\n",
       "    </tr>\n",
       "    <tr>\n",
       "      <th>7</th>\n",
       "      <td>2016-09-01 07:59:59</td>\n",
       "      <td>133.513396</td>\n",
       "      <td>8.055252</td>\n",
       "      <td>6.988000</td>\n",
       "      <td>0.801871</td>\n",
       "      <td>1401.669677</td>\n",
       "      <td>-501.777839</td>\n",
       "      <td>1400.754446</td>\n",
       "      <td>-502.514024</td>\n",
       "      <td>1400.465244</td>\n",
       "      <td>-503.451306</td>\n",
       "      <td>1398.546641</td>\n",
       "      <td>-498.000544</td>\n",
       "      <td>8.759385</td>\n",
       "      <td>4.036795</td>\n",
       "      <td>489.121319</td>\n",
       "      <td>77.968131</td>\n",
       "      <td>44.392272</td>\n",
       "      <td>9.116535</td>\n",
       "      <td>9.999497</td>\n",
       "      <td>5.604636</td>\n",
       "      <td>9.998214</td>\n",
       "      <td>5.601708</td>\n",
       "      <td>999.888294</td>\n",
       "      <td>-350.889527</td>\n",
       "      <td>1350.425833</td>\n",
       "      <td>-400.665895</td>\n",
       "      <td>1347.736470</td>\n",
       "      <td>-401.850527</td>\n",
       "      <td>1295.059918</td>\n",
       "      <td>-404.880024</td>\n",
       "      <td>1097.116527</td>\n",
       "      <td>-399.280301</td>\n",
       "      <td>950.165809</td>\n",
       "      <td>-399.217640</td>\n",
       "      <td>25.057298</td>\n",
       "      <td>-500.516443</td>\n",
       "      <td>11.919993</td>\n",
       "      <td>-500.141295</td>\n",
       "      <td>20.091065</td>\n",
       "      <td>-500.162309</td>\n",
       "      <td>11.935898</td>\n",
       "      <td>-500.116649</td>\n",
       "      <td>12.040911</td>\n",
       "      <td>-501.293852</td>\n",
       "      <td>8.020490</td>\n",
       "      <td>-499.185229</td>\n",
       "      <td>8.116897</td>\n",
       "      <td>-511.927561</td>\n",
       "      <td>5.036498</td>\n",
       "      <td>-500.149615</td>\n",
       "      <td>25.032580</td>\n",
       "      <td>-503.970657</td>\n",
       "    </tr>\n",
       "    <tr>\n",
       "      <th>8</th>\n",
       "      <td>2016-09-01 08:59:59</td>\n",
       "      <td>133.735356</td>\n",
       "      <td>7.999618</td>\n",
       "      <td>6.935000</td>\n",
       "      <td>0.789329</td>\n",
       "      <td>1402.358981</td>\n",
       "      <td>-499.981597</td>\n",
       "      <td>1400.985954</td>\n",
       "      <td>-496.802968</td>\n",
       "      <td>1401.168584</td>\n",
       "      <td>-499.890350</td>\n",
       "      <td>1402.934656</td>\n",
       "      <td>-501.129108</td>\n",
       "      <td>8.603058</td>\n",
       "      <td>4.182064</td>\n",
       "      <td>489.860555</td>\n",
       "      <td>75.846999</td>\n",
       "      <td>45.022970</td>\n",
       "      <td>8.976052</td>\n",
       "      <td>10.002345</td>\n",
       "      <td>5.597465</td>\n",
       "      <td>9.992438</td>\n",
       "      <td>5.599358</td>\n",
       "      <td>1000.807159</td>\n",
       "      <td>-349.470811</td>\n",
       "      <td>1350.272285</td>\n",
       "      <td>-399.528520</td>\n",
       "      <td>1354.016617</td>\n",
       "      <td>-399.401157</td>\n",
       "      <td>1305.915847</td>\n",
       "      <td>-395.740836</td>\n",
       "      <td>1102.693258</td>\n",
       "      <td>-401.384425</td>\n",
       "      <td>950.082475</td>\n",
       "      <td>-400.682219</td>\n",
       "      <td>25.034680</td>\n",
       "      <td>-499.569715</td>\n",
       "      <td>11.988782</td>\n",
       "      <td>-499.838657</td>\n",
       "      <td>19.980559</td>\n",
       "      <td>-500.068733</td>\n",
       "      <td>12.079221</td>\n",
       "      <td>-499.983683</td>\n",
       "      <td>11.998184</td>\n",
       "      <td>-499.481608</td>\n",
       "      <td>8.012610</td>\n",
       "      <td>-500.896783</td>\n",
       "      <td>7.974422</td>\n",
       "      <td>-521.199104</td>\n",
       "      <td>5.061599</td>\n",
       "      <td>-499.791519</td>\n",
       "      <td>25.005063</td>\n",
       "      <td>-497.613716</td>\n",
       "    </tr>\n",
       "    <tr>\n",
       "      <th>9</th>\n",
       "      <td>2016-09-01 09:59:59</td>\n",
       "      <td>126.961069</td>\n",
       "      <td>8.017856</td>\n",
       "      <td>7.030000</td>\n",
       "      <td>0.805298</td>\n",
       "      <td>1400.816120</td>\n",
       "      <td>-499.014158</td>\n",
       "      <td>1399.975401</td>\n",
       "      <td>-499.570552</td>\n",
       "      <td>1401.871924</td>\n",
       "      <td>-499.577934</td>\n",
       "      <td>1402.758281</td>\n",
       "      <td>-500.120765</td>\n",
       "      <td>8.353697</td>\n",
       "      <td>4.013407</td>\n",
       "      <td>498.755837</td>\n",
       "      <td>72.476418</td>\n",
       "      <td>43.445836</td>\n",
       "      <td>8.345579</td>\n",
       "      <td>10.001816</td>\n",
       "      <td>5.597272</td>\n",
       "      <td>10.001796</td>\n",
       "      <td>5.611996</td>\n",
       "      <td>1000.429044</td>\n",
       "      <td>-350.050785</td>\n",
       "      <td>1349.662467</td>\n",
       "      <td>-399.820231</td>\n",
       "      <td>1350.121930</td>\n",
       "      <td>-399.334600</td>\n",
       "      <td>1297.578530</td>\n",
       "      <td>-398.095707</td>\n",
       "      <td>1102.301530</td>\n",
       "      <td>-399.421425</td>\n",
       "      <td>951.069653</td>\n",
       "      <td>-401.079692</td>\n",
       "      <td>25.100847</td>\n",
       "      <td>-500.700788</td>\n",
       "      <td>12.057571</td>\n",
       "      <td>-500.134346</td>\n",
       "      <td>19.973543</td>\n",
       "      <td>-498.635246</td>\n",
       "      <td>11.973403</td>\n",
       "      <td>-498.885523</td>\n",
       "      <td>12.040725</td>\n",
       "      <td>-499.987743</td>\n",
       "      <td>7.989503</td>\n",
       "      <td>-499.750625</td>\n",
       "      <td>7.989710</td>\n",
       "      <td>-509.946737</td>\n",
       "      <td>5.068811</td>\n",
       "      <td>-499.293900</td>\n",
       "      <td>24.992741</td>\n",
       "      <td>-499.272255</td>\n",
       "    </tr>\n",
       "  </tbody>\n",
       "</table>\n",
       "</div>"
      ],
      "text/plain": [
       "                  date  primary_cleaner.input.sulfate  \\\n",
       "0  2016-09-01 00:59:59                     210.800909   \n",
       "1  2016-09-01 01:59:59                     215.392455   \n",
       "2  2016-09-01 02:59:59                     215.259946   \n",
       "3  2016-09-01 03:59:59                     215.336236   \n",
       "4  2016-09-01 04:59:59                     199.099327   \n",
       "5  2016-09-01 05:59:59                     168.485085   \n",
       "6  2016-09-01 06:59:59                     144.133440   \n",
       "7  2016-09-01 07:59:59                     133.513396   \n",
       "8  2016-09-01 08:59:59                     133.735356   \n",
       "9  2016-09-01 09:59:59                     126.961069   \n",
       "\n",
       "   primary_cleaner.input.depressant  primary_cleaner.input.feed_size  \\\n",
       "0                         14.993118                         8.080000   \n",
       "1                         14.987471                         8.080000   \n",
       "2                         12.884934                         7.786667   \n",
       "3                         12.006805                         7.640000   \n",
       "4                         10.682530                         7.530000   \n",
       "5                          8.817007                         7.420000   \n",
       "6                          7.924610                         7.420000   \n",
       "7                          8.055252                         6.988000   \n",
       "8                          7.999618                         6.935000   \n",
       "9                          8.017856                         7.030000   \n",
       "\n",
       "   primary_cleaner.input.xanthate  primary_cleaner.state.floatbank8_a_air  \\\n",
       "0                        1.005021                             1398.981301   \n",
       "1                        0.990469                             1398.777912   \n",
       "2                        0.996043                             1398.493666   \n",
       "3                        0.863514                             1399.618111   \n",
       "4                        0.805575                             1401.268123   \n",
       "5                        0.791191                             1402.826803   \n",
       "6                        0.788838                             1398.252401   \n",
       "7                        0.801871                             1401.669677   \n",
       "8                        0.789329                             1402.358981   \n",
       "9                        0.805298                             1400.816120   \n",
       "\n",
       "   primary_cleaner.state.floatbank8_a_level  \\\n",
       "0                               -500.225577   \n",
       "1                               -500.057435   \n",
       "2                               -500.868360   \n",
       "3                               -498.863574   \n",
       "4                               -500.808305   \n",
       "5                               -499.299521   \n",
       "6                               -499.748672   \n",
       "7                               -501.777839   \n",
       "8                               -499.981597   \n",
       "9                               -499.014158   \n",
       "\n",
       "   primary_cleaner.state.floatbank8_b_air  \\\n",
       "0                             1399.144926   \n",
       "1                             1398.055362   \n",
       "2                             1398.860436   \n",
       "3                             1397.440120   \n",
       "4                             1398.128818   \n",
       "5                             1401.511119   \n",
       "6                             1393.255503   \n",
       "7                             1400.754446   \n",
       "8                             1400.985954   \n",
       "9                             1399.975401   \n",
       "\n",
       "   primary_cleaner.state.floatbank8_b_level  \\\n",
       "0                               -499.919735   \n",
       "1                               -499.778182   \n",
       "2                               -499.764529   \n",
       "3                               -499.211024   \n",
       "4                               -499.504543   \n",
       "5                               -499.205357   \n",
       "6                               -499.195380   \n",
       "7                               -502.514024   \n",
       "8                               -496.802968   \n",
       "9                               -499.570552   \n",
       "\n",
       "   primary_cleaner.state.floatbank8_c_air  \\\n",
       "0                             1400.102998   \n",
       "1                             1396.151033   \n",
       "2                             1398.075709   \n",
       "3                             1400.129303   \n",
       "4                             1402.172226   \n",
       "5                             1404.088107   \n",
       "6                             1396.738566   \n",
       "7                             1400.465244   \n",
       "8                             1401.168584   \n",
       "9                             1401.871924   \n",
       "\n",
       "   primary_cleaner.state.floatbank8_c_level  \\\n",
       "0                               -500.704369   \n",
       "1                               -499.240168   \n",
       "2                               -502.151509   \n",
       "3                               -498.355873   \n",
       "4                               -500.810606   \n",
       "5                               -497.903666   \n",
       "6                               -497.923683   \n",
       "7                               -503.451306   \n",
       "8                               -499.890350   \n",
       "9                               -499.577934   \n",
       "\n",
       "   primary_cleaner.state.floatbank8_d_air  \\\n",
       "0                             1399.001695   \n",
       "1                             1399.508091   \n",
       "2                             1399.497088   \n",
       "3                             1401.065165   \n",
       "4                             1399.480508   \n",
       "5                             1400.479070   \n",
       "6                             1399.535678   \n",
       "7                             1398.546641   \n",
       "8                             1402.934656   \n",
       "9                             1402.758281   \n",
       "\n",
       "   primary_cleaner.state.floatbank8_d_level  rougher.input.feed_ag  \\\n",
       "0                               -499.485144              13.128569   \n",
       "1                               -500.416324              13.036280   \n",
       "2                               -499.715479              13.138412   \n",
       "3                               -501.038738              12.400507   \n",
       "4                               -499.374053              11.327427   \n",
       "5                               -500.842752               9.658909   \n",
       "6                               -500.256895               8.902324   \n",
       "7                               -498.000544               8.759385   \n",
       "8                               -501.129108               8.603058   \n",
       "9                               -500.120765               8.353697   \n",
       "\n",
       "   rougher.input.feed_pb  rougher.input.feed_rate  rougher.input.feed_size  \\\n",
       "0               5.636710               489.793655                62.710452   \n",
       "1               5.526065               490.104534                61.961163   \n",
       "2               5.426561               489.617969                66.903807   \n",
       "3               5.114758               476.618130                59.865919   \n",
       "4               4.767383               488.248117                63.315324   \n",
       "5               4.290008               490.908013                69.218255   \n",
       "6               4.043502               490.081681                75.856243   \n",
       "7               4.036795               489.121319                77.968131   \n",
       "8               4.182064               489.860555                75.846999   \n",
       "9               4.013407               498.755837                72.476418   \n",
       "\n",
       "   rougher.input.feed_sol  rougher.input.feed_au  \\\n",
       "0               42.022440              12.084103   \n",
       "1               41.187903              11.918977   \n",
       "2               42.546294              12.091332   \n",
       "3               41.060195              12.181597   \n",
       "4               41.269161              11.290425   \n",
       "5               41.515115               9.779850   \n",
       "6               43.157100               9.168984   \n",
       "7               44.392272               9.116535   \n",
       "8               45.022970               8.976052   \n",
       "9               43.445836               8.345579   \n",
       "\n",
       "   rougher.input.floatbank10_sulfate  rougher.input.floatbank10_xanthate  \\\n",
       "0                          16.922877                            6.153479   \n",
       "1                          17.002532                            5.999043   \n",
       "2                          16.992520                            5.850632   \n",
       "3                          16.532144                            5.801935   \n",
       "4                          13.607257                            5.738081   \n",
       "5                          10.696589                            5.596642   \n",
       "6                          10.004265                            5.602029   \n",
       "7                           9.999497                            5.604636   \n",
       "8                          10.002345                            5.597465   \n",
       "9                          10.001816                            5.597272   \n",
       "\n",
       "   rougher.input.floatbank11_sulfate  rougher.input.floatbank11_xanthate  \\\n",
       "0                          16.867518                            6.150709   \n",
       "1                          16.996063                            6.002315   \n",
       "2                          16.982096                            5.853594   \n",
       "3                          16.515277                            5.803657   \n",
       "4                          13.650053                            5.739634   \n",
       "5                          10.699891                            5.597860   \n",
       "6                          10.004993                            5.598335   \n",
       "7                           9.998214                            5.601708   \n",
       "8                           9.992438                            5.599358   \n",
       "9                          10.001796                            5.611996   \n",
       "\n",
       "   rougher.state.floatbank10_a_air  rougher.state.floatbank10_a_level  \\\n",
       "0                      1001.849317                        -350.301265   \n",
       "1                       998.690785                        -350.425704   \n",
       "2                       998.516720                        -349.783538   \n",
       "3                      1000.276604                        -350.172597   \n",
       "4                       996.541302                        -350.562517   \n",
       "5                       998.650980                        -349.659046   \n",
       "6                       999.686022                        -350.086605   \n",
       "7                       999.888294                        -350.889527   \n",
       "8                      1000.807159                        -349.470811   \n",
       "9                      1000.429044                        -350.050785   \n",
       "\n",
       "   rougher.state.floatbank10_b_air  rougher.state.floatbank10_b_level  \\\n",
       "0                      1249.738612                        -399.107531   \n",
       "1                      1248.395457                        -399.946025   \n",
       "2                      1247.440748                        -400.264330   \n",
       "3                      1251.322675                        -398.655289   \n",
       "4                      1304.658848                        -399.511519   \n",
       "5                      1349.964264                        -399.393077   \n",
       "6                      1349.452840                        -400.372133   \n",
       "7                      1350.425833                        -400.665895   \n",
       "8                      1350.272285                        -399.528520   \n",
       "9                      1349.662467                        -399.820231   \n",
       "\n",
       "   rougher.state.floatbank10_c_air  rougher.state.floatbank10_c_level  \\\n",
       "0                      1249.750520                        -399.396730   \n",
       "1                      1249.514451                        -399.630810   \n",
       "2                      1248.207204                        -401.074405   \n",
       "3                      1250.493702                        -399.746728   \n",
       "4                      1306.455515                        -399.050685   \n",
       "5                      1349.764702                        -399.233016   \n",
       "6                      1349.739875                        -400.045549   \n",
       "7                      1347.736470                        -401.850527   \n",
       "8                      1354.016617                        -399.401157   \n",
       "9                      1350.121930                        -399.334600   \n",
       "\n",
       "   rougher.state.floatbank10_d_air  rougher.state.floatbank10_d_level  \\\n",
       "0                      1198.287855                        -399.488594   \n",
       "1                      1200.506459                        -399.942434   \n",
       "2                      1199.770026                        -400.790582   \n",
       "3                      1199.398691                        -397.503052   \n",
       "4                      1248.699349                        -400.876894   \n",
       "5                      1302.258827                        -399.946857   \n",
       "6                      1299.687671                        -399.981643   \n",
       "7                      1295.059918                        -404.880024   \n",
       "8                      1305.915847                        -395.740836   \n",
       "9                      1297.578530                        -398.095707   \n",
       "\n",
       "   rougher.state.floatbank10_e_air  rougher.state.floatbank10_e_level  \\\n",
       "0                       999.472250                        -399.530962   \n",
       "1                      1000.002114                        -399.491528   \n",
       "2                       999.925519                        -399.236999   \n",
       "3                      1001.930679                        -400.437573   \n",
       "4                      1058.839106                        -398.988239   \n",
       "5                      1100.278629                        -399.742287   \n",
       "6                      1099.813504                        -400.249376   \n",
       "7                      1097.116527                        -399.280301   \n",
       "8                      1102.693258                        -401.384425   \n",
       "9                      1102.301530                        -399.421425   \n",
       "\n",
       "   rougher.state.floatbank10_f_air  rougher.state.floatbank10_f_level  \\\n",
       "0                       949.566189                        -398.180807   \n",
       "1                       950.200009                        -405.787514   \n",
       "2                       950.320481                        -400.864340   \n",
       "3                       950.735324                        -399.802986   \n",
       "4                       949.645313                        -399.277632   \n",
       "5                       949.622431                        -399.096175   \n",
       "6                       949.798421                        -400.710664   \n",
       "7                       950.165809                        -399.217640   \n",
       "8                       950.082475                        -400.682219   \n",
       "9                       951.069653                        -401.079692   \n",
       "\n",
       "   secondary_cleaner.state.floatbank2_a_air  \\\n",
       "0                                 24.938200   \n",
       "1                                 24.923466   \n",
       "2                                 24.908732   \n",
       "3                                 24.893998   \n",
       "4                                 24.886905   \n",
       "5                                 24.920872   \n",
       "6                                 24.966566   \n",
       "7                                 25.057298   \n",
       "8                                 25.034680   \n",
       "9                                 25.100847   \n",
       "\n",
       "   secondary_cleaner.state.floatbank2_a_level  \\\n",
       "0                                 -500.490963   \n",
       "1                                 -499.813963   \n",
       "2                                 -500.304035   \n",
       "3                                 -499.382374   \n",
       "4                                 -499.357375   \n",
       "5                                 -500.006603   \n",
       "6                                 -500.375242   \n",
       "7                                 -500.516443   \n",
       "8                                 -499.569715   \n",
       "9                                 -500.700788   \n",
       "\n",
       "   secondary_cleaner.state.floatbank2_b_air  \\\n",
       "0                                 14.947607   \n",
       "1                                 14.930873   \n",
       "2                                 14.996511   \n",
       "3                                 14.916674   \n",
       "4                                 14.979233   \n",
       "5                                 14.916602   \n",
       "6                                 12.573283   \n",
       "7                                 11.919993   \n",
       "8                                 11.988782   \n",
       "9                                 12.057571   \n",
       "\n",
       "   secondary_cleaner.state.floatbank2_b_level  \\\n",
       "0                                 -500.013837   \n",
       "1                                 -500.764452   \n",
       "2                                 -500.993821   \n",
       "3                                 -499.862299   \n",
       "4                                 -500.186804   \n",
       "5                                 -499.899348   \n",
       "6                                 -499.670366   \n",
       "7                                 -500.141295   \n",
       "8                                 -499.838657   \n",
       "9                                 -500.134346   \n",
       "\n",
       "   secondary_cleaner.state.floatbank3_a_air  \\\n",
       "0                                 20.018166   \n",
       "1                                 19.988503   \n",
       "2                                 20.039689   \n",
       "3                                 20.031100   \n",
       "4                                 19.962364   \n",
       "5                                 20.019330   \n",
       "6                                 19.959853   \n",
       "7                                 20.091065   \n",
       "8                                 19.980559   \n",
       "9                                 19.973543   \n",
       "\n",
       "   secondary_cleaner.state.floatbank3_a_level  \\\n",
       "0                                 -450.395995   \n",
       "1                                 -450.114024   \n",
       "2                                 -450.263164   \n",
       "3                                 -449.372570   \n",
       "4                                 -450.638828   \n",
       "5                                 -449.836319   \n",
       "6                                 -485.725045   \n",
       "7                                 -500.162309   \n",
       "8                                 -500.068733   \n",
       "9                                 -498.635246   \n",
       "\n",
       "   secondary_cleaner.state.floatbank3_b_air  \\\n",
       "0                                 13.987058   \n",
       "1                                 14.092981   \n",
       "2                                 14.077881   \n",
       "3                                 14.013968   \n",
       "4                                 14.009245   \n",
       "5                                 14.041691   \n",
       "6                                 12.465845   \n",
       "7                                 11.935898   \n",
       "8                                 12.079221   \n",
       "9                                 11.973403   \n",
       "\n",
       "   secondary_cleaner.state.floatbank3_b_level  \\\n",
       "0                                 -449.831513   \n",
       "1                                 -450.059163   \n",
       "2                                 -449.660997   \n",
       "3                                 -449.526900   \n",
       "4                                 -450.022259   \n",
       "5                                 -450.185369   \n",
       "6                                 -485.778583   \n",
       "7                                 -500.116649   \n",
       "8                                 -499.983683   \n",
       "9                                 -498.885523   \n",
       "\n",
       "   secondary_cleaner.state.floatbank4_a_air  \\\n",
       "0                                 12.023554   \n",
       "1                                 12.058140   \n",
       "2                                 11.962366   \n",
       "3                                 12.033091   \n",
       "4                                 12.025367   \n",
       "5                                 12.029797   \n",
       "6                                 12.026296   \n",
       "7                                 12.040911   \n",
       "8                                 11.998184   \n",
       "9                                 12.040725   \n",
       "\n",
       "   secondary_cleaner.state.floatbank4_a_level  \\\n",
       "0                                 -497.795834   \n",
       "1                                 -498.695773   \n",
       "2                                 -498.767484   \n",
       "3                                 -498.350935   \n",
       "4                                 -500.786497   \n",
       "5                                 -499.814895   \n",
       "6                                 -499.473127   \n",
       "7                                 -501.293852   \n",
       "8                                 -499.481608   \n",
       "9                                 -499.987743   \n",
       "\n",
       "   secondary_cleaner.state.floatbank4_b_air  \\\n",
       "0                                  8.016656   \n",
       "1                                  8.130979   \n",
       "2                                  8.096893   \n",
       "3                                  8.074946   \n",
       "4                                  8.054678   \n",
       "5                                  8.036586   \n",
       "6                                  8.027984   \n",
       "7                                  8.020490   \n",
       "8                                  8.012610   \n",
       "9                                  7.989503   \n",
       "\n",
       "   secondary_cleaner.state.floatbank4_b_level  \\\n",
       "0                                 -501.289139   \n",
       "1                                 -499.634209   \n",
       "2                                 -500.827423   \n",
       "3                                 -499.474407   \n",
       "4                                 -500.397500   \n",
       "5                                 -500.371492   \n",
       "6                                 -500.983079   \n",
       "7                                 -499.185229   \n",
       "8                                 -500.896783   \n",
       "9                                 -499.750625   \n",
       "\n",
       "   secondary_cleaner.state.floatbank5_a_air  \\\n",
       "0                                  7.946562   \n",
       "1                                  7.958270   \n",
       "2                                  8.071056   \n",
       "3                                  7.897085   \n",
       "4                                  8.107890   \n",
       "5                                  8.041446   \n",
       "6                                  7.907340   \n",
       "7                                  8.116897   \n",
       "8                                  7.974422   \n",
       "9                                  7.989710   \n",
       "\n",
       "   secondary_cleaner.state.floatbank5_a_level  \\\n",
       "0                                 -432.317850   \n",
       "1                                 -525.839648   \n",
       "2                                 -500.801673   \n",
       "3                                 -500.868509   \n",
       "4                                 -509.526725   \n",
       "5                                 -510.037054   \n",
       "6                                 -507.964971   \n",
       "7                                 -511.927561   \n",
       "8                                 -521.199104   \n",
       "9                                 -509.946737   \n",
       "\n",
       "   secondary_cleaner.state.floatbank5_b_air  \\\n",
       "0                                  4.872511   \n",
       "1                                  4.878850   \n",
       "2                                  4.905125   \n",
       "3                                  4.931400   \n",
       "4                                  4.957674   \n",
       "5                                  4.983949   \n",
       "6                                  5.010224   \n",
       "7                                  5.036498   \n",
       "8                                  5.061599   \n",
       "9                                  5.068811   \n",
       "\n",
       "   secondary_cleaner.state.floatbank5_b_level  \\\n",
       "0                                 -500.037437   \n",
       "1                                 -500.162375   \n",
       "2                                 -499.828510   \n",
       "3                                 -499.963623   \n",
       "4                                 -500.360026   \n",
       "5                                 -499.990990   \n",
       "6                                 -500.043697   \n",
       "7                                 -500.149615   \n",
       "8                                 -499.791519   \n",
       "9                                 -499.293900   \n",
       "\n",
       "   secondary_cleaner.state.floatbank6_a_air  \\\n",
       "0                                 26.705889   \n",
       "1                                 25.019940   \n",
       "2                                 24.994862   \n",
       "3                                 24.948919   \n",
       "4                                 25.003331   \n",
       "5                                 24.978973   \n",
       "6                                 25.040709   \n",
       "7                                 25.032580   \n",
       "8                                 25.005063   \n",
       "9                                 24.992741   \n",
       "\n",
       "   secondary_cleaner.state.floatbank6_a_level  \n",
       "0                                 -499.709414  \n",
       "1                                 -499.819438  \n",
       "2                                 -500.622559  \n",
       "3                                 -498.709987  \n",
       "4                                 -500.856333  \n",
       "5                                 -500.475640  \n",
       "6                                 -499.501984  \n",
       "7                                 -503.970657  \n",
       "8                                 -497.613716  \n",
       "9                                 -499.272255  "
      ]
     },
     "execution_count": 6,
     "metadata": {},
     "output_type": "execute_result"
    }
   ],
   "source": [
    "df_test = pd.read_csv('/datasets/gold_recovery_test_new.csv')\n",
    "df_test.head(10)"
   ]
  },
  {
   "cell_type": "markdown",
   "metadata": {},
   "source": [
    "Вывод информации о тестовой выборке методами `info()` и `describe()`."
   ]
  },
  {
   "cell_type": "code",
   "execution_count": 7,
   "metadata": {},
   "outputs": [
    {
     "name": "stdout",
     "output_type": "stream",
     "text": [
      "<class 'pandas.core.frame.DataFrame'>\n",
      "RangeIndex: 5290 entries, 0 to 5289\n",
      "Data columns (total 53 columns):\n",
      " #   Column                                      Non-Null Count  Dtype  \n",
      "---  ------                                      --------------  -----  \n",
      " 0   date                                        5290 non-null   object \n",
      " 1   primary_cleaner.input.sulfate               5286 non-null   float64\n",
      " 2   primary_cleaner.input.depressant            5285 non-null   float64\n",
      " 3   primary_cleaner.input.feed_size             5290 non-null   float64\n",
      " 4   primary_cleaner.input.xanthate              5286 non-null   float64\n",
      " 5   primary_cleaner.state.floatbank8_a_air      5290 non-null   float64\n",
      " 6   primary_cleaner.state.floatbank8_a_level    5290 non-null   float64\n",
      " 7   primary_cleaner.state.floatbank8_b_air      5290 non-null   float64\n",
      " 8   primary_cleaner.state.floatbank8_b_level    5290 non-null   float64\n",
      " 9   primary_cleaner.state.floatbank8_c_air      5290 non-null   float64\n",
      " 10  primary_cleaner.state.floatbank8_c_level    5290 non-null   float64\n",
      " 11  primary_cleaner.state.floatbank8_d_air      5290 non-null   float64\n",
      " 12  primary_cleaner.state.floatbank8_d_level    5290 non-null   float64\n",
      " 13  rougher.input.feed_ag                       5290 non-null   float64\n",
      " 14  rougher.input.feed_pb                       5290 non-null   float64\n",
      " 15  rougher.input.feed_rate                     5287 non-null   float64\n",
      " 16  rougher.input.feed_size                     5289 non-null   float64\n",
      " 17  rougher.input.feed_sol                      5269 non-null   float64\n",
      " 18  rougher.input.feed_au                       5290 non-null   float64\n",
      " 19  rougher.input.floatbank10_sulfate           5285 non-null   float64\n",
      " 20  rougher.input.floatbank10_xanthate          5290 non-null   float64\n",
      " 21  rougher.input.floatbank11_sulfate           5282 non-null   float64\n",
      " 22  rougher.input.floatbank11_xanthate          5265 non-null   float64\n",
      " 23  rougher.state.floatbank10_a_air             5290 non-null   float64\n",
      " 24  rougher.state.floatbank10_a_level           5290 non-null   float64\n",
      " 25  rougher.state.floatbank10_b_air             5290 non-null   float64\n",
      " 26  rougher.state.floatbank10_b_level           5290 non-null   float64\n",
      " 27  rougher.state.floatbank10_c_air             5290 non-null   float64\n",
      " 28  rougher.state.floatbank10_c_level           5290 non-null   float64\n",
      " 29  rougher.state.floatbank10_d_air             5290 non-null   float64\n",
      " 30  rougher.state.floatbank10_d_level           5290 non-null   float64\n",
      " 31  rougher.state.floatbank10_e_air             5290 non-null   float64\n",
      " 32  rougher.state.floatbank10_e_level           5290 non-null   float64\n",
      " 33  rougher.state.floatbank10_f_air             5290 non-null   float64\n",
      " 34  rougher.state.floatbank10_f_level           5290 non-null   float64\n",
      " 35  secondary_cleaner.state.floatbank2_a_air    5287 non-null   float64\n",
      " 36  secondary_cleaner.state.floatbank2_a_level  5290 non-null   float64\n",
      " 37  secondary_cleaner.state.floatbank2_b_air    5288 non-null   float64\n",
      " 38  secondary_cleaner.state.floatbank2_b_level  5290 non-null   float64\n",
      " 39  secondary_cleaner.state.floatbank3_a_air    5281 non-null   float64\n",
      " 40  secondary_cleaner.state.floatbank3_a_level  5290 non-null   float64\n",
      " 41  secondary_cleaner.state.floatbank3_b_air    5290 non-null   float64\n",
      " 42  secondary_cleaner.state.floatbank3_b_level  5290 non-null   float64\n",
      " 43  secondary_cleaner.state.floatbank4_a_air    5290 non-null   float64\n",
      " 44  secondary_cleaner.state.floatbank4_a_level  5290 non-null   float64\n",
      " 45  secondary_cleaner.state.floatbank4_b_air    5290 non-null   float64\n",
      " 46  secondary_cleaner.state.floatbank4_b_level  5290 non-null   float64\n",
      " 47  secondary_cleaner.state.floatbank5_a_air    5290 non-null   float64\n",
      " 48  secondary_cleaner.state.floatbank5_a_level  5290 non-null   float64\n",
      " 49  secondary_cleaner.state.floatbank5_b_air    5290 non-null   float64\n",
      " 50  secondary_cleaner.state.floatbank5_b_level  5290 non-null   float64\n",
      " 51  secondary_cleaner.state.floatbank6_a_air    5290 non-null   float64\n",
      " 52  secondary_cleaner.state.floatbank6_a_level  5290 non-null   float64\n",
      "dtypes: float64(52), object(1)\n",
      "memory usage: 2.1+ MB\n"
     ]
    }
   ],
   "source": [
    "df_test.info()"
   ]
  },
  {
   "cell_type": "code",
   "execution_count": 8,
   "metadata": {},
   "outputs": [
    {
     "data": {
      "text/html": [
       "<div>\n",
       "<style scoped>\n",
       "    .dataframe tbody tr th:only-of-type {\n",
       "        vertical-align: middle;\n",
       "    }\n",
       "\n",
       "    .dataframe tbody tr th {\n",
       "        vertical-align: top;\n",
       "    }\n",
       "\n",
       "    .dataframe thead th {\n",
       "        text-align: right;\n",
       "    }\n",
       "</style>\n",
       "<table border=\"1\" class=\"dataframe\">\n",
       "  <thead>\n",
       "    <tr style=\"text-align: right;\">\n",
       "      <th></th>\n",
       "      <th>date</th>\n",
       "      <th>primary_cleaner.input.sulfate</th>\n",
       "      <th>primary_cleaner.input.depressant</th>\n",
       "      <th>primary_cleaner.input.feed_size</th>\n",
       "      <th>primary_cleaner.input.xanthate</th>\n",
       "      <th>primary_cleaner.state.floatbank8_a_air</th>\n",
       "      <th>primary_cleaner.state.floatbank8_a_level</th>\n",
       "      <th>primary_cleaner.state.floatbank8_b_air</th>\n",
       "      <th>primary_cleaner.state.floatbank8_b_level</th>\n",
       "      <th>primary_cleaner.state.floatbank8_c_air</th>\n",
       "      <th>primary_cleaner.state.floatbank8_c_level</th>\n",
       "      <th>primary_cleaner.state.floatbank8_d_air</th>\n",
       "      <th>primary_cleaner.state.floatbank8_d_level</th>\n",
       "      <th>rougher.input.feed_ag</th>\n",
       "      <th>rougher.input.feed_pb</th>\n",
       "      <th>rougher.input.feed_rate</th>\n",
       "      <th>rougher.input.feed_size</th>\n",
       "      <th>rougher.input.feed_sol</th>\n",
       "      <th>rougher.input.feed_au</th>\n",
       "      <th>rougher.input.floatbank10_sulfate</th>\n",
       "      <th>rougher.input.floatbank10_xanthate</th>\n",
       "      <th>rougher.input.floatbank11_sulfate</th>\n",
       "      <th>rougher.input.floatbank11_xanthate</th>\n",
       "      <th>rougher.state.floatbank10_a_air</th>\n",
       "      <th>rougher.state.floatbank10_a_level</th>\n",
       "      <th>rougher.state.floatbank10_b_air</th>\n",
       "      <th>rougher.state.floatbank10_b_level</th>\n",
       "      <th>rougher.state.floatbank10_c_air</th>\n",
       "      <th>rougher.state.floatbank10_c_level</th>\n",
       "      <th>rougher.state.floatbank10_d_air</th>\n",
       "      <th>rougher.state.floatbank10_d_level</th>\n",
       "      <th>rougher.state.floatbank10_e_air</th>\n",
       "      <th>rougher.state.floatbank10_e_level</th>\n",
       "      <th>rougher.state.floatbank10_f_air</th>\n",
       "      <th>rougher.state.floatbank10_f_level</th>\n",
       "      <th>secondary_cleaner.state.floatbank2_a_air</th>\n",
       "      <th>secondary_cleaner.state.floatbank2_a_level</th>\n",
       "      <th>secondary_cleaner.state.floatbank2_b_air</th>\n",
       "      <th>secondary_cleaner.state.floatbank2_b_level</th>\n",
       "      <th>secondary_cleaner.state.floatbank3_a_air</th>\n",
       "      <th>secondary_cleaner.state.floatbank3_a_level</th>\n",
       "      <th>secondary_cleaner.state.floatbank3_b_air</th>\n",
       "      <th>secondary_cleaner.state.floatbank3_b_level</th>\n",
       "      <th>secondary_cleaner.state.floatbank4_a_air</th>\n",
       "      <th>secondary_cleaner.state.floatbank4_a_level</th>\n",
       "      <th>secondary_cleaner.state.floatbank4_b_air</th>\n",
       "      <th>secondary_cleaner.state.floatbank4_b_level</th>\n",
       "      <th>secondary_cleaner.state.floatbank5_a_air</th>\n",
       "      <th>secondary_cleaner.state.floatbank5_a_level</th>\n",
       "      <th>secondary_cleaner.state.floatbank5_b_air</th>\n",
       "      <th>secondary_cleaner.state.floatbank5_b_level</th>\n",
       "      <th>secondary_cleaner.state.floatbank6_a_air</th>\n",
       "      <th>secondary_cleaner.state.floatbank6_a_level</th>\n",
       "    </tr>\n",
       "  </thead>\n",
       "  <tbody>\n",
       "    <tr>\n",
       "      <th>count</th>\n",
       "      <td>5290</td>\n",
       "      <td>5286.000000</td>\n",
       "      <td>5285.000000</td>\n",
       "      <td>5290.000000</td>\n",
       "      <td>5286.000000</td>\n",
       "      <td>5.290000e+03</td>\n",
       "      <td>5290.000000</td>\n",
       "      <td>5.290000e+03</td>\n",
       "      <td>5290.000000</td>\n",
       "      <td>5.290000e+03</td>\n",
       "      <td>5290.000000</td>\n",
       "      <td>5.290000e+03</td>\n",
       "      <td>5290.000000</td>\n",
       "      <td>5290.000000</td>\n",
       "      <td>5290.000000</td>\n",
       "      <td>5287.000000</td>\n",
       "      <td>5289.000000</td>\n",
       "      <td>5269.000000</td>\n",
       "      <td>5290.000000</td>\n",
       "      <td>5285.000000</td>\n",
       "      <td>5290.000000</td>\n",
       "      <td>5282.000000</td>\n",
       "      <td>5265.000000</td>\n",
       "      <td>5290.000000</td>\n",
       "      <td>5290.000000</td>\n",
       "      <td>5290.000000</td>\n",
       "      <td>5290.000000</td>\n",
       "      <td>5290.000000</td>\n",
       "      <td>5290.000000</td>\n",
       "      <td>5290.000000</td>\n",
       "      <td>5290.000000</td>\n",
       "      <td>5290.000000</td>\n",
       "      <td>5290.000000</td>\n",
       "      <td>5290.000000</td>\n",
       "      <td>5290.000000</td>\n",
       "      <td>5287.000000</td>\n",
       "      <td>5290.000000</td>\n",
       "      <td>5288.000000</td>\n",
       "      <td>5290.000000</td>\n",
       "      <td>5281.000000</td>\n",
       "      <td>5290.000000</td>\n",
       "      <td>5.290000e+03</td>\n",
       "      <td>5290.000000</td>\n",
       "      <td>5.290000e+03</td>\n",
       "      <td>5290.000000</td>\n",
       "      <td>5.290000e+03</td>\n",
       "      <td>5290.000000</td>\n",
       "      <td>5290.000000</td>\n",
       "      <td>5290.000000</td>\n",
       "      <td>5290.000000</td>\n",
       "      <td>5290.000000</td>\n",
       "      <td>5290.000000</td>\n",
       "      <td>5290.000000</td>\n",
       "    </tr>\n",
       "    <tr>\n",
       "      <th>unique</th>\n",
       "      <td>5290</td>\n",
       "      <td>NaN</td>\n",
       "      <td>NaN</td>\n",
       "      <td>NaN</td>\n",
       "      <td>NaN</td>\n",
       "      <td>NaN</td>\n",
       "      <td>NaN</td>\n",
       "      <td>NaN</td>\n",
       "      <td>NaN</td>\n",
       "      <td>NaN</td>\n",
       "      <td>NaN</td>\n",
       "      <td>NaN</td>\n",
       "      <td>NaN</td>\n",
       "      <td>NaN</td>\n",
       "      <td>NaN</td>\n",
       "      <td>NaN</td>\n",
       "      <td>NaN</td>\n",
       "      <td>NaN</td>\n",
       "      <td>NaN</td>\n",
       "      <td>NaN</td>\n",
       "      <td>NaN</td>\n",
       "      <td>NaN</td>\n",
       "      <td>NaN</td>\n",
       "      <td>NaN</td>\n",
       "      <td>NaN</td>\n",
       "      <td>NaN</td>\n",
       "      <td>NaN</td>\n",
       "      <td>NaN</td>\n",
       "      <td>NaN</td>\n",
       "      <td>NaN</td>\n",
       "      <td>NaN</td>\n",
       "      <td>NaN</td>\n",
       "      <td>NaN</td>\n",
       "      <td>NaN</td>\n",
       "      <td>NaN</td>\n",
       "      <td>NaN</td>\n",
       "      <td>NaN</td>\n",
       "      <td>NaN</td>\n",
       "      <td>NaN</td>\n",
       "      <td>NaN</td>\n",
       "      <td>NaN</td>\n",
       "      <td>NaN</td>\n",
       "      <td>NaN</td>\n",
       "      <td>NaN</td>\n",
       "      <td>NaN</td>\n",
       "      <td>NaN</td>\n",
       "      <td>NaN</td>\n",
       "      <td>NaN</td>\n",
       "      <td>NaN</td>\n",
       "      <td>NaN</td>\n",
       "      <td>NaN</td>\n",
       "      <td>NaN</td>\n",
       "      <td>NaN</td>\n",
       "    </tr>\n",
       "    <tr>\n",
       "      <th>top</th>\n",
       "      <td>2016-12-23 05:59:59</td>\n",
       "      <td>NaN</td>\n",
       "      <td>NaN</td>\n",
       "      <td>NaN</td>\n",
       "      <td>NaN</td>\n",
       "      <td>NaN</td>\n",
       "      <td>NaN</td>\n",
       "      <td>NaN</td>\n",
       "      <td>NaN</td>\n",
       "      <td>NaN</td>\n",
       "      <td>NaN</td>\n",
       "      <td>NaN</td>\n",
       "      <td>NaN</td>\n",
       "      <td>NaN</td>\n",
       "      <td>NaN</td>\n",
       "      <td>NaN</td>\n",
       "      <td>NaN</td>\n",
       "      <td>NaN</td>\n",
       "      <td>NaN</td>\n",
       "      <td>NaN</td>\n",
       "      <td>NaN</td>\n",
       "      <td>NaN</td>\n",
       "      <td>NaN</td>\n",
       "      <td>NaN</td>\n",
       "      <td>NaN</td>\n",
       "      <td>NaN</td>\n",
       "      <td>NaN</td>\n",
       "      <td>NaN</td>\n",
       "      <td>NaN</td>\n",
       "      <td>NaN</td>\n",
       "      <td>NaN</td>\n",
       "      <td>NaN</td>\n",
       "      <td>NaN</td>\n",
       "      <td>NaN</td>\n",
       "      <td>NaN</td>\n",
       "      <td>NaN</td>\n",
       "      <td>NaN</td>\n",
       "      <td>NaN</td>\n",
       "      <td>NaN</td>\n",
       "      <td>NaN</td>\n",
       "      <td>NaN</td>\n",
       "      <td>NaN</td>\n",
       "      <td>NaN</td>\n",
       "      <td>NaN</td>\n",
       "      <td>NaN</td>\n",
       "      <td>NaN</td>\n",
       "      <td>NaN</td>\n",
       "      <td>NaN</td>\n",
       "      <td>NaN</td>\n",
       "      <td>NaN</td>\n",
       "      <td>NaN</td>\n",
       "      <td>NaN</td>\n",
       "      <td>NaN</td>\n",
       "    </tr>\n",
       "    <tr>\n",
       "      <th>freq</th>\n",
       "      <td>1</td>\n",
       "      <td>NaN</td>\n",
       "      <td>NaN</td>\n",
       "      <td>NaN</td>\n",
       "      <td>NaN</td>\n",
       "      <td>NaN</td>\n",
       "      <td>NaN</td>\n",
       "      <td>NaN</td>\n",
       "      <td>NaN</td>\n",
       "      <td>NaN</td>\n",
       "      <td>NaN</td>\n",
       "      <td>NaN</td>\n",
       "      <td>NaN</td>\n",
       "      <td>NaN</td>\n",
       "      <td>NaN</td>\n",
       "      <td>NaN</td>\n",
       "      <td>NaN</td>\n",
       "      <td>NaN</td>\n",
       "      <td>NaN</td>\n",
       "      <td>NaN</td>\n",
       "      <td>NaN</td>\n",
       "      <td>NaN</td>\n",
       "      <td>NaN</td>\n",
       "      <td>NaN</td>\n",
       "      <td>NaN</td>\n",
       "      <td>NaN</td>\n",
       "      <td>NaN</td>\n",
       "      <td>NaN</td>\n",
       "      <td>NaN</td>\n",
       "      <td>NaN</td>\n",
       "      <td>NaN</td>\n",
       "      <td>NaN</td>\n",
       "      <td>NaN</td>\n",
       "      <td>NaN</td>\n",
       "      <td>NaN</td>\n",
       "      <td>NaN</td>\n",
       "      <td>NaN</td>\n",
       "      <td>NaN</td>\n",
       "      <td>NaN</td>\n",
       "      <td>NaN</td>\n",
       "      <td>NaN</td>\n",
       "      <td>NaN</td>\n",
       "      <td>NaN</td>\n",
       "      <td>NaN</td>\n",
       "      <td>NaN</td>\n",
       "      <td>NaN</td>\n",
       "      <td>NaN</td>\n",
       "      <td>NaN</td>\n",
       "      <td>NaN</td>\n",
       "      <td>NaN</td>\n",
       "      <td>NaN</td>\n",
       "      <td>NaN</td>\n",
       "      <td>NaN</td>\n",
       "    </tr>\n",
       "    <tr>\n",
       "      <th>mean</th>\n",
       "      <td>NaN</td>\n",
       "      <td>174.839652</td>\n",
       "      <td>8.683596</td>\n",
       "      <td>7.266339</td>\n",
       "      <td>1.383803</td>\n",
       "      <td>1.539494e+03</td>\n",
       "      <td>-497.665883</td>\n",
       "      <td>1.545174e+03</td>\n",
       "      <td>-500.273098</td>\n",
       "      <td>1.527272e+03</td>\n",
       "      <td>-498.330680</td>\n",
       "      <td>1.544844e+03</td>\n",
       "      <td>-500.199527</td>\n",
       "      <td>9.371940</td>\n",
       "      <td>3.798082</td>\n",
       "      <td>489.800620</td>\n",
       "      <td>55.951097</td>\n",
       "      <td>37.716648</td>\n",
       "      <td>9.334682</td>\n",
       "      <td>13.855759</td>\n",
       "      <td>6.467745</td>\n",
       "      <td>13.922328</td>\n",
       "      <td>6.512103</td>\n",
       "      <td>1053.400166</td>\n",
       "      <td>-395.732530</td>\n",
       "      <td>1318.926879</td>\n",
       "      <td>-475.241428</td>\n",
       "      <td>1301.595477</td>\n",
       "      <td>-474.836671</td>\n",
       "      <td>1214.847960</td>\n",
       "      <td>-475.682272</td>\n",
       "      <td>1056.648995</td>\n",
       "      <td>-469.029688</td>\n",
       "      <td>997.949719</td>\n",
       "      <td>-470.482465</td>\n",
       "      <td>26.312630</td>\n",
       "      <td>-502.750897</td>\n",
       "      <td>21.949119</td>\n",
       "      <td>-501.987097</td>\n",
       "      <td>25.402926</td>\n",
       "      <td>-507.490314</td>\n",
       "      <td>2.098211e+01</td>\n",
       "      <td>-506.627916</td>\n",
       "      <td>1.632007e+01</td>\n",
       "      <td>-505.144570</td>\n",
       "      <td>1.373544e+01</td>\n",
       "      <td>-463.349858</td>\n",
       "      <td>12.804186</td>\n",
       "      <td>-501.329122</td>\n",
       "      <td>9.881145</td>\n",
       "      <td>-495.663398</td>\n",
       "      <td>17.304935</td>\n",
       "      <td>-501.793193</td>\n",
       "    </tr>\n",
       "    <tr>\n",
       "      <th>std</th>\n",
       "      <td>NaN</td>\n",
       "      <td>43.027080</td>\n",
       "      <td>3.072050</td>\n",
       "      <td>0.610219</td>\n",
       "      <td>0.643474</td>\n",
       "      <td>1.167979e+02</td>\n",
       "      <td>19.952431</td>\n",
       "      <td>1.222246e+02</td>\n",
       "      <td>32.968307</td>\n",
       "      <td>1.225380e+02</td>\n",
       "      <td>21.964876</td>\n",
       "      <td>1.247731e+02</td>\n",
       "      <td>31.045257</td>\n",
       "      <td>1.926264</td>\n",
       "      <td>0.954859</td>\n",
       "      <td>108.036326</td>\n",
       "      <td>19.081758</td>\n",
       "      <td>5.491415</td>\n",
       "      <td>1.619521</td>\n",
       "      <td>3.350852</td>\n",
       "      <td>1.065114</td>\n",
       "      <td>3.223769</td>\n",
       "      <td>0.886989</td>\n",
       "      <td>121.139309</td>\n",
       "      <td>91.085505</td>\n",
       "      <td>156.450366</td>\n",
       "      <td>45.649466</td>\n",
       "      <td>171.269667</td>\n",
       "      <td>45.859866</td>\n",
       "      <td>185.763319</td>\n",
       "      <td>47.844967</td>\n",
       "      <td>131.542839</td>\n",
       "      <td>59.325990</td>\n",
       "      <td>128.218869</td>\n",
       "      <td>60.759318</td>\n",
       "      <td>3.429852</td>\n",
       "      <td>28.756505</td>\n",
       "      <td>4.354961</td>\n",
       "      <td>34.582722</td>\n",
       "      <td>6.526457</td>\n",
       "      <td>47.620908</td>\n",
       "      <td>6.736179e+00</td>\n",
       "      <td>44.528673</td>\n",
       "      <td>3.493583e+00</td>\n",
       "      <td>31.427337</td>\n",
       "      <td>3.430484e+00</td>\n",
       "      <td>86.189107</td>\n",
       "      <td>3.026591</td>\n",
       "      <td>17.951495</td>\n",
       "      <td>2.868205</td>\n",
       "      <td>34.535007</td>\n",
       "      <td>4.536544</td>\n",
       "      <td>39.044215</td>\n",
       "    </tr>\n",
       "    <tr>\n",
       "      <th>min</th>\n",
       "      <td>NaN</td>\n",
       "      <td>2.566156</td>\n",
       "      <td>0.003839</td>\n",
       "      <td>5.650000</td>\n",
       "      <td>0.004984</td>\n",
       "      <td>5.445860e-32</td>\n",
       "      <td>-795.316337</td>\n",
       "      <td>6.647490e-32</td>\n",
       "      <td>-799.997015</td>\n",
       "      <td>4.033736e-32</td>\n",
       "      <td>-799.960571</td>\n",
       "      <td>4.039220e-32</td>\n",
       "      <td>-799.794250</td>\n",
       "      <td>0.568441</td>\n",
       "      <td>0.273677</td>\n",
       "      <td>0.002986</td>\n",
       "      <td>0.046369</td>\n",
       "      <td>1.393488</td>\n",
       "      <td>0.568632</td>\n",
       "      <td>0.001147</td>\n",
       "      <td>0.000568</td>\n",
       "      <td>0.000077</td>\n",
       "      <td>0.006985</td>\n",
       "      <td>-0.042069</td>\n",
       "      <td>-657.949759</td>\n",
       "      <td>-0.721806</td>\n",
       "      <td>-650.245277</td>\n",
       "      <td>-0.056636</td>\n",
       "      <td>-647.544439</td>\n",
       "      <td>-0.992219</td>\n",
       "      <td>-648.390665</td>\n",
       "      <td>-1.982295</td>\n",
       "      <td>-649.267537</td>\n",
       "      <td>-2.593390</td>\n",
       "      <td>-649.949283</td>\n",
       "      <td>0.205329</td>\n",
       "      <td>-784.091091</td>\n",
       "      <td>0.006064</td>\n",
       "      <td>-797.783989</td>\n",
       "      <td>0.000000</td>\n",
       "      <td>-799.755798</td>\n",
       "      <td>1.521587e-17</td>\n",
       "      <td>-809.333008</td>\n",
       "      <td>1.079872e-16</td>\n",
       "      <td>-799.798523</td>\n",
       "      <td>2.489718e-17</td>\n",
       "      <td>-800.836914</td>\n",
       "      <td>0.069227</td>\n",
       "      <td>-797.323986</td>\n",
       "      <td>0.528083</td>\n",
       "      <td>-800.220337</td>\n",
       "      <td>-0.079426</td>\n",
       "      <td>-809.741464</td>\n",
       "    </tr>\n",
       "    <tr>\n",
       "      <th>25%</th>\n",
       "      <td>NaN</td>\n",
       "      <td>147.121401</td>\n",
       "      <td>6.489555</td>\n",
       "      <td>6.890000</td>\n",
       "      <td>0.907623</td>\n",
       "      <td>1.498936e+03</td>\n",
       "      <td>-500.357298</td>\n",
       "      <td>1.498971e+03</td>\n",
       "      <td>-500.703002</td>\n",
       "      <td>1.473230e+03</td>\n",
       "      <td>-501.018117</td>\n",
       "      <td>1.499481e+03</td>\n",
       "      <td>-500.452469</td>\n",
       "      <td>8.112434</td>\n",
       "      <td>3.240251</td>\n",
       "      <td>407.020883</td>\n",
       "      <td>43.906347</td>\n",
       "      <td>34.505576</td>\n",
       "      <td>8.207814</td>\n",
       "      <td>11.995006</td>\n",
       "      <td>5.998779</td>\n",
       "      <td>11.997200</td>\n",
       "      <td>5.999157</td>\n",
       "      <td>999.205344</td>\n",
       "      <td>-499.920565</td>\n",
       "      <td>1200.871883</td>\n",
       "      <td>-500.256114</td>\n",
       "      <td>1199.651371</td>\n",
       "      <td>-500.233831</td>\n",
       "      <td>1093.368068</td>\n",
       "      <td>-500.440610</td>\n",
       "      <td>999.361403</td>\n",
       "      <td>-500.190639</td>\n",
       "      <td>901.024994</td>\n",
       "      <td>-500.624783</td>\n",
       "      <td>24.942328</td>\n",
       "      <td>-500.206517</td>\n",
       "      <td>20.002315</td>\n",
       "      <td>-500.218030</td>\n",
       "      <td>22.982288</td>\n",
       "      <td>-500.297951</td>\n",
       "      <td>1.796786e+01</td>\n",
       "      <td>-500.145128</td>\n",
       "      <td>1.403618e+01</td>\n",
       "      <td>-500.868258</td>\n",
       "      <td>1.202862e+01</td>\n",
       "      <td>-500.323028</td>\n",
       "      <td>10.914838</td>\n",
       "      <td>-500.726841</td>\n",
       "      <td>8.036719</td>\n",
       "      <td>-500.194668</td>\n",
       "      <td>13.997317</td>\n",
       "      <td>-500.690984</td>\n",
       "    </tr>\n",
       "    <tr>\n",
       "      <th>50%</th>\n",
       "      <td>NaN</td>\n",
       "      <td>177.828489</td>\n",
       "      <td>8.052207</td>\n",
       "      <td>7.250000</td>\n",
       "      <td>1.197610</td>\n",
       "      <td>1.585129e+03</td>\n",
       "      <td>-499.969164</td>\n",
       "      <td>1.595622e+03</td>\n",
       "      <td>-500.028514</td>\n",
       "      <td>1.549595e+03</td>\n",
       "      <td>-500.017711</td>\n",
       "      <td>1.594579e+03</td>\n",
       "      <td>-500.023307</td>\n",
       "      <td>9.762654</td>\n",
       "      <td>3.740716</td>\n",
       "      <td>499.051440</td>\n",
       "      <td>50.841029</td>\n",
       "      <td>37.980276</td>\n",
       "      <td>9.593766</td>\n",
       "      <td>14.003126</td>\n",
       "      <td>6.498181</td>\n",
       "      <td>14.004371</td>\n",
       "      <td>6.498744</td>\n",
       "      <td>1000.472055</td>\n",
       "      <td>-399.693363</td>\n",
       "      <td>1302.254995</td>\n",
       "      <td>-499.837803</td>\n",
       "      <td>1300.202274</td>\n",
       "      <td>-499.777222</td>\n",
       "      <td>1207.014092</td>\n",
       "      <td>-499.691917</td>\n",
       "      <td>1047.495449</td>\n",
       "      <td>-499.765796</td>\n",
       "      <td>999.441879</td>\n",
       "      <td>-499.680986</td>\n",
       "      <td>26.910569</td>\n",
       "      <td>-500.003902</td>\n",
       "      <td>22.942603</td>\n",
       "      <td>-500.019058</td>\n",
       "      <td>25.010105</td>\n",
       "      <td>-500.034578</td>\n",
       "      <td>2.100316e+01</td>\n",
       "      <td>-500.013819</td>\n",
       "      <td>1.700847e+01</td>\n",
       "      <td>-500.115727</td>\n",
       "      <td>1.496486e+01</td>\n",
       "      <td>-499.576513</td>\n",
       "      <td>12.954182</td>\n",
       "      <td>-499.990332</td>\n",
       "      <td>10.004301</td>\n",
       "      <td>-499.990535</td>\n",
       "      <td>16.014935</td>\n",
       "      <td>-500.007126</td>\n",
       "    </tr>\n",
       "    <tr>\n",
       "      <th>75%</th>\n",
       "      <td>NaN</td>\n",
       "      <td>208.125438</td>\n",
       "      <td>10.027764</td>\n",
       "      <td>7.600000</td>\n",
       "      <td>1.797819</td>\n",
       "      <td>1.602077e+03</td>\n",
       "      <td>-499.568951</td>\n",
       "      <td>1.602324e+03</td>\n",
       "      <td>-499.293257</td>\n",
       "      <td>1.601144e+03</td>\n",
       "      <td>-498.994130</td>\n",
       "      <td>1.600965e+03</td>\n",
       "      <td>-499.607040</td>\n",
       "      <td>10.652297</td>\n",
       "      <td>4.282634</td>\n",
       "      <td>575.307213</td>\n",
       "      <td>62.431047</td>\n",
       "      <td>41.635385</td>\n",
       "      <td>10.463538</td>\n",
       "      <td>16.974284</td>\n",
       "      <td>7.085457</td>\n",
       "      <td>16.959671</td>\n",
       "      <td>7.091808</td>\n",
       "      <td>1006.254299</td>\n",
       "      <td>-300.060056</td>\n",
       "      <td>1433.955649</td>\n",
       "      <td>-450.749619</td>\n",
       "      <td>1406.594956</td>\n",
       "      <td>-451.153188</td>\n",
       "      <td>1391.497269</td>\n",
       "      <td>-452.483463</td>\n",
       "      <td>1101.365315</td>\n",
       "      <td>-450.957513</td>\n",
       "      <td>1050.433005</td>\n",
       "      <td>-451.986460</td>\n",
       "      <td>28.091885</td>\n",
       "      <td>-499.791639</td>\n",
       "      <td>24.985013</td>\n",
       "      <td>-499.831532</td>\n",
       "      <td>30.002063</td>\n",
       "      <td>-499.780163</td>\n",
       "      <td>2.697698e+01</td>\n",
       "      <td>-499.890608</td>\n",
       "      <td>1.803862e+01</td>\n",
       "      <td>-499.404224</td>\n",
       "      <td>1.596213e+01</td>\n",
       "      <td>-400.933805</td>\n",
       "      <td>15.097528</td>\n",
       "      <td>-499.283191</td>\n",
       "      <td>11.997467</td>\n",
       "      <td>-499.719913</td>\n",
       "      <td>21.020013</td>\n",
       "      <td>-499.373018</td>\n",
       "    </tr>\n",
       "    <tr>\n",
       "      <th>max</th>\n",
       "      <td>NaN</td>\n",
       "      <td>265.983123</td>\n",
       "      <td>40.000000</td>\n",
       "      <td>15.500000</td>\n",
       "      <td>4.102454</td>\n",
       "      <td>2.103104e+03</td>\n",
       "      <td>-57.195404</td>\n",
       "      <td>1.813084e+03</td>\n",
       "      <td>-142.527229</td>\n",
       "      <td>1.715054e+03</td>\n",
       "      <td>-150.937035</td>\n",
       "      <td>1.913257e+03</td>\n",
       "      <td>-158.950573</td>\n",
       "      <td>14.406130</td>\n",
       "      <td>6.905684</td>\n",
       "      <td>707.364020</td>\n",
       "      <td>392.494040</td>\n",
       "      <td>53.477742</td>\n",
       "      <td>13.731330</td>\n",
       "      <td>24.280636</td>\n",
       "      <td>8.910468</td>\n",
       "      <td>24.280966</td>\n",
       "      <td>8.621338</td>\n",
       "      <td>1423.274687</td>\n",
       "      <td>-273.776101</td>\n",
       "      <td>1706.640419</td>\n",
       "      <td>-298.200051</td>\n",
       "      <td>1731.017788</td>\n",
       "      <td>-298.036852</td>\n",
       "      <td>1775.218584</td>\n",
       "      <td>-76.397327</td>\n",
       "      <td>1467.184843</td>\n",
       "      <td>-139.753025</td>\n",
       "      <td>1476.588107</td>\n",
       "      <td>-249.801043</td>\n",
       "      <td>32.138727</td>\n",
       "      <td>-300.343670</td>\n",
       "      <td>28.165864</td>\n",
       "      <td>-211.999273</td>\n",
       "      <td>40.041997</td>\n",
       "      <td>-313.866425</td>\n",
       "      <td>3.203936e+01</td>\n",
       "      <td>-202.277366</td>\n",
       "      <td>3.005180e+01</td>\n",
       "      <td>-401.565212</td>\n",
       "      <td>3.126971e+01</td>\n",
       "      <td>-6.506986</td>\n",
       "      <td>25.258848</td>\n",
       "      <td>-244.483566</td>\n",
       "      <td>14.086866</td>\n",
       "      <td>-137.740004</td>\n",
       "      <td>26.705889</td>\n",
       "      <td>-123.307487</td>\n",
       "    </tr>\n",
       "  </tbody>\n",
       "</table>\n",
       "</div>"
      ],
      "text/plain": [
       "                       date  primary_cleaner.input.sulfate  \\\n",
       "count                  5290                    5286.000000   \n",
       "unique                 5290                            NaN   \n",
       "top     2016-12-23 05:59:59                            NaN   \n",
       "freq                      1                            NaN   \n",
       "mean                    NaN                     174.839652   \n",
       "std                     NaN                      43.027080   \n",
       "min                     NaN                       2.566156   \n",
       "25%                     NaN                     147.121401   \n",
       "50%                     NaN                     177.828489   \n",
       "75%                     NaN                     208.125438   \n",
       "max                     NaN                     265.983123   \n",
       "\n",
       "        primary_cleaner.input.depressant  primary_cleaner.input.feed_size  \\\n",
       "count                        5285.000000                      5290.000000   \n",
       "unique                               NaN                              NaN   \n",
       "top                                  NaN                              NaN   \n",
       "freq                                 NaN                              NaN   \n",
       "mean                            8.683596                         7.266339   \n",
       "std                             3.072050                         0.610219   \n",
       "min                             0.003839                         5.650000   \n",
       "25%                             6.489555                         6.890000   \n",
       "50%                             8.052207                         7.250000   \n",
       "75%                            10.027764                         7.600000   \n",
       "max                            40.000000                        15.500000   \n",
       "\n",
       "        primary_cleaner.input.xanthate  \\\n",
       "count                      5286.000000   \n",
       "unique                             NaN   \n",
       "top                                NaN   \n",
       "freq                               NaN   \n",
       "mean                          1.383803   \n",
       "std                           0.643474   \n",
       "min                           0.004984   \n",
       "25%                           0.907623   \n",
       "50%                           1.197610   \n",
       "75%                           1.797819   \n",
       "max                           4.102454   \n",
       "\n",
       "        primary_cleaner.state.floatbank8_a_air  \\\n",
       "count                             5.290000e+03   \n",
       "unique                                     NaN   \n",
       "top                                        NaN   \n",
       "freq                                       NaN   \n",
       "mean                              1.539494e+03   \n",
       "std                               1.167979e+02   \n",
       "min                               5.445860e-32   \n",
       "25%                               1.498936e+03   \n",
       "50%                               1.585129e+03   \n",
       "75%                               1.602077e+03   \n",
       "max                               2.103104e+03   \n",
       "\n",
       "        primary_cleaner.state.floatbank8_a_level  \\\n",
       "count                                5290.000000   \n",
       "unique                                       NaN   \n",
       "top                                          NaN   \n",
       "freq                                         NaN   \n",
       "mean                                 -497.665883   \n",
       "std                                    19.952431   \n",
       "min                                  -795.316337   \n",
       "25%                                  -500.357298   \n",
       "50%                                  -499.969164   \n",
       "75%                                  -499.568951   \n",
       "max                                   -57.195404   \n",
       "\n",
       "        primary_cleaner.state.floatbank8_b_air  \\\n",
       "count                             5.290000e+03   \n",
       "unique                                     NaN   \n",
       "top                                        NaN   \n",
       "freq                                       NaN   \n",
       "mean                              1.545174e+03   \n",
       "std                               1.222246e+02   \n",
       "min                               6.647490e-32   \n",
       "25%                               1.498971e+03   \n",
       "50%                               1.595622e+03   \n",
       "75%                               1.602324e+03   \n",
       "max                               1.813084e+03   \n",
       "\n",
       "        primary_cleaner.state.floatbank8_b_level  \\\n",
       "count                                5290.000000   \n",
       "unique                                       NaN   \n",
       "top                                          NaN   \n",
       "freq                                         NaN   \n",
       "mean                                 -500.273098   \n",
       "std                                    32.968307   \n",
       "min                                  -799.997015   \n",
       "25%                                  -500.703002   \n",
       "50%                                  -500.028514   \n",
       "75%                                  -499.293257   \n",
       "max                                  -142.527229   \n",
       "\n",
       "        primary_cleaner.state.floatbank8_c_air  \\\n",
       "count                             5.290000e+03   \n",
       "unique                                     NaN   \n",
       "top                                        NaN   \n",
       "freq                                       NaN   \n",
       "mean                              1.527272e+03   \n",
       "std                               1.225380e+02   \n",
       "min                               4.033736e-32   \n",
       "25%                               1.473230e+03   \n",
       "50%                               1.549595e+03   \n",
       "75%                               1.601144e+03   \n",
       "max                               1.715054e+03   \n",
       "\n",
       "        primary_cleaner.state.floatbank8_c_level  \\\n",
       "count                                5290.000000   \n",
       "unique                                       NaN   \n",
       "top                                          NaN   \n",
       "freq                                         NaN   \n",
       "mean                                 -498.330680   \n",
       "std                                    21.964876   \n",
       "min                                  -799.960571   \n",
       "25%                                  -501.018117   \n",
       "50%                                  -500.017711   \n",
       "75%                                  -498.994130   \n",
       "max                                  -150.937035   \n",
       "\n",
       "        primary_cleaner.state.floatbank8_d_air  \\\n",
       "count                             5.290000e+03   \n",
       "unique                                     NaN   \n",
       "top                                        NaN   \n",
       "freq                                       NaN   \n",
       "mean                              1.544844e+03   \n",
       "std                               1.247731e+02   \n",
       "min                               4.039220e-32   \n",
       "25%                               1.499481e+03   \n",
       "50%                               1.594579e+03   \n",
       "75%                               1.600965e+03   \n",
       "max                               1.913257e+03   \n",
       "\n",
       "        primary_cleaner.state.floatbank8_d_level  rougher.input.feed_ag  \\\n",
       "count                                5290.000000            5290.000000   \n",
       "unique                                       NaN                    NaN   \n",
       "top                                          NaN                    NaN   \n",
       "freq                                         NaN                    NaN   \n",
       "mean                                 -500.199527               9.371940   \n",
       "std                                    31.045257               1.926264   \n",
       "min                                  -799.794250               0.568441   \n",
       "25%                                  -500.452469               8.112434   \n",
       "50%                                  -500.023307               9.762654   \n",
       "75%                                  -499.607040              10.652297   \n",
       "max                                  -158.950573              14.406130   \n",
       "\n",
       "        rougher.input.feed_pb  rougher.input.feed_rate  \\\n",
       "count             5290.000000              5287.000000   \n",
       "unique                    NaN                      NaN   \n",
       "top                       NaN                      NaN   \n",
       "freq                      NaN                      NaN   \n",
       "mean                 3.798082               489.800620   \n",
       "std                  0.954859               108.036326   \n",
       "min                  0.273677                 0.002986   \n",
       "25%                  3.240251               407.020883   \n",
       "50%                  3.740716               499.051440   \n",
       "75%                  4.282634               575.307213   \n",
       "max                  6.905684               707.364020   \n",
       "\n",
       "        rougher.input.feed_size  rougher.input.feed_sol  \\\n",
       "count               5289.000000             5269.000000   \n",
       "unique                      NaN                     NaN   \n",
       "top                         NaN                     NaN   \n",
       "freq                        NaN                     NaN   \n",
       "mean                  55.951097               37.716648   \n",
       "std                   19.081758                5.491415   \n",
       "min                    0.046369                1.393488   \n",
       "25%                   43.906347               34.505576   \n",
       "50%                   50.841029               37.980276   \n",
       "75%                   62.431047               41.635385   \n",
       "max                  392.494040               53.477742   \n",
       "\n",
       "        rougher.input.feed_au  rougher.input.floatbank10_sulfate  \\\n",
       "count             5290.000000                        5285.000000   \n",
       "unique                    NaN                                NaN   \n",
       "top                       NaN                                NaN   \n",
       "freq                      NaN                                NaN   \n",
       "mean                 9.334682                          13.855759   \n",
       "std                  1.619521                           3.350852   \n",
       "min                  0.568632                           0.001147   \n",
       "25%                  8.207814                          11.995006   \n",
       "50%                  9.593766                          14.003126   \n",
       "75%                 10.463538                          16.974284   \n",
       "max                 13.731330                          24.280636   \n",
       "\n",
       "        rougher.input.floatbank10_xanthate  rougher.input.floatbank11_sulfate  \\\n",
       "count                          5290.000000                        5282.000000   \n",
       "unique                                 NaN                                NaN   \n",
       "top                                    NaN                                NaN   \n",
       "freq                                   NaN                                NaN   \n",
       "mean                              6.467745                          13.922328   \n",
       "std                               1.065114                           3.223769   \n",
       "min                               0.000568                           0.000077   \n",
       "25%                               5.998779                          11.997200   \n",
       "50%                               6.498181                          14.004371   \n",
       "75%                               7.085457                          16.959671   \n",
       "max                               8.910468                          24.280966   \n",
       "\n",
       "        rougher.input.floatbank11_xanthate  rougher.state.floatbank10_a_air  \\\n",
       "count                          5265.000000                      5290.000000   \n",
       "unique                                 NaN                              NaN   \n",
       "top                                    NaN                              NaN   \n",
       "freq                                   NaN                              NaN   \n",
       "mean                              6.512103                      1053.400166   \n",
       "std                               0.886989                       121.139309   \n",
       "min                               0.006985                        -0.042069   \n",
       "25%                               5.999157                       999.205344   \n",
       "50%                               6.498744                      1000.472055   \n",
       "75%                               7.091808                      1006.254299   \n",
       "max                               8.621338                      1423.274687   \n",
       "\n",
       "        rougher.state.floatbank10_a_level  rougher.state.floatbank10_b_air  \\\n",
       "count                         5290.000000                      5290.000000   \n",
       "unique                                NaN                              NaN   \n",
       "top                                   NaN                              NaN   \n",
       "freq                                  NaN                              NaN   \n",
       "mean                          -395.732530                      1318.926879   \n",
       "std                             91.085505                       156.450366   \n",
       "min                           -657.949759                        -0.721806   \n",
       "25%                           -499.920565                      1200.871883   \n",
       "50%                           -399.693363                      1302.254995   \n",
       "75%                           -300.060056                      1433.955649   \n",
       "max                           -273.776101                      1706.640419   \n",
       "\n",
       "        rougher.state.floatbank10_b_level  rougher.state.floatbank10_c_air  \\\n",
       "count                         5290.000000                      5290.000000   \n",
       "unique                                NaN                              NaN   \n",
       "top                                   NaN                              NaN   \n",
       "freq                                  NaN                              NaN   \n",
       "mean                          -475.241428                      1301.595477   \n",
       "std                             45.649466                       171.269667   \n",
       "min                           -650.245277                        -0.056636   \n",
       "25%                           -500.256114                      1199.651371   \n",
       "50%                           -499.837803                      1300.202274   \n",
       "75%                           -450.749619                      1406.594956   \n",
       "max                           -298.200051                      1731.017788   \n",
       "\n",
       "        rougher.state.floatbank10_c_level  rougher.state.floatbank10_d_air  \\\n",
       "count                         5290.000000                      5290.000000   \n",
       "unique                                NaN                              NaN   \n",
       "top                                   NaN                              NaN   \n",
       "freq                                  NaN                              NaN   \n",
       "mean                          -474.836671                      1214.847960   \n",
       "std                             45.859866                       185.763319   \n",
       "min                           -647.544439                        -0.992219   \n",
       "25%                           -500.233831                      1093.368068   \n",
       "50%                           -499.777222                      1207.014092   \n",
       "75%                           -451.153188                      1391.497269   \n",
       "max                           -298.036852                      1775.218584   \n",
       "\n",
       "        rougher.state.floatbank10_d_level  rougher.state.floatbank10_e_air  \\\n",
       "count                         5290.000000                      5290.000000   \n",
       "unique                                NaN                              NaN   \n",
       "top                                   NaN                              NaN   \n",
       "freq                                  NaN                              NaN   \n",
       "mean                          -475.682272                      1056.648995   \n",
       "std                             47.844967                       131.542839   \n",
       "min                           -648.390665                        -1.982295   \n",
       "25%                           -500.440610                       999.361403   \n",
       "50%                           -499.691917                      1047.495449   \n",
       "75%                           -452.483463                      1101.365315   \n",
       "max                            -76.397327                      1467.184843   \n",
       "\n",
       "        rougher.state.floatbank10_e_level  rougher.state.floatbank10_f_air  \\\n",
       "count                         5290.000000                      5290.000000   \n",
       "unique                                NaN                              NaN   \n",
       "top                                   NaN                              NaN   \n",
       "freq                                  NaN                              NaN   \n",
       "mean                          -469.029688                       997.949719   \n",
       "std                             59.325990                       128.218869   \n",
       "min                           -649.267537                        -2.593390   \n",
       "25%                           -500.190639                       901.024994   \n",
       "50%                           -499.765796                       999.441879   \n",
       "75%                           -450.957513                      1050.433005   \n",
       "max                           -139.753025                      1476.588107   \n",
       "\n",
       "        rougher.state.floatbank10_f_level  \\\n",
       "count                         5290.000000   \n",
       "unique                                NaN   \n",
       "top                                   NaN   \n",
       "freq                                  NaN   \n",
       "mean                          -470.482465   \n",
       "std                             60.759318   \n",
       "min                           -649.949283   \n",
       "25%                           -500.624783   \n",
       "50%                           -499.680986   \n",
       "75%                           -451.986460   \n",
       "max                           -249.801043   \n",
       "\n",
       "        secondary_cleaner.state.floatbank2_a_air  \\\n",
       "count                                5287.000000   \n",
       "unique                                       NaN   \n",
       "top                                          NaN   \n",
       "freq                                         NaN   \n",
       "mean                                   26.312630   \n",
       "std                                     3.429852   \n",
       "min                                     0.205329   \n",
       "25%                                    24.942328   \n",
       "50%                                    26.910569   \n",
       "75%                                    28.091885   \n",
       "max                                    32.138727   \n",
       "\n",
       "        secondary_cleaner.state.floatbank2_a_level  \\\n",
       "count                                  5290.000000   \n",
       "unique                                         NaN   \n",
       "top                                            NaN   \n",
       "freq                                           NaN   \n",
       "mean                                   -502.750897   \n",
       "std                                      28.756505   \n",
       "min                                    -784.091091   \n",
       "25%                                    -500.206517   \n",
       "50%                                    -500.003902   \n",
       "75%                                    -499.791639   \n",
       "max                                    -300.343670   \n",
       "\n",
       "        secondary_cleaner.state.floatbank2_b_air  \\\n",
       "count                                5288.000000   \n",
       "unique                                       NaN   \n",
       "top                                          NaN   \n",
       "freq                                         NaN   \n",
       "mean                                   21.949119   \n",
       "std                                     4.354961   \n",
       "min                                     0.006064   \n",
       "25%                                    20.002315   \n",
       "50%                                    22.942603   \n",
       "75%                                    24.985013   \n",
       "max                                    28.165864   \n",
       "\n",
       "        secondary_cleaner.state.floatbank2_b_level  \\\n",
       "count                                  5290.000000   \n",
       "unique                                         NaN   \n",
       "top                                            NaN   \n",
       "freq                                           NaN   \n",
       "mean                                   -501.987097   \n",
       "std                                      34.582722   \n",
       "min                                    -797.783989   \n",
       "25%                                    -500.218030   \n",
       "50%                                    -500.019058   \n",
       "75%                                    -499.831532   \n",
       "max                                    -211.999273   \n",
       "\n",
       "        secondary_cleaner.state.floatbank3_a_air  \\\n",
       "count                                5281.000000   \n",
       "unique                                       NaN   \n",
       "top                                          NaN   \n",
       "freq                                         NaN   \n",
       "mean                                   25.402926   \n",
       "std                                     6.526457   \n",
       "min                                     0.000000   \n",
       "25%                                    22.982288   \n",
       "50%                                    25.010105   \n",
       "75%                                    30.002063   \n",
       "max                                    40.041997   \n",
       "\n",
       "        secondary_cleaner.state.floatbank3_a_level  \\\n",
       "count                                  5290.000000   \n",
       "unique                                         NaN   \n",
       "top                                            NaN   \n",
       "freq                                           NaN   \n",
       "mean                                   -507.490314   \n",
       "std                                      47.620908   \n",
       "min                                    -799.755798   \n",
       "25%                                    -500.297951   \n",
       "50%                                    -500.034578   \n",
       "75%                                    -499.780163   \n",
       "max                                    -313.866425   \n",
       "\n",
       "        secondary_cleaner.state.floatbank3_b_air  \\\n",
       "count                               5.290000e+03   \n",
       "unique                                       NaN   \n",
       "top                                          NaN   \n",
       "freq                                         NaN   \n",
       "mean                                2.098211e+01   \n",
       "std                                 6.736179e+00   \n",
       "min                                 1.521587e-17   \n",
       "25%                                 1.796786e+01   \n",
       "50%                                 2.100316e+01   \n",
       "75%                                 2.697698e+01   \n",
       "max                                 3.203936e+01   \n",
       "\n",
       "        secondary_cleaner.state.floatbank3_b_level  \\\n",
       "count                                  5290.000000   \n",
       "unique                                         NaN   \n",
       "top                                            NaN   \n",
       "freq                                           NaN   \n",
       "mean                                   -506.627916   \n",
       "std                                      44.528673   \n",
       "min                                    -809.333008   \n",
       "25%                                    -500.145128   \n",
       "50%                                    -500.013819   \n",
       "75%                                    -499.890608   \n",
       "max                                    -202.277366   \n",
       "\n",
       "        secondary_cleaner.state.floatbank4_a_air  \\\n",
       "count                               5.290000e+03   \n",
       "unique                                       NaN   \n",
       "top                                          NaN   \n",
       "freq                                         NaN   \n",
       "mean                                1.632007e+01   \n",
       "std                                 3.493583e+00   \n",
       "min                                 1.079872e-16   \n",
       "25%                                 1.403618e+01   \n",
       "50%                                 1.700847e+01   \n",
       "75%                                 1.803862e+01   \n",
       "max                                 3.005180e+01   \n",
       "\n",
       "        secondary_cleaner.state.floatbank4_a_level  \\\n",
       "count                                  5290.000000   \n",
       "unique                                         NaN   \n",
       "top                                            NaN   \n",
       "freq                                           NaN   \n",
       "mean                                   -505.144570   \n",
       "std                                      31.427337   \n",
       "min                                    -799.798523   \n",
       "25%                                    -500.868258   \n",
       "50%                                    -500.115727   \n",
       "75%                                    -499.404224   \n",
       "max                                    -401.565212   \n",
       "\n",
       "        secondary_cleaner.state.floatbank4_b_air  \\\n",
       "count                               5.290000e+03   \n",
       "unique                                       NaN   \n",
       "top                                          NaN   \n",
       "freq                                         NaN   \n",
       "mean                                1.373544e+01   \n",
       "std                                 3.430484e+00   \n",
       "min                                 2.489718e-17   \n",
       "25%                                 1.202862e+01   \n",
       "50%                                 1.496486e+01   \n",
       "75%                                 1.596213e+01   \n",
       "max                                 3.126971e+01   \n",
       "\n",
       "        secondary_cleaner.state.floatbank4_b_level  \\\n",
       "count                                  5290.000000   \n",
       "unique                                         NaN   \n",
       "top                                            NaN   \n",
       "freq                                           NaN   \n",
       "mean                                   -463.349858   \n",
       "std                                      86.189107   \n",
       "min                                    -800.836914   \n",
       "25%                                    -500.323028   \n",
       "50%                                    -499.576513   \n",
       "75%                                    -400.933805   \n",
       "max                                      -6.506986   \n",
       "\n",
       "        secondary_cleaner.state.floatbank5_a_air  \\\n",
       "count                                5290.000000   \n",
       "unique                                       NaN   \n",
       "top                                          NaN   \n",
       "freq                                         NaN   \n",
       "mean                                   12.804186   \n",
       "std                                     3.026591   \n",
       "min                                     0.069227   \n",
       "25%                                    10.914838   \n",
       "50%                                    12.954182   \n",
       "75%                                    15.097528   \n",
       "max                                    25.258848   \n",
       "\n",
       "        secondary_cleaner.state.floatbank5_a_level  \\\n",
       "count                                  5290.000000   \n",
       "unique                                         NaN   \n",
       "top                                            NaN   \n",
       "freq                                           NaN   \n",
       "mean                                   -501.329122   \n",
       "std                                      17.951495   \n",
       "min                                    -797.323986   \n",
       "25%                                    -500.726841   \n",
       "50%                                    -499.990332   \n",
       "75%                                    -499.283191   \n",
       "max                                    -244.483566   \n",
       "\n",
       "        secondary_cleaner.state.floatbank5_b_air  \\\n",
       "count                                5290.000000   \n",
       "unique                                       NaN   \n",
       "top                                          NaN   \n",
       "freq                                         NaN   \n",
       "mean                                    9.881145   \n",
       "std                                     2.868205   \n",
       "min                                     0.528083   \n",
       "25%                                     8.036719   \n",
       "50%                                    10.004301   \n",
       "75%                                    11.997467   \n",
       "max                                    14.086866   \n",
       "\n",
       "        secondary_cleaner.state.floatbank5_b_level  \\\n",
       "count                                  5290.000000   \n",
       "unique                                         NaN   \n",
       "top                                            NaN   \n",
       "freq                                           NaN   \n",
       "mean                                   -495.663398   \n",
       "std                                      34.535007   \n",
       "min                                    -800.220337   \n",
       "25%                                    -500.194668   \n",
       "50%                                    -499.990535   \n",
       "75%                                    -499.719913   \n",
       "max                                    -137.740004   \n",
       "\n",
       "        secondary_cleaner.state.floatbank6_a_air  \\\n",
       "count                                5290.000000   \n",
       "unique                                       NaN   \n",
       "top                                          NaN   \n",
       "freq                                         NaN   \n",
       "mean                                   17.304935   \n",
       "std                                     4.536544   \n",
       "min                                    -0.079426   \n",
       "25%                                    13.997317   \n",
       "50%                                    16.014935   \n",
       "75%                                    21.020013   \n",
       "max                                    26.705889   \n",
       "\n",
       "        secondary_cleaner.state.floatbank6_a_level  \n",
       "count                                  5290.000000  \n",
       "unique                                         NaN  \n",
       "top                                            NaN  \n",
       "freq                                           NaN  \n",
       "mean                                   -501.793193  \n",
       "std                                      39.044215  \n",
       "min                                    -809.741464  \n",
       "25%                                    -500.690984  \n",
       "50%                                    -500.007126  \n",
       "75%                                    -499.373018  \n",
       "max                                    -123.307487  "
      ]
     },
     "execution_count": 8,
     "metadata": {},
     "output_type": "execute_result"
    }
   ],
   "source": [
    "df_test.describe(include='all')"
   ]
  },
  {
   "cell_type": "markdown",
   "metadata": {},
   "source": [
    "Чтение csv-файла и вывод первых 10 строк исходного датасета:"
   ]
  },
  {
   "cell_type": "code",
   "execution_count": 9,
   "metadata": {},
   "outputs": [
    {
     "data": {
      "text/html": [
       "<div>\n",
       "<style scoped>\n",
       "    .dataframe tbody tr th:only-of-type {\n",
       "        vertical-align: middle;\n",
       "    }\n",
       "\n",
       "    .dataframe tbody tr th {\n",
       "        vertical-align: top;\n",
       "    }\n",
       "\n",
       "    .dataframe thead th {\n",
       "        text-align: right;\n",
       "    }\n",
       "</style>\n",
       "<table border=\"1\" class=\"dataframe\">\n",
       "  <thead>\n",
       "    <tr style=\"text-align: right;\">\n",
       "      <th></th>\n",
       "      <th>date</th>\n",
       "      <th>final.output.concentrate_ag</th>\n",
       "      <th>final.output.concentrate_pb</th>\n",
       "      <th>final.output.concentrate_sol</th>\n",
       "      <th>final.output.concentrate_au</th>\n",
       "      <th>final.output.recovery</th>\n",
       "      <th>final.output.tail_ag</th>\n",
       "      <th>final.output.tail_pb</th>\n",
       "      <th>final.output.tail_sol</th>\n",
       "      <th>final.output.tail_au</th>\n",
       "      <th>primary_cleaner.input.sulfate</th>\n",
       "      <th>primary_cleaner.input.depressant</th>\n",
       "      <th>primary_cleaner.input.feed_size</th>\n",
       "      <th>primary_cleaner.input.xanthate</th>\n",
       "      <th>primary_cleaner.output.concentrate_ag</th>\n",
       "      <th>primary_cleaner.output.concentrate_pb</th>\n",
       "      <th>primary_cleaner.output.concentrate_sol</th>\n",
       "      <th>primary_cleaner.output.concentrate_au</th>\n",
       "      <th>primary_cleaner.output.tail_ag</th>\n",
       "      <th>primary_cleaner.output.tail_pb</th>\n",
       "      <th>primary_cleaner.output.tail_sol</th>\n",
       "      <th>primary_cleaner.output.tail_au</th>\n",
       "      <th>primary_cleaner.state.floatbank8_a_air</th>\n",
       "      <th>primary_cleaner.state.floatbank8_a_level</th>\n",
       "      <th>primary_cleaner.state.floatbank8_b_air</th>\n",
       "      <th>primary_cleaner.state.floatbank8_b_level</th>\n",
       "      <th>primary_cleaner.state.floatbank8_c_air</th>\n",
       "      <th>primary_cleaner.state.floatbank8_c_level</th>\n",
       "      <th>primary_cleaner.state.floatbank8_d_air</th>\n",
       "      <th>primary_cleaner.state.floatbank8_d_level</th>\n",
       "      <th>rougher.calculation.sulfate_to_au_concentrate</th>\n",
       "      <th>rougher.calculation.floatbank10_sulfate_to_au_feed</th>\n",
       "      <th>rougher.calculation.floatbank11_sulfate_to_au_feed</th>\n",
       "      <th>rougher.calculation.au_pb_ratio</th>\n",
       "      <th>rougher.input.feed_ag</th>\n",
       "      <th>rougher.input.feed_pb</th>\n",
       "      <th>rougher.input.feed_rate</th>\n",
       "      <th>rougher.input.feed_size</th>\n",
       "      <th>rougher.input.feed_sol</th>\n",
       "      <th>rougher.input.feed_au</th>\n",
       "      <th>rougher.input.floatbank10_sulfate</th>\n",
       "      <th>rougher.input.floatbank10_xanthate</th>\n",
       "      <th>rougher.input.floatbank11_sulfate</th>\n",
       "      <th>rougher.input.floatbank11_xanthate</th>\n",
       "      <th>rougher.output.concentrate_ag</th>\n",
       "      <th>rougher.output.concentrate_pb</th>\n",
       "      <th>rougher.output.concentrate_sol</th>\n",
       "      <th>rougher.output.concentrate_au</th>\n",
       "      <th>rougher.output.recovery</th>\n",
       "      <th>rougher.output.tail_ag</th>\n",
       "      <th>rougher.output.tail_pb</th>\n",
       "      <th>rougher.output.tail_sol</th>\n",
       "      <th>rougher.output.tail_au</th>\n",
       "      <th>rougher.state.floatbank10_a_air</th>\n",
       "      <th>rougher.state.floatbank10_a_level</th>\n",
       "      <th>rougher.state.floatbank10_b_air</th>\n",
       "      <th>rougher.state.floatbank10_b_level</th>\n",
       "      <th>rougher.state.floatbank10_c_air</th>\n",
       "      <th>rougher.state.floatbank10_c_level</th>\n",
       "      <th>rougher.state.floatbank10_d_air</th>\n",
       "      <th>rougher.state.floatbank10_d_level</th>\n",
       "      <th>rougher.state.floatbank10_e_air</th>\n",
       "      <th>rougher.state.floatbank10_e_level</th>\n",
       "      <th>rougher.state.floatbank10_f_air</th>\n",
       "      <th>rougher.state.floatbank10_f_level</th>\n",
       "      <th>secondary_cleaner.output.tail_ag</th>\n",
       "      <th>secondary_cleaner.output.tail_pb</th>\n",
       "      <th>secondary_cleaner.output.tail_sol</th>\n",
       "      <th>secondary_cleaner.output.tail_au</th>\n",
       "      <th>secondary_cleaner.state.floatbank2_a_air</th>\n",
       "      <th>secondary_cleaner.state.floatbank2_a_level</th>\n",
       "      <th>secondary_cleaner.state.floatbank2_b_air</th>\n",
       "      <th>secondary_cleaner.state.floatbank2_b_level</th>\n",
       "      <th>secondary_cleaner.state.floatbank3_a_air</th>\n",
       "      <th>secondary_cleaner.state.floatbank3_a_level</th>\n",
       "      <th>secondary_cleaner.state.floatbank3_b_air</th>\n",
       "      <th>secondary_cleaner.state.floatbank3_b_level</th>\n",
       "      <th>secondary_cleaner.state.floatbank4_a_air</th>\n",
       "      <th>secondary_cleaner.state.floatbank4_a_level</th>\n",
       "      <th>secondary_cleaner.state.floatbank4_b_air</th>\n",
       "      <th>secondary_cleaner.state.floatbank4_b_level</th>\n",
       "      <th>secondary_cleaner.state.floatbank5_a_air</th>\n",
       "      <th>secondary_cleaner.state.floatbank5_a_level</th>\n",
       "      <th>secondary_cleaner.state.floatbank5_b_air</th>\n",
       "      <th>secondary_cleaner.state.floatbank5_b_level</th>\n",
       "      <th>secondary_cleaner.state.floatbank6_a_air</th>\n",
       "      <th>secondary_cleaner.state.floatbank6_a_level</th>\n",
       "    </tr>\n",
       "  </thead>\n",
       "  <tbody>\n",
       "    <tr>\n",
       "      <th>0</th>\n",
       "      <td>2016-01-15 00:00:00</td>\n",
       "      <td>6.055403</td>\n",
       "      <td>9.889648</td>\n",
       "      <td>5.507324</td>\n",
       "      <td>42.192020</td>\n",
       "      <td>70.541216</td>\n",
       "      <td>10.411962</td>\n",
       "      <td>0.895447</td>\n",
       "      <td>16.904297</td>\n",
       "      <td>2.143149</td>\n",
       "      <td>127.092003</td>\n",
       "      <td>10.128295</td>\n",
       "      <td>7.25</td>\n",
       "      <td>0.988759</td>\n",
       "      <td>8.547551</td>\n",
       "      <td>10.389648</td>\n",
       "      <td>19.529297</td>\n",
       "      <td>34.174427</td>\n",
       "      <td>14.936526</td>\n",
       "      <td>2.534912</td>\n",
       "      <td>7.476074</td>\n",
       "      <td>2.106679</td>\n",
       "      <td>1549.775757</td>\n",
       "      <td>-498.912140</td>\n",
       "      <td>1551.434204</td>\n",
       "      <td>-516.403442</td>\n",
       "      <td>1549.873901</td>\n",
       "      <td>-498.666595</td>\n",
       "      <td>1554.367432</td>\n",
       "      <td>-493.428131</td>\n",
       "      <td>41885.707031</td>\n",
       "      <td>3481.779053</td>\n",
       "      <td>3520.337158</td>\n",
       "      <td>2.838687</td>\n",
       "      <td>6.100378</td>\n",
       "      <td>2.284912</td>\n",
       "      <td>523.546326</td>\n",
       "      <td>55.486599</td>\n",
       "      <td>36.808594</td>\n",
       "      <td>6.486150</td>\n",
       "      <td>11.986616</td>\n",
       "      <td>6.007990</td>\n",
       "      <td>11.836743</td>\n",
       "      <td>6.005818</td>\n",
       "      <td>11.500771</td>\n",
       "      <td>7.101074</td>\n",
       "      <td>28.029297</td>\n",
       "      <td>19.793808</td>\n",
       "      <td>87.107763</td>\n",
       "      <td>5.008018</td>\n",
       "      <td>0.508728</td>\n",
       "      <td>19.154297</td>\n",
       "      <td>1.170244</td>\n",
       "      <td>999.706909</td>\n",
       "      <td>-404.066986</td>\n",
       "      <td>1603.011353</td>\n",
       "      <td>-434.715027</td>\n",
       "      <td>1602.375000</td>\n",
       "      <td>-442.204468</td>\n",
       "      <td>1598.937256</td>\n",
       "      <td>-451.294128</td>\n",
       "      <td>1404.472046</td>\n",
       "      <td>-455.462982</td>\n",
       "      <td>1416.354980</td>\n",
       "      <td>-451.939636</td>\n",
       "      <td>14.500184</td>\n",
       "      <td>4.694824</td>\n",
       "      <td>8.764648</td>\n",
       "      <td>2.606185</td>\n",
       "      <td>25.853109</td>\n",
       "      <td>-498.526489</td>\n",
       "      <td>23.893660</td>\n",
       "      <td>-501.406281</td>\n",
       "      <td>23.961798</td>\n",
       "      <td>-495.262817</td>\n",
       "      <td>21.940409</td>\n",
       "      <td>-499.340973</td>\n",
       "      <td>14.016835</td>\n",
       "      <td>-502.488007</td>\n",
       "      <td>12.099931</td>\n",
       "      <td>-504.715942</td>\n",
       "      <td>9.925633</td>\n",
       "      <td>-498.310211</td>\n",
       "      <td>8.079666</td>\n",
       "      <td>-500.470978</td>\n",
       "      <td>14.151341</td>\n",
       "      <td>-605.841980</td>\n",
       "    </tr>\n",
       "    <tr>\n",
       "      <th>1</th>\n",
       "      <td>2016-01-15 01:00:00</td>\n",
       "      <td>6.029369</td>\n",
       "      <td>9.968944</td>\n",
       "      <td>5.257781</td>\n",
       "      <td>42.701629</td>\n",
       "      <td>69.266198</td>\n",
       "      <td>10.462676</td>\n",
       "      <td>0.927452</td>\n",
       "      <td>16.634514</td>\n",
       "      <td>2.224930</td>\n",
       "      <td>125.629232</td>\n",
       "      <td>10.296251</td>\n",
       "      <td>7.25</td>\n",
       "      <td>1.002663</td>\n",
       "      <td>8.558743</td>\n",
       "      <td>10.497069</td>\n",
       "      <td>19.369147</td>\n",
       "      <td>34.118526</td>\n",
       "      <td>16.250511</td>\n",
       "      <td>3.049646</td>\n",
       "      <td>6.733907</td>\n",
       "      <td>2.353017</td>\n",
       "      <td>1576.166671</td>\n",
       "      <td>-500.904965</td>\n",
       "      <td>1575.950626</td>\n",
       "      <td>-499.865889</td>\n",
       "      <td>1575.994189</td>\n",
       "      <td>-499.315107</td>\n",
       "      <td>1574.479259</td>\n",
       "      <td>-498.931665</td>\n",
       "      <td>42050.861809</td>\n",
       "      <td>3498.370979</td>\n",
       "      <td>3489.981857</td>\n",
       "      <td>2.858998</td>\n",
       "      <td>6.161113</td>\n",
       "      <td>2.266033</td>\n",
       "      <td>525.290581</td>\n",
       "      <td>57.278666</td>\n",
       "      <td>35.753385</td>\n",
       "      <td>6.478583</td>\n",
       "      <td>11.971193</td>\n",
       "      <td>6.005766</td>\n",
       "      <td>11.996163</td>\n",
       "      <td>6.012594</td>\n",
       "      <td>11.615865</td>\n",
       "      <td>7.278807</td>\n",
       "      <td>28.067063</td>\n",
       "      <td>20.050975</td>\n",
       "      <td>86.843261</td>\n",
       "      <td>4.955378</td>\n",
       "      <td>0.536689</td>\n",
       "      <td>18.965234</td>\n",
       "      <td>1.184827</td>\n",
       "      <td>1000.286398</td>\n",
       "      <td>-400.065196</td>\n",
       "      <td>1600.754587</td>\n",
       "      <td>-449.953435</td>\n",
       "      <td>1600.479580</td>\n",
       "      <td>-449.830646</td>\n",
       "      <td>1600.527589</td>\n",
       "      <td>-449.953649</td>\n",
       "      <td>1399.227084</td>\n",
       "      <td>-450.869848</td>\n",
       "      <td>1399.719514</td>\n",
       "      <td>-450.119001</td>\n",
       "      <td>14.265474</td>\n",
       "      <td>4.592547</td>\n",
       "      <td>9.001494</td>\n",
       "      <td>2.488248</td>\n",
       "      <td>25.880539</td>\n",
       "      <td>-499.989656</td>\n",
       "      <td>23.889530</td>\n",
       "      <td>-500.372428</td>\n",
       "      <td>23.970550</td>\n",
       "      <td>-500.085473</td>\n",
       "      <td>22.085714</td>\n",
       "      <td>-499.446897</td>\n",
       "      <td>13.992281</td>\n",
       "      <td>-505.503262</td>\n",
       "      <td>11.950531</td>\n",
       "      <td>-501.331529</td>\n",
       "      <td>10.039245</td>\n",
       "      <td>-500.169983</td>\n",
       "      <td>7.984757</td>\n",
       "      <td>-500.582168</td>\n",
       "      <td>13.998353</td>\n",
       "      <td>-599.787184</td>\n",
       "    </tr>\n",
       "    <tr>\n",
       "      <th>2</th>\n",
       "      <td>2016-01-15 02:00:00</td>\n",
       "      <td>6.055926</td>\n",
       "      <td>10.213995</td>\n",
       "      <td>5.383759</td>\n",
       "      <td>42.657501</td>\n",
       "      <td>68.116445</td>\n",
       "      <td>10.507046</td>\n",
       "      <td>0.953716</td>\n",
       "      <td>16.208849</td>\n",
       "      <td>2.257889</td>\n",
       "      <td>123.819808</td>\n",
       "      <td>11.316280</td>\n",
       "      <td>7.25</td>\n",
       "      <td>0.991265</td>\n",
       "      <td>8.603505</td>\n",
       "      <td>10.354494</td>\n",
       "      <td>19.167579</td>\n",
       "      <td>33.969464</td>\n",
       "      <td>16.491823</td>\n",
       "      <td>3.124664</td>\n",
       "      <td>6.471768</td>\n",
       "      <td>2.416800</td>\n",
       "      <td>1601.556163</td>\n",
       "      <td>-499.997791</td>\n",
       "      <td>1600.386685</td>\n",
       "      <td>-500.607762</td>\n",
       "      <td>1602.003542</td>\n",
       "      <td>-500.870069</td>\n",
       "      <td>1599.541515</td>\n",
       "      <td>-499.827444</td>\n",
       "      <td>42018.101184</td>\n",
       "      <td>3495.348910</td>\n",
       "      <td>3502.359819</td>\n",
       "      <td>2.945989</td>\n",
       "      <td>6.116455</td>\n",
       "      <td>2.159622</td>\n",
       "      <td>530.026610</td>\n",
       "      <td>57.510649</td>\n",
       "      <td>35.971630</td>\n",
       "      <td>6.362222</td>\n",
       "      <td>11.920603</td>\n",
       "      <td>6.197377</td>\n",
       "      <td>11.920305</td>\n",
       "      <td>6.204633</td>\n",
       "      <td>11.695753</td>\n",
       "      <td>7.216833</td>\n",
       "      <td>27.454037</td>\n",
       "      <td>19.737170</td>\n",
       "      <td>86.842308</td>\n",
       "      <td>4.843460</td>\n",
       "      <td>0.546416</td>\n",
       "      <td>18.808533</td>\n",
       "      <td>1.162562</td>\n",
       "      <td>999.719565</td>\n",
       "      <td>-400.074028</td>\n",
       "      <td>1599.337330</td>\n",
       "      <td>-450.008530</td>\n",
       "      <td>1599.672797</td>\n",
       "      <td>-449.954491</td>\n",
       "      <td>1599.849325</td>\n",
       "      <td>-449.954185</td>\n",
       "      <td>1399.180945</td>\n",
       "      <td>-449.937588</td>\n",
       "      <td>1400.316682</td>\n",
       "      <td>-450.527147</td>\n",
       "      <td>14.115662</td>\n",
       "      <td>4.624775</td>\n",
       "      <td>8.842896</td>\n",
       "      <td>2.458187</td>\n",
       "      <td>26.005245</td>\n",
       "      <td>-499.929616</td>\n",
       "      <td>23.886657</td>\n",
       "      <td>-499.951928</td>\n",
       "      <td>23.913535</td>\n",
       "      <td>-499.442343</td>\n",
       "      <td>23.957717</td>\n",
       "      <td>-499.901982</td>\n",
       "      <td>14.015015</td>\n",
       "      <td>-502.520901</td>\n",
       "      <td>11.912783</td>\n",
       "      <td>-501.133383</td>\n",
       "      <td>10.070913</td>\n",
       "      <td>-500.129135</td>\n",
       "      <td>8.013877</td>\n",
       "      <td>-500.517572</td>\n",
       "      <td>14.028663</td>\n",
       "      <td>-601.427363</td>\n",
       "    </tr>\n",
       "    <tr>\n",
       "      <th>3</th>\n",
       "      <td>2016-01-15 03:00:00</td>\n",
       "      <td>6.047977</td>\n",
       "      <td>9.977019</td>\n",
       "      <td>4.858634</td>\n",
       "      <td>42.689819</td>\n",
       "      <td>68.347543</td>\n",
       "      <td>10.422762</td>\n",
       "      <td>0.883763</td>\n",
       "      <td>16.532835</td>\n",
       "      <td>2.146849</td>\n",
       "      <td>122.270188</td>\n",
       "      <td>11.322140</td>\n",
       "      <td>7.25</td>\n",
       "      <td>0.996739</td>\n",
       "      <td>7.221879</td>\n",
       "      <td>8.496563</td>\n",
       "      <td>15.978538</td>\n",
       "      <td>28.260743</td>\n",
       "      <td>16.024359</td>\n",
       "      <td>2.960362</td>\n",
       "      <td>6.843791</td>\n",
       "      <td>2.262051</td>\n",
       "      <td>1599.968720</td>\n",
       "      <td>-500.951778</td>\n",
       "      <td>1600.659236</td>\n",
       "      <td>-499.677094</td>\n",
       "      <td>1600.304144</td>\n",
       "      <td>-500.727997</td>\n",
       "      <td>1600.449520</td>\n",
       "      <td>-500.052575</td>\n",
       "      <td>42029.447991</td>\n",
       "      <td>3498.578313</td>\n",
       "      <td>3499.162912</td>\n",
       "      <td>3.002340</td>\n",
       "      <td>6.043309</td>\n",
       "      <td>2.037807</td>\n",
       "      <td>542.590390</td>\n",
       "      <td>57.792734</td>\n",
       "      <td>36.862241</td>\n",
       "      <td>6.118189</td>\n",
       "      <td>11.630094</td>\n",
       "      <td>6.203177</td>\n",
       "      <td>11.692450</td>\n",
       "      <td>6.196578</td>\n",
       "      <td>11.915047</td>\n",
       "      <td>7.175616</td>\n",
       "      <td>27.341277</td>\n",
       "      <td>19.320810</td>\n",
       "      <td>87.226430</td>\n",
       "      <td>4.655288</td>\n",
       "      <td>0.542525</td>\n",
       "      <td>19.330200</td>\n",
       "      <td>1.079755</td>\n",
       "      <td>999.814770</td>\n",
       "      <td>-400.200179</td>\n",
       "      <td>1600.059442</td>\n",
       "      <td>-450.619948</td>\n",
       "      <td>1600.012842</td>\n",
       "      <td>-449.910497</td>\n",
       "      <td>1597.725177</td>\n",
       "      <td>-450.130127</td>\n",
       "      <td>1400.943157</td>\n",
       "      <td>-450.030142</td>\n",
       "      <td>1400.234743</td>\n",
       "      <td>-449.790835</td>\n",
       "      <td>13.732071</td>\n",
       "      <td>4.482453</td>\n",
       "      <td>9.122857</td>\n",
       "      <td>2.322062</td>\n",
       "      <td>25.942508</td>\n",
       "      <td>-499.176749</td>\n",
       "      <td>23.955516</td>\n",
       "      <td>-499.848796</td>\n",
       "      <td>23.966838</td>\n",
       "      <td>-500.008812</td>\n",
       "      <td>23.954443</td>\n",
       "      <td>-499.944710</td>\n",
       "      <td>14.036510</td>\n",
       "      <td>-500.857308</td>\n",
       "      <td>11.999550</td>\n",
       "      <td>-501.193686</td>\n",
       "      <td>9.970366</td>\n",
       "      <td>-499.201640</td>\n",
       "      <td>7.977324</td>\n",
       "      <td>-500.255908</td>\n",
       "      <td>14.005551</td>\n",
       "      <td>-599.996129</td>\n",
       "    </tr>\n",
       "    <tr>\n",
       "      <th>4</th>\n",
       "      <td>2016-01-15 04:00:00</td>\n",
       "      <td>6.148599</td>\n",
       "      <td>10.142511</td>\n",
       "      <td>4.939416</td>\n",
       "      <td>42.774141</td>\n",
       "      <td>66.927016</td>\n",
       "      <td>10.360302</td>\n",
       "      <td>0.792826</td>\n",
       "      <td>16.525686</td>\n",
       "      <td>2.055292</td>\n",
       "      <td>117.988169</td>\n",
       "      <td>11.913613</td>\n",
       "      <td>7.25</td>\n",
       "      <td>1.009869</td>\n",
       "      <td>9.089428</td>\n",
       "      <td>9.986786</td>\n",
       "      <td>19.199864</td>\n",
       "      <td>33.044932</td>\n",
       "      <td>16.480185</td>\n",
       "      <td>3.112100</td>\n",
       "      <td>6.550154</td>\n",
       "      <td>2.277073</td>\n",
       "      <td>1601.339707</td>\n",
       "      <td>-498.975456</td>\n",
       "      <td>1601.437854</td>\n",
       "      <td>-500.323246</td>\n",
       "      <td>1599.581894</td>\n",
       "      <td>-500.888152</td>\n",
       "      <td>1602.649541</td>\n",
       "      <td>-500.593010</td>\n",
       "      <td>42125.354245</td>\n",
       "      <td>3494.800771</td>\n",
       "      <td>3506.679315</td>\n",
       "      <td>3.169615</td>\n",
       "      <td>6.060915</td>\n",
       "      <td>1.786875</td>\n",
       "      <td>540.531893</td>\n",
       "      <td>56.047189</td>\n",
       "      <td>34.347666</td>\n",
       "      <td>5.663707</td>\n",
       "      <td>10.957755</td>\n",
       "      <td>6.198826</td>\n",
       "      <td>10.960521</td>\n",
       "      <td>6.194897</td>\n",
       "      <td>12.411054</td>\n",
       "      <td>7.240205</td>\n",
       "      <td>27.041023</td>\n",
       "      <td>19.216101</td>\n",
       "      <td>86.688794</td>\n",
       "      <td>4.552800</td>\n",
       "      <td>0.515438</td>\n",
       "      <td>19.267422</td>\n",
       "      <td>1.012642</td>\n",
       "      <td>999.678690</td>\n",
       "      <td>-399.752729</td>\n",
       "      <td>1600.208824</td>\n",
       "      <td>-449.599614</td>\n",
       "      <td>1600.357732</td>\n",
       "      <td>-450.034364</td>\n",
       "      <td>1599.759049</td>\n",
       "      <td>-449.909799</td>\n",
       "      <td>1401.560902</td>\n",
       "      <td>-448.877187</td>\n",
       "      <td>1401.160227</td>\n",
       "      <td>-450.407128</td>\n",
       "      <td>14.079996</td>\n",
       "      <td>4.470737</td>\n",
       "      <td>8.871028</td>\n",
       "      <td>2.330448</td>\n",
       "      <td>26.024787</td>\n",
       "      <td>-500.279091</td>\n",
       "      <td>23.955345</td>\n",
       "      <td>-500.593614</td>\n",
       "      <td>23.985703</td>\n",
       "      <td>-500.083811</td>\n",
       "      <td>23.958945</td>\n",
       "      <td>-499.990309</td>\n",
       "      <td>14.027298</td>\n",
       "      <td>-499.838632</td>\n",
       "      <td>11.953070</td>\n",
       "      <td>-501.053894</td>\n",
       "      <td>9.925709</td>\n",
       "      <td>-501.686727</td>\n",
       "      <td>7.894242</td>\n",
       "      <td>-500.356035</td>\n",
       "      <td>13.996647</td>\n",
       "      <td>-601.496691</td>\n",
       "    </tr>\n",
       "    <tr>\n",
       "      <th>5</th>\n",
       "      <td>2016-01-15 05:00:00</td>\n",
       "      <td>6.482968</td>\n",
       "      <td>10.049416</td>\n",
       "      <td>5.480257</td>\n",
       "      <td>41.633678</td>\n",
       "      <td>69.465816</td>\n",
       "      <td>10.182708</td>\n",
       "      <td>0.664118</td>\n",
       "      <td>16.999638</td>\n",
       "      <td>1.918586</td>\n",
       "      <td>115.581252</td>\n",
       "      <td>12.470773</td>\n",
       "      <td>7.25</td>\n",
       "      <td>0.965760</td>\n",
       "      <td>9.553724</td>\n",
       "      <td>9.816215</td>\n",
       "      <td>19.167328</td>\n",
       "      <td>32.070664</td>\n",
       "      <td>15.931540</td>\n",
       "      <td>2.844511</td>\n",
       "      <td>6.724197</td>\n",
       "      <td>2.114558</td>\n",
       "      <td>1602.964922</td>\n",
       "      <td>-498.090944</td>\n",
       "      <td>1602.074298</td>\n",
       "      <td>-500.179481</td>\n",
       "      <td>1602.154812</td>\n",
       "      <td>-498.642614</td>\n",
       "      <td>1605.020106</td>\n",
       "      <td>-500.538177</td>\n",
       "      <td>41973.280986</td>\n",
       "      <td>3501.916973</td>\n",
       "      <td>3499.527175</td>\n",
       "      <td>3.026134</td>\n",
       "      <td>5.801920</td>\n",
       "      <td>1.879351</td>\n",
       "      <td>546.173470</td>\n",
       "      <td>57.469578</td>\n",
       "      <td>35.470082</td>\n",
       "      <td>5.687168</td>\n",
       "      <td>11.072517</td>\n",
       "      <td>6.200383</td>\n",
       "      <td>11.075009</td>\n",
       "      <td>6.202362</td>\n",
       "      <td>11.985584</td>\n",
       "      <td>7.121903</td>\n",
       "      <td>26.898046</td>\n",
       "      <td>18.950385</td>\n",
       "      <td>88.156912</td>\n",
       "      <td>4.397415</td>\n",
       "      <td>0.491350</td>\n",
       "      <td>19.640269</td>\n",
       "      <td>0.915835</td>\n",
       "      <td>999.934134</td>\n",
       "      <td>-400.599524</td>\n",
       "      <td>1601.080554</td>\n",
       "      <td>-450.120760</td>\n",
       "      <td>1603.164805</td>\n",
       "      <td>-450.097732</td>\n",
       "      <td>1603.368371</td>\n",
       "      <td>-446.306150</td>\n",
       "      <td>1403.393100</td>\n",
       "      <td>-447.899904</td>\n",
       "      <td>1402.903175</td>\n",
       "      <td>-448.872321</td>\n",
       "      <td>13.615012</td>\n",
       "      <td>4.286817</td>\n",
       "      <td>9.302669</td>\n",
       "      <td>2.192127</td>\n",
       "      <td>26.014841</td>\n",
       "      <td>-498.864670</td>\n",
       "      <td>23.880214</td>\n",
       "      <td>-499.738447</td>\n",
       "      <td>23.982635</td>\n",
       "      <td>-500.495272</td>\n",
       "      <td>24.009749</td>\n",
       "      <td>-499.433825</td>\n",
       "      <td>13.938497</td>\n",
       "      <td>-500.970168</td>\n",
       "      <td>11.883350</td>\n",
       "      <td>-500.395298</td>\n",
       "      <td>10.054147</td>\n",
       "      <td>-496.374715</td>\n",
       "      <td>7.965083</td>\n",
       "      <td>-499.364752</td>\n",
       "      <td>14.017067</td>\n",
       "      <td>-599.707915</td>\n",
       "    </tr>\n",
       "    <tr>\n",
       "      <th>6</th>\n",
       "      <td>2016-01-15 06:00:00</td>\n",
       "      <td>6.533849</td>\n",
       "      <td>10.058141</td>\n",
       "      <td>4.569100</td>\n",
       "      <td>41.995316</td>\n",
       "      <td>69.300835</td>\n",
       "      <td>10.304598</td>\n",
       "      <td>0.807342</td>\n",
       "      <td>16.723575</td>\n",
       "      <td>2.058913</td>\n",
       "      <td>117.322323</td>\n",
       "      <td>12.469088</td>\n",
       "      <td>7.25</td>\n",
       "      <td>0.895207</td>\n",
       "      <td>8.968869</td>\n",
       "      <td>10.081306</td>\n",
       "      <td>18.930855</td>\n",
       "      <td>33.184823</td>\n",
       "      <td>16.078368</td>\n",
       "      <td>2.938979</td>\n",
       "      <td>6.623598</td>\n",
       "      <td>2.223152</td>\n",
       "      <td>1597.532455</td>\n",
       "      <td>-500.985364</td>\n",
       "      <td>1602.816321</td>\n",
       "      <td>-500.696736</td>\n",
       "      <td>1603.572091</td>\n",
       "      <td>-500.256955</td>\n",
       "      <td>1597.597437</td>\n",
       "      <td>-500.378192</td>\n",
       "      <td>41956.468979</td>\n",
       "      <td>3497.427365</td>\n",
       "      <td>3506.352790</td>\n",
       "      <td>2.867933</td>\n",
       "      <td>6.056253</td>\n",
       "      <td>2.105501</td>\n",
       "      <td>523.376439</td>\n",
       "      <td>56.674647</td>\n",
       "      <td>34.920570</td>\n",
       "      <td>6.038436</td>\n",
       "      <td>11.535899</td>\n",
       "      <td>6.204974</td>\n",
       "      <td>11.539227</td>\n",
       "      <td>6.200515</td>\n",
       "      <td>11.684307</td>\n",
       "      <td>7.304849</td>\n",
       "      <td>27.063672</td>\n",
       "      <td>19.319591</td>\n",
       "      <td>88.168065</td>\n",
       "      <td>4.478080</td>\n",
       "      <td>0.518266</td>\n",
       "      <td>19.262491</td>\n",
       "      <td>0.986248</td>\n",
       "      <td>999.832373</td>\n",
       "      <td>-399.353521</td>\n",
       "      <td>1600.753019</td>\n",
       "      <td>-450.050089</td>\n",
       "      <td>1599.019966</td>\n",
       "      <td>-449.848507</td>\n",
       "      <td>1600.298267</td>\n",
       "      <td>-453.102891</td>\n",
       "      <td>1397.853265</td>\n",
       "      <td>-451.306640</td>\n",
       "      <td>1397.973670</td>\n",
       "      <td>-451.355626</td>\n",
       "      <td>13.597056</td>\n",
       "      <td>4.487865</td>\n",
       "      <td>9.103047</td>\n",
       "      <td>2.316720</td>\n",
       "      <td>25.957594</td>\n",
       "      <td>-500.134472</td>\n",
       "      <td>24.077199</td>\n",
       "      <td>-500.089190</td>\n",
       "      <td>23.991710</td>\n",
       "      <td>-500.391528</td>\n",
       "      <td>23.954144</td>\n",
       "      <td>-501.872171</td>\n",
       "      <td>14.046819</td>\n",
       "      <td>-500.971133</td>\n",
       "      <td>12.091543</td>\n",
       "      <td>-500.501426</td>\n",
       "      <td>10.003247</td>\n",
       "      <td>-497.083180</td>\n",
       "      <td>8.010890</td>\n",
       "      <td>-500.002423</td>\n",
       "      <td>14.029649</td>\n",
       "      <td>-600.905470</td>\n",
       "    </tr>\n",
       "    <tr>\n",
       "      <th>7</th>\n",
       "      <td>2016-01-15 07:00:00</td>\n",
       "      <td>6.130823</td>\n",
       "      <td>9.935481</td>\n",
       "      <td>4.389813</td>\n",
       "      <td>42.452727</td>\n",
       "      <td>70.230976</td>\n",
       "      <td>10.443288</td>\n",
       "      <td>0.949346</td>\n",
       "      <td>16.689959</td>\n",
       "      <td>2.143437</td>\n",
       "      <td>124.592960</td>\n",
       "      <td>12.467403</td>\n",
       "      <td>7.25</td>\n",
       "      <td>0.901202</td>\n",
       "      <td>8.545238</td>\n",
       "      <td>10.224540</td>\n",
       "      <td>18.735813</td>\n",
       "      <td>34.027719</td>\n",
       "      <td>15.797720</td>\n",
       "      <td>2.881529</td>\n",
       "      <td>6.872033</td>\n",
       "      <td>2.112025</td>\n",
       "      <td>1597.946266</td>\n",
       "      <td>-501.592304</td>\n",
       "      <td>1601.078254</td>\n",
       "      <td>-499.494115</td>\n",
       "      <td>1602.630688</td>\n",
       "      <td>-500.173741</td>\n",
       "      <td>1595.937990</td>\n",
       "      <td>-498.929825</td>\n",
       "      <td>41812.416893</td>\n",
       "      <td>3497.275828</td>\n",
       "      <td>3501.000030</td>\n",
       "      <td>2.784698</td>\n",
       "      <td>5.955053</td>\n",
       "      <td>2.310432</td>\n",
       "      <td>549.842749</td>\n",
       "      <td>56.730325</td>\n",
       "      <td>36.091386</td>\n",
       "      <td>6.433854</td>\n",
       "      <td>12.557906</td>\n",
       "      <td>6.799275</td>\n",
       "      <td>12.583109</td>\n",
       "      <td>6.798354</td>\n",
       "      <td>11.182624</td>\n",
       "      <td>7.258496</td>\n",
       "      <td>27.231114</td>\n",
       "      <td>19.507897</td>\n",
       "      <td>87.668336</td>\n",
       "      <td>4.728325</td>\n",
       "      <td>0.548067</td>\n",
       "      <td>18.861866</td>\n",
       "      <td>1.116110</td>\n",
       "      <td>1000.166602</td>\n",
       "      <td>-400.556601</td>\n",
       "      <td>1598.877246</td>\n",
       "      <td>-450.070980</td>\n",
       "      <td>1598.108717</td>\n",
       "      <td>-449.211334</td>\n",
       "      <td>1592.872844</td>\n",
       "      <td>-449.806802</td>\n",
       "      <td>1396.580752</td>\n",
       "      <td>-453.548352</td>\n",
       "      <td>1397.289884</td>\n",
       "      <td>-450.221696</td>\n",
       "      <td>13.177237</td>\n",
       "      <td>4.432448</td>\n",
       "      <td>9.369209</td>\n",
       "      <td>2.192197</td>\n",
       "      <td>25.938026</td>\n",
       "      <td>-499.657795</td>\n",
       "      <td>24.020179</td>\n",
       "      <td>-499.798396</td>\n",
       "      <td>24.031555</td>\n",
       "      <td>-500.550436</td>\n",
       "      <td>23.968160</td>\n",
       "      <td>-499.836513</td>\n",
       "      <td>13.974691</td>\n",
       "      <td>-501.819696</td>\n",
       "      <td>12.101324</td>\n",
       "      <td>-500.583446</td>\n",
       "      <td>9.873169</td>\n",
       "      <td>-499.171928</td>\n",
       "      <td>7.993381</td>\n",
       "      <td>-499.794518</td>\n",
       "      <td>13.984498</td>\n",
       "      <td>-600.411070</td>\n",
       "    </tr>\n",
       "    <tr>\n",
       "      <th>8</th>\n",
       "      <td>2016-01-15 08:00:00</td>\n",
       "      <td>5.834140</td>\n",
       "      <td>10.071156</td>\n",
       "      <td>4.876389</td>\n",
       "      <td>43.404078</td>\n",
       "      <td>69.688595</td>\n",
       "      <td>10.420140</td>\n",
       "      <td>1.065453</td>\n",
       "      <td>17.201948</td>\n",
       "      <td>2.209881</td>\n",
       "      <td>131.781026</td>\n",
       "      <td>12.465718</td>\n",
       "      <td>7.25</td>\n",
       "      <td>0.885535</td>\n",
       "      <td>8.046686</td>\n",
       "      <td>10.500065</td>\n",
       "      <td>18.560288</td>\n",
       "      <td>34.964974</td>\n",
       "      <td>16.195420</td>\n",
       "      <td>3.089922</td>\n",
       "      <td>6.705633</td>\n",
       "      <td>2.243817</td>\n",
       "      <td>1601.670053</td>\n",
       "      <td>-499.548891</td>\n",
       "      <td>1598.804355</td>\n",
       "      <td>-499.689644</td>\n",
       "      <td>1601.689285</td>\n",
       "      <td>-500.484957</td>\n",
       "      <td>1602.431117</td>\n",
       "      <td>-500.650982</td>\n",
       "      <td>41905.757985</td>\n",
       "      <td>3498.332166</td>\n",
       "      <td>3498.120075</td>\n",
       "      <td>2.728844</td>\n",
       "      <td>5.878084</td>\n",
       "      <td>2.391713</td>\n",
       "      <td>560.115242</td>\n",
       "      <td>56.649893</td>\n",
       "      <td>35.753879</td>\n",
       "      <td>6.526612</td>\n",
       "      <td>13.166128</td>\n",
       "      <td>6.798659</td>\n",
       "      <td>13.184764</td>\n",
       "      <td>6.800021</td>\n",
       "      <td>11.051323</td>\n",
       "      <td>7.380043</td>\n",
       "      <td>27.404296</td>\n",
       "      <td>19.789465</td>\n",
       "      <td>87.035862</td>\n",
       "      <td>4.764300</td>\n",
       "      <td>0.599181</td>\n",
       "      <td>18.873082</td>\n",
       "      <td>1.186780</td>\n",
       "      <td>1000.026864</td>\n",
       "      <td>-399.968583</td>\n",
       "      <td>1599.813104</td>\n",
       "      <td>-450.481122</td>\n",
       "      <td>1600.024621</td>\n",
       "      <td>-450.365493</td>\n",
       "      <td>1594.448648</td>\n",
       "      <td>-449.882428</td>\n",
       "      <td>1402.033682</td>\n",
       "      <td>-448.545552</td>\n",
       "      <td>1400.748347</td>\n",
       "      <td>-450.303991</td>\n",
       "      <td>13.487870</td>\n",
       "      <td>4.608756</td>\n",
       "      <td>9.437044</td>\n",
       "      <td>2.212084</td>\n",
       "      <td>25.929511</td>\n",
       "      <td>-500.079889</td>\n",
       "      <td>23.977375</td>\n",
       "      <td>-500.005187</td>\n",
       "      <td>23.998809</td>\n",
       "      <td>-500.400133</td>\n",
       "      <td>23.982633</td>\n",
       "      <td>-499.826311</td>\n",
       "      <td>13.964030</td>\n",
       "      <td>-504.252450</td>\n",
       "      <td>12.060738</td>\n",
       "      <td>-501.174549</td>\n",
       "      <td>10.033838</td>\n",
       "      <td>-501.178133</td>\n",
       "      <td>7.881604</td>\n",
       "      <td>-499.729434</td>\n",
       "      <td>13.967135</td>\n",
       "      <td>-599.061188</td>\n",
       "    </tr>\n",
       "    <tr>\n",
       "      <th>9</th>\n",
       "      <td>2016-01-15 09:00:00</td>\n",
       "      <td>5.687063</td>\n",
       "      <td>9.980404</td>\n",
       "      <td>5.282514</td>\n",
       "      <td>43.235220</td>\n",
       "      <td>70.279619</td>\n",
       "      <td>10.487013</td>\n",
       "      <td>1.159805</td>\n",
       "      <td>17.483979</td>\n",
       "      <td>2.209593</td>\n",
       "      <td>138.120409</td>\n",
       "      <td>12.464032</td>\n",
       "      <td>7.25</td>\n",
       "      <td>0.898779</td>\n",
       "      <td>8.098985</td>\n",
       "      <td>10.525324</td>\n",
       "      <td>18.436589</td>\n",
       "      <td>34.826500</td>\n",
       "      <td>15.535214</td>\n",
       "      <td>2.866688</td>\n",
       "      <td>7.265906</td>\n",
       "      <td>2.025454</td>\n",
       "      <td>1603.436598</td>\n",
       "      <td>-499.864400</td>\n",
       "      <td>1597.455353</td>\n",
       "      <td>-500.266905</td>\n",
       "      <td>1600.747882</td>\n",
       "      <td>-500.541002</td>\n",
       "      <td>1599.754053</td>\n",
       "      <td>-499.216962</td>\n",
       "      <td>41882.126352</td>\n",
       "      <td>3499.915439</td>\n",
       "      <td>3519.952954</td>\n",
       "      <td>2.717442</td>\n",
       "      <td>5.908793</td>\n",
       "      <td>2.440899</td>\n",
       "      <td>573.076049</td>\n",
       "      <td>58.509262</td>\n",
       "      <td>36.958540</td>\n",
       "      <td>6.633002</td>\n",
       "      <td>13.707775</td>\n",
       "      <td>6.820245</td>\n",
       "      <td>13.812674</td>\n",
       "      <td>6.790624</td>\n",
       "      <td>11.116297</td>\n",
       "      <td>7.297363</td>\n",
       "      <td>27.497520</td>\n",
       "      <td>19.497669</td>\n",
       "      <td>87.650868</td>\n",
       "      <td>4.667157</td>\n",
       "      <td>0.615418</td>\n",
       "      <td>18.907179</td>\n",
       "      <td>1.167140</td>\n",
       "      <td>1000.589156</td>\n",
       "      <td>-398.879586</td>\n",
       "      <td>1598.975250</td>\n",
       "      <td>-451.238638</td>\n",
       "      <td>1600.058139</td>\n",
       "      <td>-451.271448</td>\n",
       "      <td>1610.182874</td>\n",
       "      <td>-450.460190</td>\n",
       "      <td>1399.194663</td>\n",
       "      <td>-450.332681</td>\n",
       "      <td>1399.638290</td>\n",
       "      <td>-450.198722</td>\n",
       "      <td>13.209191</td>\n",
       "      <td>4.550553</td>\n",
       "      <td>9.813732</td>\n",
       "      <td>2.073737</td>\n",
       "      <td>26.059510</td>\n",
       "      <td>-499.151646</td>\n",
       "      <td>23.934570</td>\n",
       "      <td>-499.351758</td>\n",
       "      <td>23.994184</td>\n",
       "      <td>-500.078566</td>\n",
       "      <td>23.924481</td>\n",
       "      <td>-499.989024</td>\n",
       "      <td>13.989632</td>\n",
       "      <td>-503.195299</td>\n",
       "      <td>12.052233</td>\n",
       "      <td>-500.928547</td>\n",
       "      <td>9.962574</td>\n",
       "      <td>-502.986357</td>\n",
       "      <td>7.979219</td>\n",
       "      <td>-500.146835</td>\n",
       "      <td>13.981614</td>\n",
       "      <td>-598.070855</td>\n",
       "    </tr>\n",
       "  </tbody>\n",
       "</table>\n",
       "</div>"
      ],
      "text/plain": [
       "                  date  final.output.concentrate_ag  \\\n",
       "0  2016-01-15 00:00:00                     6.055403   \n",
       "1  2016-01-15 01:00:00                     6.029369   \n",
       "2  2016-01-15 02:00:00                     6.055926   \n",
       "3  2016-01-15 03:00:00                     6.047977   \n",
       "4  2016-01-15 04:00:00                     6.148599   \n",
       "5  2016-01-15 05:00:00                     6.482968   \n",
       "6  2016-01-15 06:00:00                     6.533849   \n",
       "7  2016-01-15 07:00:00                     6.130823   \n",
       "8  2016-01-15 08:00:00                     5.834140   \n",
       "9  2016-01-15 09:00:00                     5.687063   \n",
       "\n",
       "   final.output.concentrate_pb  final.output.concentrate_sol  \\\n",
       "0                     9.889648                      5.507324   \n",
       "1                     9.968944                      5.257781   \n",
       "2                    10.213995                      5.383759   \n",
       "3                     9.977019                      4.858634   \n",
       "4                    10.142511                      4.939416   \n",
       "5                    10.049416                      5.480257   \n",
       "6                    10.058141                      4.569100   \n",
       "7                     9.935481                      4.389813   \n",
       "8                    10.071156                      4.876389   \n",
       "9                     9.980404                      5.282514   \n",
       "\n",
       "   final.output.concentrate_au  final.output.recovery  final.output.tail_ag  \\\n",
       "0                    42.192020              70.541216             10.411962   \n",
       "1                    42.701629              69.266198             10.462676   \n",
       "2                    42.657501              68.116445             10.507046   \n",
       "3                    42.689819              68.347543             10.422762   \n",
       "4                    42.774141              66.927016             10.360302   \n",
       "5                    41.633678              69.465816             10.182708   \n",
       "6                    41.995316              69.300835             10.304598   \n",
       "7                    42.452727              70.230976             10.443288   \n",
       "8                    43.404078              69.688595             10.420140   \n",
       "9                    43.235220              70.279619             10.487013   \n",
       "\n",
       "   final.output.tail_pb  final.output.tail_sol  final.output.tail_au  \\\n",
       "0              0.895447              16.904297              2.143149   \n",
       "1              0.927452              16.634514              2.224930   \n",
       "2              0.953716              16.208849              2.257889   \n",
       "3              0.883763              16.532835              2.146849   \n",
       "4              0.792826              16.525686              2.055292   \n",
       "5              0.664118              16.999638              1.918586   \n",
       "6              0.807342              16.723575              2.058913   \n",
       "7              0.949346              16.689959              2.143437   \n",
       "8              1.065453              17.201948              2.209881   \n",
       "9              1.159805              17.483979              2.209593   \n",
       "\n",
       "   primary_cleaner.input.sulfate  primary_cleaner.input.depressant  \\\n",
       "0                     127.092003                         10.128295   \n",
       "1                     125.629232                         10.296251   \n",
       "2                     123.819808                         11.316280   \n",
       "3                     122.270188                         11.322140   \n",
       "4                     117.988169                         11.913613   \n",
       "5                     115.581252                         12.470773   \n",
       "6                     117.322323                         12.469088   \n",
       "7                     124.592960                         12.467403   \n",
       "8                     131.781026                         12.465718   \n",
       "9                     138.120409                         12.464032   \n",
       "\n",
       "   primary_cleaner.input.feed_size  primary_cleaner.input.xanthate  \\\n",
       "0                             7.25                        0.988759   \n",
       "1                             7.25                        1.002663   \n",
       "2                             7.25                        0.991265   \n",
       "3                             7.25                        0.996739   \n",
       "4                             7.25                        1.009869   \n",
       "5                             7.25                        0.965760   \n",
       "6                             7.25                        0.895207   \n",
       "7                             7.25                        0.901202   \n",
       "8                             7.25                        0.885535   \n",
       "9                             7.25                        0.898779   \n",
       "\n",
       "   primary_cleaner.output.concentrate_ag  \\\n",
       "0                               8.547551   \n",
       "1                               8.558743   \n",
       "2                               8.603505   \n",
       "3                               7.221879   \n",
       "4                               9.089428   \n",
       "5                               9.553724   \n",
       "6                               8.968869   \n",
       "7                               8.545238   \n",
       "8                               8.046686   \n",
       "9                               8.098985   \n",
       "\n",
       "   primary_cleaner.output.concentrate_pb  \\\n",
       "0                              10.389648   \n",
       "1                              10.497069   \n",
       "2                              10.354494   \n",
       "3                               8.496563   \n",
       "4                               9.986786   \n",
       "5                               9.816215   \n",
       "6                              10.081306   \n",
       "7                              10.224540   \n",
       "8                              10.500065   \n",
       "9                              10.525324   \n",
       "\n",
       "   primary_cleaner.output.concentrate_sol  \\\n",
       "0                               19.529297   \n",
       "1                               19.369147   \n",
       "2                               19.167579   \n",
       "3                               15.978538   \n",
       "4                               19.199864   \n",
       "5                               19.167328   \n",
       "6                               18.930855   \n",
       "7                               18.735813   \n",
       "8                               18.560288   \n",
       "9                               18.436589   \n",
       "\n",
       "   primary_cleaner.output.concentrate_au  primary_cleaner.output.tail_ag  \\\n",
       "0                              34.174427                       14.936526   \n",
       "1                              34.118526                       16.250511   \n",
       "2                              33.969464                       16.491823   \n",
       "3                              28.260743                       16.024359   \n",
       "4                              33.044932                       16.480185   \n",
       "5                              32.070664                       15.931540   \n",
       "6                              33.184823                       16.078368   \n",
       "7                              34.027719                       15.797720   \n",
       "8                              34.964974                       16.195420   \n",
       "9                              34.826500                       15.535214   \n",
       "\n",
       "   primary_cleaner.output.tail_pb  primary_cleaner.output.tail_sol  \\\n",
       "0                        2.534912                         7.476074   \n",
       "1                        3.049646                         6.733907   \n",
       "2                        3.124664                         6.471768   \n",
       "3                        2.960362                         6.843791   \n",
       "4                        3.112100                         6.550154   \n",
       "5                        2.844511                         6.724197   \n",
       "6                        2.938979                         6.623598   \n",
       "7                        2.881529                         6.872033   \n",
       "8                        3.089922                         6.705633   \n",
       "9                        2.866688                         7.265906   \n",
       "\n",
       "   primary_cleaner.output.tail_au  primary_cleaner.state.floatbank8_a_air  \\\n",
       "0                        2.106679                             1549.775757   \n",
       "1                        2.353017                             1576.166671   \n",
       "2                        2.416800                             1601.556163   \n",
       "3                        2.262051                             1599.968720   \n",
       "4                        2.277073                             1601.339707   \n",
       "5                        2.114558                             1602.964922   \n",
       "6                        2.223152                             1597.532455   \n",
       "7                        2.112025                             1597.946266   \n",
       "8                        2.243817                             1601.670053   \n",
       "9                        2.025454                             1603.436598   \n",
       "\n",
       "   primary_cleaner.state.floatbank8_a_level  \\\n",
       "0                               -498.912140   \n",
       "1                               -500.904965   \n",
       "2                               -499.997791   \n",
       "3                               -500.951778   \n",
       "4                               -498.975456   \n",
       "5                               -498.090944   \n",
       "6                               -500.985364   \n",
       "7                               -501.592304   \n",
       "8                               -499.548891   \n",
       "9                               -499.864400   \n",
       "\n",
       "   primary_cleaner.state.floatbank8_b_air  \\\n",
       "0                             1551.434204   \n",
       "1                             1575.950626   \n",
       "2                             1600.386685   \n",
       "3                             1600.659236   \n",
       "4                             1601.437854   \n",
       "5                             1602.074298   \n",
       "6                             1602.816321   \n",
       "7                             1601.078254   \n",
       "8                             1598.804355   \n",
       "9                             1597.455353   \n",
       "\n",
       "   primary_cleaner.state.floatbank8_b_level  \\\n",
       "0                               -516.403442   \n",
       "1                               -499.865889   \n",
       "2                               -500.607762   \n",
       "3                               -499.677094   \n",
       "4                               -500.323246   \n",
       "5                               -500.179481   \n",
       "6                               -500.696736   \n",
       "7                               -499.494115   \n",
       "8                               -499.689644   \n",
       "9                               -500.266905   \n",
       "\n",
       "   primary_cleaner.state.floatbank8_c_air  \\\n",
       "0                             1549.873901   \n",
       "1                             1575.994189   \n",
       "2                             1602.003542   \n",
       "3                             1600.304144   \n",
       "4                             1599.581894   \n",
       "5                             1602.154812   \n",
       "6                             1603.572091   \n",
       "7                             1602.630688   \n",
       "8                             1601.689285   \n",
       "9                             1600.747882   \n",
       "\n",
       "   primary_cleaner.state.floatbank8_c_level  \\\n",
       "0                               -498.666595   \n",
       "1                               -499.315107   \n",
       "2                               -500.870069   \n",
       "3                               -500.727997   \n",
       "4                               -500.888152   \n",
       "5                               -498.642614   \n",
       "6                               -500.256955   \n",
       "7                               -500.173741   \n",
       "8                               -500.484957   \n",
       "9                               -500.541002   \n",
       "\n",
       "   primary_cleaner.state.floatbank8_d_air  \\\n",
       "0                             1554.367432   \n",
       "1                             1574.479259   \n",
       "2                             1599.541515   \n",
       "3                             1600.449520   \n",
       "4                             1602.649541   \n",
       "5                             1605.020106   \n",
       "6                             1597.597437   \n",
       "7                             1595.937990   \n",
       "8                             1602.431117   \n",
       "9                             1599.754053   \n",
       "\n",
       "   primary_cleaner.state.floatbank8_d_level  \\\n",
       "0                               -493.428131   \n",
       "1                               -498.931665   \n",
       "2                               -499.827444   \n",
       "3                               -500.052575   \n",
       "4                               -500.593010   \n",
       "5                               -500.538177   \n",
       "6                               -500.378192   \n",
       "7                               -498.929825   \n",
       "8                               -500.650982   \n",
       "9                               -499.216962   \n",
       "\n",
       "   rougher.calculation.sulfate_to_au_concentrate  \\\n",
       "0                                   41885.707031   \n",
       "1                                   42050.861809   \n",
       "2                                   42018.101184   \n",
       "3                                   42029.447991   \n",
       "4                                   42125.354245   \n",
       "5                                   41973.280986   \n",
       "6                                   41956.468979   \n",
       "7                                   41812.416893   \n",
       "8                                   41905.757985   \n",
       "9                                   41882.126352   \n",
       "\n",
       "   rougher.calculation.floatbank10_sulfate_to_au_feed  \\\n",
       "0                                        3481.779053    \n",
       "1                                        3498.370979    \n",
       "2                                        3495.348910    \n",
       "3                                        3498.578313    \n",
       "4                                        3494.800771    \n",
       "5                                        3501.916973    \n",
       "6                                        3497.427365    \n",
       "7                                        3497.275828    \n",
       "8                                        3498.332166    \n",
       "9                                        3499.915439    \n",
       "\n",
       "   rougher.calculation.floatbank11_sulfate_to_au_feed  \\\n",
       "0                                        3520.337158    \n",
       "1                                        3489.981857    \n",
       "2                                        3502.359819    \n",
       "3                                        3499.162912    \n",
       "4                                        3506.679315    \n",
       "5                                        3499.527175    \n",
       "6                                        3506.352790    \n",
       "7                                        3501.000030    \n",
       "8                                        3498.120075    \n",
       "9                                        3519.952954    \n",
       "\n",
       "   rougher.calculation.au_pb_ratio  rougher.input.feed_ag  \\\n",
       "0                         2.838687               6.100378   \n",
       "1                         2.858998               6.161113   \n",
       "2                         2.945989               6.116455   \n",
       "3                         3.002340               6.043309   \n",
       "4                         3.169615               6.060915   \n",
       "5                         3.026134               5.801920   \n",
       "6                         2.867933               6.056253   \n",
       "7                         2.784698               5.955053   \n",
       "8                         2.728844               5.878084   \n",
       "9                         2.717442               5.908793   \n",
       "\n",
       "   rougher.input.feed_pb  rougher.input.feed_rate  rougher.input.feed_size  \\\n",
       "0               2.284912               523.546326                55.486599   \n",
       "1               2.266033               525.290581                57.278666   \n",
       "2               2.159622               530.026610                57.510649   \n",
       "3               2.037807               542.590390                57.792734   \n",
       "4               1.786875               540.531893                56.047189   \n",
       "5               1.879351               546.173470                57.469578   \n",
       "6               2.105501               523.376439                56.674647   \n",
       "7               2.310432               549.842749                56.730325   \n",
       "8               2.391713               560.115242                56.649893   \n",
       "9               2.440899               573.076049                58.509262   \n",
       "\n",
       "   rougher.input.feed_sol  rougher.input.feed_au  \\\n",
       "0               36.808594               6.486150   \n",
       "1               35.753385               6.478583   \n",
       "2               35.971630               6.362222   \n",
       "3               36.862241               6.118189   \n",
       "4               34.347666               5.663707   \n",
       "5               35.470082               5.687168   \n",
       "6               34.920570               6.038436   \n",
       "7               36.091386               6.433854   \n",
       "8               35.753879               6.526612   \n",
       "9               36.958540               6.633002   \n",
       "\n",
       "   rougher.input.floatbank10_sulfate  rougher.input.floatbank10_xanthate  \\\n",
       "0                          11.986616                            6.007990   \n",
       "1                          11.971193                            6.005766   \n",
       "2                          11.920603                            6.197377   \n",
       "3                          11.630094                            6.203177   \n",
       "4                          10.957755                            6.198826   \n",
       "5                          11.072517                            6.200383   \n",
       "6                          11.535899                            6.204974   \n",
       "7                          12.557906                            6.799275   \n",
       "8                          13.166128                            6.798659   \n",
       "9                          13.707775                            6.820245   \n",
       "\n",
       "   rougher.input.floatbank11_sulfate  rougher.input.floatbank11_xanthate  \\\n",
       "0                          11.836743                            6.005818   \n",
       "1                          11.996163                            6.012594   \n",
       "2                          11.920305                            6.204633   \n",
       "3                          11.692450                            6.196578   \n",
       "4                          10.960521                            6.194897   \n",
       "5                          11.075009                            6.202362   \n",
       "6                          11.539227                            6.200515   \n",
       "7                          12.583109                            6.798354   \n",
       "8                          13.184764                            6.800021   \n",
       "9                          13.812674                            6.790624   \n",
       "\n",
       "   rougher.output.concentrate_ag  rougher.output.concentrate_pb  \\\n",
       "0                      11.500771                       7.101074   \n",
       "1                      11.615865                       7.278807   \n",
       "2                      11.695753                       7.216833   \n",
       "3                      11.915047                       7.175616   \n",
       "4                      12.411054                       7.240205   \n",
       "5                      11.985584                       7.121903   \n",
       "6                      11.684307                       7.304849   \n",
       "7                      11.182624                       7.258496   \n",
       "8                      11.051323                       7.380043   \n",
       "9                      11.116297                       7.297363   \n",
       "\n",
       "   rougher.output.concentrate_sol  rougher.output.concentrate_au  \\\n",
       "0                       28.029297                      19.793808   \n",
       "1                       28.067063                      20.050975   \n",
       "2                       27.454037                      19.737170   \n",
       "3                       27.341277                      19.320810   \n",
       "4                       27.041023                      19.216101   \n",
       "5                       26.898046                      18.950385   \n",
       "6                       27.063672                      19.319591   \n",
       "7                       27.231114                      19.507897   \n",
       "8                       27.404296                      19.789465   \n",
       "9                       27.497520                      19.497669   \n",
       "\n",
       "   rougher.output.recovery  rougher.output.tail_ag  rougher.output.tail_pb  \\\n",
       "0                87.107763                5.008018                0.508728   \n",
       "1                86.843261                4.955378                0.536689   \n",
       "2                86.842308                4.843460                0.546416   \n",
       "3                87.226430                4.655288                0.542525   \n",
       "4                86.688794                4.552800                0.515438   \n",
       "5                88.156912                4.397415                0.491350   \n",
       "6                88.168065                4.478080                0.518266   \n",
       "7                87.668336                4.728325                0.548067   \n",
       "8                87.035862                4.764300                0.599181   \n",
       "9                87.650868                4.667157                0.615418   \n",
       "\n",
       "   rougher.output.tail_sol  rougher.output.tail_au  \\\n",
       "0                19.154297                1.170244   \n",
       "1                18.965234                1.184827   \n",
       "2                18.808533                1.162562   \n",
       "3                19.330200                1.079755   \n",
       "4                19.267422                1.012642   \n",
       "5                19.640269                0.915835   \n",
       "6                19.262491                0.986248   \n",
       "7                18.861866                1.116110   \n",
       "8                18.873082                1.186780   \n",
       "9                18.907179                1.167140   \n",
       "\n",
       "   rougher.state.floatbank10_a_air  rougher.state.floatbank10_a_level  \\\n",
       "0                       999.706909                        -404.066986   \n",
       "1                      1000.286398                        -400.065196   \n",
       "2                       999.719565                        -400.074028   \n",
       "3                       999.814770                        -400.200179   \n",
       "4                       999.678690                        -399.752729   \n",
       "5                       999.934134                        -400.599524   \n",
       "6                       999.832373                        -399.353521   \n",
       "7                      1000.166602                        -400.556601   \n",
       "8                      1000.026864                        -399.968583   \n",
       "9                      1000.589156                        -398.879586   \n",
       "\n",
       "   rougher.state.floatbank10_b_air  rougher.state.floatbank10_b_level  \\\n",
       "0                      1603.011353                        -434.715027   \n",
       "1                      1600.754587                        -449.953435   \n",
       "2                      1599.337330                        -450.008530   \n",
       "3                      1600.059442                        -450.619948   \n",
       "4                      1600.208824                        -449.599614   \n",
       "5                      1601.080554                        -450.120760   \n",
       "6                      1600.753019                        -450.050089   \n",
       "7                      1598.877246                        -450.070980   \n",
       "8                      1599.813104                        -450.481122   \n",
       "9                      1598.975250                        -451.238638   \n",
       "\n",
       "   rougher.state.floatbank10_c_air  rougher.state.floatbank10_c_level  \\\n",
       "0                      1602.375000                        -442.204468   \n",
       "1                      1600.479580                        -449.830646   \n",
       "2                      1599.672797                        -449.954491   \n",
       "3                      1600.012842                        -449.910497   \n",
       "4                      1600.357732                        -450.034364   \n",
       "5                      1603.164805                        -450.097732   \n",
       "6                      1599.019966                        -449.848507   \n",
       "7                      1598.108717                        -449.211334   \n",
       "8                      1600.024621                        -450.365493   \n",
       "9                      1600.058139                        -451.271448   \n",
       "\n",
       "   rougher.state.floatbank10_d_air  rougher.state.floatbank10_d_level  \\\n",
       "0                      1598.937256                        -451.294128   \n",
       "1                      1600.527589                        -449.953649   \n",
       "2                      1599.849325                        -449.954185   \n",
       "3                      1597.725177                        -450.130127   \n",
       "4                      1599.759049                        -449.909799   \n",
       "5                      1603.368371                        -446.306150   \n",
       "6                      1600.298267                        -453.102891   \n",
       "7                      1592.872844                        -449.806802   \n",
       "8                      1594.448648                        -449.882428   \n",
       "9                      1610.182874                        -450.460190   \n",
       "\n",
       "   rougher.state.floatbank10_e_air  rougher.state.floatbank10_e_level  \\\n",
       "0                      1404.472046                        -455.462982   \n",
       "1                      1399.227084                        -450.869848   \n",
       "2                      1399.180945                        -449.937588   \n",
       "3                      1400.943157                        -450.030142   \n",
       "4                      1401.560902                        -448.877187   \n",
       "5                      1403.393100                        -447.899904   \n",
       "6                      1397.853265                        -451.306640   \n",
       "7                      1396.580752                        -453.548352   \n",
       "8                      1402.033682                        -448.545552   \n",
       "9                      1399.194663                        -450.332681   \n",
       "\n",
       "   rougher.state.floatbank10_f_air  rougher.state.floatbank10_f_level  \\\n",
       "0                      1416.354980                        -451.939636   \n",
       "1                      1399.719514                        -450.119001   \n",
       "2                      1400.316682                        -450.527147   \n",
       "3                      1400.234743                        -449.790835   \n",
       "4                      1401.160227                        -450.407128   \n",
       "5                      1402.903175                        -448.872321   \n",
       "6                      1397.973670                        -451.355626   \n",
       "7                      1397.289884                        -450.221696   \n",
       "8                      1400.748347                        -450.303991   \n",
       "9                      1399.638290                        -450.198722   \n",
       "\n",
       "   secondary_cleaner.output.tail_ag  secondary_cleaner.output.tail_pb  \\\n",
       "0                         14.500184                          4.694824   \n",
       "1                         14.265474                          4.592547   \n",
       "2                         14.115662                          4.624775   \n",
       "3                         13.732071                          4.482453   \n",
       "4                         14.079996                          4.470737   \n",
       "5                         13.615012                          4.286817   \n",
       "6                         13.597056                          4.487865   \n",
       "7                         13.177237                          4.432448   \n",
       "8                         13.487870                          4.608756   \n",
       "9                         13.209191                          4.550553   \n",
       "\n",
       "   secondary_cleaner.output.tail_sol  secondary_cleaner.output.tail_au  \\\n",
       "0                           8.764648                          2.606185   \n",
       "1                           9.001494                          2.488248   \n",
       "2                           8.842896                          2.458187   \n",
       "3                           9.122857                          2.322062   \n",
       "4                           8.871028                          2.330448   \n",
       "5                           9.302669                          2.192127   \n",
       "6                           9.103047                          2.316720   \n",
       "7                           9.369209                          2.192197   \n",
       "8                           9.437044                          2.212084   \n",
       "9                           9.813732                          2.073737   \n",
       "\n",
       "   secondary_cleaner.state.floatbank2_a_air  \\\n",
       "0                                 25.853109   \n",
       "1                                 25.880539   \n",
       "2                                 26.005245   \n",
       "3                                 25.942508   \n",
       "4                                 26.024787   \n",
       "5                                 26.014841   \n",
       "6                                 25.957594   \n",
       "7                                 25.938026   \n",
       "8                                 25.929511   \n",
       "9                                 26.059510   \n",
       "\n",
       "   secondary_cleaner.state.floatbank2_a_level  \\\n",
       "0                                 -498.526489   \n",
       "1                                 -499.989656   \n",
       "2                                 -499.929616   \n",
       "3                                 -499.176749   \n",
       "4                                 -500.279091   \n",
       "5                                 -498.864670   \n",
       "6                                 -500.134472   \n",
       "7                                 -499.657795   \n",
       "8                                 -500.079889   \n",
       "9                                 -499.151646   \n",
       "\n",
       "   secondary_cleaner.state.floatbank2_b_air  \\\n",
       "0                                 23.893660   \n",
       "1                                 23.889530   \n",
       "2                                 23.886657   \n",
       "3                                 23.955516   \n",
       "4                                 23.955345   \n",
       "5                                 23.880214   \n",
       "6                                 24.077199   \n",
       "7                                 24.020179   \n",
       "8                                 23.977375   \n",
       "9                                 23.934570   \n",
       "\n",
       "   secondary_cleaner.state.floatbank2_b_level  \\\n",
       "0                                 -501.406281   \n",
       "1                                 -500.372428   \n",
       "2                                 -499.951928   \n",
       "3                                 -499.848796   \n",
       "4                                 -500.593614   \n",
       "5                                 -499.738447   \n",
       "6                                 -500.089190   \n",
       "7                                 -499.798396   \n",
       "8                                 -500.005187   \n",
       "9                                 -499.351758   \n",
       "\n",
       "   secondary_cleaner.state.floatbank3_a_air  \\\n",
       "0                                 23.961798   \n",
       "1                                 23.970550   \n",
       "2                                 23.913535   \n",
       "3                                 23.966838   \n",
       "4                                 23.985703   \n",
       "5                                 23.982635   \n",
       "6                                 23.991710   \n",
       "7                                 24.031555   \n",
       "8                                 23.998809   \n",
       "9                                 23.994184   \n",
       "\n",
       "   secondary_cleaner.state.floatbank3_a_level  \\\n",
       "0                                 -495.262817   \n",
       "1                                 -500.085473   \n",
       "2                                 -499.442343   \n",
       "3                                 -500.008812   \n",
       "4                                 -500.083811   \n",
       "5                                 -500.495272   \n",
       "6                                 -500.391528   \n",
       "7                                 -500.550436   \n",
       "8                                 -500.400133   \n",
       "9                                 -500.078566   \n",
       "\n",
       "   secondary_cleaner.state.floatbank3_b_air  \\\n",
       "0                                 21.940409   \n",
       "1                                 22.085714   \n",
       "2                                 23.957717   \n",
       "3                                 23.954443   \n",
       "4                                 23.958945   \n",
       "5                                 24.009749   \n",
       "6                                 23.954144   \n",
       "7                                 23.968160   \n",
       "8                                 23.982633   \n",
       "9                                 23.924481   \n",
       "\n",
       "   secondary_cleaner.state.floatbank3_b_level  \\\n",
       "0                                 -499.340973   \n",
       "1                                 -499.446897   \n",
       "2                                 -499.901982   \n",
       "3                                 -499.944710   \n",
       "4                                 -499.990309   \n",
       "5                                 -499.433825   \n",
       "6                                 -501.872171   \n",
       "7                                 -499.836513   \n",
       "8                                 -499.826311   \n",
       "9                                 -499.989024   \n",
       "\n",
       "   secondary_cleaner.state.floatbank4_a_air  \\\n",
       "0                                 14.016835   \n",
       "1                                 13.992281   \n",
       "2                                 14.015015   \n",
       "3                                 14.036510   \n",
       "4                                 14.027298   \n",
       "5                                 13.938497   \n",
       "6                                 14.046819   \n",
       "7                                 13.974691   \n",
       "8                                 13.964030   \n",
       "9                                 13.989632   \n",
       "\n",
       "   secondary_cleaner.state.floatbank4_a_level  \\\n",
       "0                                 -502.488007   \n",
       "1                                 -505.503262   \n",
       "2                                 -502.520901   \n",
       "3                                 -500.857308   \n",
       "4                                 -499.838632   \n",
       "5                                 -500.970168   \n",
       "6                                 -500.971133   \n",
       "7                                 -501.819696   \n",
       "8                                 -504.252450   \n",
       "9                                 -503.195299   \n",
       "\n",
       "   secondary_cleaner.state.floatbank4_b_air  \\\n",
       "0                                 12.099931   \n",
       "1                                 11.950531   \n",
       "2                                 11.912783   \n",
       "3                                 11.999550   \n",
       "4                                 11.953070   \n",
       "5                                 11.883350   \n",
       "6                                 12.091543   \n",
       "7                                 12.101324   \n",
       "8                                 12.060738   \n",
       "9                                 12.052233   \n",
       "\n",
       "   secondary_cleaner.state.floatbank4_b_level  \\\n",
       "0                                 -504.715942   \n",
       "1                                 -501.331529   \n",
       "2                                 -501.133383   \n",
       "3                                 -501.193686   \n",
       "4                                 -501.053894   \n",
       "5                                 -500.395298   \n",
       "6                                 -500.501426   \n",
       "7                                 -500.583446   \n",
       "8                                 -501.174549   \n",
       "9                                 -500.928547   \n",
       "\n",
       "   secondary_cleaner.state.floatbank5_a_air  \\\n",
       "0                                  9.925633   \n",
       "1                                 10.039245   \n",
       "2                                 10.070913   \n",
       "3                                  9.970366   \n",
       "4                                  9.925709   \n",
       "5                                 10.054147   \n",
       "6                                 10.003247   \n",
       "7                                  9.873169   \n",
       "8                                 10.033838   \n",
       "9                                  9.962574   \n",
       "\n",
       "   secondary_cleaner.state.floatbank5_a_level  \\\n",
       "0                                 -498.310211   \n",
       "1                                 -500.169983   \n",
       "2                                 -500.129135   \n",
       "3                                 -499.201640   \n",
       "4                                 -501.686727   \n",
       "5                                 -496.374715   \n",
       "6                                 -497.083180   \n",
       "7                                 -499.171928   \n",
       "8                                 -501.178133   \n",
       "9                                 -502.986357   \n",
       "\n",
       "   secondary_cleaner.state.floatbank5_b_air  \\\n",
       "0                                  8.079666   \n",
       "1                                  7.984757   \n",
       "2                                  8.013877   \n",
       "3                                  7.977324   \n",
       "4                                  7.894242   \n",
       "5                                  7.965083   \n",
       "6                                  8.010890   \n",
       "7                                  7.993381   \n",
       "8                                  7.881604   \n",
       "9                                  7.979219   \n",
       "\n",
       "   secondary_cleaner.state.floatbank5_b_level  \\\n",
       "0                                 -500.470978   \n",
       "1                                 -500.582168   \n",
       "2                                 -500.517572   \n",
       "3                                 -500.255908   \n",
       "4                                 -500.356035   \n",
       "5                                 -499.364752   \n",
       "6                                 -500.002423   \n",
       "7                                 -499.794518   \n",
       "8                                 -499.729434   \n",
       "9                                 -500.146835   \n",
       "\n",
       "   secondary_cleaner.state.floatbank6_a_air  \\\n",
       "0                                 14.151341   \n",
       "1                                 13.998353   \n",
       "2                                 14.028663   \n",
       "3                                 14.005551   \n",
       "4                                 13.996647   \n",
       "5                                 14.017067   \n",
       "6                                 14.029649   \n",
       "7                                 13.984498   \n",
       "8                                 13.967135   \n",
       "9                                 13.981614   \n",
       "\n",
       "   secondary_cleaner.state.floatbank6_a_level  \n",
       "0                                 -605.841980  \n",
       "1                                 -599.787184  \n",
       "2                                 -601.427363  \n",
       "3                                 -599.996129  \n",
       "4                                 -601.496691  \n",
       "5                                 -599.707915  \n",
       "6                                 -600.905470  \n",
       "7                                 -600.411070  \n",
       "8                                 -599.061188  \n",
       "9                                 -598.070855  "
      ]
     },
     "execution_count": 9,
     "metadata": {},
     "output_type": "execute_result"
    }
   ],
   "source": [
    "df_full = pd.read_csv('/datasets/gold_recovery_full_new.csv')\n",
    "df_full.head(10)"
   ]
  },
  {
   "cell_type": "markdown",
   "metadata": {},
   "source": [
    "Вывод информации об исходных данных методами `info()` и `describe()`."
   ]
  },
  {
   "cell_type": "code",
   "execution_count": 10,
   "metadata": {},
   "outputs": [
    {
     "name": "stdout",
     "output_type": "stream",
     "text": [
      "<class 'pandas.core.frame.DataFrame'>\n",
      "RangeIndex: 19439 entries, 0 to 19438\n",
      "Data columns (total 87 columns):\n",
      " #   Column                                              Non-Null Count  Dtype  \n",
      "---  ------                                              --------------  -----  \n",
      " 0   date                                                19439 non-null  object \n",
      " 1   final.output.concentrate_ag                         19438 non-null  float64\n",
      " 2   final.output.concentrate_pb                         19438 non-null  float64\n",
      " 3   final.output.concentrate_sol                        19228 non-null  float64\n",
      " 4   final.output.concentrate_au                         19439 non-null  float64\n",
      " 5   final.output.recovery                               19439 non-null  float64\n",
      " 6   final.output.tail_ag                                19438 non-null  float64\n",
      " 7   final.output.tail_pb                                19338 non-null  float64\n",
      " 8   final.output.tail_sol                               19433 non-null  float64\n",
      " 9   final.output.tail_au                                19439 non-null  float64\n",
      " 10  primary_cleaner.input.sulfate                       19415 non-null  float64\n",
      " 11  primary_cleaner.input.depressant                    19402 non-null  float64\n",
      " 12  primary_cleaner.input.feed_size                     19439 non-null  float64\n",
      " 13  primary_cleaner.input.xanthate                      19335 non-null  float64\n",
      " 14  primary_cleaner.output.concentrate_ag               19439 non-null  float64\n",
      " 15  primary_cleaner.output.concentrate_pb               19323 non-null  float64\n",
      " 16  primary_cleaner.output.concentrate_sol              19069 non-null  float64\n",
      " 17  primary_cleaner.output.concentrate_au               19439 non-null  float64\n",
      " 18  primary_cleaner.output.tail_ag                      19435 non-null  float64\n",
      " 19  primary_cleaner.output.tail_pb                      19418 non-null  float64\n",
      " 20  primary_cleaner.output.tail_sol                     19377 non-null  float64\n",
      " 21  primary_cleaner.output.tail_au                      19439 non-null  float64\n",
      " 22  primary_cleaner.state.floatbank8_a_air              19435 non-null  float64\n",
      " 23  primary_cleaner.state.floatbank8_a_level            19438 non-null  float64\n",
      " 24  primary_cleaner.state.floatbank8_b_air              19435 non-null  float64\n",
      " 25  primary_cleaner.state.floatbank8_b_level            19438 non-null  float64\n",
      " 26  primary_cleaner.state.floatbank8_c_air              19437 non-null  float64\n",
      " 27  primary_cleaner.state.floatbank8_c_level            19438 non-null  float64\n",
      " 28  primary_cleaner.state.floatbank8_d_air              19436 non-null  float64\n",
      " 29  primary_cleaner.state.floatbank8_d_level            19438 non-null  float64\n",
      " 30  rougher.calculation.sulfate_to_au_concentrate       19437 non-null  float64\n",
      " 31  rougher.calculation.floatbank10_sulfate_to_au_feed  19437 non-null  float64\n",
      " 32  rougher.calculation.floatbank11_sulfate_to_au_feed  19437 non-null  float64\n",
      " 33  rougher.calculation.au_pb_ratio                     19439 non-null  float64\n",
      " 34  rougher.input.feed_ag                               19439 non-null  float64\n",
      " 35  rougher.input.feed_pb                               19339 non-null  float64\n",
      " 36  rougher.input.feed_rate                             19428 non-null  float64\n",
      " 37  rougher.input.feed_size                             19294 non-null  float64\n",
      " 38  rougher.input.feed_sol                              19340 non-null  float64\n",
      " 39  rougher.input.feed_au                               19439 non-null  float64\n",
      " 40  rougher.input.floatbank10_sulfate                   19405 non-null  float64\n",
      " 41  rougher.input.floatbank10_xanthate                  19431 non-null  float64\n",
      " 42  rougher.input.floatbank11_sulfate                   19395 non-null  float64\n",
      " 43  rougher.input.floatbank11_xanthate                  18986 non-null  float64\n",
      " 44  rougher.output.concentrate_ag                       19439 non-null  float64\n",
      " 45  rougher.output.concentrate_pb                       19439 non-null  float64\n",
      " 46  rougher.output.concentrate_sol                      19416 non-null  float64\n",
      " 47  rougher.output.concentrate_au                       19439 non-null  float64\n",
      " 48  rougher.output.recovery                             19439 non-null  float64\n",
      " 49  rougher.output.tail_ag                              19438 non-null  float64\n",
      " 50  rougher.output.tail_pb                              19439 non-null  float64\n",
      " 51  rougher.output.tail_sol                             19439 non-null  float64\n",
      " 52  rougher.output.tail_au                              19439 non-null  float64\n",
      " 53  rougher.state.floatbank10_a_air                     19438 non-null  float64\n",
      " 54  rougher.state.floatbank10_a_level                   19438 non-null  float64\n",
      " 55  rougher.state.floatbank10_b_air                     19438 non-null  float64\n",
      " 56  rougher.state.floatbank10_b_level                   19438 non-null  float64\n",
      " 57  rougher.state.floatbank10_c_air                     19438 non-null  float64\n",
      " 58  rougher.state.floatbank10_c_level                   19438 non-null  float64\n",
      " 59  rougher.state.floatbank10_d_air                     19439 non-null  float64\n",
      " 60  rougher.state.floatbank10_d_level                   19439 non-null  float64\n",
      " 61  rougher.state.floatbank10_e_air                     19003 non-null  float64\n",
      " 62  rougher.state.floatbank10_e_level                   19439 non-null  float64\n",
      " 63  rougher.state.floatbank10_f_air                     19439 non-null  float64\n",
      " 64  rougher.state.floatbank10_f_level                   19439 non-null  float64\n",
      " 65  secondary_cleaner.output.tail_ag                    19437 non-null  float64\n",
      " 66  secondary_cleaner.output.tail_pb                    19427 non-null  float64\n",
      " 67  secondary_cleaner.output.tail_sol                   17691 non-null  float64\n",
      " 68  secondary_cleaner.output.tail_au                    19439 non-null  float64\n",
      " 69  secondary_cleaner.state.floatbank2_a_air            19219 non-null  float64\n",
      " 70  secondary_cleaner.state.floatbank2_a_level          19438 non-null  float64\n",
      " 71  secondary_cleaner.state.floatbank2_b_air            19416 non-null  float64\n",
      " 72  secondary_cleaner.state.floatbank2_b_level          19438 non-null  float64\n",
      " 73  secondary_cleaner.state.floatbank3_a_air            19426 non-null  float64\n",
      " 74  secondary_cleaner.state.floatbank3_a_level          19438 non-null  float64\n",
      " 75  secondary_cleaner.state.floatbank3_b_air            19438 non-null  float64\n",
      " 76  secondary_cleaner.state.floatbank3_b_level          19438 non-null  float64\n",
      " 77  secondary_cleaner.state.floatbank4_a_air            19433 non-null  float64\n",
      " 78  secondary_cleaner.state.floatbank4_a_level          19438 non-null  float64\n",
      " 79  secondary_cleaner.state.floatbank4_b_air            19438 non-null  float64\n",
      " 80  secondary_cleaner.state.floatbank4_b_level          19438 non-null  float64\n",
      " 81  secondary_cleaner.state.floatbank5_a_air            19438 non-null  float64\n",
      " 82  secondary_cleaner.state.floatbank5_a_level          19438 non-null  float64\n",
      " 83  secondary_cleaner.state.floatbank5_b_air            19438 non-null  float64\n",
      " 84  secondary_cleaner.state.floatbank5_b_level          19438 non-null  float64\n",
      " 85  secondary_cleaner.state.floatbank6_a_air            19437 non-null  float64\n",
      " 86  secondary_cleaner.state.floatbank6_a_level          19438 non-null  float64\n",
      "dtypes: float64(86), object(1)\n",
      "memory usage: 12.9+ MB\n"
     ]
    }
   ],
   "source": [
    "df_full.info()"
   ]
  },
  {
   "cell_type": "code",
   "execution_count": 11,
   "metadata": {
    "scrolled": false
   },
   "outputs": [
    {
     "data": {
      "text/html": [
       "<div>\n",
       "<style scoped>\n",
       "    .dataframe tbody tr th:only-of-type {\n",
       "        vertical-align: middle;\n",
       "    }\n",
       "\n",
       "    .dataframe tbody tr th {\n",
       "        vertical-align: top;\n",
       "    }\n",
       "\n",
       "    .dataframe thead th {\n",
       "        text-align: right;\n",
       "    }\n",
       "</style>\n",
       "<table border=\"1\" class=\"dataframe\">\n",
       "  <thead>\n",
       "    <tr style=\"text-align: right;\">\n",
       "      <th></th>\n",
       "      <th>date</th>\n",
       "      <th>final.output.concentrate_ag</th>\n",
       "      <th>final.output.concentrate_pb</th>\n",
       "      <th>final.output.concentrate_sol</th>\n",
       "      <th>final.output.concentrate_au</th>\n",
       "      <th>final.output.recovery</th>\n",
       "      <th>final.output.tail_ag</th>\n",
       "      <th>final.output.tail_pb</th>\n",
       "      <th>final.output.tail_sol</th>\n",
       "      <th>final.output.tail_au</th>\n",
       "      <th>primary_cleaner.input.sulfate</th>\n",
       "      <th>primary_cleaner.input.depressant</th>\n",
       "      <th>primary_cleaner.input.feed_size</th>\n",
       "      <th>primary_cleaner.input.xanthate</th>\n",
       "      <th>primary_cleaner.output.concentrate_ag</th>\n",
       "      <th>primary_cleaner.output.concentrate_pb</th>\n",
       "      <th>primary_cleaner.output.concentrate_sol</th>\n",
       "      <th>primary_cleaner.output.concentrate_au</th>\n",
       "      <th>primary_cleaner.output.tail_ag</th>\n",
       "      <th>primary_cleaner.output.tail_pb</th>\n",
       "      <th>primary_cleaner.output.tail_sol</th>\n",
       "      <th>primary_cleaner.output.tail_au</th>\n",
       "      <th>primary_cleaner.state.floatbank8_a_air</th>\n",
       "      <th>primary_cleaner.state.floatbank8_a_level</th>\n",
       "      <th>primary_cleaner.state.floatbank8_b_air</th>\n",
       "      <th>primary_cleaner.state.floatbank8_b_level</th>\n",
       "      <th>primary_cleaner.state.floatbank8_c_air</th>\n",
       "      <th>primary_cleaner.state.floatbank8_c_level</th>\n",
       "      <th>primary_cleaner.state.floatbank8_d_air</th>\n",
       "      <th>primary_cleaner.state.floatbank8_d_level</th>\n",
       "      <th>rougher.calculation.sulfate_to_au_concentrate</th>\n",
       "      <th>rougher.calculation.floatbank10_sulfate_to_au_feed</th>\n",
       "      <th>rougher.calculation.floatbank11_sulfate_to_au_feed</th>\n",
       "      <th>rougher.calculation.au_pb_ratio</th>\n",
       "      <th>rougher.input.feed_ag</th>\n",
       "      <th>rougher.input.feed_pb</th>\n",
       "      <th>rougher.input.feed_rate</th>\n",
       "      <th>rougher.input.feed_size</th>\n",
       "      <th>rougher.input.feed_sol</th>\n",
       "      <th>rougher.input.feed_au</th>\n",
       "      <th>rougher.input.floatbank10_sulfate</th>\n",
       "      <th>rougher.input.floatbank10_xanthate</th>\n",
       "      <th>rougher.input.floatbank11_sulfate</th>\n",
       "      <th>rougher.input.floatbank11_xanthate</th>\n",
       "      <th>rougher.output.concentrate_ag</th>\n",
       "      <th>rougher.output.concentrate_pb</th>\n",
       "      <th>rougher.output.concentrate_sol</th>\n",
       "      <th>rougher.output.concentrate_au</th>\n",
       "      <th>rougher.output.recovery</th>\n",
       "      <th>rougher.output.tail_ag</th>\n",
       "      <th>rougher.output.tail_pb</th>\n",
       "      <th>rougher.output.tail_sol</th>\n",
       "      <th>rougher.output.tail_au</th>\n",
       "      <th>rougher.state.floatbank10_a_air</th>\n",
       "      <th>rougher.state.floatbank10_a_level</th>\n",
       "      <th>rougher.state.floatbank10_b_air</th>\n",
       "      <th>rougher.state.floatbank10_b_level</th>\n",
       "      <th>rougher.state.floatbank10_c_air</th>\n",
       "      <th>rougher.state.floatbank10_c_level</th>\n",
       "      <th>rougher.state.floatbank10_d_air</th>\n",
       "      <th>rougher.state.floatbank10_d_level</th>\n",
       "      <th>rougher.state.floatbank10_e_air</th>\n",
       "      <th>rougher.state.floatbank10_e_level</th>\n",
       "      <th>rougher.state.floatbank10_f_air</th>\n",
       "      <th>rougher.state.floatbank10_f_level</th>\n",
       "      <th>secondary_cleaner.output.tail_ag</th>\n",
       "      <th>secondary_cleaner.output.tail_pb</th>\n",
       "      <th>secondary_cleaner.output.tail_sol</th>\n",
       "      <th>secondary_cleaner.output.tail_au</th>\n",
       "      <th>secondary_cleaner.state.floatbank2_a_air</th>\n",
       "      <th>secondary_cleaner.state.floatbank2_a_level</th>\n",
       "      <th>secondary_cleaner.state.floatbank2_b_air</th>\n",
       "      <th>secondary_cleaner.state.floatbank2_b_level</th>\n",
       "      <th>secondary_cleaner.state.floatbank3_a_air</th>\n",
       "      <th>secondary_cleaner.state.floatbank3_a_level</th>\n",
       "      <th>secondary_cleaner.state.floatbank3_b_air</th>\n",
       "      <th>secondary_cleaner.state.floatbank3_b_level</th>\n",
       "      <th>secondary_cleaner.state.floatbank4_a_air</th>\n",
       "      <th>secondary_cleaner.state.floatbank4_a_level</th>\n",
       "      <th>secondary_cleaner.state.floatbank4_b_air</th>\n",
       "      <th>secondary_cleaner.state.floatbank4_b_level</th>\n",
       "      <th>secondary_cleaner.state.floatbank5_a_air</th>\n",
       "      <th>secondary_cleaner.state.floatbank5_a_level</th>\n",
       "      <th>secondary_cleaner.state.floatbank5_b_air</th>\n",
       "      <th>secondary_cleaner.state.floatbank5_b_level</th>\n",
       "      <th>secondary_cleaner.state.floatbank6_a_air</th>\n",
       "      <th>secondary_cleaner.state.floatbank6_a_level</th>\n",
       "    </tr>\n",
       "  </thead>\n",
       "  <tbody>\n",
       "    <tr>\n",
       "      <th>count</th>\n",
       "      <td>19439</td>\n",
       "      <td>19438.000000</td>\n",
       "      <td>19438.000000</td>\n",
       "      <td>19228.000000</td>\n",
       "      <td>19439.000000</td>\n",
       "      <td>19439.000000</td>\n",
       "      <td>19438.000000</td>\n",
       "      <td>19338.000000</td>\n",
       "      <td>19433.000000</td>\n",
       "      <td>19439.000000</td>\n",
       "      <td>19415.000000</td>\n",
       "      <td>19402.000000</td>\n",
       "      <td>19439.000000</td>\n",
       "      <td>19335.000000</td>\n",
       "      <td>19439.000000</td>\n",
       "      <td>19323.000000</td>\n",
       "      <td>19069.000000</td>\n",
       "      <td>19439.000000</td>\n",
       "      <td>19435.000000</td>\n",
       "      <td>19418.000000</td>\n",
       "      <td>19377.000000</td>\n",
       "      <td>19439.000000</td>\n",
       "      <td>1.943500e+04</td>\n",
       "      <td>19438.000000</td>\n",
       "      <td>1.943500e+04</td>\n",
       "      <td>19438.000000</td>\n",
       "      <td>1.943700e+04</td>\n",
       "      <td>19438.000000</td>\n",
       "      <td>1.943600e+04</td>\n",
       "      <td>19438.000000</td>\n",
       "      <td>1.943700e+04</td>\n",
       "      <td>19437.000000</td>\n",
       "      <td>19437.000000</td>\n",
       "      <td>19439.000000</td>\n",
       "      <td>19439.000000</td>\n",
       "      <td>19339.000000</td>\n",
       "      <td>19428.000000</td>\n",
       "      <td>19294.000000</td>\n",
       "      <td>19340.000000</td>\n",
       "      <td>19439.000000</td>\n",
       "      <td>19405.000000</td>\n",
       "      <td>19431.000000</td>\n",
       "      <td>19395.000000</td>\n",
       "      <td>18986.000000</td>\n",
       "      <td>19439.000000</td>\n",
       "      <td>19439.000000</td>\n",
       "      <td>19416.000000</td>\n",
       "      <td>19439.000000</td>\n",
       "      <td>19439.000000</td>\n",
       "      <td>19438.000000</td>\n",
       "      <td>19439.000000</td>\n",
       "      <td>19439.000000</td>\n",
       "      <td>19439.000000</td>\n",
       "      <td>19438.000000</td>\n",
       "      <td>19438.000000</td>\n",
       "      <td>19438.000000</td>\n",
       "      <td>19438.000000</td>\n",
       "      <td>19438.000000</td>\n",
       "      <td>19438.000000</td>\n",
       "      <td>19439.000000</td>\n",
       "      <td>19439.000000</td>\n",
       "      <td>19003.000000</td>\n",
       "      <td>19439.000000</td>\n",
       "      <td>19439.000000</td>\n",
       "      <td>19439.000000</td>\n",
       "      <td>19437.000000</td>\n",
       "      <td>19427.000000</td>\n",
       "      <td>17691.000000</td>\n",
       "      <td>19439.000000</td>\n",
       "      <td>19219.000000</td>\n",
       "      <td>19438.000000</td>\n",
       "      <td>19416.000000</td>\n",
       "      <td>19438.000000</td>\n",
       "      <td>19426.000000</td>\n",
       "      <td>19438.000000</td>\n",
       "      <td>19438.000000</td>\n",
       "      <td>19438.000000</td>\n",
       "      <td>19433.000000</td>\n",
       "      <td>19438.000000</td>\n",
       "      <td>19438.000000</td>\n",
       "      <td>19438.000000</td>\n",
       "      <td>19438.000000</td>\n",
       "      <td>19438.000000</td>\n",
       "      <td>19438.000000</td>\n",
       "      <td>19438.000000</td>\n",
       "      <td>19437.000000</td>\n",
       "      <td>19438.000000</td>\n",
       "    </tr>\n",
       "    <tr>\n",
       "      <th>unique</th>\n",
       "      <td>19439</td>\n",
       "      <td>NaN</td>\n",
       "      <td>NaN</td>\n",
       "      <td>NaN</td>\n",
       "      <td>NaN</td>\n",
       "      <td>NaN</td>\n",
       "      <td>NaN</td>\n",
       "      <td>NaN</td>\n",
       "      <td>NaN</td>\n",
       "      <td>NaN</td>\n",
       "      <td>NaN</td>\n",
       "      <td>NaN</td>\n",
       "      <td>NaN</td>\n",
       "      <td>NaN</td>\n",
       "      <td>NaN</td>\n",
       "      <td>NaN</td>\n",
       "      <td>NaN</td>\n",
       "      <td>NaN</td>\n",
       "      <td>NaN</td>\n",
       "      <td>NaN</td>\n",
       "      <td>NaN</td>\n",
       "      <td>NaN</td>\n",
       "      <td>NaN</td>\n",
       "      <td>NaN</td>\n",
       "      <td>NaN</td>\n",
       "      <td>NaN</td>\n",
       "      <td>NaN</td>\n",
       "      <td>NaN</td>\n",
       "      <td>NaN</td>\n",
       "      <td>NaN</td>\n",
       "      <td>NaN</td>\n",
       "      <td>NaN</td>\n",
       "      <td>NaN</td>\n",
       "      <td>NaN</td>\n",
       "      <td>NaN</td>\n",
       "      <td>NaN</td>\n",
       "      <td>NaN</td>\n",
       "      <td>NaN</td>\n",
       "      <td>NaN</td>\n",
       "      <td>NaN</td>\n",
       "      <td>NaN</td>\n",
       "      <td>NaN</td>\n",
       "      <td>NaN</td>\n",
       "      <td>NaN</td>\n",
       "      <td>NaN</td>\n",
       "      <td>NaN</td>\n",
       "      <td>NaN</td>\n",
       "      <td>NaN</td>\n",
       "      <td>NaN</td>\n",
       "      <td>NaN</td>\n",
       "      <td>NaN</td>\n",
       "      <td>NaN</td>\n",
       "      <td>NaN</td>\n",
       "      <td>NaN</td>\n",
       "      <td>NaN</td>\n",
       "      <td>NaN</td>\n",
       "      <td>NaN</td>\n",
       "      <td>NaN</td>\n",
       "      <td>NaN</td>\n",
       "      <td>NaN</td>\n",
       "      <td>NaN</td>\n",
       "      <td>NaN</td>\n",
       "      <td>NaN</td>\n",
       "      <td>NaN</td>\n",
       "      <td>NaN</td>\n",
       "      <td>NaN</td>\n",
       "      <td>NaN</td>\n",
       "      <td>NaN</td>\n",
       "      <td>NaN</td>\n",
       "      <td>NaN</td>\n",
       "      <td>NaN</td>\n",
       "      <td>NaN</td>\n",
       "      <td>NaN</td>\n",
       "      <td>NaN</td>\n",
       "      <td>NaN</td>\n",
       "      <td>NaN</td>\n",
       "      <td>NaN</td>\n",
       "      <td>NaN</td>\n",
       "      <td>NaN</td>\n",
       "      <td>NaN</td>\n",
       "      <td>NaN</td>\n",
       "      <td>NaN</td>\n",
       "      <td>NaN</td>\n",
       "      <td>NaN</td>\n",
       "      <td>NaN</td>\n",
       "      <td>NaN</td>\n",
       "      <td>NaN</td>\n",
       "    </tr>\n",
       "    <tr>\n",
       "      <th>top</th>\n",
       "      <td>2016-12-23 05:59:59</td>\n",
       "      <td>NaN</td>\n",
       "      <td>NaN</td>\n",
       "      <td>NaN</td>\n",
       "      <td>NaN</td>\n",
       "      <td>NaN</td>\n",
       "      <td>NaN</td>\n",
       "      <td>NaN</td>\n",
       "      <td>NaN</td>\n",
       "      <td>NaN</td>\n",
       "      <td>NaN</td>\n",
       "      <td>NaN</td>\n",
       "      <td>NaN</td>\n",
       "      <td>NaN</td>\n",
       "      <td>NaN</td>\n",
       "      <td>NaN</td>\n",
       "      <td>NaN</td>\n",
       "      <td>NaN</td>\n",
       "      <td>NaN</td>\n",
       "      <td>NaN</td>\n",
       "      <td>NaN</td>\n",
       "      <td>NaN</td>\n",
       "      <td>NaN</td>\n",
       "      <td>NaN</td>\n",
       "      <td>NaN</td>\n",
       "      <td>NaN</td>\n",
       "      <td>NaN</td>\n",
       "      <td>NaN</td>\n",
       "      <td>NaN</td>\n",
       "      <td>NaN</td>\n",
       "      <td>NaN</td>\n",
       "      <td>NaN</td>\n",
       "      <td>NaN</td>\n",
       "      <td>NaN</td>\n",
       "      <td>NaN</td>\n",
       "      <td>NaN</td>\n",
       "      <td>NaN</td>\n",
       "      <td>NaN</td>\n",
       "      <td>NaN</td>\n",
       "      <td>NaN</td>\n",
       "      <td>NaN</td>\n",
       "      <td>NaN</td>\n",
       "      <td>NaN</td>\n",
       "      <td>NaN</td>\n",
       "      <td>NaN</td>\n",
       "      <td>NaN</td>\n",
       "      <td>NaN</td>\n",
       "      <td>NaN</td>\n",
       "      <td>NaN</td>\n",
       "      <td>NaN</td>\n",
       "      <td>NaN</td>\n",
       "      <td>NaN</td>\n",
       "      <td>NaN</td>\n",
       "      <td>NaN</td>\n",
       "      <td>NaN</td>\n",
       "      <td>NaN</td>\n",
       "      <td>NaN</td>\n",
       "      <td>NaN</td>\n",
       "      <td>NaN</td>\n",
       "      <td>NaN</td>\n",
       "      <td>NaN</td>\n",
       "      <td>NaN</td>\n",
       "      <td>NaN</td>\n",
       "      <td>NaN</td>\n",
       "      <td>NaN</td>\n",
       "      <td>NaN</td>\n",
       "      <td>NaN</td>\n",
       "      <td>NaN</td>\n",
       "      <td>NaN</td>\n",
       "      <td>NaN</td>\n",
       "      <td>NaN</td>\n",
       "      <td>NaN</td>\n",
       "      <td>NaN</td>\n",
       "      <td>NaN</td>\n",
       "      <td>NaN</td>\n",
       "      <td>NaN</td>\n",
       "      <td>NaN</td>\n",
       "      <td>NaN</td>\n",
       "      <td>NaN</td>\n",
       "      <td>NaN</td>\n",
       "      <td>NaN</td>\n",
       "      <td>NaN</td>\n",
       "      <td>NaN</td>\n",
       "      <td>NaN</td>\n",
       "      <td>NaN</td>\n",
       "      <td>NaN</td>\n",
       "      <td>NaN</td>\n",
       "    </tr>\n",
       "    <tr>\n",
       "      <th>freq</th>\n",
       "      <td>1</td>\n",
       "      <td>NaN</td>\n",
       "      <td>NaN</td>\n",
       "      <td>NaN</td>\n",
       "      <td>NaN</td>\n",
       "      <td>NaN</td>\n",
       "      <td>NaN</td>\n",
       "      <td>NaN</td>\n",
       "      <td>NaN</td>\n",
       "      <td>NaN</td>\n",
       "      <td>NaN</td>\n",
       "      <td>NaN</td>\n",
       "      <td>NaN</td>\n",
       "      <td>NaN</td>\n",
       "      <td>NaN</td>\n",
       "      <td>NaN</td>\n",
       "      <td>NaN</td>\n",
       "      <td>NaN</td>\n",
       "      <td>NaN</td>\n",
       "      <td>NaN</td>\n",
       "      <td>NaN</td>\n",
       "      <td>NaN</td>\n",
       "      <td>NaN</td>\n",
       "      <td>NaN</td>\n",
       "      <td>NaN</td>\n",
       "      <td>NaN</td>\n",
       "      <td>NaN</td>\n",
       "      <td>NaN</td>\n",
       "      <td>NaN</td>\n",
       "      <td>NaN</td>\n",
       "      <td>NaN</td>\n",
       "      <td>NaN</td>\n",
       "      <td>NaN</td>\n",
       "      <td>NaN</td>\n",
       "      <td>NaN</td>\n",
       "      <td>NaN</td>\n",
       "      <td>NaN</td>\n",
       "      <td>NaN</td>\n",
       "      <td>NaN</td>\n",
       "      <td>NaN</td>\n",
       "      <td>NaN</td>\n",
       "      <td>NaN</td>\n",
       "      <td>NaN</td>\n",
       "      <td>NaN</td>\n",
       "      <td>NaN</td>\n",
       "      <td>NaN</td>\n",
       "      <td>NaN</td>\n",
       "      <td>NaN</td>\n",
       "      <td>NaN</td>\n",
       "      <td>NaN</td>\n",
       "      <td>NaN</td>\n",
       "      <td>NaN</td>\n",
       "      <td>NaN</td>\n",
       "      <td>NaN</td>\n",
       "      <td>NaN</td>\n",
       "      <td>NaN</td>\n",
       "      <td>NaN</td>\n",
       "      <td>NaN</td>\n",
       "      <td>NaN</td>\n",
       "      <td>NaN</td>\n",
       "      <td>NaN</td>\n",
       "      <td>NaN</td>\n",
       "      <td>NaN</td>\n",
       "      <td>NaN</td>\n",
       "      <td>NaN</td>\n",
       "      <td>NaN</td>\n",
       "      <td>NaN</td>\n",
       "      <td>NaN</td>\n",
       "      <td>NaN</td>\n",
       "      <td>NaN</td>\n",
       "      <td>NaN</td>\n",
       "      <td>NaN</td>\n",
       "      <td>NaN</td>\n",
       "      <td>NaN</td>\n",
       "      <td>NaN</td>\n",
       "      <td>NaN</td>\n",
       "      <td>NaN</td>\n",
       "      <td>NaN</td>\n",
       "      <td>NaN</td>\n",
       "      <td>NaN</td>\n",
       "      <td>NaN</td>\n",
       "      <td>NaN</td>\n",
       "      <td>NaN</td>\n",
       "      <td>NaN</td>\n",
       "      <td>NaN</td>\n",
       "      <td>NaN</td>\n",
       "      <td>NaN</td>\n",
       "    </tr>\n",
       "    <tr>\n",
       "      <th>mean</th>\n",
       "      <td>NaN</td>\n",
       "      <td>5.168470</td>\n",
       "      <td>9.978895</td>\n",
       "      <td>9.501224</td>\n",
       "      <td>44.076513</td>\n",
       "      <td>67.050208</td>\n",
       "      <td>9.688589</td>\n",
       "      <td>2.705795</td>\n",
       "      <td>10.583728</td>\n",
       "      <td>3.042467</td>\n",
       "      <td>144.624774</td>\n",
       "      <td>8.817039</td>\n",
       "      <td>7.307078</td>\n",
       "      <td>1.021795</td>\n",
       "      <td>8.442408</td>\n",
       "      <td>9.829530</td>\n",
       "      <td>10.489499</td>\n",
       "      <td>32.119400</td>\n",
       "      <td>16.145826</td>\n",
       "      <td>3.435656</td>\n",
       "      <td>7.973209</td>\n",
       "      <td>3.914179</td>\n",
       "      <td>1.589354e+03</td>\n",
       "      <td>-491.195012</td>\n",
       "      <td>1.591344e+03</td>\n",
       "      <td>-492.192978</td>\n",
       "      <td>1.586669e+03</td>\n",
       "      <td>-491.980070</td>\n",
       "      <td>1.542912e+03</td>\n",
       "      <td>-488.017382</td>\n",
       "      <td>4.217119e+04</td>\n",
       "      <td>3393.052498</td>\n",
       "      <td>3256.854171</td>\n",
       "      <td>2.420119</td>\n",
       "      <td>8.794927</td>\n",
       "      <td>3.598085</td>\n",
       "      <td>478.320042</td>\n",
       "      <td>58.970310</td>\n",
       "      <td>36.695114</td>\n",
       "      <td>8.266097</td>\n",
       "      <td>12.334373</td>\n",
       "      <td>6.021474</td>\n",
       "      <td>12.064140</td>\n",
       "      <td>6.065533</td>\n",
       "      <td>11.994759</td>\n",
       "      <td>7.606272</td>\n",
       "      <td>28.805571</td>\n",
       "      <td>19.772000</td>\n",
       "      <td>83.328587</td>\n",
       "      <td>5.588982</td>\n",
       "      <td>0.645782</td>\n",
       "      <td>18.057106</td>\n",
       "      <td>1.816391</td>\n",
       "      <td>1105.315068</td>\n",
       "      <td>-376.610690</td>\n",
       "      <td>1320.221139</td>\n",
       "      <td>-467.247826</td>\n",
       "      <td>1299.968799</td>\n",
       "      <td>-467.716946</td>\n",
       "      <td>1211.563299</td>\n",
       "      <td>-468.239912</td>\n",
       "      <td>1080.869685</td>\n",
       "      <td>-466.037742</td>\n",
       "      <td>1025.274256</td>\n",
       "      <td>-466.265327</td>\n",
       "      <td>14.586833</td>\n",
       "      <td>5.777703</td>\n",
       "      <td>7.167247</td>\n",
       "      <td>4.339625</td>\n",
       "      <td>28.705564</td>\n",
       "      <td>-502.367331</td>\n",
       "      <td>24.106800</td>\n",
       "      <td>-503.230712</td>\n",
       "      <td>28.199338</td>\n",
       "      <td>-486.203350</td>\n",
       "      <td>22.200645</td>\n",
       "      <td>-493.742107</td>\n",
       "      <td>18.987674</td>\n",
       "      <td>-485.894516</td>\n",
       "      <td>15.010366</td>\n",
       "      <td>-461.078636</td>\n",
       "      <td>15.694452</td>\n",
       "      <td>-488.684065</td>\n",
       "      <td>12.198224</td>\n",
       "      <td>-487.149827</td>\n",
       "      <td>18.959024</td>\n",
       "      <td>-505.436305</td>\n",
       "    </tr>\n",
       "    <tr>\n",
       "      <th>std</th>\n",
       "      <td>NaN</td>\n",
       "      <td>1.372348</td>\n",
       "      <td>1.669240</td>\n",
       "      <td>2.787537</td>\n",
       "      <td>5.129784</td>\n",
       "      <td>10.125840</td>\n",
       "      <td>2.328642</td>\n",
       "      <td>0.949077</td>\n",
       "      <td>2.868782</td>\n",
       "      <td>0.922808</td>\n",
       "      <td>44.464071</td>\n",
       "      <td>3.286186</td>\n",
       "      <td>0.613509</td>\n",
       "      <td>0.513254</td>\n",
       "      <td>2.054465</td>\n",
       "      <td>2.556843</td>\n",
       "      <td>3.909639</td>\n",
       "      <td>5.627611</td>\n",
       "      <td>3.548598</td>\n",
       "      <td>1.392536</td>\n",
       "      <td>2.212677</td>\n",
       "      <td>1.593034</td>\n",
       "      <td>1.289968e+02</td>\n",
       "      <td>32.431842</td>\n",
       "      <td>1.318109e+02</td>\n",
       "      <td>33.794822</td>\n",
       "      <td>1.361114e+02</td>\n",
       "      <td>32.711455</td>\n",
       "      <td>2.461996e+02</td>\n",
       "      <td>43.959780</td>\n",
       "      <td>3.243621e+05</td>\n",
       "      <td>4943.845943</td>\n",
       "      <td>5781.423659</td>\n",
       "      <td>0.814935</td>\n",
       "      <td>1.936847</td>\n",
       "      <td>1.049486</td>\n",
       "      <td>105.373758</td>\n",
       "      <td>21.634478</td>\n",
       "      <td>5.145445</td>\n",
       "      <td>1.955092</td>\n",
       "      <td>3.427317</td>\n",
       "      <td>1.127263</td>\n",
       "      <td>3.784221</td>\n",
       "      <td>1.099118</td>\n",
       "      <td>2.733862</td>\n",
       "      <td>1.796757</td>\n",
       "      <td>5.944207</td>\n",
       "      <td>3.753600</td>\n",
       "      <td>14.148086</td>\n",
       "      <td>1.111288</td>\n",
       "      <td>0.251526</td>\n",
       "      <td>3.449218</td>\n",
       "      <td>0.680046</td>\n",
       "      <td>160.826798</td>\n",
       "      <td>93.909667</td>\n",
       "      <td>176.287095</td>\n",
       "      <td>54.673142</td>\n",
       "      <td>202.804325</td>\n",
       "      <td>53.534825</td>\n",
       "      <td>204.019326</td>\n",
       "      <td>53.921458</td>\n",
       "      <td>172.149992</td>\n",
       "      <td>57.384424</td>\n",
       "      <td>164.487837</td>\n",
       "      <td>57.850263</td>\n",
       "      <td>4.265202</td>\n",
       "      <td>2.774598</td>\n",
       "      <td>3.916079</td>\n",
       "      <td>2.326751</td>\n",
       "      <td>5.458789</td>\n",
       "      <td>53.571950</td>\n",
       "      <td>5.749616</td>\n",
       "      <td>56.567724</td>\n",
       "      <td>6.134908</td>\n",
       "      <td>54.412349</td>\n",
       "      <td>5.574001</td>\n",
       "      <td>43.372158</td>\n",
       "      <td>5.411058</td>\n",
       "      <td>47.758570</td>\n",
       "      <td>4.890228</td>\n",
       "      <td>67.405524</td>\n",
       "      <td>5.510974</td>\n",
       "      <td>34.533396</td>\n",
       "      <td>5.333024</td>\n",
       "      <td>38.347312</td>\n",
       "      <td>5.550498</td>\n",
       "      <td>37.689057</td>\n",
       "    </tr>\n",
       "    <tr>\n",
       "      <th>min</th>\n",
       "      <td>NaN</td>\n",
       "      <td>0.000000</td>\n",
       "      <td>0.000000</td>\n",
       "      <td>0.000000</td>\n",
       "      <td>0.000000</td>\n",
       "      <td>0.000000</td>\n",
       "      <td>0.000000</td>\n",
       "      <td>0.000000</td>\n",
       "      <td>0.000000</td>\n",
       "      <td>0.000000</td>\n",
       "      <td>0.003112</td>\n",
       "      <td>0.000000</td>\n",
       "      <td>1.080000</td>\n",
       "      <td>0.000005</td>\n",
       "      <td>0.000000</td>\n",
       "      <td>0.000000</td>\n",
       "      <td>0.000000</td>\n",
       "      <td>0.000000</td>\n",
       "      <td>0.000000</td>\n",
       "      <td>0.000000</td>\n",
       "      <td>0.000000</td>\n",
       "      <td>0.000000</td>\n",
       "      <td>5.445860e-32</td>\n",
       "      <td>-798.641662</td>\n",
       "      <td>6.647490e-32</td>\n",
       "      <td>-799.997015</td>\n",
       "      <td>4.033736e-32</td>\n",
       "      <td>-799.960571</td>\n",
       "      <td>4.039220e-32</td>\n",
       "      <td>-799.794250</td>\n",
       "      <td>-4.223520e+07</td>\n",
       "      <td>-486.598675</td>\n",
       "      <td>-264.982785</td>\n",
       "      <td>-0.010548</td>\n",
       "      <td>0.010000</td>\n",
       "      <td>0.010000</td>\n",
       "      <td>0.002986</td>\n",
       "      <td>0.046369</td>\n",
       "      <td>0.010000</td>\n",
       "      <td>0.010000</td>\n",
       "      <td>0.001083</td>\n",
       "      <td>0.000568</td>\n",
       "      <td>0.000077</td>\n",
       "      <td>0.000290</td>\n",
       "      <td>0.000000</td>\n",
       "      <td>0.000000</td>\n",
       "      <td>0.000000</td>\n",
       "      <td>0.000000</td>\n",
       "      <td>0.000000</td>\n",
       "      <td>0.594562</td>\n",
       "      <td>0.007566</td>\n",
       "      <td>10.014648</td>\n",
       "      <td>0.020676</td>\n",
       "      <td>-0.042069</td>\n",
       "      <td>-657.949759</td>\n",
       "      <td>-0.721806</td>\n",
       "      <td>-650.260008</td>\n",
       "      <td>-0.056636</td>\n",
       "      <td>-647.544439</td>\n",
       "      <td>-0.992219</td>\n",
       "      <td>-648.390665</td>\n",
       "      <td>-1.982295</td>\n",
       "      <td>-649.443911</td>\n",
       "      <td>-2.593390</td>\n",
       "      <td>-649.949283</td>\n",
       "      <td>0.000000</td>\n",
       "      <td>0.000000</td>\n",
       "      <td>0.000000</td>\n",
       "      <td>0.000000</td>\n",
       "      <td>0.077503</td>\n",
       "      <td>-799.606441</td>\n",
       "      <td>0.000000</td>\n",
       "      <td>-799.873878</td>\n",
       "      <td>0.000000</td>\n",
       "      <td>-799.755798</td>\n",
       "      <td>0.000000</td>\n",
       "      <td>-809.333008</td>\n",
       "      <td>0.000000</td>\n",
       "      <td>-799.798523</td>\n",
       "      <td>0.000000</td>\n",
       "      <td>-800.836914</td>\n",
       "      <td>-0.372054</td>\n",
       "      <td>-797.323986</td>\n",
       "      <td>0.528083</td>\n",
       "      <td>-800.220337</td>\n",
       "      <td>-0.079426</td>\n",
       "      <td>-809.741464</td>\n",
       "    </tr>\n",
       "    <tr>\n",
       "      <th>25%</th>\n",
       "      <td>NaN</td>\n",
       "      <td>4.251240</td>\n",
       "      <td>9.137262</td>\n",
       "      <td>7.722820</td>\n",
       "      <td>43.402215</td>\n",
       "      <td>63.299712</td>\n",
       "      <td>8.062878</td>\n",
       "      <td>2.040119</td>\n",
       "      <td>8.938947</td>\n",
       "      <td>2.461138</td>\n",
       "      <td>114.107029</td>\n",
       "      <td>6.076909</td>\n",
       "      <td>6.940000</td>\n",
       "      <td>0.697224</td>\n",
       "      <td>7.263288</td>\n",
       "      <td>8.702328</td>\n",
       "      <td>7.893893</td>\n",
       "      <td>30.463140</td>\n",
       "      <td>14.017742</td>\n",
       "      <td>2.504365</td>\n",
       "      <td>6.747483</td>\n",
       "      <td>2.924844</td>\n",
       "      <td>1.505063e+03</td>\n",
       "      <td>-500.308544</td>\n",
       "      <td>1.503630e+03</td>\n",
       "      <td>-500.437171</td>\n",
       "      <td>1.500927e+03</td>\n",
       "      <td>-500.703932</td>\n",
       "      <td>1.494219e+03</td>\n",
       "      <td>-500.458365</td>\n",
       "      <td>4.070095e+04</td>\n",
       "      <td>2611.425833</td>\n",
       "      <td>2551.437587</td>\n",
       "      <td>2.035434</td>\n",
       "      <td>7.237967</td>\n",
       "      <td>2.887280</td>\n",
       "      <td>416.525453</td>\n",
       "      <td>47.435103</td>\n",
       "      <td>34.207799</td>\n",
       "      <td>6.854384</td>\n",
       "      <td>10.000362</td>\n",
       "      <td>5.398678</td>\n",
       "      <td>9.998460</td>\n",
       "      <td>5.402368</td>\n",
       "      <td>10.628337</td>\n",
       "      <td>6.725987</td>\n",
       "      <td>27.224120</td>\n",
       "      <td>18.802523</td>\n",
       "      <td>81.037957</td>\n",
       "      <td>4.889892</td>\n",
       "      <td>0.477728</td>\n",
       "      <td>15.822525</td>\n",
       "      <td>1.404207</td>\n",
       "      <td>999.661867</td>\n",
       "      <td>-499.835165</td>\n",
       "      <td>1199.626115</td>\n",
       "      <td>-500.201130</td>\n",
       "      <td>1151.076301</td>\n",
       "      <td>-500.217218</td>\n",
       "      <td>1061.051788</td>\n",
       "      <td>-500.386386</td>\n",
       "      <td>998.675263</td>\n",
       "      <td>-500.232191</td>\n",
       "      <td>900.995511</td>\n",
       "      <td>-500.522553</td>\n",
       "      <td>12.640239</td>\n",
       "      <td>3.864733</td>\n",
       "      <td>3.845475</td>\n",
       "      <td>3.182770</td>\n",
       "      <td>25.048462</td>\n",
       "      <td>-500.233700</td>\n",
       "      <td>20.919853</td>\n",
       "      <td>-500.253794</td>\n",
       "      <td>24.949227</td>\n",
       "      <td>-500.213546</td>\n",
       "      <td>18.995924</td>\n",
       "      <td>-500.123034</td>\n",
       "      <td>14.975734</td>\n",
       "      <td>-500.704892</td>\n",
       "      <td>11.940294</td>\n",
       "      <td>-500.187742</td>\n",
       "      <td>10.988606</td>\n",
       "      <td>-500.458467</td>\n",
       "      <td>8.971105</td>\n",
       "      <td>-500.129462</td>\n",
       "      <td>14.983037</td>\n",
       "      <td>-500.728067</td>\n",
       "    </tr>\n",
       "    <tr>\n",
       "      <th>50%</th>\n",
       "      <td>NaN</td>\n",
       "      <td>5.066094</td>\n",
       "      <td>10.102433</td>\n",
       "      <td>9.218961</td>\n",
       "      <td>45.011244</td>\n",
       "      <td>68.172738</td>\n",
       "      <td>9.743623</td>\n",
       "      <td>2.748730</td>\n",
       "      <td>10.622456</td>\n",
       "      <td>2.984909</td>\n",
       "      <td>143.232103</td>\n",
       "      <td>8.038311</td>\n",
       "      <td>7.280000</td>\n",
       "      <td>0.940863</td>\n",
       "      <td>8.507298</td>\n",
       "      <td>10.152433</td>\n",
       "      <td>10.314632</td>\n",
       "      <td>32.841295</td>\n",
       "      <td>15.842836</td>\n",
       "      <td>3.271153</td>\n",
       "      <td>8.183673</td>\n",
       "      <td>3.623234</td>\n",
       "      <td>1.600597e+03</td>\n",
       "      <td>-499.926134</td>\n",
       "      <td>1.600521e+03</td>\n",
       "      <td>-499.956767</td>\n",
       "      <td>1.600254e+03</td>\n",
       "      <td>-499.909524</td>\n",
       "      <td>1.599447e+03</td>\n",
       "      <td>-499.905974</td>\n",
       "      <td>4.469648e+04</td>\n",
       "      <td>3018.353876</td>\n",
       "      <td>2997.218088</td>\n",
       "      <td>2.309665</td>\n",
       "      <td>8.593574</td>\n",
       "      <td>3.534895</td>\n",
       "      <td>499.416120</td>\n",
       "      <td>54.610197</td>\n",
       "      <td>37.202650</td>\n",
       "      <td>8.125839</td>\n",
       "      <td>12.001174</td>\n",
       "      <td>6.008273</td>\n",
       "      <td>12.000204</td>\n",
       "      <td>6.098580</td>\n",
       "      <td>12.098115</td>\n",
       "      <td>7.742580</td>\n",
       "      <td>29.835345</td>\n",
       "      <td>20.280214</td>\n",
       "      <td>86.188892</td>\n",
       "      <td>5.765802</td>\n",
       "      <td>0.617465</td>\n",
       "      <td>18.106867</td>\n",
       "      <td>1.808170</td>\n",
       "      <td>1001.072890</td>\n",
       "      <td>-300.263994</td>\n",
       "      <td>1301.579988</td>\n",
       "      <td>-499.784045</td>\n",
       "      <td>1300.211537</td>\n",
       "      <td>-499.713364</td>\n",
       "      <td>1201.569141</td>\n",
       "      <td>-499.532412</td>\n",
       "      <td>1050.029461</td>\n",
       "      <td>-499.663089</td>\n",
       "      <td>999.924821</td>\n",
       "      <td>-499.471777</td>\n",
       "      <td>15.641902</td>\n",
       "      <td>5.344073</td>\n",
       "      <td>7.685827</td>\n",
       "      <td>4.072412</td>\n",
       "      <td>29.099943</td>\n",
       "      <td>-499.973250</td>\n",
       "      <td>25.043289</td>\n",
       "      <td>-500.015439</td>\n",
       "      <td>27.982129</td>\n",
       "      <td>-499.930680</td>\n",
       "      <td>22.011231</td>\n",
       "      <td>-499.981902</td>\n",
       "      <td>18.017481</td>\n",
       "      <td>-499.837793</td>\n",
       "      <td>14.971014</td>\n",
       "      <td>-499.459786</td>\n",
       "      <td>15.000036</td>\n",
       "      <td>-499.802605</td>\n",
       "      <td>11.019433</td>\n",
       "      <td>-499.935317</td>\n",
       "      <td>19.960541</td>\n",
       "      <td>-500.048400</td>\n",
       "    </tr>\n",
       "    <tr>\n",
       "      <th>75%</th>\n",
       "      <td>NaN</td>\n",
       "      <td>5.895527</td>\n",
       "      <td>11.035769</td>\n",
       "      <td>10.947813</td>\n",
       "      <td>46.275313</td>\n",
       "      <td>72.686642</td>\n",
       "      <td>11.134294</td>\n",
       "      <td>3.333216</td>\n",
       "      <td>12.104271</td>\n",
       "      <td>3.571351</td>\n",
       "      <td>175.075656</td>\n",
       "      <td>11.013521</td>\n",
       "      <td>7.670000</td>\n",
       "      <td>1.210990</td>\n",
       "      <td>9.809001</td>\n",
       "      <td>11.424971</td>\n",
       "      <td>13.446702</td>\n",
       "      <td>35.048006</td>\n",
       "      <td>18.013975</td>\n",
       "      <td>4.181748</td>\n",
       "      <td>9.548586</td>\n",
       "      <td>4.585705</td>\n",
       "      <td>1.697658e+03</td>\n",
       "      <td>-499.433950</td>\n",
       "      <td>1.699218e+03</td>\n",
       "      <td>-499.373336</td>\n",
       "      <td>1.699483e+03</td>\n",
       "      <td>-498.857643</td>\n",
       "      <td>1.698525e+03</td>\n",
       "      <td>-499.064695</td>\n",
       "      <td>4.816821e+04</td>\n",
       "      <td>3676.769750</td>\n",
       "      <td>3601.998911</td>\n",
       "      <td>2.731794</td>\n",
       "      <td>10.213771</td>\n",
       "      <td>4.244161</td>\n",
       "      <td>550.172183</td>\n",
       "      <td>65.023044</td>\n",
       "      <td>40.039133</td>\n",
       "      <td>9.769917</td>\n",
       "      <td>14.716595</td>\n",
       "      <td>6.798051</td>\n",
       "      <td>14.636766</td>\n",
       "      <td>6.801233</td>\n",
       "      <td>13.736996</td>\n",
       "      <td>8.565199</td>\n",
       "      <td>32.189933</td>\n",
       "      <td>21.717843</td>\n",
       "      <td>90.010670</td>\n",
       "      <td>6.389234</td>\n",
       "      <td>0.778271</td>\n",
       "      <td>20.088151</td>\n",
       "      <td>2.211861</td>\n",
       "      <td>1205.620588</td>\n",
       "      <td>-299.981998</td>\n",
       "      <td>1448.630789</td>\n",
       "      <td>-400.615589</td>\n",
       "      <td>1449.464001</td>\n",
       "      <td>-400.985743</td>\n",
       "      <td>1352.880320</td>\n",
       "      <td>-401.638550</td>\n",
       "      <td>1199.425140</td>\n",
       "      <td>-401.161191</td>\n",
       "      <td>1099.719692</td>\n",
       "      <td>-401.511042</td>\n",
       "      <td>17.358217</td>\n",
       "      <td>7.788467</td>\n",
       "      <td>10.411296</td>\n",
       "      <td>5.063081</td>\n",
       "      <td>33.012536</td>\n",
       "      <td>-499.671261</td>\n",
       "      <td>28.008197</td>\n",
       "      <td>-499.785698</td>\n",
       "      <td>33.002798</td>\n",
       "      <td>-499.325739</td>\n",
       "      <td>25.998206</td>\n",
       "      <td>-499.812834</td>\n",
       "      <td>23.012470</td>\n",
       "      <td>-498.249730</td>\n",
       "      <td>19.034162</td>\n",
       "      <td>-400.118106</td>\n",
       "      <td>18.026190</td>\n",
       "      <td>-498.384187</td>\n",
       "      <td>14.019088</td>\n",
       "      <td>-499.436708</td>\n",
       "      <td>24.003170</td>\n",
       "      <td>-499.495378</td>\n",
       "    </tr>\n",
       "    <tr>\n",
       "      <th>max</th>\n",
       "      <td>NaN</td>\n",
       "      <td>16.001945</td>\n",
       "      <td>17.031899</td>\n",
       "      <td>19.615720</td>\n",
       "      <td>52.756638</td>\n",
       "      <td>100.000000</td>\n",
       "      <td>19.552149</td>\n",
       "      <td>5.804178</td>\n",
       "      <td>22.317730</td>\n",
       "      <td>8.245022</td>\n",
       "      <td>265.983123</td>\n",
       "      <td>40.000000</td>\n",
       "      <td>15.500000</td>\n",
       "      <td>4.102454</td>\n",
       "      <td>16.081632</td>\n",
       "      <td>17.081278</td>\n",
       "      <td>22.458114</td>\n",
       "      <td>45.933934</td>\n",
       "      <td>29.459575</td>\n",
       "      <td>9.634565</td>\n",
       "      <td>22.276364</td>\n",
       "      <td>17.788925</td>\n",
       "      <td>2.103104e+03</td>\n",
       "      <td>-57.195404</td>\n",
       "      <td>2.114907e+03</td>\n",
       "      <td>-142.527229</td>\n",
       "      <td>2.013156e+03</td>\n",
       "      <td>-150.937035</td>\n",
       "      <td>2.398904e+03</td>\n",
       "      <td>-30.601828</td>\n",
       "      <td>3.428099e+06</td>\n",
       "      <td>629638.977914</td>\n",
       "      <td>718684.955855</td>\n",
       "      <td>39.379272</td>\n",
       "      <td>14.596026</td>\n",
       "      <td>7.142594</td>\n",
       "      <td>717.508837</td>\n",
       "      <td>484.967466</td>\n",
       "      <td>53.477742</td>\n",
       "      <td>13.731330</td>\n",
       "      <td>36.118275</td>\n",
       "      <td>9.703448</td>\n",
       "      <td>37.980648</td>\n",
       "      <td>9.698407</td>\n",
       "      <td>24.480271</td>\n",
       "      <td>13.617072</td>\n",
       "      <td>38.351193</td>\n",
       "      <td>28.824507</td>\n",
       "      <td>100.000000</td>\n",
       "      <td>12.719177</td>\n",
       "      <td>3.778064</td>\n",
       "      <td>66.117188</td>\n",
       "      <td>9.688980</td>\n",
       "      <td>1521.980372</td>\n",
       "      <td>-273.776101</td>\n",
       "      <td>1809.194008</td>\n",
       "      <td>-296.383080</td>\n",
       "      <td>2499.129174</td>\n",
       "      <td>-292.155509</td>\n",
       "      <td>1817.199290</td>\n",
       "      <td>-76.397327</td>\n",
       "      <td>1922.636637</td>\n",
       "      <td>-139.753025</td>\n",
       "      <td>1706.307502</td>\n",
       "      <td>-191.718480</td>\n",
       "      <td>23.264738</td>\n",
       "      <td>17.042505</td>\n",
       "      <td>26.000772</td>\n",
       "      <td>26.811643</td>\n",
       "      <td>52.651399</td>\n",
       "      <td>-127.875565</td>\n",
       "      <td>35.152122</td>\n",
       "      <td>-211.999273</td>\n",
       "      <td>44.260464</td>\n",
       "      <td>-191.678810</td>\n",
       "      <td>35.072841</td>\n",
       "      <td>-159.742331</td>\n",
       "      <td>30.115735</td>\n",
       "      <td>-245.239184</td>\n",
       "      <td>31.269706</td>\n",
       "      <td>-6.506986</td>\n",
       "      <td>43.709931</td>\n",
       "      <td>-244.483566</td>\n",
       "      <td>27.926001</td>\n",
       "      <td>-137.740004</td>\n",
       "      <td>32.188906</td>\n",
       "      <td>-104.427459</td>\n",
       "    </tr>\n",
       "  </tbody>\n",
       "</table>\n",
       "</div>"
      ],
      "text/plain": [
       "                       date  final.output.concentrate_ag  \\\n",
       "count                 19439                 19438.000000   \n",
       "unique                19439                          NaN   \n",
       "top     2016-12-23 05:59:59                          NaN   \n",
       "freq                      1                          NaN   \n",
       "mean                    NaN                     5.168470   \n",
       "std                     NaN                     1.372348   \n",
       "min                     NaN                     0.000000   \n",
       "25%                     NaN                     4.251240   \n",
       "50%                     NaN                     5.066094   \n",
       "75%                     NaN                     5.895527   \n",
       "max                     NaN                    16.001945   \n",
       "\n",
       "        final.output.concentrate_pb  final.output.concentrate_sol  \\\n",
       "count                  19438.000000                  19228.000000   \n",
       "unique                          NaN                           NaN   \n",
       "top                             NaN                           NaN   \n",
       "freq                            NaN                           NaN   \n",
       "mean                       9.978895                      9.501224   \n",
       "std                        1.669240                      2.787537   \n",
       "min                        0.000000                      0.000000   \n",
       "25%                        9.137262                      7.722820   \n",
       "50%                       10.102433                      9.218961   \n",
       "75%                       11.035769                     10.947813   \n",
       "max                       17.031899                     19.615720   \n",
       "\n",
       "        final.output.concentrate_au  final.output.recovery  \\\n",
       "count                  19439.000000           19439.000000   \n",
       "unique                          NaN                    NaN   \n",
       "top                             NaN                    NaN   \n",
       "freq                            NaN                    NaN   \n",
       "mean                      44.076513              67.050208   \n",
       "std                        5.129784              10.125840   \n",
       "min                        0.000000               0.000000   \n",
       "25%                       43.402215              63.299712   \n",
       "50%                       45.011244              68.172738   \n",
       "75%                       46.275313              72.686642   \n",
       "max                       52.756638             100.000000   \n",
       "\n",
       "        final.output.tail_ag  final.output.tail_pb  final.output.tail_sol  \\\n",
       "count           19438.000000          19338.000000           19433.000000   \n",
       "unique                   NaN                   NaN                    NaN   \n",
       "top                      NaN                   NaN                    NaN   \n",
       "freq                     NaN                   NaN                    NaN   \n",
       "mean                9.688589              2.705795              10.583728   \n",
       "std                 2.328642              0.949077               2.868782   \n",
       "min                 0.000000              0.000000               0.000000   \n",
       "25%                 8.062878              2.040119               8.938947   \n",
       "50%                 9.743623              2.748730              10.622456   \n",
       "75%                11.134294              3.333216              12.104271   \n",
       "max                19.552149              5.804178              22.317730   \n",
       "\n",
       "        final.output.tail_au  primary_cleaner.input.sulfate  \\\n",
       "count           19439.000000                   19415.000000   \n",
       "unique                   NaN                            NaN   \n",
       "top                      NaN                            NaN   \n",
       "freq                     NaN                            NaN   \n",
       "mean                3.042467                     144.624774   \n",
       "std                 0.922808                      44.464071   \n",
       "min                 0.000000                       0.003112   \n",
       "25%                 2.461138                     114.107029   \n",
       "50%                 2.984909                     143.232103   \n",
       "75%                 3.571351                     175.075656   \n",
       "max                 8.245022                     265.983123   \n",
       "\n",
       "        primary_cleaner.input.depressant  primary_cleaner.input.feed_size  \\\n",
       "count                       19402.000000                     19439.000000   \n",
       "unique                               NaN                              NaN   \n",
       "top                                  NaN                              NaN   \n",
       "freq                                 NaN                              NaN   \n",
       "mean                            8.817039                         7.307078   \n",
       "std                             3.286186                         0.613509   \n",
       "min                             0.000000                         1.080000   \n",
       "25%                             6.076909                         6.940000   \n",
       "50%                             8.038311                         7.280000   \n",
       "75%                            11.013521                         7.670000   \n",
       "max                            40.000000                        15.500000   \n",
       "\n",
       "        primary_cleaner.input.xanthate  primary_cleaner.output.concentrate_ag  \\\n",
       "count                     19335.000000                           19439.000000   \n",
       "unique                             NaN                                    NaN   \n",
       "top                                NaN                                    NaN   \n",
       "freq                               NaN                                    NaN   \n",
       "mean                          1.021795                               8.442408   \n",
       "std                           0.513254                               2.054465   \n",
       "min                           0.000005                               0.000000   \n",
       "25%                           0.697224                               7.263288   \n",
       "50%                           0.940863                               8.507298   \n",
       "75%                           1.210990                               9.809001   \n",
       "max                           4.102454                              16.081632   \n",
       "\n",
       "        primary_cleaner.output.concentrate_pb  \\\n",
       "count                            19323.000000   \n",
       "unique                                    NaN   \n",
       "top                                       NaN   \n",
       "freq                                      NaN   \n",
       "mean                                 9.829530   \n",
       "std                                  2.556843   \n",
       "min                                  0.000000   \n",
       "25%                                  8.702328   \n",
       "50%                                 10.152433   \n",
       "75%                                 11.424971   \n",
       "max                                 17.081278   \n",
       "\n",
       "        primary_cleaner.output.concentrate_sol  \\\n",
       "count                             19069.000000   \n",
       "unique                                     NaN   \n",
       "top                                        NaN   \n",
       "freq                                       NaN   \n",
       "mean                                 10.489499   \n",
       "std                                   3.909639   \n",
       "min                                   0.000000   \n",
       "25%                                   7.893893   \n",
       "50%                                  10.314632   \n",
       "75%                                  13.446702   \n",
       "max                                  22.458114   \n",
       "\n",
       "        primary_cleaner.output.concentrate_au  primary_cleaner.output.tail_ag  \\\n",
       "count                            19439.000000                    19435.000000   \n",
       "unique                                    NaN                             NaN   \n",
       "top                                       NaN                             NaN   \n",
       "freq                                      NaN                             NaN   \n",
       "mean                                32.119400                       16.145826   \n",
       "std                                  5.627611                        3.548598   \n",
       "min                                  0.000000                        0.000000   \n",
       "25%                                 30.463140                       14.017742   \n",
       "50%                                 32.841295                       15.842836   \n",
       "75%                                 35.048006                       18.013975   \n",
       "max                                 45.933934                       29.459575   \n",
       "\n",
       "        primary_cleaner.output.tail_pb  primary_cleaner.output.tail_sol  \\\n",
       "count                     19418.000000                     19377.000000   \n",
       "unique                             NaN                              NaN   \n",
       "top                                NaN                              NaN   \n",
       "freq                               NaN                              NaN   \n",
       "mean                          3.435656                         7.973209   \n",
       "std                           1.392536                         2.212677   \n",
       "min                           0.000000                         0.000000   \n",
       "25%                           2.504365                         6.747483   \n",
       "50%                           3.271153                         8.183673   \n",
       "75%                           4.181748                         9.548586   \n",
       "max                           9.634565                        22.276364   \n",
       "\n",
       "        primary_cleaner.output.tail_au  \\\n",
       "count                     19439.000000   \n",
       "unique                             NaN   \n",
       "top                                NaN   \n",
       "freq                               NaN   \n",
       "mean                          3.914179   \n",
       "std                           1.593034   \n",
       "min                           0.000000   \n",
       "25%                           2.924844   \n",
       "50%                           3.623234   \n",
       "75%                           4.585705   \n",
       "max                          17.788925   \n",
       "\n",
       "        primary_cleaner.state.floatbank8_a_air  \\\n",
       "count                             1.943500e+04   \n",
       "unique                                     NaN   \n",
       "top                                        NaN   \n",
       "freq                                       NaN   \n",
       "mean                              1.589354e+03   \n",
       "std                               1.289968e+02   \n",
       "min                               5.445860e-32   \n",
       "25%                               1.505063e+03   \n",
       "50%                               1.600597e+03   \n",
       "75%                               1.697658e+03   \n",
       "max                               2.103104e+03   \n",
       "\n",
       "        primary_cleaner.state.floatbank8_a_level  \\\n",
       "count                               19438.000000   \n",
       "unique                                       NaN   \n",
       "top                                          NaN   \n",
       "freq                                         NaN   \n",
       "mean                                 -491.195012   \n",
       "std                                    32.431842   \n",
       "min                                  -798.641662   \n",
       "25%                                  -500.308544   \n",
       "50%                                  -499.926134   \n",
       "75%                                  -499.433950   \n",
       "max                                   -57.195404   \n",
       "\n",
       "        primary_cleaner.state.floatbank8_b_air  \\\n",
       "count                             1.943500e+04   \n",
       "unique                                     NaN   \n",
       "top                                        NaN   \n",
       "freq                                       NaN   \n",
       "mean                              1.591344e+03   \n",
       "std                               1.318109e+02   \n",
       "min                               6.647490e-32   \n",
       "25%                               1.503630e+03   \n",
       "50%                               1.600521e+03   \n",
       "75%                               1.699218e+03   \n",
       "max                               2.114907e+03   \n",
       "\n",
       "        primary_cleaner.state.floatbank8_b_level  \\\n",
       "count                               19438.000000   \n",
       "unique                                       NaN   \n",
       "top                                          NaN   \n",
       "freq                                         NaN   \n",
       "mean                                 -492.192978   \n",
       "std                                    33.794822   \n",
       "min                                  -799.997015   \n",
       "25%                                  -500.437171   \n",
       "50%                                  -499.956767   \n",
       "75%                                  -499.373336   \n",
       "max                                  -142.527229   \n",
       "\n",
       "        primary_cleaner.state.floatbank8_c_air  \\\n",
       "count                             1.943700e+04   \n",
       "unique                                     NaN   \n",
       "top                                        NaN   \n",
       "freq                                       NaN   \n",
       "mean                              1.586669e+03   \n",
       "std                               1.361114e+02   \n",
       "min                               4.033736e-32   \n",
       "25%                               1.500927e+03   \n",
       "50%                               1.600254e+03   \n",
       "75%                               1.699483e+03   \n",
       "max                               2.013156e+03   \n",
       "\n",
       "        primary_cleaner.state.floatbank8_c_level  \\\n",
       "count                               19438.000000   \n",
       "unique                                       NaN   \n",
       "top                                          NaN   \n",
       "freq                                         NaN   \n",
       "mean                                 -491.980070   \n",
       "std                                    32.711455   \n",
       "min                                  -799.960571   \n",
       "25%                                  -500.703932   \n",
       "50%                                  -499.909524   \n",
       "75%                                  -498.857643   \n",
       "max                                  -150.937035   \n",
       "\n",
       "        primary_cleaner.state.floatbank8_d_air  \\\n",
       "count                             1.943600e+04   \n",
       "unique                                     NaN   \n",
       "top                                        NaN   \n",
       "freq                                       NaN   \n",
       "mean                              1.542912e+03   \n",
       "std                               2.461996e+02   \n",
       "min                               4.039220e-32   \n",
       "25%                               1.494219e+03   \n",
       "50%                               1.599447e+03   \n",
       "75%                               1.698525e+03   \n",
       "max                               2.398904e+03   \n",
       "\n",
       "        primary_cleaner.state.floatbank8_d_level  \\\n",
       "count                               19438.000000   \n",
       "unique                                       NaN   \n",
       "top                                          NaN   \n",
       "freq                                         NaN   \n",
       "mean                                 -488.017382   \n",
       "std                                    43.959780   \n",
       "min                                  -799.794250   \n",
       "25%                                  -500.458365   \n",
       "50%                                  -499.905974   \n",
       "75%                                  -499.064695   \n",
       "max                                   -30.601828   \n",
       "\n",
       "        rougher.calculation.sulfate_to_au_concentrate  \\\n",
       "count                                    1.943700e+04   \n",
       "unique                                            NaN   \n",
       "top                                               NaN   \n",
       "freq                                              NaN   \n",
       "mean                                     4.217119e+04   \n",
       "std                                      3.243621e+05   \n",
       "min                                     -4.223520e+07   \n",
       "25%                                      4.070095e+04   \n",
       "50%                                      4.469648e+04   \n",
       "75%                                      4.816821e+04   \n",
       "max                                      3.428099e+06   \n",
       "\n",
       "        rougher.calculation.floatbank10_sulfate_to_au_feed  \\\n",
       "count                                        19437.000000    \n",
       "unique                                                NaN    \n",
       "top                                                   NaN    \n",
       "freq                                                  NaN    \n",
       "mean                                          3393.052498    \n",
       "std                                           4943.845943    \n",
       "min                                           -486.598675    \n",
       "25%                                           2611.425833    \n",
       "50%                                           3018.353876    \n",
       "75%                                           3676.769750    \n",
       "max                                         629638.977914    \n",
       "\n",
       "        rougher.calculation.floatbank11_sulfate_to_au_feed  \\\n",
       "count                                        19437.000000    \n",
       "unique                                                NaN    \n",
       "top                                                   NaN    \n",
       "freq                                                  NaN    \n",
       "mean                                          3256.854171    \n",
       "std                                           5781.423659    \n",
       "min                                           -264.982785    \n",
       "25%                                           2551.437587    \n",
       "50%                                           2997.218088    \n",
       "75%                                           3601.998911    \n",
       "max                                         718684.955855    \n",
       "\n",
       "        rougher.calculation.au_pb_ratio  rougher.input.feed_ag  \\\n",
       "count                      19439.000000           19439.000000   \n",
       "unique                              NaN                    NaN   \n",
       "top                                 NaN                    NaN   \n",
       "freq                                NaN                    NaN   \n",
       "mean                           2.420119               8.794927   \n",
       "std                            0.814935               1.936847   \n",
       "min                           -0.010548               0.010000   \n",
       "25%                            2.035434               7.237967   \n",
       "50%                            2.309665               8.593574   \n",
       "75%                            2.731794              10.213771   \n",
       "max                           39.379272              14.596026   \n",
       "\n",
       "        rougher.input.feed_pb  rougher.input.feed_rate  \\\n",
       "count            19339.000000             19428.000000   \n",
       "unique                    NaN                      NaN   \n",
       "top                       NaN                      NaN   \n",
       "freq                      NaN                      NaN   \n",
       "mean                 3.598085               478.320042   \n",
       "std                  1.049486               105.373758   \n",
       "min                  0.010000                 0.002986   \n",
       "25%                  2.887280               416.525453   \n",
       "50%                  3.534895               499.416120   \n",
       "75%                  4.244161               550.172183   \n",
       "max                  7.142594               717.508837   \n",
       "\n",
       "        rougher.input.feed_size  rougher.input.feed_sol  \\\n",
       "count              19294.000000            19340.000000   \n",
       "unique                      NaN                     NaN   \n",
       "top                         NaN                     NaN   \n",
       "freq                        NaN                     NaN   \n",
       "mean                  58.970310               36.695114   \n",
       "std                   21.634478                5.145445   \n",
       "min                    0.046369                0.010000   \n",
       "25%                   47.435103               34.207799   \n",
       "50%                   54.610197               37.202650   \n",
       "75%                   65.023044               40.039133   \n",
       "max                  484.967466               53.477742   \n",
       "\n",
       "        rougher.input.feed_au  rougher.input.floatbank10_sulfate  \\\n",
       "count            19439.000000                       19405.000000   \n",
       "unique                    NaN                                NaN   \n",
       "top                       NaN                                NaN   \n",
       "freq                      NaN                                NaN   \n",
       "mean                 8.266097                          12.334373   \n",
       "std                  1.955092                           3.427317   \n",
       "min                  0.010000                           0.001083   \n",
       "25%                  6.854384                          10.000362   \n",
       "50%                  8.125839                          12.001174   \n",
       "75%                  9.769917                          14.716595   \n",
       "max                 13.731330                          36.118275   \n",
       "\n",
       "        rougher.input.floatbank10_xanthate  rougher.input.floatbank11_sulfate  \\\n",
       "count                         19431.000000                       19395.000000   \n",
       "unique                                 NaN                                NaN   \n",
       "top                                    NaN                                NaN   \n",
       "freq                                   NaN                                NaN   \n",
       "mean                              6.021474                          12.064140   \n",
       "std                               1.127263                           3.784221   \n",
       "min                               0.000568                           0.000077   \n",
       "25%                               5.398678                           9.998460   \n",
       "50%                               6.008273                          12.000204   \n",
       "75%                               6.798051                          14.636766   \n",
       "max                               9.703448                          37.980648   \n",
       "\n",
       "        rougher.input.floatbank11_xanthate  rougher.output.concentrate_ag  \\\n",
       "count                         18986.000000                   19439.000000   \n",
       "unique                                 NaN                            NaN   \n",
       "top                                    NaN                            NaN   \n",
       "freq                                   NaN                            NaN   \n",
       "mean                              6.065533                      11.994759   \n",
       "std                               1.099118                       2.733862   \n",
       "min                               0.000290                       0.000000   \n",
       "25%                               5.402368                      10.628337   \n",
       "50%                               6.098580                      12.098115   \n",
       "75%                               6.801233                      13.736996   \n",
       "max                               9.698407                      24.480271   \n",
       "\n",
       "        rougher.output.concentrate_pb  rougher.output.concentrate_sol  \\\n",
       "count                    19439.000000                    19416.000000   \n",
       "unique                            NaN                             NaN   \n",
       "top                               NaN                             NaN   \n",
       "freq                              NaN                             NaN   \n",
       "mean                         7.606272                       28.805571   \n",
       "std                          1.796757                        5.944207   \n",
       "min                          0.000000                        0.000000   \n",
       "25%                          6.725987                       27.224120   \n",
       "50%                          7.742580                       29.835345   \n",
       "75%                          8.565199                       32.189933   \n",
       "max                         13.617072                       38.351193   \n",
       "\n",
       "        rougher.output.concentrate_au  rougher.output.recovery  \\\n",
       "count                    19439.000000             19439.000000   \n",
       "unique                            NaN                      NaN   \n",
       "top                               NaN                      NaN   \n",
       "freq                              NaN                      NaN   \n",
       "mean                        19.772000                83.328587   \n",
       "std                          3.753600                14.148086   \n",
       "min                          0.000000                 0.000000   \n",
       "25%                         18.802523                81.037957   \n",
       "50%                         20.280214                86.188892   \n",
       "75%                         21.717843                90.010670   \n",
       "max                         28.824507               100.000000   \n",
       "\n",
       "        rougher.output.tail_ag  rougher.output.tail_pb  \\\n",
       "count             19438.000000            19439.000000   \n",
       "unique                     NaN                     NaN   \n",
       "top                        NaN                     NaN   \n",
       "freq                       NaN                     NaN   \n",
       "mean                  5.588982                0.645782   \n",
       "std                   1.111288                0.251526   \n",
       "min                   0.594562                0.007566   \n",
       "25%                   4.889892                0.477728   \n",
       "50%                   5.765802                0.617465   \n",
       "75%                   6.389234                0.778271   \n",
       "max                  12.719177                3.778064   \n",
       "\n",
       "        rougher.output.tail_sol  rougher.output.tail_au  \\\n",
       "count              19439.000000            19439.000000   \n",
       "unique                      NaN                     NaN   \n",
       "top                         NaN                     NaN   \n",
       "freq                        NaN                     NaN   \n",
       "mean                  18.057106                1.816391   \n",
       "std                    3.449218                0.680046   \n",
       "min                   10.014648                0.020676   \n",
       "25%                   15.822525                1.404207   \n",
       "50%                   18.106867                1.808170   \n",
       "75%                   20.088151                2.211861   \n",
       "max                   66.117188                9.688980   \n",
       "\n",
       "        rougher.state.floatbank10_a_air  rougher.state.floatbank10_a_level  \\\n",
       "count                      19438.000000                       19438.000000   \n",
       "unique                              NaN                                NaN   \n",
       "top                                 NaN                                NaN   \n",
       "freq                                NaN                                NaN   \n",
       "mean                        1105.315068                        -376.610690   \n",
       "std                          160.826798                          93.909667   \n",
       "min                           -0.042069                        -657.949759   \n",
       "25%                          999.661867                        -499.835165   \n",
       "50%                         1001.072890                        -300.263994   \n",
       "75%                         1205.620588                        -299.981998   \n",
       "max                         1521.980372                        -273.776101   \n",
       "\n",
       "        rougher.state.floatbank10_b_air  rougher.state.floatbank10_b_level  \\\n",
       "count                      19438.000000                       19438.000000   \n",
       "unique                              NaN                                NaN   \n",
       "top                                 NaN                                NaN   \n",
       "freq                                NaN                                NaN   \n",
       "mean                        1320.221139                        -467.247826   \n",
       "std                          176.287095                          54.673142   \n",
       "min                           -0.721806                        -650.260008   \n",
       "25%                         1199.626115                        -500.201130   \n",
       "50%                         1301.579988                        -499.784045   \n",
       "75%                         1448.630789                        -400.615589   \n",
       "max                         1809.194008                        -296.383080   \n",
       "\n",
       "        rougher.state.floatbank10_c_air  rougher.state.floatbank10_c_level  \\\n",
       "count                      19438.000000                       19438.000000   \n",
       "unique                              NaN                                NaN   \n",
       "top                                 NaN                                NaN   \n",
       "freq                                NaN                                NaN   \n",
       "mean                        1299.968799                        -467.716946   \n",
       "std                          202.804325                          53.534825   \n",
       "min                           -0.056636                        -647.544439   \n",
       "25%                         1151.076301                        -500.217218   \n",
       "50%                         1300.211537                        -499.713364   \n",
       "75%                         1449.464001                        -400.985743   \n",
       "max                         2499.129174                        -292.155509   \n",
       "\n",
       "        rougher.state.floatbank10_d_air  rougher.state.floatbank10_d_level  \\\n",
       "count                      19439.000000                       19439.000000   \n",
       "unique                              NaN                                NaN   \n",
       "top                                 NaN                                NaN   \n",
       "freq                                NaN                                NaN   \n",
       "mean                        1211.563299                        -468.239912   \n",
       "std                          204.019326                          53.921458   \n",
       "min                           -0.992219                        -648.390665   \n",
       "25%                         1061.051788                        -500.386386   \n",
       "50%                         1201.569141                        -499.532412   \n",
       "75%                         1352.880320                        -401.638550   \n",
       "max                         1817.199290                         -76.397327   \n",
       "\n",
       "        rougher.state.floatbank10_e_air  rougher.state.floatbank10_e_level  \\\n",
       "count                      19003.000000                       19439.000000   \n",
       "unique                              NaN                                NaN   \n",
       "top                                 NaN                                NaN   \n",
       "freq                                NaN                                NaN   \n",
       "mean                        1080.869685                        -466.037742   \n",
       "std                          172.149992                          57.384424   \n",
       "min                           -1.982295                        -649.443911   \n",
       "25%                          998.675263                        -500.232191   \n",
       "50%                         1050.029461                        -499.663089   \n",
       "75%                         1199.425140                        -401.161191   \n",
       "max                         1922.636637                        -139.753025   \n",
       "\n",
       "        rougher.state.floatbank10_f_air  rougher.state.floatbank10_f_level  \\\n",
       "count                      19439.000000                       19439.000000   \n",
       "unique                              NaN                                NaN   \n",
       "top                                 NaN                                NaN   \n",
       "freq                                NaN                                NaN   \n",
       "mean                        1025.274256                        -466.265327   \n",
       "std                          164.487837                          57.850263   \n",
       "min                           -2.593390                        -649.949283   \n",
       "25%                          900.995511                        -500.522553   \n",
       "50%                          999.924821                        -499.471777   \n",
       "75%                         1099.719692                        -401.511042   \n",
       "max                         1706.307502                        -191.718480   \n",
       "\n",
       "        secondary_cleaner.output.tail_ag  secondary_cleaner.output.tail_pb  \\\n",
       "count                       19437.000000                      19427.000000   \n",
       "unique                               NaN                               NaN   \n",
       "top                                  NaN                               NaN   \n",
       "freq                                 NaN                               NaN   \n",
       "mean                           14.586833                          5.777703   \n",
       "std                             4.265202                          2.774598   \n",
       "min                             0.000000                          0.000000   \n",
       "25%                            12.640239                          3.864733   \n",
       "50%                            15.641902                          5.344073   \n",
       "75%                            17.358217                          7.788467   \n",
       "max                            23.264738                         17.042505   \n",
       "\n",
       "        secondary_cleaner.output.tail_sol  secondary_cleaner.output.tail_au  \\\n",
       "count                        17691.000000                      19439.000000   \n",
       "unique                                NaN                               NaN   \n",
       "top                                   NaN                               NaN   \n",
       "freq                                  NaN                               NaN   \n",
       "mean                             7.167247                          4.339625   \n",
       "std                              3.916079                          2.326751   \n",
       "min                              0.000000                          0.000000   \n",
       "25%                              3.845475                          3.182770   \n",
       "50%                              7.685827                          4.072412   \n",
       "75%                             10.411296                          5.063081   \n",
       "max                             26.000772                         26.811643   \n",
       "\n",
       "        secondary_cleaner.state.floatbank2_a_air  \\\n",
       "count                               19219.000000   \n",
       "unique                                       NaN   \n",
       "top                                          NaN   \n",
       "freq                                         NaN   \n",
       "mean                                   28.705564   \n",
       "std                                     5.458789   \n",
       "min                                     0.077503   \n",
       "25%                                    25.048462   \n",
       "50%                                    29.099943   \n",
       "75%                                    33.012536   \n",
       "max                                    52.651399   \n",
       "\n",
       "        secondary_cleaner.state.floatbank2_a_level  \\\n",
       "count                                 19438.000000   \n",
       "unique                                         NaN   \n",
       "top                                            NaN   \n",
       "freq                                           NaN   \n",
       "mean                                   -502.367331   \n",
       "std                                      53.571950   \n",
       "min                                    -799.606441   \n",
       "25%                                    -500.233700   \n",
       "50%                                    -499.973250   \n",
       "75%                                    -499.671261   \n",
       "max                                    -127.875565   \n",
       "\n",
       "        secondary_cleaner.state.floatbank2_b_air  \\\n",
       "count                               19416.000000   \n",
       "unique                                       NaN   \n",
       "top                                          NaN   \n",
       "freq                                         NaN   \n",
       "mean                                   24.106800   \n",
       "std                                     5.749616   \n",
       "min                                     0.000000   \n",
       "25%                                    20.919853   \n",
       "50%                                    25.043289   \n",
       "75%                                    28.008197   \n",
       "max                                    35.152122   \n",
       "\n",
       "        secondary_cleaner.state.floatbank2_b_level  \\\n",
       "count                                 19438.000000   \n",
       "unique                                         NaN   \n",
       "top                                            NaN   \n",
       "freq                                           NaN   \n",
       "mean                                   -503.230712   \n",
       "std                                      56.567724   \n",
       "min                                    -799.873878   \n",
       "25%                                    -500.253794   \n",
       "50%                                    -500.015439   \n",
       "75%                                    -499.785698   \n",
       "max                                    -211.999273   \n",
       "\n",
       "        secondary_cleaner.state.floatbank3_a_air  \\\n",
       "count                               19426.000000   \n",
       "unique                                       NaN   \n",
       "top                                          NaN   \n",
       "freq                                         NaN   \n",
       "mean                                   28.199338   \n",
       "std                                     6.134908   \n",
       "min                                     0.000000   \n",
       "25%                                    24.949227   \n",
       "50%                                    27.982129   \n",
       "75%                                    33.002798   \n",
       "max                                    44.260464   \n",
       "\n",
       "        secondary_cleaner.state.floatbank3_a_level  \\\n",
       "count                                 19438.000000   \n",
       "unique                                         NaN   \n",
       "top                                            NaN   \n",
       "freq                                           NaN   \n",
       "mean                                   -486.203350   \n",
       "std                                      54.412349   \n",
       "min                                    -799.755798   \n",
       "25%                                    -500.213546   \n",
       "50%                                    -499.930680   \n",
       "75%                                    -499.325739   \n",
       "max                                    -191.678810   \n",
       "\n",
       "        secondary_cleaner.state.floatbank3_b_air  \\\n",
       "count                               19438.000000   \n",
       "unique                                       NaN   \n",
       "top                                          NaN   \n",
       "freq                                         NaN   \n",
       "mean                                   22.200645   \n",
       "std                                     5.574001   \n",
       "min                                     0.000000   \n",
       "25%                                    18.995924   \n",
       "50%                                    22.011231   \n",
       "75%                                    25.998206   \n",
       "max                                    35.072841   \n",
       "\n",
       "        secondary_cleaner.state.floatbank3_b_level  \\\n",
       "count                                 19438.000000   \n",
       "unique                                         NaN   \n",
       "top                                            NaN   \n",
       "freq                                           NaN   \n",
       "mean                                   -493.742107   \n",
       "std                                      43.372158   \n",
       "min                                    -809.333008   \n",
       "25%                                    -500.123034   \n",
       "50%                                    -499.981902   \n",
       "75%                                    -499.812834   \n",
       "max                                    -159.742331   \n",
       "\n",
       "        secondary_cleaner.state.floatbank4_a_air  \\\n",
       "count                               19433.000000   \n",
       "unique                                       NaN   \n",
       "top                                          NaN   \n",
       "freq                                         NaN   \n",
       "mean                                   18.987674   \n",
       "std                                     5.411058   \n",
       "min                                     0.000000   \n",
       "25%                                    14.975734   \n",
       "50%                                    18.017481   \n",
       "75%                                    23.012470   \n",
       "max                                    30.115735   \n",
       "\n",
       "        secondary_cleaner.state.floatbank4_a_level  \\\n",
       "count                                 19438.000000   \n",
       "unique                                         NaN   \n",
       "top                                            NaN   \n",
       "freq                                           NaN   \n",
       "mean                                   -485.894516   \n",
       "std                                      47.758570   \n",
       "min                                    -799.798523   \n",
       "25%                                    -500.704892   \n",
       "50%                                    -499.837793   \n",
       "75%                                    -498.249730   \n",
       "max                                    -245.239184   \n",
       "\n",
       "        secondary_cleaner.state.floatbank4_b_air  \\\n",
       "count                               19438.000000   \n",
       "unique                                       NaN   \n",
       "top                                          NaN   \n",
       "freq                                         NaN   \n",
       "mean                                   15.010366   \n",
       "std                                     4.890228   \n",
       "min                                     0.000000   \n",
       "25%                                    11.940294   \n",
       "50%                                    14.971014   \n",
       "75%                                    19.034162   \n",
       "max                                    31.269706   \n",
       "\n",
       "        secondary_cleaner.state.floatbank4_b_level  \\\n",
       "count                                 19438.000000   \n",
       "unique                                         NaN   \n",
       "top                                            NaN   \n",
       "freq                                           NaN   \n",
       "mean                                   -461.078636   \n",
       "std                                      67.405524   \n",
       "min                                    -800.836914   \n",
       "25%                                    -500.187742   \n",
       "50%                                    -499.459786   \n",
       "75%                                    -400.118106   \n",
       "max                                      -6.506986   \n",
       "\n",
       "        secondary_cleaner.state.floatbank5_a_air  \\\n",
       "count                               19438.000000   \n",
       "unique                                       NaN   \n",
       "top                                          NaN   \n",
       "freq                                         NaN   \n",
       "mean                                   15.694452   \n",
       "std                                     5.510974   \n",
       "min                                    -0.372054   \n",
       "25%                                    10.988606   \n",
       "50%                                    15.000036   \n",
       "75%                                    18.026190   \n",
       "max                                    43.709931   \n",
       "\n",
       "        secondary_cleaner.state.floatbank5_a_level  \\\n",
       "count                                 19438.000000   \n",
       "unique                                         NaN   \n",
       "top                                            NaN   \n",
       "freq                                           NaN   \n",
       "mean                                   -488.684065   \n",
       "std                                      34.533396   \n",
       "min                                    -797.323986   \n",
       "25%                                    -500.458467   \n",
       "50%                                    -499.802605   \n",
       "75%                                    -498.384187   \n",
       "max                                    -244.483566   \n",
       "\n",
       "        secondary_cleaner.state.floatbank5_b_air  \\\n",
       "count                               19438.000000   \n",
       "unique                                       NaN   \n",
       "top                                          NaN   \n",
       "freq                                         NaN   \n",
       "mean                                   12.198224   \n",
       "std                                     5.333024   \n",
       "min                                     0.528083   \n",
       "25%                                     8.971105   \n",
       "50%                                    11.019433   \n",
       "75%                                    14.019088   \n",
       "max                                    27.926001   \n",
       "\n",
       "        secondary_cleaner.state.floatbank5_b_level  \\\n",
       "count                                 19438.000000   \n",
       "unique                                         NaN   \n",
       "top                                            NaN   \n",
       "freq                                           NaN   \n",
       "mean                                   -487.149827   \n",
       "std                                      38.347312   \n",
       "min                                    -800.220337   \n",
       "25%                                    -500.129462   \n",
       "50%                                    -499.935317   \n",
       "75%                                    -499.436708   \n",
       "max                                    -137.740004   \n",
       "\n",
       "        secondary_cleaner.state.floatbank6_a_air  \\\n",
       "count                               19437.000000   \n",
       "unique                                       NaN   \n",
       "top                                          NaN   \n",
       "freq                                         NaN   \n",
       "mean                                   18.959024   \n",
       "std                                     5.550498   \n",
       "min                                    -0.079426   \n",
       "25%                                    14.983037   \n",
       "50%                                    19.960541   \n",
       "75%                                    24.003170   \n",
       "max                                    32.188906   \n",
       "\n",
       "        secondary_cleaner.state.floatbank6_a_level  \n",
       "count                                 19438.000000  \n",
       "unique                                         NaN  \n",
       "top                                            NaN  \n",
       "freq                                           NaN  \n",
       "mean                                   -505.436305  \n",
       "std                                      37.689057  \n",
       "min                                    -809.741464  \n",
       "25%                                    -500.728067  \n",
       "50%                                    -500.048400  \n",
       "75%                                    -499.495378  \n",
       "max                                    -104.427459  "
      ]
     },
     "execution_count": 11,
     "metadata": {},
     "output_type": "execute_result"
    }
   ],
   "source": [
    "df_full.describe(include='all')"
   ]
  },
  {
   "cell_type": "markdown",
   "metadata": {},
   "source": [
    "В тестовой выборке отсутствуют некоторые признаки, которые есть в обучающей,т. к. некоторые параметры недоступны, потому что замеряются и/или рассчитываются значительно позже.  Также в тестовом наборе нет целевых признаков.\n",
    "\n",
    "В каждом датасете в некоторых столбцах есть пропуски. Для обучения моели, пропусков в данных быть не должно."
   ]
  },
  {
   "cell_type": "markdown",
   "metadata": {},
   "source": [
    "### Проверка эффективности обогащения"
   ]
  },
  {
   "cell_type": "markdown",
   "metadata": {},
   "source": [
    " "
   ]
  },
  {
   "cell_type": "markdown",
   "metadata": {},
   "source": [
    "Рассчитаем эффективность обогащения на обучающей выборке и сравним получившиеся значения с `rougher.output.recovery`."
   ]
  },
  {
   "cell_type": "markdown",
   "metadata": {},
   "source": [
    "Эффективность обогащения рассчитывается по формуле:\n",
    "\n",
    "$$ Recovery = \\frac{C * (F - T)}{F * (C - T )} * 100\\% $$\n",
    "\n",
    "где:\n",
    "\n",
    "C — доля золота в концентрате после флотации/очистки;\n",
    "\n",
    "F — доля золота в сырье/концентрате до флотации/очистки;\n",
    "\n",
    "T — доля золота в отвальных хвостах после флотации/очистки."
   ]
  },
  {
   "cell_type": "code",
   "execution_count": 12,
   "metadata": {},
   "outputs": [],
   "source": [
    "recovery = pd.Series((df_train['rougher.output.concentrate_au'] * (df_train['rougher.input.feed_au'] - df_train['rougher.output.tail_au']))\\\n",
    "/(df_train['rougher.input.feed_au'] * (df_train['rougher.output.concentrate_au'] - df_train['rougher.output.tail_au'])) * 100)"
   ]
  },
  {
   "cell_type": "markdown",
   "metadata": {},
   "source": [
    "Рассчитаем `MAE` между расчётами и значением признака `rougher.output.recovery`."
   ]
  },
  {
   "cell_type": "code",
   "execution_count": 13,
   "metadata": {},
   "outputs": [
    {
     "data": {
      "text/plain": [
       "9.73512347450521e-15"
      ]
     },
     "execution_count": 13,
     "metadata": {},
     "output_type": "execute_result"
    }
   ],
   "source": [
    "mean_absolute_error(df_train['rougher.output.recovery'], recovery)"
   ]
  },
  {
   "cell_type": "markdown",
   "metadata": {},
   "source": [
    "Разница между рассчитанным значением `recovery` и `rougher.output.recovery` на обучающей выборке достаточно мала - $ 9.7 * 10^{-15} $. Т. е. эффективность обогащения рассчитана верно."
   ]
  },
  {
   "cell_type": "markdown",
   "metadata": {},
   "source": [
    "### Анализ признаков, недоступных в тестовой выборке"
   ]
  },
  {
   "cell_type": "markdown",
   "metadata": {},
   "source": [
    "Рассмотрим параметры, которые есть в обучающей выборке, но не доступны в тестовой."
   ]
  },
  {
   "cell_type": "code",
   "execution_count": 14,
   "metadata": {},
   "outputs": [
    {
     "data": {
      "text/plain": [
       "{'final.output.concentrate_ag',\n",
       " 'final.output.concentrate_au',\n",
       " 'final.output.concentrate_pb',\n",
       " 'final.output.concentrate_sol',\n",
       " 'final.output.recovery',\n",
       " 'final.output.tail_ag',\n",
       " 'final.output.tail_au',\n",
       " 'final.output.tail_pb',\n",
       " 'final.output.tail_sol',\n",
       " 'primary_cleaner.output.concentrate_ag',\n",
       " 'primary_cleaner.output.concentrate_au',\n",
       " 'primary_cleaner.output.concentrate_pb',\n",
       " 'primary_cleaner.output.concentrate_sol',\n",
       " 'primary_cleaner.output.tail_ag',\n",
       " 'primary_cleaner.output.tail_au',\n",
       " 'primary_cleaner.output.tail_pb',\n",
       " 'primary_cleaner.output.tail_sol',\n",
       " 'rougher.calculation.au_pb_ratio',\n",
       " 'rougher.calculation.floatbank10_sulfate_to_au_feed',\n",
       " 'rougher.calculation.floatbank11_sulfate_to_au_feed',\n",
       " 'rougher.calculation.sulfate_to_au_concentrate',\n",
       " 'rougher.output.concentrate_ag',\n",
       " 'rougher.output.concentrate_au',\n",
       " 'rougher.output.concentrate_pb',\n",
       " 'rougher.output.concentrate_sol',\n",
       " 'rougher.output.recovery',\n",
       " 'rougher.output.tail_ag',\n",
       " 'rougher.output.tail_au',\n",
       " 'rougher.output.tail_pb',\n",
       " 'rougher.output.tail_sol',\n",
       " 'secondary_cleaner.output.tail_ag',\n",
       " 'secondary_cleaner.output.tail_au',\n",
       " 'secondary_cleaner.output.tail_pb',\n",
       " 'secondary_cleaner.output.tail_sol'}"
      ]
     },
     "execution_count": 14,
     "metadata": {},
     "output_type": "execute_result"
    }
   ],
   "source": [
    "set(df_train.columns) - set(df_test.columns)"
   ]
  },
  {
   "cell_type": "markdown",
   "metadata": {},
   "source": [
    "В тестовой выборке после этапа rougher — флотация отсутвуют характеристики - calculation — расчётные характеристики и output — параметры продукта (концентраты, хвосты и эффективность), эти данные нельзя получить сразу, т. к. они рассчитываются после прохождения этапа. По остальным этапам - primary_cleaner — первичная очистка, secondary_cleaner — вторичная очистка, final — финальные характеристики также - нет данных об output (концентраты, хвосты и эффективность)."
   ]
  },
  {
   "cell_type": "markdown",
   "metadata": {},
   "source": [
    "Т. к. в тестовой выборке отсутстуют целевые признаки - `rougher.output.recovery` и `final.output.recovery` добавим их в выборку."
   ]
  },
  {
   "cell_type": "code",
   "execution_count": 15,
   "metadata": {},
   "outputs": [],
   "source": [
    "df_test = df_test.merge(df_full[['date', 'rougher.output.recovery', 'final.output.recovery']], how='left', on='date')"
   ]
  },
  {
   "cell_type": "markdown",
   "metadata": {},
   "source": [
    "В обучающей выборке удалим параметры, которых нет в тестовой выборке."
   ]
  },
  {
   "cell_type": "code",
   "execution_count": 16,
   "metadata": {},
   "outputs": [],
   "source": [
    "df_train = df_train.drop(set(df_train.columns) - set(df_test.columns), axis=1)"
   ]
  },
  {
   "cell_type": "markdown",
   "metadata": {},
   "source": [
    "### Предобработка данных"
   ]
  },
  {
   "cell_type": "markdown",
   "metadata": {},
   "source": [
    "Сначала рассмотрим отсутсвующие значения в исходной таблице `df_full`."
   ]
  },
  {
   "cell_type": "code",
   "execution_count": 17,
   "metadata": {},
   "outputs": [
    {
     "data": {
      "text/plain": [
       "date                                                     0\n",
       "final.output.concentrate_ag                              1\n",
       "final.output.concentrate_pb                              1\n",
       "final.output.concentrate_sol                           211\n",
       "final.output.concentrate_au                              0\n",
       "final.output.recovery                                    0\n",
       "final.output.tail_ag                                     1\n",
       "final.output.tail_pb                                   101\n",
       "final.output.tail_sol                                    6\n",
       "final.output.tail_au                                     0\n",
       "primary_cleaner.input.sulfate                           24\n",
       "primary_cleaner.input.depressant                        37\n",
       "primary_cleaner.input.feed_size                          0\n",
       "primary_cleaner.input.xanthate                         104\n",
       "primary_cleaner.output.concentrate_ag                    0\n",
       "primary_cleaner.output.concentrate_pb                  116\n",
       "primary_cleaner.output.concentrate_sol                 370\n",
       "primary_cleaner.output.concentrate_au                    0\n",
       "primary_cleaner.output.tail_ag                           4\n",
       "primary_cleaner.output.tail_pb                          21\n",
       "primary_cleaner.output.tail_sol                         62\n",
       "primary_cleaner.output.tail_au                           0\n",
       "primary_cleaner.state.floatbank8_a_air                   4\n",
       "primary_cleaner.state.floatbank8_a_level                 1\n",
       "primary_cleaner.state.floatbank8_b_air                   4\n",
       "primary_cleaner.state.floatbank8_b_level                 1\n",
       "primary_cleaner.state.floatbank8_c_air                   2\n",
       "primary_cleaner.state.floatbank8_c_level                 1\n",
       "primary_cleaner.state.floatbank8_d_air                   3\n",
       "primary_cleaner.state.floatbank8_d_level                 1\n",
       "rougher.calculation.sulfate_to_au_concentrate            2\n",
       "rougher.calculation.floatbank10_sulfate_to_au_feed       2\n",
       "rougher.calculation.floatbank11_sulfate_to_au_feed       2\n",
       "rougher.calculation.au_pb_ratio                          0\n",
       "rougher.input.feed_ag                                    0\n",
       "rougher.input.feed_pb                                  100\n",
       "rougher.input.feed_rate                                 11\n",
       "rougher.input.feed_size                                145\n",
       "rougher.input.feed_sol                                  99\n",
       "rougher.input.feed_au                                    0\n",
       "rougher.input.floatbank10_sulfate                       34\n",
       "rougher.input.floatbank10_xanthate                       8\n",
       "rougher.input.floatbank11_sulfate                       44\n",
       "rougher.input.floatbank11_xanthate                     453\n",
       "rougher.output.concentrate_ag                            0\n",
       "rougher.output.concentrate_pb                            0\n",
       "rougher.output.concentrate_sol                          23\n",
       "rougher.output.concentrate_au                            0\n",
       "rougher.output.recovery                                  0\n",
       "rougher.output.tail_ag                                   1\n",
       "rougher.output.tail_pb                                   0\n",
       "rougher.output.tail_sol                                  0\n",
       "rougher.output.tail_au                                   0\n",
       "rougher.state.floatbank10_a_air                          1\n",
       "rougher.state.floatbank10_a_level                        1\n",
       "rougher.state.floatbank10_b_air                          1\n",
       "rougher.state.floatbank10_b_level                        1\n",
       "rougher.state.floatbank10_c_air                          1\n",
       "rougher.state.floatbank10_c_level                        1\n",
       "rougher.state.floatbank10_d_air                          0\n",
       "rougher.state.floatbank10_d_level                        0\n",
       "rougher.state.floatbank10_e_air                        436\n",
       "rougher.state.floatbank10_e_level                        0\n",
       "rougher.state.floatbank10_f_air                          0\n",
       "rougher.state.floatbank10_f_level                        0\n",
       "secondary_cleaner.output.tail_ag                         2\n",
       "secondary_cleaner.output.tail_pb                        12\n",
       "secondary_cleaner.output.tail_sol                     1748\n",
       "secondary_cleaner.output.tail_au                         0\n",
       "secondary_cleaner.state.floatbank2_a_air               220\n",
       "secondary_cleaner.state.floatbank2_a_level               1\n",
       "secondary_cleaner.state.floatbank2_b_air                23\n",
       "secondary_cleaner.state.floatbank2_b_level               1\n",
       "secondary_cleaner.state.floatbank3_a_air                13\n",
       "secondary_cleaner.state.floatbank3_a_level               1\n",
       "secondary_cleaner.state.floatbank3_b_air                 1\n",
       "secondary_cleaner.state.floatbank3_b_level               1\n",
       "secondary_cleaner.state.floatbank4_a_air                 6\n",
       "secondary_cleaner.state.floatbank4_a_level               1\n",
       "secondary_cleaner.state.floatbank4_b_air                 1\n",
       "secondary_cleaner.state.floatbank4_b_level               1\n",
       "secondary_cleaner.state.floatbank5_a_air                 1\n",
       "secondary_cleaner.state.floatbank5_a_level               1\n",
       "secondary_cleaner.state.floatbank5_b_air                 1\n",
       "secondary_cleaner.state.floatbank5_b_level               1\n",
       "secondary_cleaner.state.floatbank6_a_air                 2\n",
       "secondary_cleaner.state.floatbank6_a_level               1\n",
       "dtype: int64"
      ]
     },
     "execution_count": 17,
     "metadata": {},
     "output_type": "execute_result"
    }
   ],
   "source": [
    "df_full.isna().sum()"
   ]
  },
  {
   "cell_type": "markdown",
   "metadata": {},
   "source": [
    "Во многих столбцах датасета есть пропуски, заменим их соседним по времени значением с помощью метода `ffil()`."
   ]
  },
  {
   "cell_type": "code",
   "execution_count": 18,
   "metadata": {},
   "outputs": [],
   "source": [
    "df_full.loc[:, 'final.output.concentrate_ag':] = df_full.loc[:, 'final.output.concentrate_ag':].ffill(axis=1)"
   ]
  },
  {
   "cell_type": "markdown",
   "metadata": {},
   "source": [
    "Проверим количество пропусков после замены."
   ]
  },
  {
   "cell_type": "code",
   "execution_count": 19,
   "metadata": {},
   "outputs": [
    {
     "data": {
      "text/plain": [
       "date                                                  0\n",
       "final.output.concentrate_ag                           1\n",
       "final.output.concentrate_pb                           1\n",
       "final.output.concentrate_sol                          0\n",
       "final.output.concentrate_au                           0\n",
       "final.output.recovery                                 0\n",
       "final.output.tail_ag                                  0\n",
       "final.output.tail_pb                                  0\n",
       "final.output.tail_sol                                 0\n",
       "final.output.tail_au                                  0\n",
       "primary_cleaner.input.sulfate                         0\n",
       "primary_cleaner.input.depressant                      0\n",
       "primary_cleaner.input.feed_size                       0\n",
       "primary_cleaner.input.xanthate                        0\n",
       "primary_cleaner.output.concentrate_ag                 0\n",
       "primary_cleaner.output.concentrate_pb                 0\n",
       "primary_cleaner.output.concentrate_sol                0\n",
       "primary_cleaner.output.concentrate_au                 0\n",
       "primary_cleaner.output.tail_ag                        0\n",
       "primary_cleaner.output.tail_pb                        0\n",
       "primary_cleaner.output.tail_sol                       0\n",
       "primary_cleaner.output.tail_au                        0\n",
       "primary_cleaner.state.floatbank8_a_air                0\n",
       "primary_cleaner.state.floatbank8_a_level              0\n",
       "primary_cleaner.state.floatbank8_b_air                0\n",
       "primary_cleaner.state.floatbank8_b_level              0\n",
       "primary_cleaner.state.floatbank8_c_air                0\n",
       "primary_cleaner.state.floatbank8_c_level              0\n",
       "primary_cleaner.state.floatbank8_d_air                0\n",
       "primary_cleaner.state.floatbank8_d_level              0\n",
       "rougher.calculation.sulfate_to_au_concentrate         0\n",
       "rougher.calculation.floatbank10_sulfate_to_au_feed    0\n",
       "rougher.calculation.floatbank11_sulfate_to_au_feed    0\n",
       "rougher.calculation.au_pb_ratio                       0\n",
       "rougher.input.feed_ag                                 0\n",
       "rougher.input.feed_pb                                 0\n",
       "rougher.input.feed_rate                               0\n",
       "rougher.input.feed_size                               0\n",
       "rougher.input.feed_sol                                0\n",
       "rougher.input.feed_au                                 0\n",
       "rougher.input.floatbank10_sulfate                     0\n",
       "rougher.input.floatbank10_xanthate                    0\n",
       "rougher.input.floatbank11_sulfate                     0\n",
       "rougher.input.floatbank11_xanthate                    0\n",
       "rougher.output.concentrate_ag                         0\n",
       "rougher.output.concentrate_pb                         0\n",
       "rougher.output.concentrate_sol                        0\n",
       "rougher.output.concentrate_au                         0\n",
       "rougher.output.recovery                               0\n",
       "rougher.output.tail_ag                                0\n",
       "rougher.output.tail_pb                                0\n",
       "rougher.output.tail_sol                               0\n",
       "rougher.output.tail_au                                0\n",
       "rougher.state.floatbank10_a_air                       0\n",
       "rougher.state.floatbank10_a_level                     0\n",
       "rougher.state.floatbank10_b_air                       0\n",
       "rougher.state.floatbank10_b_level                     0\n",
       "rougher.state.floatbank10_c_air                       0\n",
       "rougher.state.floatbank10_c_level                     0\n",
       "rougher.state.floatbank10_d_air                       0\n",
       "rougher.state.floatbank10_d_level                     0\n",
       "rougher.state.floatbank10_e_air                       0\n",
       "rougher.state.floatbank10_e_level                     0\n",
       "rougher.state.floatbank10_f_air                       0\n",
       "rougher.state.floatbank10_f_level                     0\n",
       "secondary_cleaner.output.tail_ag                      0\n",
       "secondary_cleaner.output.tail_pb                      0\n",
       "secondary_cleaner.output.tail_sol                     0\n",
       "secondary_cleaner.output.tail_au                      0\n",
       "secondary_cleaner.state.floatbank2_a_air              0\n",
       "secondary_cleaner.state.floatbank2_a_level            0\n",
       "secondary_cleaner.state.floatbank2_b_air              0\n",
       "secondary_cleaner.state.floatbank2_b_level            0\n",
       "secondary_cleaner.state.floatbank3_a_air              0\n",
       "secondary_cleaner.state.floatbank3_a_level            0\n",
       "secondary_cleaner.state.floatbank3_b_air              0\n",
       "secondary_cleaner.state.floatbank3_b_level            0\n",
       "secondary_cleaner.state.floatbank4_a_air              0\n",
       "secondary_cleaner.state.floatbank4_a_level            0\n",
       "secondary_cleaner.state.floatbank4_b_air              0\n",
       "secondary_cleaner.state.floatbank4_b_level            0\n",
       "secondary_cleaner.state.floatbank5_a_air              0\n",
       "secondary_cleaner.state.floatbank5_a_level            0\n",
       "secondary_cleaner.state.floatbank5_b_air              0\n",
       "secondary_cleaner.state.floatbank5_b_level            0\n",
       "secondary_cleaner.state.floatbank6_a_air              0\n",
       "secondary_cleaner.state.floatbank6_a_level            0\n",
       "dtype: int64"
      ]
     },
     "execution_count": 19,
     "metadata": {},
     "output_type": "execute_result"
    }
   ],
   "source": [
    "df_full.isna().sum()"
   ]
  },
  {
   "cell_type": "markdown",
   "metadata": {},
   "source": [
    "Все пропуски в исходном датасете заменены."
   ]
  },
  {
   "cell_type": "markdown",
   "metadata": {},
   "source": [
    "Заменим пропуски в датасете `df_train`. Заменим столбцы на измененные столбцы исходного датасета `df_full`."
   ]
  },
  {
   "cell_type": "code",
   "execution_count": 20,
   "metadata": {
    "scrolled": false
   },
   "outputs": [],
   "source": [
    "df_train = pd.DataFrame(df_train['date'])\n",
    "df_train = df_train.merge(df_full[list(df_test.columns)], how='left', on='date')"
   ]
  },
  {
   "cell_type": "markdown",
   "metadata": {},
   "source": [
    "Убедимся, что все пропуски удалены."
   ]
  },
  {
   "cell_type": "code",
   "execution_count": 21,
   "metadata": {},
   "outputs": [
    {
     "data": {
      "text/plain": [
       "date                                          0\n",
       "primary_cleaner.input.sulfate                 0\n",
       "primary_cleaner.input.depressant              0\n",
       "primary_cleaner.input.feed_size               0\n",
       "primary_cleaner.input.xanthate                0\n",
       "primary_cleaner.state.floatbank8_a_air        0\n",
       "primary_cleaner.state.floatbank8_a_level      0\n",
       "primary_cleaner.state.floatbank8_b_air        0\n",
       "primary_cleaner.state.floatbank8_b_level      0\n",
       "primary_cleaner.state.floatbank8_c_air        0\n",
       "primary_cleaner.state.floatbank8_c_level      0\n",
       "primary_cleaner.state.floatbank8_d_air        0\n",
       "primary_cleaner.state.floatbank8_d_level      0\n",
       "rougher.input.feed_ag                         0\n",
       "rougher.input.feed_pb                         0\n",
       "rougher.input.feed_rate                       0\n",
       "rougher.input.feed_size                       0\n",
       "rougher.input.feed_sol                        0\n",
       "rougher.input.feed_au                         0\n",
       "rougher.input.floatbank10_sulfate             0\n",
       "rougher.input.floatbank10_xanthate            0\n",
       "rougher.input.floatbank11_sulfate             0\n",
       "rougher.input.floatbank11_xanthate            0\n",
       "rougher.state.floatbank10_a_air               0\n",
       "rougher.state.floatbank10_a_level             0\n",
       "rougher.state.floatbank10_b_air               0\n",
       "rougher.state.floatbank10_b_level             0\n",
       "rougher.state.floatbank10_c_air               0\n",
       "rougher.state.floatbank10_c_level             0\n",
       "rougher.state.floatbank10_d_air               0\n",
       "rougher.state.floatbank10_d_level             0\n",
       "rougher.state.floatbank10_e_air               0\n",
       "rougher.state.floatbank10_e_level             0\n",
       "rougher.state.floatbank10_f_air               0\n",
       "rougher.state.floatbank10_f_level             0\n",
       "secondary_cleaner.state.floatbank2_a_air      0\n",
       "secondary_cleaner.state.floatbank2_a_level    0\n",
       "secondary_cleaner.state.floatbank2_b_air      0\n",
       "secondary_cleaner.state.floatbank2_b_level    0\n",
       "secondary_cleaner.state.floatbank3_a_air      0\n",
       "secondary_cleaner.state.floatbank3_a_level    0\n",
       "secondary_cleaner.state.floatbank3_b_air      0\n",
       "secondary_cleaner.state.floatbank3_b_level    0\n",
       "secondary_cleaner.state.floatbank4_a_air      0\n",
       "secondary_cleaner.state.floatbank4_a_level    0\n",
       "secondary_cleaner.state.floatbank4_b_air      0\n",
       "secondary_cleaner.state.floatbank4_b_level    0\n",
       "secondary_cleaner.state.floatbank5_a_air      0\n",
       "secondary_cleaner.state.floatbank5_a_level    0\n",
       "secondary_cleaner.state.floatbank5_b_air      0\n",
       "secondary_cleaner.state.floatbank5_b_level    0\n",
       "secondary_cleaner.state.floatbank6_a_air      0\n",
       "secondary_cleaner.state.floatbank6_a_level    0\n",
       "rougher.output.recovery                       0\n",
       "final.output.recovery                         0\n",
       "dtype: int64"
      ]
     },
     "execution_count": 21,
     "metadata": {},
     "output_type": "execute_result"
    }
   ],
   "source": [
    "df_train.isna().sum()"
   ]
  },
  {
   "cell_type": "markdown",
   "metadata": {},
   "source": [
    "Заменим пропуски в датасете `df_test`. Заменим столбцы на измененные столбцы исходного датасета `df_full`."
   ]
  },
  {
   "cell_type": "code",
   "execution_count": 22,
   "metadata": {},
   "outputs": [],
   "source": [
    "df_test = pd.DataFrame(df_test['date'])\n",
    "df_test = df_test.merge(df_full[list(df_train.columns)], how='left', on='date')"
   ]
  },
  {
   "cell_type": "markdown",
   "metadata": {},
   "source": [
    "Проверим количество пропусков после замены."
   ]
  },
  {
   "cell_type": "code",
   "execution_count": 23,
   "metadata": {},
   "outputs": [
    {
     "data": {
      "text/plain": [
       "date                                          0\n",
       "primary_cleaner.input.sulfate                 0\n",
       "primary_cleaner.input.depressant              0\n",
       "primary_cleaner.input.feed_size               0\n",
       "primary_cleaner.input.xanthate                0\n",
       "primary_cleaner.state.floatbank8_a_air        0\n",
       "primary_cleaner.state.floatbank8_a_level      0\n",
       "primary_cleaner.state.floatbank8_b_air        0\n",
       "primary_cleaner.state.floatbank8_b_level      0\n",
       "primary_cleaner.state.floatbank8_c_air        0\n",
       "primary_cleaner.state.floatbank8_c_level      0\n",
       "primary_cleaner.state.floatbank8_d_air        0\n",
       "primary_cleaner.state.floatbank8_d_level      0\n",
       "rougher.input.feed_ag                         0\n",
       "rougher.input.feed_pb                         0\n",
       "rougher.input.feed_rate                       0\n",
       "rougher.input.feed_size                       0\n",
       "rougher.input.feed_sol                        0\n",
       "rougher.input.feed_au                         0\n",
       "rougher.input.floatbank10_sulfate             0\n",
       "rougher.input.floatbank10_xanthate            0\n",
       "rougher.input.floatbank11_sulfate             0\n",
       "rougher.input.floatbank11_xanthate            0\n",
       "rougher.state.floatbank10_a_air               0\n",
       "rougher.state.floatbank10_a_level             0\n",
       "rougher.state.floatbank10_b_air               0\n",
       "rougher.state.floatbank10_b_level             0\n",
       "rougher.state.floatbank10_c_air               0\n",
       "rougher.state.floatbank10_c_level             0\n",
       "rougher.state.floatbank10_d_air               0\n",
       "rougher.state.floatbank10_d_level             0\n",
       "rougher.state.floatbank10_e_air               0\n",
       "rougher.state.floatbank10_e_level             0\n",
       "rougher.state.floatbank10_f_air               0\n",
       "rougher.state.floatbank10_f_level             0\n",
       "secondary_cleaner.state.floatbank2_a_air      0\n",
       "secondary_cleaner.state.floatbank2_a_level    0\n",
       "secondary_cleaner.state.floatbank2_b_air      0\n",
       "secondary_cleaner.state.floatbank2_b_level    0\n",
       "secondary_cleaner.state.floatbank3_a_air      0\n",
       "secondary_cleaner.state.floatbank3_a_level    0\n",
       "secondary_cleaner.state.floatbank3_b_air      0\n",
       "secondary_cleaner.state.floatbank3_b_level    0\n",
       "secondary_cleaner.state.floatbank4_a_air      0\n",
       "secondary_cleaner.state.floatbank4_a_level    0\n",
       "secondary_cleaner.state.floatbank4_b_air      0\n",
       "secondary_cleaner.state.floatbank4_b_level    0\n",
       "secondary_cleaner.state.floatbank5_a_air      0\n",
       "secondary_cleaner.state.floatbank5_a_level    0\n",
       "secondary_cleaner.state.floatbank5_b_air      0\n",
       "secondary_cleaner.state.floatbank5_b_level    0\n",
       "secondary_cleaner.state.floatbank6_a_air      0\n",
       "secondary_cleaner.state.floatbank6_a_level    0\n",
       "rougher.output.recovery                       0\n",
       "final.output.recovery                         0\n",
       "dtype: int64"
      ]
     },
     "execution_count": 23,
     "metadata": {},
     "output_type": "execute_result"
    }
   ],
   "source": [
    "df_test.isna().sum()"
   ]
  },
  {
   "cell_type": "markdown",
   "metadata": {},
   "source": [
    "## Анализ данных"
   ]
  },
  {
   "cell_type": "markdown",
   "metadata": {},
   "source": [
    "### Изменение концентрации металлов (Au, Ag, Pb) на различных этапах очистки"
   ]
  },
  {
   "cell_type": "markdown",
   "metadata": {},
   "source": [
    "Расмотрим изменение концентрации золота - Au на каждом этапе очистки."
   ]
  },
  {
   "cell_type": "code",
   "execution_count": 24,
   "metadata": {},
   "outputs": [
    {
     "data": {
      "image/png": "[encoded data removed]",
      "text/plain": [
       "<Figure size 432x288 with 1 Axes>"
      ]
     },
     "metadata": {
      "needs_background": "light"
     },
     "output_type": "display_data"
    }
   ],
   "source": [
    "plt.hist(df_full[['rougher.input.feed_au', 'rougher.output.concentrate_au', 'primary_cleaner.output.concentrate_au', 'final.output.concentrate_au']], bins=20)\n",
    "plt.title('Концентрация Au')\n",
    "plt.legend(['Начальная концентрация', 'Флотация', 'Первичная очистка', 'Финальный результат'], loc='upper left')\n",
    "plt.xlabel('Количество вещества')\n",
    "plt.ylabel('Количество наблюдений')\n",
    "plt.show()"
   ]
  },
  {
   "cell_type": "markdown",
   "metadata": {},
   "source": [
    "На графике видно, что с каждым этапом концентрация золота увеличивается."
   ]
  },
  {
   "cell_type": "markdown",
   "metadata": {},
   "source": [
    "Расмотрим изменение концентрации серебра - Ag на каждом этапе очистки."
   ]
  },
  {
   "cell_type": "code",
   "execution_count": 25,
   "metadata": {},
   "outputs": [
    {
     "data": {
      "image/png": "[encoded data removed]",
      "text/plain": [
       "<Figure size 432x288 with 1 Axes>"
      ]
     },
     "metadata": {
      "needs_background": "light"
     },
     "output_type": "display_data"
    }
   ],
   "source": [
    "plt.hist(df_full[['rougher.input.feed_ag', 'rougher.output.concentrate_ag', 'primary_cleaner.output.concentrate_ag', 'final.output.concentrate_ag']], bins=20)\n",
    "plt.title('Концентрация Ag')\n",
    "plt.legend(['Начальная концентрация', 'Флотация', 'Первичная очистка', 'Финальный результат'], loc='upper right')\n",
    "plt.xlabel('Количество вещества')\n",
    "plt.ylabel('Количество наблюдений')\n",
    "plt.show()"
   ]
  },
  {
   "cell_type": "markdown",
   "metadata": {},
   "source": [
    "Наибольшая концентрация серебра - на первом этапе - флотации. К последнему этапу концентрация серебра в продукте уменьшается."
   ]
  },
  {
   "cell_type": "markdown",
   "metadata": {},
   "source": [
    "Расмотрим изменение концентрации свинца - Pb на каждом этапе очистки."
   ]
  },
  {
   "cell_type": "code",
   "execution_count": 26,
   "metadata": {},
   "outputs": [
    {
     "data": {
      "image/png": "[encoded data removed]",
      "text/plain": [
       "<Figure size 432x288 with 1 Axes>"
      ]
     },
     "metadata": {
      "needs_background": "light"
     },
     "output_type": "display_data"
    }
   ],
   "source": [
    "plt.hist(df_full[['rougher.input.feed_pb', 'rougher.output.concentrate_pb', 'primary_cleaner.output.concentrate_pb', 'final.output.concentrate_pb']], bins=20)\n",
    "plt.title('Концентрация Pb')\n",
    "plt.legend(['Начальная концентрация', 'Флотация', 'Первичная очистка', 'Финальный результат'], loc='upper right')\n",
    "plt.xlabel('Количество вещества')\n",
    "plt.ylabel('Количество наблюдений')\n",
    "plt.show()"
   ]
  },
  {
   "cell_type": "markdown",
   "metadata": {},
   "source": [
    "Концентрация свинца с на каждом этапе очистки немного увеличивается."
   ]
  },
  {
   "cell_type": "markdown",
   "metadata": {},
   "source": [
    "На графиках видно, что наибольшая концентрация в продукте - золота. На финальном этапе концетрация свинца больше концентрации серебра. Также на каждом графике есть значения равные 0."
   ]
  },
  {
   "cell_type": "markdown",
   "metadata": {},
   "source": [
    "### Сравнение распределения размеров гранул сырья на обучающей и тестовой выборках"
   ]
  },
  {
   "cell_type": "markdown",
   "metadata": {},
   "source": [
    "Сравним распределения размеров гранул сырья на обучающей и тестовой выборках."
   ]
  },
  {
   "cell_type": "code",
   "execution_count": 27,
   "metadata": {},
   "outputs": [
    {
     "data": {
      "image/png": "[encoded data removed]",
      "text/plain": [
       "<Figure size 432x288 with 1 Axes>"
      ]
     },
     "metadata": {
      "needs_background": "light"
     },
     "output_type": "display_data"
    }
   ],
   "source": [
    "plt.hist([df_train['rougher.input.feed_size'], df_test['rougher.input.feed_size']], bins=30, density = True)\n",
    "plt.title('Распределение размеров гранул сырья на этапе флотации')\n",
    "plt.legend(['Обучающая выборка', 'Тестовая выборка'], loc='upper right')\n",
    "plt.show()"
   ]
  },
  {
   "cell_type": "code",
   "execution_count": 28,
   "metadata": {
    "scrolled": true
   },
   "outputs": [
    {
     "data": {
      "image/png": "[encoded data removed]",
      "text/plain": [
       "<Figure size 432x288 with 1 Axes>"
      ]
     },
     "metadata": {
      "needs_background": "light"
     },
     "output_type": "display_data"
    }
   ],
   "source": [
    "plt.hist([df_train['primary_cleaner.input.feed_size'], df_test['primary_cleaner.input.feed_size']], bins=30, density = True)\n",
    "plt.title('Распределение размеров гранул сырья на первом этапе очистки')\n",
    "plt.legend(['Обучающая выборка', 'Тестовая выборка'], loc='upper right')\n",
    "plt.show()"
   ]
  },
  {
   "cell_type": "markdown",
   "metadata": {},
   "source": [
    "Также методом `describe()` выведем характеристики размеров гранул сырья на этапах флотации и очистки на обучающей выборке."
   ]
  },
  {
   "cell_type": "code",
   "execution_count": 29,
   "metadata": {
    "scrolled": true
   },
   "outputs": [
    {
     "data": {
      "text/html": [
       "<div>\n",
       "<style scoped>\n",
       "    .dataframe tbody tr th:only-of-type {\n",
       "        vertical-align: middle;\n",
       "    }\n",
       "\n",
       "    .dataframe tbody tr th {\n",
       "        vertical-align: top;\n",
       "    }\n",
       "\n",
       "    .dataframe thead th {\n",
       "        text-align: right;\n",
       "    }\n",
       "</style>\n",
       "<table border=\"1\" class=\"dataframe\">\n",
       "  <thead>\n",
       "    <tr style=\"text-align: right;\">\n",
       "      <th></th>\n",
       "      <th>rougher.input.feed_size</th>\n",
       "      <th>primary_cleaner.input.feed_size</th>\n",
       "    </tr>\n",
       "  </thead>\n",
       "  <tbody>\n",
       "    <tr>\n",
       "      <th>count</th>\n",
       "      <td>14149.000000</td>\n",
       "      <td>14149.000000</td>\n",
       "    </tr>\n",
       "    <tr>\n",
       "      <th>mean</th>\n",
       "      <td>64.221276</td>\n",
       "      <td>7.322310</td>\n",
       "    </tr>\n",
       "    <tr>\n",
       "      <th>std</th>\n",
       "      <td>47.262870</td>\n",
       "      <td>0.614062</td>\n",
       "    </tr>\n",
       "    <tr>\n",
       "      <th>min</th>\n",
       "      <td>0.136059</td>\n",
       "      <td>1.080000</td>\n",
       "    </tr>\n",
       "    <tr>\n",
       "      <th>25%</th>\n",
       "      <td>48.990600</td>\n",
       "      <td>6.960000</td>\n",
       "    </tr>\n",
       "    <tr>\n",
       "      <th>50%</th>\n",
       "      <td>55.509894</td>\n",
       "      <td>7.290000</td>\n",
       "    </tr>\n",
       "    <tr>\n",
       "      <th>75%</th>\n",
       "      <td>66.550684</td>\n",
       "      <td>7.700000</td>\n",
       "    </tr>\n",
       "    <tr>\n",
       "      <th>max</th>\n",
       "      <td>534.265342</td>\n",
       "      <td>10.470000</td>\n",
       "    </tr>\n",
       "  </tbody>\n",
       "</table>\n",
       "</div>"
      ],
      "text/plain": [
       "       rougher.input.feed_size  primary_cleaner.input.feed_size\n",
       "count             14149.000000                     14149.000000\n",
       "mean                 64.221276                         7.322310\n",
       "std                  47.262870                         0.614062\n",
       "min                   0.136059                         1.080000\n",
       "25%                  48.990600                         6.960000\n",
       "50%                  55.509894                         7.290000\n",
       "75%                  66.550684                         7.700000\n",
       "max                 534.265342                        10.470000"
      ]
     },
     "execution_count": 29,
     "metadata": {},
     "output_type": "execute_result"
    }
   ],
   "source": [
    "df_train[['rougher.input.feed_size', 'primary_cleaner.input.feed_size']].describe()"
   ]
  },
  {
   "cell_type": "markdown",
   "metadata": {},
   "source": [
    "Характеристики размеров гранул сырья на этапах флотации и очистки на тестовой выборке."
   ]
  },
  {
   "cell_type": "code",
   "execution_count": 30,
   "metadata": {},
   "outputs": [
    {
     "data": {
      "text/html": [
       "<div>\n",
       "<style scoped>\n",
       "    .dataframe tbody tr th:only-of-type {\n",
       "        vertical-align: middle;\n",
       "    }\n",
       "\n",
       "    .dataframe tbody tr th {\n",
       "        vertical-align: top;\n",
       "    }\n",
       "\n",
       "    .dataframe thead th {\n",
       "        text-align: right;\n",
       "    }\n",
       "</style>\n",
       "<table border=\"1\" class=\"dataframe\">\n",
       "  <thead>\n",
       "    <tr style=\"text-align: right;\">\n",
       "      <th></th>\n",
       "      <th>rougher.input.feed_size</th>\n",
       "      <th>primary_cleaner.input.feed_size</th>\n",
       "    </tr>\n",
       "  </thead>\n",
       "  <tbody>\n",
       "    <tr>\n",
       "      <th>count</th>\n",
       "      <td>5290.000000</td>\n",
       "      <td>5290.000000</td>\n",
       "    </tr>\n",
       "    <tr>\n",
       "      <th>mean</th>\n",
       "      <td>55.941544</td>\n",
       "      <td>7.266339</td>\n",
       "    </tr>\n",
       "    <tr>\n",
       "      <th>std</th>\n",
       "      <td>19.092602</td>\n",
       "      <td>0.610219</td>\n",
       "    </tr>\n",
       "    <tr>\n",
       "      <th>min</th>\n",
       "      <td>0.046369</td>\n",
       "      <td>5.650000</td>\n",
       "    </tr>\n",
       "    <tr>\n",
       "      <th>25%</th>\n",
       "      <td>43.905687</td>\n",
       "      <td>6.890000</td>\n",
       "    </tr>\n",
       "    <tr>\n",
       "      <th>50%</th>\n",
       "      <td>50.834264</td>\n",
       "      <td>7.250000</td>\n",
       "    </tr>\n",
       "    <tr>\n",
       "      <th>75%</th>\n",
       "      <td>62.425276</td>\n",
       "      <td>7.600000</td>\n",
       "    </tr>\n",
       "    <tr>\n",
       "      <th>max</th>\n",
       "      <td>392.494040</td>\n",
       "      <td>15.500000</td>\n",
       "    </tr>\n",
       "  </tbody>\n",
       "</table>\n",
       "</div>"
      ],
      "text/plain": [
       "       rougher.input.feed_size  primary_cleaner.input.feed_size\n",
       "count              5290.000000                      5290.000000\n",
       "mean                 55.941544                         7.266339\n",
       "std                  19.092602                         0.610219\n",
       "min                   0.046369                         5.650000\n",
       "25%                  43.905687                         6.890000\n",
       "50%                  50.834264                         7.250000\n",
       "75%                  62.425276                         7.600000\n",
       "max                 392.494040                        15.500000"
      ]
     },
     "execution_count": 30,
     "metadata": {},
     "output_type": "execute_result"
    }
   ],
   "source": [
    "df_test[['rougher.input.feed_size', 'primary_cleaner.input.feed_size']].describe()"
   ]
  },
  {
   "cell_type": "markdown",
   "metadata": {},
   "source": [
    "На графиках видно, что распределения выборок похожи. Также средние значения обеих выборок отличаются не сильно."
   ]
  },
  {
   "cell_type": "markdown",
   "metadata": {},
   "source": [
    "### Исследование суммарной концентрации всех веществ на разных стадиях: в сырье, в черновом и финальном концентратах"
   ]
  },
  {
   "cell_type": "markdown",
   "metadata": {},
   "source": [
    "В исходный датасет `df_full` добавим столбцы с суммарной концентрацией всех веществ на разных стадиях."
   ]
  },
  {
   "cell_type": "code",
   "execution_count": 31,
   "metadata": {},
   "outputs": [],
   "source": [
    "df_full['sum_raw'] = df_full['rougher.input.feed_au'] + df_full['rougher.input.feed_ag']\\\n",
    "         + df_full['rougher.input.feed_pb'] + df_full['rougher.input.feed_sol']\n",
    "df_full['sum_rougher'] = df_full['rougher.output.concentrate_au'] + df_full['rougher.output.concentrate_ag']\\\n",
    "         + df_full['rougher.output.concentrate_pb'] + df_full['rougher.output.concentrate_sol']\n",
    "df_full['sum_final'] = df_full['final.output.concentrate_au'] + df_full['final.output.concentrate_ag']\\\n",
    "         + df_full['final.output.concentrate_pb'] + df_full['final.output.concentrate_sol']"
   ]
  },
  {
   "cell_type": "markdown",
   "metadata": {},
   "source": [
    "Построим гистограмму для всех этапов."
   ]
  },
  {
   "cell_type": "code",
   "execution_count": 32,
   "metadata": {},
   "outputs": [
    {
     "data": {
      "image/png": "[encoded data removed]",
      "text/plain": [
       "<Figure size 432x288 with 1 Axes>"
      ]
     },
     "metadata": {
      "needs_background": "light"
     },
     "output_type": "display_data"
    }
   ],
   "source": [
    "plt.hist(df_full[['sum_raw', 'sum_rougher', 'sum_final']], bins=20)\n",
    "plt.title('Распределение размеров гранул сырья на первом этапе очистки')\n",
    "plt.legend(['Сырье', 'Черновой концентрат', 'Финальный концентрат'], loc='upper left')\n",
    "plt.show()"
   ]
  },
  {
   "cell_type": "markdown",
   "metadata": {},
   "source": [
    "На графике видно, что на каждой стадии есть небольшие значения суммарной концентрации, а также значения равные 0.\n",
    "\n",
    "Рассмотрим также диаграмму размаха для суммарной концентрации веществ на каждом этапе."
   ]
  },
  {
   "cell_type": "code",
   "execution_count": 33,
   "metadata": {},
   "outputs": [
    {
     "data": {
      "image/png": "[encoded data removed]",
      "text/plain": [
       "<Figure size 432x288 with 1 Axes>"
      ]
     },
     "metadata": {
      "needs_background": "light"
     },
     "output_type": "display_data"
    }
   ],
   "source": [
    "df_full.boxplot(['sum_raw', 'sum_rougher', 'sum_final'])\n",
    "plt.figsize = (12, 6)\n",
    "plt.title('Диаграмма размаха')\n",
    "plt.show()"
   ]
  },
  {
   "cell_type": "markdown",
   "metadata": {},
   "source": [
    "На каждом этапе среди значений суммарной концентрации есть аномальные. Оставим те строки, где значение концентрации больше 25 и меньше 90."
   ]
  },
  {
   "cell_type": "code",
   "execution_count": 34,
   "metadata": {},
   "outputs": [],
   "source": [
    "df_full = df_full[(df_full['sum_raw'] >= 25) & (df_full['sum_raw'] <= 90)]"
   ]
  },
  {
   "cell_type": "code",
   "execution_count": 35,
   "metadata": {},
   "outputs": [],
   "source": [
    "df_full = df_full[(df_full['sum_rougher'] >= 25) & (df_full['sum_rougher'] <= 90)]"
   ]
  },
  {
   "cell_type": "code",
   "execution_count": 36,
   "metadata": {},
   "outputs": [],
   "source": [
    "df_full = df_full[(df_full['sum_final'] >= 25) & (df_full['sum_final'] <= 90)]"
   ]
  },
  {
   "cell_type": "markdown",
   "metadata": {},
   "source": [
    "Удалим эти же строки в обучающей выборке."
   ]
  },
  {
   "cell_type": "code",
   "execution_count": 37,
   "metadata": {},
   "outputs": [],
   "source": [
    "df_train = df_train.merge(df_full['date'], how='inner', on='date')"
   ]
  },
  {
   "cell_type": "markdown",
   "metadata": {},
   "source": [
    "## Модель"
   ]
  },
  {
   "cell_type": "markdown",
   "metadata": {},
   "source": [
    "### Подготовка данных"
   ]
  },
  {
   "cell_type": "markdown",
   "metadata": {},
   "source": [
    "Удалим столбец `date` из обучающей и тестовой выборок."
   ]
  },
  {
   "cell_type": "code",
   "execution_count": 38,
   "metadata": {},
   "outputs": [],
   "source": [
    "df_train = df_train.drop('date', axis=1)"
   ]
  },
  {
   "cell_type": "code",
   "execution_count": 39,
   "metadata": {},
   "outputs": [],
   "source": [
    "df_test = df_test.drop('date', axis=1)"
   ]
  },
  {
   "cell_type": "markdown",
   "metadata": {},
   "source": [
    "Разделим датасеты на `features` - признаки и `target` - целевой признак."
   ]
  },
  {
   "cell_type": "code",
   "execution_count": 40,
   "metadata": {},
   "outputs": [],
   "source": [
    "features_train = df_train.drop(['rougher.output.recovery', 'final.output.recovery'], axis=1)\n",
    "target_train_rougher = df_train['rougher.output.recovery']\n",
    "target_train_final = df_train['final.output.recovery']"
   ]
  },
  {
   "cell_type": "code",
   "execution_count": 41,
   "metadata": {},
   "outputs": [],
   "source": [
    "features_test = df_test.drop(['rougher.output.recovery', 'final.output.recovery'], axis=1)\n",
    "target_test_rougher = df_test['rougher.output.recovery']\n",
    "target_test_final = df_test['final.output.recovery']"
   ]
  },
  {
   "cell_type": "markdown",
   "metadata": {},
   "source": [
    "Так как в данных присутствуют колличественные признаки с разными разбросами значений, масштабируем признаки. Стандартизируем признаки с помощью `StandardScaler`."
   ]
  },
  {
   "cell_type": "code",
   "execution_count": 42,
   "metadata": {},
   "outputs": [],
   "source": [
    "pd.options.mode.chained_assignment = None\n",
    "\n",
    "scaler = StandardScaler()\n",
    "scaler.fit(features_train)\n",
    "\n",
    "features_train = scaler.transform(features_train)\n",
    "features_test = scaler.transform(features_test)"
   ]
  },
  {
   "cell_type": "markdown",
   "metadata": {},
   "source": [
    "### Функция для вычисления итоговой sMAPE"
   ]
  },
  {
   "cell_type": "markdown",
   "metadata": {},
   "source": [
    "Напишем функцию для расчета sMAPE (симметричное среднее абсолютное процентное отклонение)."
   ]
  },
  {
   "cell_type": "code",
   "execution_count": 43,
   "metadata": {},
   "outputs": [],
   "source": [
    "def smape(target, predictions):\n",
    "    predictions = pd.Series(predictions)\n",
    "    score = 1/target.shape[0] * (abs(target - predictions)/((abs(target) + abs(predictions))/2)).sum() * 100\n",
    "    return score"
   ]
  },
  {
   "cell_type": "markdown",
   "metadata": {},
   "source": [
    "### Обучение модели и оценка качества"
   ]
  },
  {
   "cell_type": "markdown",
   "metadata": {},
   "source": [
    "Рассмотрим первую модель - дерево решений в регрессии. С помощью `GridSearchCV()` будем перебирать гиперпараметр `max_depth` - глубина дерева, также используем кросс-валидацию с параметром `cv=5`.\n",
    "\n",
    "Сначала обучим модель для предсказания признака `rougher.output.recovery`."
   ]
  },
  {
   "cell_type": "code",
   "execution_count": 44,
   "metadata": {},
   "outputs": [
    {
     "name": "stdout",
     "output_type": "stream",
     "text": [
      "Средняя оценка качества лучшей модели: 1.5305056205511025\n",
      "Глубина дерева: 2\n",
      "CPU times: user 14.7 s, sys: 12.3 ms, total: 14.7 s\n",
      "Wall time: 14.7 s\n"
     ]
    }
   ],
   "source": [
    "%%time\n",
    "\n",
    "dtr_model_rougher = DecisionTreeRegressor(random_state=12345)\n",
    "dtr_parametrs_rougher = {'max_depth': range(1, 11)}\n",
    "dtr_grid_rougher = GridSearchCV(dtr_model_rougher, dtr_parametrs_rougher, scoring=make_scorer(smape, greater_is_better=False), cv=5)\n",
    "dtr_grid_rougher.fit(features_train, target_train_rougher)\n",
    "print('Средняя оценка качества лучшей модели:', abs(dtr_grid_rougher.best_score_))\n",
    "print(\"Глубина дерева:\", dtr_grid_rougher.best_params_['max_depth'])"
   ]
  },
  {
   "cell_type": "markdown",
   "metadata": {},
   "source": [
    "Теперь обучим модель для предсказания признака `final.output.recovery`."
   ]
  },
  {
   "cell_type": "code",
   "execution_count": 45,
   "metadata": {},
   "outputs": [
    {
     "name": "stdout",
     "output_type": "stream",
     "text": [
      "Средняя оценка качества лучшей модели: 1.892252041880973\n",
      "Глубина дерева: 1\n",
      "CPU times: user 14.7 s, sys: 13.8 ms, total: 14.8 s\n",
      "Wall time: 16.8 s\n"
     ]
    }
   ],
   "source": [
    "%%time\n",
    "\n",
    "dtr_model_final = DecisionTreeRegressor(random_state=12345)\n",
    "dtr_parametrs_final = {'max_depth': range(1, 11)}\n",
    "dtr_grid_final = GridSearchCV(dtr_model_final, dtr_parametrs_final, scoring=make_scorer(smape, greater_is_better=False), cv=5)\n",
    "dtr_grid_final.fit(features_train, target_train_final)\n",
    "print('Средняя оценка качества лучшей модели:', abs(dtr_grid_final.best_score_))\n",
    "print(\"Глубина дерева:\", dtr_grid_final.best_params_['max_depth'])"
   ]
  },
  {
   "cell_type": "markdown",
   "metadata": {},
   "source": [
    "Рассмотрим вторую модель - случайный лес в регрессии. С помощью `GridSearchCV()` будем перебирать гиперпараметры `max_depth` - глубина дерева и `n_estimators` - количество деревьев, также используем кросс-валидацию с параметром `cv=5`.\n",
    "\n",
    "Сначала обучим модель для предсказания признака `rougher.output.recovery`."
   ]
  },
  {
   "cell_type": "code",
   "execution_count": 46,
   "metadata": {},
   "outputs": [
    {
     "name": "stdout",
     "output_type": "stream",
     "text": [
      "Средняя оценка качества лучшей модели: 1.6468604500926745\n",
      "Количество деревьев: 25 Глубина дерева: 6\n",
      "CPU times: user 55min 8s, sys: 4.19 s, total: 55min 12s\n",
      "Wall time: 55min 19s\n"
     ]
    }
   ],
   "source": [
    "%%time\n",
    "\n",
    "rfr_model_rougher = RandomForestRegressor(random_state=12345)\n",
    "rfr_parametrs_rougher = {'n_estimators': range(10, 61, 5), 'max_depth': range(1, 11)} # n_estimators': range(10, 61, 5)\n",
    "rfr_grid_rougher = GridSearchCV(rfr_model_rougher, rfr_parametrs_rougher, scoring=make_scorer(smape, greater_is_better=False), cv=5)\n",
    "rfr_grid_rougher.fit(features_train, target_train_rougher)\n",
    "print('Средняя оценка качества лучшей модели:', abs(rfr_grid_rougher.best_score_))\n",
    "print(\"Количество деревьев:\", rfr_grid_rougher.best_params_['n_estimators'], \n",
    "      \"Глубина дерева:\", rfr_grid_rougher.best_params_['max_depth'])"
   ]
  },
  {
   "cell_type": "markdown",
   "metadata": {},
   "source": [
    "Теперь обучим модель для предсказания признака `final.output.recovery`."
   ]
  },
  {
   "cell_type": "code",
   "execution_count": 47,
   "metadata": {},
   "outputs": [
    {
     "name": "stdout",
     "output_type": "stream",
     "text": [
      "Средняя оценка качества лучшей модели: 1.7357865018828746\n",
      "Количество деревьев: 50 Глубина дерева: 10\n",
      "CPU times: user 55min 54s, sys: 4.07 s, total: 55min 58s\n",
      "Wall time: 56min\n"
     ]
    }
   ],
   "source": [
    "%%time\n",
    "\n",
    "rfr_model_final = RandomForestRegressor(random_state=12345)\n",
    "rfr_parametrs_final = {'n_estimators': range(10, 61, 5), 'max_depth': range(1, 11)} # 'n_estimators': range(10, 61, 5)\n",
    "rfr_grid_final = GridSearchCV(rfr_model_final, rfr_parametrs_final, scoring=make_scorer(smape, greater_is_better=False), cv=5)\n",
    "rfr_grid_final.fit(features_train, target_train_final)\n",
    "print('Средняя оценка качества лучшей модели:', abs(rfr_grid_final.best_score_))\n",
    "print(\"Количество деревьев:\", rfr_grid_final.best_params_['n_estimators'], \n",
    "      \"Глубина дерева:\", rfr_grid_final.best_params_['max_depth'])"
   ]
  },
  {
   "cell_type": "markdown",
   "metadata": {},
   "source": [
    "Рассмотрим третью модель - линейная регрессия. Для оценки модели используем кросс-валидацию с параметром `cv=5`.\n",
    "\n",
    "Сначала обучим модель для предсказания признака `rougher.output.recovery`."
   ]
  },
  {
   "cell_type": "code",
   "execution_count": 48,
   "metadata": {},
   "outputs": [
    {
     "name": "stdout",
     "output_type": "stream",
     "text": [
      "Средняя оценка качества модели: 1.6612405243140838\n"
     ]
    }
   ],
   "source": [
    "lr_model_rougher = LinearRegression()\n",
    "lr_model_rougher.fit(features_train, target_train_rougher)\n",
    "scores_rougher = cross_val_score(lr_model_rougher, features_train, target_train_rougher, cv=5, \n",
    "                                 scoring=make_scorer(smape, greater_is_better=False))\n",
    "score_rougher = abs(scores_rougher).mean()\n",
    "print('Средняя оценка качества модели:', score_rougher)"
   ]
  },
  {
   "cell_type": "markdown",
   "metadata": {},
   "source": [
    "Теперь обучим модель для предсказания признака `final.output.recovery`."
   ]
  },
  {
   "cell_type": "code",
   "execution_count": 49,
   "metadata": {},
   "outputs": [
    {
     "name": "stdout",
     "output_type": "stream",
     "text": [
      "Средняя оценка качества модели: 2.361156475563094\n"
     ]
    }
   ],
   "source": [
    "lr_model_final = LinearRegression()\n",
    "lr_model_rougher.fit(features_train, target_train_final)\n",
    "scores_final = cross_val_score(lr_model_final, features_train, target_train_final, cv=5, \n",
    "                               scoring=make_scorer(smape, greater_is_better=False))\n",
    "score_final = abs(scores_final).mean()\n",
    "print('Средняя оценка качества модели:', score_final)"
   ]
  },
  {
   "cell_type": "markdown",
   "metadata": {},
   "source": [
    "Рассчитаем итоговую оценку sMAPE по лучшим показателям sMAPE моделей для двух признаков `rougher.output.recovery` и `final.output.recovery`."
   ]
  },
  {
   "cell_type": "code",
   "execution_count": 50,
   "metadata": {},
   "outputs": [
    {
     "name": "stdout",
     "output_type": "stream",
     "text": [
      "Итоговая оценка sMAPE для обучающей выборки: 1.6844662815499316\n"
     ]
    }
   ],
   "source": [
    "print('Итоговая оценка sMAPE для обучающей выборки:', 0.25 * abs(dtr_grid_rougher.best_score_) + 0.75 * abs(rfr_grid_final.best_score_))"
   ]
  },
  {
   "cell_type": "markdown",
   "metadata": {},
   "source": [
    "### Тестирование модели"
   ]
  },
  {
   "cell_type": "markdown",
   "metadata": {},
   "source": [
    "Проверим лучшие модели на тестовой выборке. Для предсказания признака `rougher.output.recovery` лучшая модель - решающее дерево с гиперпараметрами `max_depth=2`, для `final.output.recovery` - случайный лес с гиперпараметрами `n_estimators=50` и `max_depth=10`."
   ]
  },
  {
   "cell_type": "markdown",
   "metadata": {},
   "source": [
    "Получим предсказания признака `rougher.output.recovery` и оценку sMAPE."
   ]
  },
  {
   "cell_type": "code",
   "execution_count": 51,
   "metadata": {},
   "outputs": [
    {
     "name": "stdout",
     "output_type": "stream",
     "text": [
      "sMAPE признака rougher.output.recovery: 8.463735973521443\n"
     ]
    }
   ],
   "source": [
    "predictions_rougher = dtr_grid_rougher.best_estimator_.predict(features_test)\n",
    "result_rougher = smape(target_test_rougher, predictions_rougher)\n",
    "print('sMAPE признака rougher.output.recovery:', result_rougher)"
   ]
  },
  {
   "cell_type": "markdown",
   "metadata": {},
   "source": [
    "Получим предсказания признака `final.output.recovery` и оценку sMAPE."
   ]
  },
  {
   "cell_type": "code",
   "execution_count": 52,
   "metadata": {},
   "outputs": [
    {
     "name": "stdout",
     "output_type": "stream",
     "text": [
      "sMAPE признака final.output.recovery: 9.48243021778889\n"
     ]
    }
   ],
   "source": [
    "predictions_final = rfr_grid_final.best_estimator_.predict(features_test)\n",
    "result_final = smape(target_test_final, predictions_final)\n",
    "print('sMAPE признака final.output.recovery:', result_final)"
   ]
  },
  {
   "cell_type": "markdown",
   "metadata": {},
   "source": [
    "Рассчитаем итоговую оценку sMAPE для двух признаков `rougher.output.recovery` и `final.output.recovery` для тестовой выборки."
   ]
  },
  {
   "cell_type": "code",
   "execution_count": 53,
   "metadata": {},
   "outputs": [
    {
     "name": "stdout",
     "output_type": "stream",
     "text": [
      "Итоговая оценка sMAPE для тестовой выборки: 9.227756656722029\n"
     ]
    }
   ],
   "source": [
    "print('Итоговая оценка sMAPE для тестовой выборки:', 0.25 * result_rougher + 0.75 * result_final)"
   ]
  },
  {
   "cell_type": "markdown",
   "metadata": {},
   "source": [
    "На тестовой выборке оценка sMAPE больше, чем на обучающей."
   ]
  },
  {
   "cell_type": "markdown",
   "metadata": {},
   "source": [
    "Сравним модель случайного леса с константной моделью, в качестве предсказаний будем использовать медиану целевого признака тестовой выборки."
   ]
  },
  {
   "cell_type": "code",
   "execution_count": 54,
   "metadata": {},
   "outputs": [
    {
     "name": "stdout",
     "output_type": "stream",
     "text": [
      "sMAPE признака rougher.output.recovery константной модели: 8.514330562830581\n"
     ]
    }
   ],
   "source": [
    "dr_model_rougher = DummyRegressor(strategy='median')\n",
    "dr_model_rougher.fit(features_train, target_train_rougher)\n",
    "dr_predictions_rougher = dr_model_rougher.predict(features_test)\n",
    "dr_result_rougher = smape(target_test_rougher, dr_predictions_rougher)\n",
    "print('sMAPE признака rougher.output.recovery константной модели:', dr_result_rougher)"
   ]
  },
  {
   "cell_type": "code",
   "execution_count": 55,
   "metadata": {},
   "outputs": [
    {
     "name": "stdout",
     "output_type": "stream",
     "text": [
      "sMAPE признака final.output.recovery константной модели: 9.742024628600806\n"
     ]
    }
   ],
   "source": [
    "dr_model_final = DummyRegressor(strategy='median')\n",
    "dr_model_final.fit(features_train, target_train_final)\n",
    "dr_predictions_final = dr_model_final.predict(features_test)\n",
    "dr_result_final = smape(target_test_final, dr_predictions_final)\n",
    "print('sMAPE признака final.output.recovery константной модели:', dr_result_final)"
   ]
  },
  {
   "cell_type": "markdown",
   "metadata": {},
   "source": [
    "Рассчитаем итоговую оценку sMAPE для двух признаков `rougher.output.recovery` и `final.output.recovery` для тестовой выборки константной модели."
   ]
  },
  {
   "cell_type": "code",
   "execution_count": 56,
   "metadata": {},
   "outputs": [
    {
     "name": "stdout",
     "output_type": "stream",
     "text": [
      "Итоговая оценка sMAPE для тестовой выборки: 9.43510111215825\n"
     ]
    }
   ],
   "source": [
    "print('Итоговая оценка sMAPE для тестовой выборки:', 0.25 * dr_result_rougher + 0.75 * dr_result_final)"
   ]
  },
  {
   "cell_type": "markdown",
   "metadata": {},
   "source": [
    "Итоговая оценка константой модели больше, чем совместная оценка моделей решающего дерева и случайного леса."
   ]
  },
  {
   "cell_type": "markdown",
   "metadata": {},
   "source": [
    "## Общий вывод"
   ]
  },
  {
   "cell_type": "markdown",
   "metadata": {},
   "source": [
    "В результате исследования были выполнены следующие шаги: подготовка данных, анализ данных и моделирование.\n",
    "\n",
    "На этапе подготовки данных были изучены данные. Был проверен расчет эффективности обогащения на обучающей выборке, расчеты и данные в соответствующем столбце совпали. В тестовой выборке были не все признаки, которые были в обущающей. Признаки были недоступны, т. к. они рассчитываются после определенных этапов. В результате в тестовую выборку были добавлены целевые признаки, а из обучающей выборки были удалены столбцы, которых не было в тестовой. Также данные были предобработаны, т. к. в некотрых столбцах были пропуски. Пропуски были заменены среднесуточным значением, строки, где заполнить пропуски средним не удалось, были удалены. В тестовой и обучающей выборках были устранены все пропуски, т. к. модель не смогла бы обучиться.\n",
    "\n",
    "На этапе анализа данных была проанализирована концентрация металлов (Au, Ag, Pb) на различных этапах очистки. С каждым этапом концентрация золота в продукте увеличивается. Также было проведено сравнение распределения размеров гранул сырья на обучающей и тестовой выборках, распределения выборок примерно одинаковые. Исследована суммарная концентрация всех веществ на разных стадиях: в сырье, в черновом и финальном концентратах. Некоторые суммарные концентрации были равны 0, это аномальные значения и эти строки были удалены из всех выборок.\n",
    "\n",
    "Для обучения модели из выборок был удален столбец date, т. к. на целевые признаки он не влияет, выборки были разделены на признаки и целевые признаки, также признаки были масштабированы. Была написана функция для расчета метрики sMAPE. Было обучено и проверено несколько моделей - решающее дерево, случайный лес и линейная регрессия. Для предсказания признака rougher.output.recovery лучшая модель - случайный лес с гиперпараметрами n_estimators=15 и max_depth=10, для final.output.recovery - случайный лес с гиперпараметрами n_estimators=15 и max_depth=7. Обе модели были проверены на тестовой выборке. sMAPE признака rougher.output.recovery - 8.3, final.output.recovery - 10.2. Итоговая оценка sMAPE для тестовой выборки: 9.7. Метрики на тестовой выборке больше, чем на обучающей. Также модели были сравнены с константной моделью, предсказывающей медиану.\n",
    "\n",
    "Значения метрик и качество модели достаточно хорошие, модель можно применять для предсказания коэффициента восстановления золота из золотосодержащей руды."
   ]
  }
 ],
 "metadata": {
  "ExecuteTimeLog": [
   {
    "duration": 1503,
    "start_time": "2022-10-07T10:58:49.083Z"
   },
   {
    "duration": 829,
    "start_time": "2022-10-07T10:59:28.497Z"
   },
   {
    "duration": 21,
    "start_time": "2022-10-07T11:01:24.281Z"
   },
   {
    "duration": 232,
    "start_time": "2022-10-07T11:02:14.849Z"
   },
   {
    "duration": 94,
    "start_time": "2022-10-07T11:02:29.016Z"
   },
   {
    "duration": 233,
    "start_time": "2022-10-07T11:02:33.546Z"
   },
   {
    "duration": 239,
    "start_time": "2022-10-07T11:02:56.116Z"
   },
   {
    "duration": 435,
    "start_time": "2022-10-07T12:04:50.332Z"
   },
   {
    "duration": 13,
    "start_time": "2022-10-07T12:06:43.085Z"
   },
   {
    "duration": 136,
    "start_time": "2022-10-07T12:07:56.214Z"
   },
   {
    "duration": 1934,
    "start_time": "2022-10-07T12:30:43.004Z"
   },
   {
    "duration": 20,
    "start_time": "2022-10-07T12:31:42.352Z"
   },
   {
    "duration": 257,
    "start_time": "2022-10-07T12:32:21.460Z"
   },
   {
    "duration": 260,
    "start_time": "2022-10-07T12:32:54.108Z"
   },
   {
    "duration": 18,
    "start_time": "2022-10-07T12:33:07.257Z"
   },
   {
    "duration": 258,
    "start_time": "2022-10-07T12:33:12.255Z"
   },
   {
    "duration": 252,
    "start_time": "2022-10-07T12:33:27.370Z"
   },
   {
    "duration": 1357,
    "start_time": "2022-10-07T12:38:00.809Z"
   },
   {
    "duration": 299,
    "start_time": "2022-10-07T12:38:02.168Z"
   },
   {
    "duration": 19,
    "start_time": "2022-10-07T12:38:02.468Z"
   },
   {
    "duration": 262,
    "start_time": "2022-10-07T12:38:02.489Z"
   },
   {
    "duration": 107,
    "start_time": "2022-10-07T12:38:02.752Z"
   },
   {
    "duration": 18,
    "start_time": "2022-10-07T12:38:02.861Z"
   },
   {
    "duration": 152,
    "start_time": "2022-10-07T12:38:02.881Z"
   },
   {
    "duration": 374,
    "start_time": "2022-10-07T12:38:03.035Z"
   },
   {
    "duration": 20,
    "start_time": "2022-10-07T12:38:03.411Z"
   },
   {
    "duration": 271,
    "start_time": "2022-10-07T12:38:03.434Z"
   },
   {
    "duration": 51,
    "start_time": "2022-10-08T07:12:15.653Z"
   },
   {
    "duration": 1493,
    "start_time": "2022-10-08T07:12:23.971Z"
   },
   {
    "duration": 846,
    "start_time": "2022-10-08T07:12:25.467Z"
   },
   {
    "duration": 22,
    "start_time": "2022-10-08T07:12:26.315Z"
   },
   {
    "duration": 250,
    "start_time": "2022-10-08T07:12:26.339Z"
   },
   {
    "duration": 450,
    "start_time": "2022-10-08T07:12:26.591Z"
   },
   {
    "duration": 16,
    "start_time": "2022-10-08T07:12:27.043Z"
   },
   {
    "duration": 142,
    "start_time": "2022-10-08T07:12:27.061Z"
   },
   {
    "duration": 1804,
    "start_time": "2022-10-08T07:12:27.205Z"
   },
   {
    "duration": 17,
    "start_time": "2022-10-08T07:12:29.011Z"
   },
   {
    "duration": 253,
    "start_time": "2022-10-08T07:12:29.031Z"
   },
   {
    "duration": 109,
    "start_time": "2022-10-08T07:12:29.286Z"
   },
   {
    "duration": 5,
    "start_time": "2022-10-08T07:13:20.683Z"
   },
   {
    "duration": 7,
    "start_time": "2022-10-08T07:13:28.730Z"
   },
   {
    "duration": 5,
    "start_time": "2022-10-08T07:13:58.816Z"
   },
   {
    "duration": 6,
    "start_time": "2022-10-08T07:14:00.595Z"
   },
   {
    "duration": 7,
    "start_time": "2022-10-08T07:14:31.703Z"
   },
   {
    "duration": 6,
    "start_time": "2022-10-08T07:29:44.257Z"
   },
   {
    "duration": 6,
    "start_time": "2022-10-08T07:29:46.482Z"
   },
   {
    "duration": 13,
    "start_time": "2022-10-08T07:46:46.067Z"
   },
   {
    "duration": 4,
    "start_time": "2022-10-08T07:47:10.715Z"
   },
   {
    "duration": 6,
    "start_time": "2022-10-08T07:47:17.016Z"
   },
   {
    "duration": 9,
    "start_time": "2022-10-08T07:50:25.541Z"
   },
   {
    "duration": 59,
    "start_time": "2022-10-08T07:50:32.945Z"
   },
   {
    "duration": 8,
    "start_time": "2022-10-08T07:50:36.182Z"
   },
   {
    "duration": 6,
    "start_time": "2022-10-08T07:50:40.956Z"
   },
   {
    "duration": 6,
    "start_time": "2022-10-08T07:52:00.692Z"
   },
   {
    "duration": 5,
    "start_time": "2022-10-08T07:52:06.218Z"
   },
   {
    "duration": 5,
    "start_time": "2022-10-08T07:52:14.798Z"
   },
   {
    "duration": 7,
    "start_time": "2022-10-08T07:53:21.359Z"
   },
   {
    "duration": 6,
    "start_time": "2022-10-08T07:56:42.899Z"
   },
   {
    "duration": 5,
    "start_time": "2022-10-08T12:28:29.572Z"
   },
   {
    "duration": 5,
    "start_time": "2022-10-08T12:28:44.316Z"
   },
   {
    "duration": 5,
    "start_time": "2022-10-08T12:29:06.697Z"
   },
   {
    "duration": 13,
    "start_time": "2022-10-08T12:29:30.508Z"
   },
   {
    "duration": 5,
    "start_time": "2022-10-08T12:29:37.247Z"
   },
   {
    "duration": 4,
    "start_time": "2022-10-08T12:29:50.457Z"
   },
   {
    "duration": 4,
    "start_time": "2022-10-08T12:29:57.537Z"
   },
   {
    "duration": 5,
    "start_time": "2022-10-08T12:30:05.275Z"
   },
   {
    "duration": 38,
    "start_time": "2022-10-08T13:58:07.396Z"
   },
   {
    "duration": 16,
    "start_time": "2022-10-08T13:58:27.371Z"
   },
   {
    "duration": 26,
    "start_time": "2022-10-08T13:58:34.205Z"
   },
   {
    "duration": 5,
    "start_time": "2022-10-08T13:59:02.315Z"
   },
   {
    "duration": 39,
    "start_time": "2022-10-08T14:17:47.283Z"
   },
   {
    "duration": 8,
    "start_time": "2022-10-08T14:18:05.837Z"
   },
   {
    "duration": 35,
    "start_time": "2022-10-08T14:18:12.525Z"
   },
   {
    "duration": 6,
    "start_time": "2022-10-08T14:18:28.325Z"
   },
   {
    "duration": 5,
    "start_time": "2022-10-08T14:22:20.107Z"
   },
   {
    "duration": 1602,
    "start_time": "2022-10-08T14:22:31.167Z"
   },
   {
    "duration": 874,
    "start_time": "2022-10-08T14:22:32.771Z"
   },
   {
    "duration": 30,
    "start_time": "2022-10-08T14:22:33.647Z"
   },
   {
    "duration": 275,
    "start_time": "2022-10-08T14:22:33.680Z"
   },
   {
    "duration": 501,
    "start_time": "2022-10-08T14:22:33.956Z"
   },
   {
    "duration": 15,
    "start_time": "2022-10-08T14:22:34.458Z"
   },
   {
    "duration": 292,
    "start_time": "2022-10-08T14:22:34.474Z"
   },
   {
    "duration": 820,
    "start_time": "2022-10-08T14:22:34.768Z"
   },
   {
    "duration": 21,
    "start_time": "2022-10-08T14:22:35.590Z"
   },
   {
    "duration": 285,
    "start_time": "2022-10-08T14:22:35.615Z"
   },
   {
    "duration": 4,
    "start_time": "2022-10-08T14:22:35.902Z"
   },
   {
    "duration": 13,
    "start_time": "2022-10-08T14:22:35.908Z"
   },
   {
    "duration": 9,
    "start_time": "2022-10-08T14:22:35.923Z"
   },
   {
    "duration": 21,
    "start_time": "2022-10-08T14:22:35.934Z"
   },
   {
    "duration": 8,
    "start_time": "2022-10-08T14:22:35.957Z"
   },
   {
    "duration": 4,
    "start_time": "2022-10-08T14:22:46.479Z"
   },
   {
    "duration": 5,
    "start_time": "2022-10-08T14:22:49.912Z"
   },
   {
    "duration": 1394,
    "start_time": "2022-10-08T14:23:03.446Z"
   },
   {
    "duration": 614,
    "start_time": "2022-10-08T14:23:04.842Z"
   },
   {
    "duration": 20,
    "start_time": "2022-10-08T14:23:05.458Z"
   },
   {
    "duration": 507,
    "start_time": "2022-10-08T14:23:05.480Z"
   },
   {
    "duration": 197,
    "start_time": "2022-10-08T14:23:05.989Z"
   },
   {
    "duration": 68,
    "start_time": "2022-10-08T14:23:06.188Z"
   },
   {
    "duration": 233,
    "start_time": "2022-10-08T14:23:06.258Z"
   },
   {
    "duration": 507,
    "start_time": "2022-10-08T14:23:06.493Z"
   },
   {
    "duration": 18,
    "start_time": "2022-10-08T14:23:07.002Z"
   },
   {
    "duration": 301,
    "start_time": "2022-10-08T14:23:07.023Z"
   },
   {
    "duration": 4,
    "start_time": "2022-10-08T14:23:07.326Z"
   },
   {
    "duration": 22,
    "start_time": "2022-10-08T14:23:07.332Z"
   },
   {
    "duration": 5,
    "start_time": "2022-10-08T14:23:07.355Z"
   },
   {
    "duration": 22,
    "start_time": "2022-10-08T14:23:07.362Z"
   },
   {
    "duration": 7,
    "start_time": "2022-10-08T14:23:07.386Z"
   },
   {
    "duration": 4,
    "start_time": "2022-10-08T14:23:35.988Z"
   },
   {
    "duration": 1387,
    "start_time": "2022-10-08T14:27:57.171Z"
   },
   {
    "duration": 310,
    "start_time": "2022-10-08T14:27:58.561Z"
   },
   {
    "duration": 21,
    "start_time": "2022-10-08T14:27:58.873Z"
   },
   {
    "duration": 270,
    "start_time": "2022-10-08T14:27:58.897Z"
   },
   {
    "duration": 113,
    "start_time": "2022-10-08T14:27:59.169Z"
   },
   {
    "duration": 15,
    "start_time": "2022-10-08T14:27:59.285Z"
   },
   {
    "duration": 161,
    "start_time": "2022-10-08T14:27:59.302Z"
   },
   {
    "duration": 375,
    "start_time": "2022-10-08T14:27:59.465Z"
   },
   {
    "duration": 25,
    "start_time": "2022-10-08T14:27:59.842Z"
   },
   {
    "duration": 276,
    "start_time": "2022-10-08T14:27:59.869Z"
   },
   {
    "duration": 5,
    "start_time": "2022-10-08T14:28:00.153Z"
   },
   {
    "duration": 19,
    "start_time": "2022-10-08T14:28:00.160Z"
   },
   {
    "duration": 22,
    "start_time": "2022-10-08T14:28:00.181Z"
   },
   {
    "duration": 32,
    "start_time": "2022-10-08T14:28:00.205Z"
   },
   {
    "duration": 54,
    "start_time": "2022-10-08T14:28:00.239Z"
   },
   {
    "duration": 25,
    "start_time": "2022-10-08T15:44:12.436Z"
   },
   {
    "duration": 16,
    "start_time": "2022-10-08T15:44:19.088Z"
   },
   {
    "duration": 12,
    "start_time": "2022-10-08T15:44:23.954Z"
   },
   {
    "duration": 9,
    "start_time": "2022-10-08T15:45:07.905Z"
   },
   {
    "duration": 10,
    "start_time": "2022-10-08T15:45:23.332Z"
   },
   {
    "duration": 9,
    "start_time": "2022-10-08T15:45:29.326Z"
   },
   {
    "duration": 7,
    "start_time": "2022-10-08T15:47:25.233Z"
   },
   {
    "duration": 12,
    "start_time": "2022-10-08T15:48:49.420Z"
   },
   {
    "duration": 16,
    "start_time": "2022-10-08T15:49:29.661Z"
   },
   {
    "duration": 49,
    "start_time": "2022-10-08T15:51:50.386Z"
   },
   {
    "duration": 11,
    "start_time": "2022-10-08T15:51:53.360Z"
   },
   {
    "duration": 13,
    "start_time": "2022-10-08T15:52:41.642Z"
   },
   {
    "duration": 13,
    "start_time": "2022-10-08T15:53:12.384Z"
   },
   {
    "duration": 8509,
    "start_time": "2022-10-08T15:53:53.215Z"
   },
   {
    "duration": 73,
    "start_time": "2022-10-08T15:54:06.750Z"
   },
   {
    "duration": 307,
    "start_time": "2022-10-08T15:54:29.662Z"
   },
   {
    "duration": 41,
    "start_time": "2022-10-09T09:13:23.118Z"
   },
   {
    "duration": 3,
    "start_time": "2022-10-09T09:13:28.264Z"
   },
   {
    "duration": 7,
    "start_time": "2022-10-09T09:14:54.069Z"
   },
   {
    "duration": 8,
    "start_time": "2022-10-09T09:16:01.782Z"
   },
   {
    "duration": 6,
    "start_time": "2022-10-09T09:19:16.974Z"
   },
   {
    "duration": 1423,
    "start_time": "2022-10-09T09:19:24.813Z"
   },
   {
    "duration": 1194,
    "start_time": "2022-10-09T09:19:26.238Z"
   },
   {
    "duration": 28,
    "start_time": "2022-10-09T09:19:27.434Z"
   },
   {
    "duration": 227,
    "start_time": "2022-10-09T09:19:27.467Z"
   },
   {
    "duration": 170,
    "start_time": "2022-10-09T09:19:27.696Z"
   },
   {
    "duration": 21,
    "start_time": "2022-10-09T09:19:27.867Z"
   },
   {
    "duration": 128,
    "start_time": "2022-10-09T09:19:27.890Z"
   },
   {
    "duration": 566,
    "start_time": "2022-10-09T09:19:28.020Z"
   },
   {
    "duration": 21,
    "start_time": "2022-10-09T09:19:28.588Z"
   },
   {
    "duration": 239,
    "start_time": "2022-10-09T09:19:28.612Z"
   },
   {
    "duration": 5,
    "start_time": "2022-10-09T09:19:28.853Z"
   },
   {
    "duration": 10,
    "start_time": "2022-10-09T09:19:28.860Z"
   },
   {
    "duration": 6,
    "start_time": "2022-10-09T09:19:28.872Z"
   },
   {
    "duration": 17,
    "start_time": "2022-10-09T09:19:28.880Z"
   },
   {
    "duration": 23,
    "start_time": "2022-10-09T09:19:28.899Z"
   },
   {
    "duration": 15,
    "start_time": "2022-10-09T09:19:28.924Z"
   },
   {
    "duration": 140,
    "start_time": "2022-10-09T09:19:28.940Z"
   },
   {
    "duration": 122,
    "start_time": "2022-10-09T09:21:20.493Z"
   },
   {
    "duration": 24,
    "start_time": "2022-10-09T09:21:56.678Z"
   },
   {
    "duration": 22,
    "start_time": "2022-10-09T09:22:06.236Z"
   },
   {
    "duration": 22,
    "start_time": "2022-10-09T09:23:25.395Z"
   },
   {
    "duration": 21,
    "start_time": "2022-10-09T09:23:44.026Z"
   },
   {
    "duration": 9,
    "start_time": "2022-10-09T09:48:06.325Z"
   },
   {
    "duration": 108,
    "start_time": "2022-10-09T09:48:09.300Z"
   },
   {
    "duration": 3576,
    "start_time": "2022-10-09T09:49:19.197Z"
   },
   {
    "duration": 88,
    "start_time": "2022-10-09T09:49:31.651Z"
   },
   {
    "duration": 4,
    "start_time": "2022-10-09T09:52:09.930Z"
   },
   {
    "duration": 58,
    "start_time": "2022-10-09T09:52:19.527Z"
   },
   {
    "duration": 141,
    "start_time": "2022-10-09T09:52:41.975Z"
   },
   {
    "duration": 100,
    "start_time": "2022-10-09T09:53:22.265Z"
   },
   {
    "duration": 4,
    "start_time": "2022-10-09T09:54:51.047Z"
   },
   {
    "duration": 115,
    "start_time": "2022-10-09T09:55:22.227Z"
   },
   {
    "duration": 90,
    "start_time": "2022-10-09T09:55:26.209Z"
   },
   {
    "duration": 117,
    "start_time": "2022-10-09T09:55:46.014Z"
   },
   {
    "duration": 143,
    "start_time": "2022-10-09T09:56:04.266Z"
   },
   {
    "duration": 137,
    "start_time": "2022-10-09T09:56:33.996Z"
   },
   {
    "duration": 1238,
    "start_time": "2022-10-09T09:56:41.762Z"
   },
   {
    "duration": 3,
    "start_time": "2022-10-09T09:56:43.002Z"
   },
   {
    "duration": 298,
    "start_time": "2022-10-09T09:56:43.006Z"
   },
   {
    "duration": 21,
    "start_time": "2022-10-09T09:56:43.306Z"
   },
   {
    "duration": 283,
    "start_time": "2022-10-09T09:56:43.329Z"
   },
   {
    "duration": 100,
    "start_time": "2022-10-09T09:56:43.613Z"
   },
   {
    "duration": 10,
    "start_time": "2022-10-09T09:56:43.715Z"
   },
   {
    "duration": 150,
    "start_time": "2022-10-09T09:56:43.727Z"
   },
   {
    "duration": 342,
    "start_time": "2022-10-09T09:56:43.879Z"
   },
   {
    "duration": 14,
    "start_time": "2022-10-09T09:56:44.224Z"
   },
   {
    "duration": 274,
    "start_time": "2022-10-09T09:56:44.240Z"
   },
   {
    "duration": 9,
    "start_time": "2022-10-09T09:56:44.515Z"
   },
   {
    "duration": 28,
    "start_time": "2022-10-09T09:56:44.525Z"
   },
   {
    "duration": 9,
    "start_time": "2022-10-09T09:56:44.554Z"
   },
   {
    "duration": 21,
    "start_time": "2022-10-09T09:56:44.564Z"
   },
   {
    "duration": 27,
    "start_time": "2022-10-09T09:56:44.587Z"
   },
   {
    "duration": 31,
    "start_time": "2022-10-09T09:56:44.616Z"
   },
   {
    "duration": 140,
    "start_time": "2022-10-09T09:56:44.648Z"
   },
   {
    "duration": 139,
    "start_time": "2022-10-09T09:56:56.998Z"
   },
   {
    "duration": 181,
    "start_time": "2022-10-09T09:58:36.108Z"
   },
   {
    "duration": 159,
    "start_time": "2022-10-09T09:59:11.088Z"
   },
   {
    "duration": 211,
    "start_time": "2022-10-09T10:00:34.294Z"
   },
   {
    "duration": 12,
    "start_time": "2022-10-09T10:00:54.119Z"
   },
   {
    "duration": 6,
    "start_time": "2022-10-09T10:02:12.422Z"
   },
   {
    "duration": 5,
    "start_time": "2022-10-09T10:02:50.702Z"
   },
   {
    "duration": 4,
    "start_time": "2022-10-09T10:02:57.679Z"
   },
   {
    "duration": 6,
    "start_time": "2022-10-09T10:03:04.255Z"
   },
   {
    "duration": 168,
    "start_time": "2022-10-09T10:03:09.831Z"
   },
   {
    "duration": 93,
    "start_time": "2022-10-09T10:03:22.222Z"
   },
   {
    "duration": 11,
    "start_time": "2022-10-09T10:03:51.796Z"
   },
   {
    "duration": 4,
    "start_time": "2022-10-09T10:03:59.592Z"
   },
   {
    "duration": 4,
    "start_time": "2022-10-09T10:04:45.372Z"
   },
   {
    "duration": 5,
    "start_time": "2022-10-09T10:05:21.994Z"
   },
   {
    "duration": 4,
    "start_time": "2022-10-09T10:07:16.482Z"
   },
   {
    "duration": 4,
    "start_time": "2022-10-09T10:07:37.209Z"
   },
   {
    "duration": 4,
    "start_time": "2022-10-09T10:07:59.917Z"
   },
   {
    "duration": 5,
    "start_time": "2022-10-09T10:08:06.877Z"
   },
   {
    "duration": 9653,
    "start_time": "2022-10-09T10:09:04.147Z"
   },
   {
    "duration": 10,
    "start_time": "2022-10-09T10:09:19.788Z"
   },
   {
    "duration": 17,
    "start_time": "2022-10-09T10:09:41.608Z"
   },
   {
    "duration": 13,
    "start_time": "2022-10-09T10:09:53.888Z"
   },
   {
    "duration": 15,
    "start_time": "2022-10-09T10:10:11.717Z"
   },
   {
    "duration": 1216,
    "start_time": "2022-10-09T10:10:21.578Z"
   },
   {
    "duration": 3,
    "start_time": "2022-10-09T10:10:22.796Z"
   },
   {
    "duration": 335,
    "start_time": "2022-10-09T10:10:22.801Z"
   },
   {
    "duration": 16,
    "start_time": "2022-10-09T10:10:23.138Z"
   },
   {
    "duration": 584,
    "start_time": "2022-10-09T10:10:23.156Z"
   },
   {
    "duration": 217,
    "start_time": "2022-10-09T10:10:23.742Z"
   },
   {
    "duration": 62,
    "start_time": "2022-10-09T10:10:23.961Z"
   },
   {
    "duration": 308,
    "start_time": "2022-10-09T10:10:24.025Z"
   },
   {
    "duration": 652,
    "start_time": "2022-10-09T10:10:24.335Z"
   },
   {
    "duration": 16,
    "start_time": "2022-10-09T10:10:24.989Z"
   },
   {
    "duration": 288,
    "start_time": "2022-10-09T10:10:25.006Z"
   },
   {
    "duration": 4,
    "start_time": "2022-10-09T10:10:25.295Z"
   },
   {
    "duration": 9,
    "start_time": "2022-10-09T10:10:25.301Z"
   },
   {
    "duration": 5,
    "start_time": "2022-10-09T10:10:25.321Z"
   },
   {
    "duration": 17,
    "start_time": "2022-10-09T10:10:25.327Z"
   },
   {
    "duration": 6,
    "start_time": "2022-10-09T10:10:25.346Z"
   },
   {
    "duration": 14,
    "start_time": "2022-10-09T10:10:25.354Z"
   },
   {
    "duration": 12,
    "start_time": "2022-10-09T10:10:25.369Z"
   },
   {
    "duration": 8,
    "start_time": "2022-10-09T10:10:25.382Z"
   },
   {
    "duration": 9804,
    "start_time": "2022-10-09T10:10:25.391Z"
   },
   {
    "duration": 10,
    "start_time": "2022-10-09T10:10:35.196Z"
   },
   {
    "duration": 105,
    "start_time": "2022-10-09T10:11:29.424Z"
   },
   {
    "duration": 1255,
    "start_time": "2022-10-09T10:11:37.129Z"
   },
   {
    "duration": 2,
    "start_time": "2022-10-09T10:11:38.386Z"
   },
   {
    "duration": 433,
    "start_time": "2022-10-09T10:11:38.389Z"
   },
   {
    "duration": 17,
    "start_time": "2022-10-09T10:11:38.823Z"
   },
   {
    "duration": 579,
    "start_time": "2022-10-09T10:11:38.843Z"
   },
   {
    "duration": 215,
    "start_time": "2022-10-09T10:11:39.424Z"
   },
   {
    "duration": 11,
    "start_time": "2022-10-09T10:11:39.641Z"
   },
   {
    "duration": 296,
    "start_time": "2022-10-09T10:11:39.653Z"
   },
   {
    "duration": 590,
    "start_time": "2022-10-09T10:11:39.951Z"
   },
   {
    "duration": 15,
    "start_time": "2022-10-09T10:11:40.543Z"
   },
   {
    "duration": 277,
    "start_time": "2022-10-09T10:11:40.560Z"
   },
   {
    "duration": 5,
    "start_time": "2022-10-09T10:11:40.839Z"
   },
   {
    "duration": 6,
    "start_time": "2022-10-09T10:11:40.845Z"
   },
   {
    "duration": 4,
    "start_time": "2022-10-09T10:11:40.853Z"
   },
   {
    "duration": 12,
    "start_time": "2022-10-09T10:11:40.859Z"
   },
   {
    "duration": 6,
    "start_time": "2022-10-09T10:11:40.873Z"
   },
   {
    "duration": 43,
    "start_time": "2022-10-09T10:11:40.880Z"
   },
   {
    "duration": 12,
    "start_time": "2022-10-09T10:11:40.925Z"
   },
   {
    "duration": 1727,
    "start_time": "2022-10-09T10:11:40.939Z"
   },
   {
    "duration": 10755,
    "start_time": "2022-10-09T10:11:42.668Z"
   },
   {
    "duration": 10,
    "start_time": "2022-10-09T10:11:53.424Z"
   },
   {
    "duration": 97,
    "start_time": "2022-10-09T10:12:23.725Z"
   },
   {
    "duration": 1184,
    "start_time": "2022-10-09T10:12:43.761Z"
   },
   {
    "duration": 2,
    "start_time": "2022-10-09T10:12:44.947Z"
   },
   {
    "duration": 323,
    "start_time": "2022-10-09T10:12:44.951Z"
   },
   {
    "duration": 15,
    "start_time": "2022-10-09T10:12:45.275Z"
   },
   {
    "duration": 332,
    "start_time": "2022-10-09T10:12:45.292Z"
   },
   {
    "duration": 100,
    "start_time": "2022-10-09T10:12:45.625Z"
   },
   {
    "duration": 11,
    "start_time": "2022-10-09T10:12:45.726Z"
   },
   {
    "duration": 141,
    "start_time": "2022-10-09T10:12:45.738Z"
   },
   {
    "duration": 413,
    "start_time": "2022-10-09T10:12:45.881Z"
   },
   {
    "duration": 15,
    "start_time": "2022-10-09T10:12:46.296Z"
   },
   {
    "duration": 286,
    "start_time": "2022-10-09T10:12:46.312Z"
   },
   {
    "duration": 4,
    "start_time": "2022-10-09T10:12:46.600Z"
   },
   {
    "duration": 19,
    "start_time": "2022-10-09T10:12:46.606Z"
   },
   {
    "duration": 15,
    "start_time": "2022-10-09T10:12:46.627Z"
   },
   {
    "duration": 15,
    "start_time": "2022-10-09T10:12:46.643Z"
   },
   {
    "duration": 7,
    "start_time": "2022-10-09T10:12:46.659Z"
   },
   {
    "duration": 21,
    "start_time": "2022-10-09T10:12:46.667Z"
   },
   {
    "duration": 12,
    "start_time": "2022-10-09T10:12:46.689Z"
   },
   {
    "duration": 77,
    "start_time": "2022-10-09T10:12:46.703Z"
   },
   {
    "duration": 10462,
    "start_time": "2022-10-09T10:12:46.782Z"
   },
   {
    "duration": 9,
    "start_time": "2022-10-09T10:12:57.246Z"
   },
   {
    "duration": 329,
    "start_time": "2022-10-09T10:14:04.206Z"
   },
   {
    "duration": 259,
    "start_time": "2022-10-09T10:14:26.759Z"
   },
   {
    "duration": 55,
    "start_time": "2022-10-09T10:15:08.835Z"
   },
   {
    "duration": 95,
    "start_time": "2022-10-09T10:16:09.587Z"
   },
   {
    "duration": 1291,
    "start_time": "2022-10-09T10:16:17.013Z"
   },
   {
    "duration": 3,
    "start_time": "2022-10-09T10:16:18.306Z"
   },
   {
    "duration": 342,
    "start_time": "2022-10-09T10:16:18.312Z"
   },
   {
    "duration": 16,
    "start_time": "2022-10-09T10:16:18.655Z"
   },
   {
    "duration": 304,
    "start_time": "2022-10-09T10:16:18.672Z"
   },
   {
    "duration": 106,
    "start_time": "2022-10-09T10:16:18.977Z"
   },
   {
    "duration": 11,
    "start_time": "2022-10-09T10:16:19.084Z"
   },
   {
    "duration": 148,
    "start_time": "2022-10-09T10:16:19.096Z"
   },
   {
    "duration": 363,
    "start_time": "2022-10-09T10:16:19.247Z"
   },
   {
    "duration": 18,
    "start_time": "2022-10-09T10:16:19.611Z"
   },
   {
    "duration": 280,
    "start_time": "2022-10-09T10:16:19.630Z"
   },
   {
    "duration": 9,
    "start_time": "2022-10-09T10:16:19.912Z"
   },
   {
    "duration": 9,
    "start_time": "2022-10-09T10:16:19.923Z"
   },
   {
    "duration": 5,
    "start_time": "2022-10-09T10:16:19.933Z"
   },
   {
    "duration": 19,
    "start_time": "2022-10-09T10:16:19.939Z"
   },
   {
    "duration": 6,
    "start_time": "2022-10-09T10:16:19.959Z"
   },
   {
    "duration": 23,
    "start_time": "2022-10-09T10:16:19.967Z"
   },
   {
    "duration": 11,
    "start_time": "2022-10-09T10:16:19.991Z"
   },
   {
    "duration": 70,
    "start_time": "2022-10-09T10:16:20.003Z"
   },
   {
    "duration": 10281,
    "start_time": "2022-10-09T10:16:20.075Z"
   },
   {
    "duration": 8,
    "start_time": "2022-10-09T10:16:30.357Z"
   },
   {
    "duration": 88,
    "start_time": "2022-10-09T10:16:30.367Z"
   },
   {
    "duration": 96,
    "start_time": "2022-10-09T10:20:17.098Z"
   },
   {
    "duration": 1366,
    "start_time": "2022-10-09T10:20:25.927Z"
   },
   {
    "duration": 2,
    "start_time": "2022-10-09T10:20:27.295Z"
   },
   {
    "duration": 312,
    "start_time": "2022-10-09T10:20:27.299Z"
   },
   {
    "duration": 22,
    "start_time": "2022-10-09T10:20:27.613Z"
   },
   {
    "duration": 436,
    "start_time": "2022-10-09T10:20:27.636Z"
   },
   {
    "duration": 187,
    "start_time": "2022-10-09T10:20:28.073Z"
   },
   {
    "duration": 66,
    "start_time": "2022-10-09T10:20:28.261Z"
   },
   {
    "duration": 237,
    "start_time": "2022-10-09T10:20:28.329Z"
   },
   {
    "duration": 702,
    "start_time": "2022-10-09T10:20:28.568Z"
   },
   {
    "duration": 52,
    "start_time": "2022-10-09T10:20:29.272Z"
   },
   {
    "duration": 287,
    "start_time": "2022-10-09T10:20:29.325Z"
   },
   {
    "duration": 9,
    "start_time": "2022-10-09T10:20:29.614Z"
   },
   {
    "duration": 7,
    "start_time": "2022-10-09T10:20:29.625Z"
   },
   {
    "duration": 9,
    "start_time": "2022-10-09T10:20:29.633Z"
   },
   {
    "duration": 14,
    "start_time": "2022-10-09T10:20:29.643Z"
   },
   {
    "duration": 6,
    "start_time": "2022-10-09T10:20:29.658Z"
   },
   {
    "duration": 12,
    "start_time": "2022-10-09T10:20:29.665Z"
   },
   {
    "duration": 10,
    "start_time": "2022-10-09T10:20:29.679Z"
   },
   {
    "duration": 84,
    "start_time": "2022-10-09T10:20:29.690Z"
   },
   {
    "duration": 100,
    "start_time": "2022-10-09T10:20:29.776Z"
   },
   {
    "duration": 0,
    "start_time": "2022-10-09T10:20:29.877Z"
   },
   {
    "duration": 0,
    "start_time": "2022-10-09T10:20:29.878Z"
   },
   {
    "duration": 9953,
    "start_time": "2022-10-09T10:21:15.896Z"
   },
   {
    "duration": 1320,
    "start_time": "2022-10-09T10:21:46.927Z"
   },
   {
    "duration": 3,
    "start_time": "2022-10-09T10:21:48.249Z"
   },
   {
    "duration": 345,
    "start_time": "2022-10-09T10:21:48.253Z"
   },
   {
    "duration": 22,
    "start_time": "2022-10-09T10:21:48.600Z"
   },
   {
    "duration": 337,
    "start_time": "2022-10-09T10:21:48.623Z"
   },
   {
    "duration": 193,
    "start_time": "2022-10-09T10:21:48.961Z"
   },
   {
    "duration": 11,
    "start_time": "2022-10-09T10:21:49.156Z"
   },
   {
    "duration": 300,
    "start_time": "2022-10-09T10:21:49.223Z"
   },
   {
    "duration": 898,
    "start_time": "2022-10-09T10:21:49.525Z"
   },
   {
    "duration": 16,
    "start_time": "2022-10-09T10:21:50.425Z"
   },
   {
    "duration": 405,
    "start_time": "2022-10-09T10:21:50.443Z"
   },
   {
    "duration": 4,
    "start_time": "2022-10-09T10:21:50.850Z"
   },
   {
    "duration": 16,
    "start_time": "2022-10-09T10:21:50.856Z"
   },
   {
    "duration": 40,
    "start_time": "2022-10-09T10:21:50.874Z"
   },
   {
    "duration": 35,
    "start_time": "2022-10-09T10:21:50.915Z"
   },
   {
    "duration": 28,
    "start_time": "2022-10-09T10:21:50.951Z"
   },
   {
    "duration": 41,
    "start_time": "2022-10-09T10:21:50.980Z"
   },
   {
    "duration": 40,
    "start_time": "2022-10-09T10:21:51.023Z"
   },
   {
    "duration": 130,
    "start_time": "2022-10-09T10:21:51.064Z"
   },
   {
    "duration": 10686,
    "start_time": "2022-10-09T10:21:51.196Z"
   },
   {
    "duration": 0,
    "start_time": "2022-10-09T10:22:01.884Z"
   },
   {
    "duration": 0,
    "start_time": "2022-10-09T10:22:01.885Z"
   },
   {
    "duration": 9776,
    "start_time": "2022-10-09T10:23:22.804Z"
   },
   {
    "duration": 10,
    "start_time": "2022-10-09T10:23:48.002Z"
   },
   {
    "duration": 226,
    "start_time": "2022-10-09T10:24:14.481Z"
   },
   {
    "duration": 11,
    "start_time": "2022-10-09T10:24:19.119Z"
   },
   {
    "duration": 1380,
    "start_time": "2022-10-09T10:24:34.932Z"
   },
   {
    "duration": 3,
    "start_time": "2022-10-09T10:24:36.313Z"
   },
   {
    "duration": 525,
    "start_time": "2022-10-09T10:24:36.317Z"
   },
   {
    "duration": 77,
    "start_time": "2022-10-09T10:24:36.845Z"
   },
   {
    "duration": 548,
    "start_time": "2022-10-09T10:24:36.924Z"
   },
   {
    "duration": 195,
    "start_time": "2022-10-09T10:24:37.473Z"
   },
   {
    "duration": 58,
    "start_time": "2022-10-09T10:24:37.670Z"
   },
   {
    "duration": 308,
    "start_time": "2022-10-09T10:24:37.729Z"
   },
   {
    "duration": 394,
    "start_time": "2022-10-09T10:24:38.038Z"
   },
   {
    "duration": 19,
    "start_time": "2022-10-09T10:24:38.434Z"
   },
   {
    "duration": 282,
    "start_time": "2022-10-09T10:24:38.455Z"
   },
   {
    "duration": 5,
    "start_time": "2022-10-09T10:24:38.738Z"
   },
   {
    "duration": 49,
    "start_time": "2022-10-09T10:24:38.744Z"
   },
   {
    "duration": 26,
    "start_time": "2022-10-09T10:24:38.794Z"
   },
   {
    "duration": 42,
    "start_time": "2022-10-09T10:24:38.822Z"
   },
   {
    "duration": 36,
    "start_time": "2022-10-09T10:24:38.865Z"
   },
   {
    "duration": 47,
    "start_time": "2022-10-09T10:24:38.903Z"
   },
   {
    "duration": 30,
    "start_time": "2022-10-09T10:24:38.952Z"
   },
   {
    "duration": 130,
    "start_time": "2022-10-09T10:24:38.984Z"
   },
   {
    "duration": 248,
    "start_time": "2022-10-09T10:24:39.116Z"
   },
   {
    "duration": 11,
    "start_time": "2022-10-09T10:24:39.365Z"
   },
   {
    "duration": 91,
    "start_time": "2022-10-09T10:24:39.378Z"
   },
   {
    "duration": 5,
    "start_time": "2022-10-09T10:25:07.524Z"
   },
   {
    "duration": 136,
    "start_time": "2022-10-09T10:25:49.595Z"
   },
   {
    "duration": 935,
    "start_time": "2022-10-09T10:26:08.694Z"
   },
   {
    "duration": 34,
    "start_time": "2022-10-09T10:26:49.108Z"
   },
   {
    "duration": 10,
    "start_time": "2022-10-09T10:27:05.269Z"
   },
   {
    "duration": 33,
    "start_time": "2022-10-09T10:27:30.157Z"
   },
   {
    "duration": 9877,
    "start_time": "2022-10-09T10:28:12.408Z"
   },
   {
    "duration": 9774,
    "start_time": "2022-10-09T10:28:34.180Z"
   },
   {
    "duration": 10,
    "start_time": "2022-10-09T10:28:59.263Z"
   },
   {
    "duration": 52,
    "start_time": "2022-10-09T10:29:22.614Z"
   },
   {
    "duration": 10530,
    "start_time": "2022-10-09T10:29:50.353Z"
   },
   {
    "duration": 9,
    "start_time": "2022-10-09T10:30:10.558Z"
   },
   {
    "duration": 53,
    "start_time": "2022-10-09T10:30:14.336Z"
   },
   {
    "duration": 13,
    "start_time": "2022-10-09T10:30:44.472Z"
   },
   {
    "duration": 12,
    "start_time": "2022-10-09T10:30:56.853Z"
   },
   {
    "duration": 68,
    "start_time": "2022-10-09T10:31:13.357Z"
   },
   {
    "duration": 1442,
    "start_time": "2022-10-09T10:31:36.294Z"
   },
   {
    "duration": 3,
    "start_time": "2022-10-09T10:31:37.737Z"
   },
   {
    "duration": 692,
    "start_time": "2022-10-09T10:31:37.741Z"
   },
   {
    "duration": 15,
    "start_time": "2022-10-09T10:31:38.435Z"
   },
   {
    "duration": 533,
    "start_time": "2022-10-09T10:31:38.451Z"
   },
   {
    "duration": 118,
    "start_time": "2022-10-09T10:31:38.985Z"
   },
   {
    "duration": 17,
    "start_time": "2022-10-09T10:31:39.105Z"
   },
   {
    "duration": 152,
    "start_time": "2022-10-09T10:31:39.124Z"
   },
   {
    "duration": 382,
    "start_time": "2022-10-09T10:31:39.278Z"
   },
   {
    "duration": 16,
    "start_time": "2022-10-09T10:31:39.663Z"
   },
   {
    "duration": 284,
    "start_time": "2022-10-09T10:31:39.681Z"
   },
   {
    "duration": 4,
    "start_time": "2022-10-09T10:31:39.967Z"
   },
   {
    "duration": 20,
    "start_time": "2022-10-09T10:31:39.973Z"
   },
   {
    "duration": 7,
    "start_time": "2022-10-09T10:31:39.994Z"
   },
   {
    "duration": 20,
    "start_time": "2022-10-09T10:31:40.003Z"
   },
   {
    "duration": 6,
    "start_time": "2022-10-09T10:31:40.025Z"
   },
   {
    "duration": 27,
    "start_time": "2022-10-09T10:31:40.032Z"
   },
   {
    "duration": 18,
    "start_time": "2022-10-09T10:31:40.061Z"
   },
   {
    "duration": 82,
    "start_time": "2022-10-09T10:31:40.080Z"
   },
   {
    "duration": 100,
    "start_time": "2022-10-09T10:31:40.164Z"
   },
   {
    "duration": 0,
    "start_time": "2022-10-09T10:31:40.265Z"
   },
   {
    "duration": 0,
    "start_time": "2022-10-09T10:31:40.266Z"
   },
   {
    "duration": 0,
    "start_time": "2022-10-09T10:31:40.267Z"
   },
   {
    "duration": 54,
    "start_time": "2022-10-09T10:31:52.395Z"
   },
   {
    "duration": 19414,
    "start_time": "2022-10-09T10:32:00.466Z"
   },
   {
    "duration": 4333,
    "start_time": "2022-10-09T10:34:09.623Z"
   },
   {
    "duration": 128,
    "start_time": "2022-10-09T10:34:24.215Z"
   },
   {
    "duration": 9,
    "start_time": "2022-10-09T10:35:04.538Z"
   },
   {
    "duration": 4181,
    "start_time": "2022-10-09T10:35:15.048Z"
   },
   {
    "duration": 10786,
    "start_time": "2022-10-09T10:35:25.233Z"
   },
   {
    "duration": 1662,
    "start_time": "2022-10-09T10:38:08.868Z"
   },
   {
    "duration": 10,
    "start_time": "2022-10-09T10:38:15.932Z"
   },
   {
    "duration": 237,
    "start_time": "2022-10-09T10:39:24.245Z"
   },
   {
    "duration": 48,
    "start_time": "2022-10-09T10:39:31.198Z"
   },
   {
    "duration": 9,
    "start_time": "2022-10-09T10:39:36.898Z"
   },
   {
    "duration": 1214,
    "start_time": "2022-10-09T10:39:51.969Z"
   },
   {
    "duration": 3,
    "start_time": "2022-10-09T10:39:53.184Z"
   },
   {
    "duration": 336,
    "start_time": "2022-10-09T10:39:53.188Z"
   },
   {
    "duration": 14,
    "start_time": "2022-10-09T10:39:53.526Z"
   },
   {
    "duration": 283,
    "start_time": "2022-10-09T10:39:53.541Z"
   },
   {
    "duration": 112,
    "start_time": "2022-10-09T10:39:53.825Z"
   },
   {
    "duration": 11,
    "start_time": "2022-10-09T10:39:53.939Z"
   },
   {
    "duration": 149,
    "start_time": "2022-10-09T10:39:53.951Z"
   },
   {
    "duration": 372,
    "start_time": "2022-10-09T10:39:54.102Z"
   },
   {
    "duration": 16,
    "start_time": "2022-10-09T10:39:54.476Z"
   },
   {
    "duration": 275,
    "start_time": "2022-10-09T10:39:54.493Z"
   },
   {
    "duration": 4,
    "start_time": "2022-10-09T10:39:54.770Z"
   },
   {
    "duration": 6,
    "start_time": "2022-10-09T10:39:54.775Z"
   },
   {
    "duration": 10,
    "start_time": "2022-10-09T10:39:54.783Z"
   },
   {
    "duration": 14,
    "start_time": "2022-10-09T10:39:54.795Z"
   },
   {
    "duration": 16,
    "start_time": "2022-10-09T10:39:54.810Z"
   },
   {
    "duration": 12,
    "start_time": "2022-10-09T10:39:54.828Z"
   },
   {
    "duration": 11,
    "start_time": "2022-10-09T10:39:54.841Z"
   },
   {
    "duration": 80,
    "start_time": "2022-10-09T10:39:54.854Z"
   },
   {
    "duration": 255,
    "start_time": "2022-10-09T10:39:54.935Z"
   },
   {
    "duration": 39,
    "start_time": "2022-10-09T10:39:55.192Z"
   },
   {
    "duration": 9,
    "start_time": "2022-10-09T10:39:55.232Z"
   },
   {
    "duration": 56,
    "start_time": "2022-10-09T10:39:55.242Z"
   },
   {
    "duration": 21436,
    "start_time": "2022-10-09T10:42:47.875Z"
   },
   {
    "duration": 42,
    "start_time": "2022-10-09T10:43:23.599Z"
   },
   {
    "duration": 15,
    "start_time": "2022-10-09T10:43:31.493Z"
   },
   {
    "duration": 17,
    "start_time": "2022-10-09T10:43:36.354Z"
   },
   {
    "duration": 10,
    "start_time": "2022-10-09T10:44:50.685Z"
   },
   {
    "duration": 15,
    "start_time": "2022-10-09T10:44:56.877Z"
   },
   {
    "duration": 1192,
    "start_time": "2022-10-09T10:48:07.278Z"
   },
   {
    "duration": 3,
    "start_time": "2022-10-09T10:48:08.472Z"
   },
   {
    "duration": 554,
    "start_time": "2022-10-09T10:48:08.476Z"
   },
   {
    "duration": 16,
    "start_time": "2022-10-09T10:48:09.032Z"
   },
   {
    "duration": 547,
    "start_time": "2022-10-09T10:48:09.049Z"
   },
   {
    "duration": 208,
    "start_time": "2022-10-09T10:48:09.621Z"
   },
   {
    "duration": 13,
    "start_time": "2022-10-09T10:48:09.831Z"
   },
   {
    "duration": 297,
    "start_time": "2022-10-09T10:48:09.846Z"
   },
   {
    "duration": 439,
    "start_time": "2022-10-09T10:48:10.144Z"
   },
   {
    "duration": 17,
    "start_time": "2022-10-09T10:48:10.585Z"
   },
   {
    "duration": 280,
    "start_time": "2022-10-09T10:48:10.603Z"
   },
   {
    "duration": 4,
    "start_time": "2022-10-09T10:48:10.885Z"
   },
   {
    "duration": 10,
    "start_time": "2022-10-09T10:48:10.891Z"
   },
   {
    "duration": 8,
    "start_time": "2022-10-09T10:48:10.903Z"
   },
   {
    "duration": 13,
    "start_time": "2022-10-09T10:48:10.921Z"
   },
   {
    "duration": 6,
    "start_time": "2022-10-09T10:48:10.935Z"
   },
   {
    "duration": 12,
    "start_time": "2022-10-09T10:48:10.943Z"
   },
   {
    "duration": 12,
    "start_time": "2022-10-09T10:48:10.956Z"
   },
   {
    "duration": 1710,
    "start_time": "2022-10-09T10:48:10.969Z"
   },
   {
    "duration": 9,
    "start_time": "2022-10-09T10:48:12.681Z"
   },
   {
    "duration": 136,
    "start_time": "2022-10-09T10:48:12.692Z"
   },
   {
    "duration": 26,
    "start_time": "2022-10-09T10:50:19.233Z"
   },
   {
    "duration": 1344,
    "start_time": "2022-10-09T11:21:06.991Z"
   },
   {
    "duration": 3,
    "start_time": "2022-10-09T11:21:08.337Z"
   },
   {
    "duration": 784,
    "start_time": "2022-10-09T11:21:08.344Z"
   },
   {
    "duration": 17,
    "start_time": "2022-10-09T11:21:09.130Z"
   },
   {
    "duration": 643,
    "start_time": "2022-10-09T11:21:09.149Z"
   },
   {
    "duration": 226,
    "start_time": "2022-10-09T11:21:09.822Z"
   },
   {
    "duration": 12,
    "start_time": "2022-10-09T11:21:10.050Z"
   },
   {
    "duration": 198,
    "start_time": "2022-10-09T11:21:10.064Z"
   },
   {
    "duration": 385,
    "start_time": "2022-10-09T11:21:10.264Z"
   },
   {
    "duration": 16,
    "start_time": "2022-10-09T11:21:10.651Z"
   },
   {
    "duration": 268,
    "start_time": "2022-10-09T11:21:10.669Z"
   },
   {
    "duration": 5,
    "start_time": "2022-10-09T11:21:10.938Z"
   },
   {
    "duration": 15,
    "start_time": "2022-10-09T11:21:10.944Z"
   },
   {
    "duration": 4,
    "start_time": "2022-10-09T11:21:10.961Z"
   },
   {
    "duration": 12,
    "start_time": "2022-10-09T11:21:10.967Z"
   },
   {
    "duration": 6,
    "start_time": "2022-10-09T11:21:10.980Z"
   },
   {
    "duration": 14,
    "start_time": "2022-10-09T11:21:10.987Z"
   },
   {
    "duration": 23,
    "start_time": "2022-10-09T11:21:11.002Z"
   },
   {
    "duration": 99,
    "start_time": "2022-10-09T11:21:11.026Z"
   },
   {
    "duration": 9,
    "start_time": "2022-10-09T11:21:11.127Z"
   },
   {
    "duration": 57,
    "start_time": "2022-10-09T11:21:11.137Z"
   },
   {
    "duration": 48,
    "start_time": "2022-10-09T11:22:17.265Z"
   },
   {
    "duration": 10,
    "start_time": "2022-10-09T11:22:51.759Z"
   },
   {
    "duration": 49,
    "start_time": "2022-10-09T11:22:55.884Z"
   },
   {
    "duration": 107,
    "start_time": "2022-10-09T11:23:36.127Z"
   },
   {
    "duration": 10854,
    "start_time": "2022-10-09T11:23:48.769Z"
   },
   {
    "duration": 11,
    "start_time": "2022-10-09T11:24:06.592Z"
   },
   {
    "duration": 61,
    "start_time": "2022-10-09T11:24:10.409Z"
   },
   {
    "duration": 66,
    "start_time": "2022-10-09T11:24:49.134Z"
   },
   {
    "duration": 11,
    "start_time": "2022-10-09T11:25:14.648Z"
   },
   {
    "duration": 18,
    "start_time": "2022-10-09T11:25:23.895Z"
   },
   {
    "duration": 12,
    "start_time": "2022-10-09T11:25:36.745Z"
   },
   {
    "duration": 1345,
    "start_time": "2022-10-09T11:25:41.555Z"
   },
   {
    "duration": 1210,
    "start_time": "2022-10-09T11:25:51.569Z"
   },
   {
    "duration": 13,
    "start_time": "2022-10-09T11:26:41.597Z"
   },
   {
    "duration": 1294,
    "start_time": "2022-10-09T11:26:48.490Z"
   },
   {
    "duration": 2,
    "start_time": "2022-10-09T11:26:49.786Z"
   },
   {
    "duration": 337,
    "start_time": "2022-10-09T11:26:49.789Z"
   },
   {
    "duration": 17,
    "start_time": "2022-10-09T11:26:50.128Z"
   },
   {
    "duration": 301,
    "start_time": "2022-10-09T11:26:50.147Z"
   },
   {
    "duration": 112,
    "start_time": "2022-10-09T11:26:50.449Z"
   },
   {
    "duration": 14,
    "start_time": "2022-10-09T11:26:50.562Z"
   },
   {
    "duration": 173,
    "start_time": "2022-10-09T11:26:50.578Z"
   },
   {
    "duration": 407,
    "start_time": "2022-10-09T11:26:50.753Z"
   },
   {
    "duration": 17,
    "start_time": "2022-10-09T11:26:51.162Z"
   },
   {
    "duration": 321,
    "start_time": "2022-10-09T11:26:51.181Z"
   },
   {
    "duration": 4,
    "start_time": "2022-10-09T11:26:51.504Z"
   },
   {
    "duration": 13,
    "start_time": "2022-10-09T11:26:51.510Z"
   },
   {
    "duration": 6,
    "start_time": "2022-10-09T11:26:51.525Z"
   },
   {
    "duration": 13,
    "start_time": "2022-10-09T11:26:51.532Z"
   },
   {
    "duration": 7,
    "start_time": "2022-10-09T11:26:51.546Z"
   },
   {
    "duration": 14,
    "start_time": "2022-10-09T11:26:51.554Z"
   },
   {
    "duration": 11,
    "start_time": "2022-10-09T11:26:51.569Z"
   },
   {
    "duration": 100,
    "start_time": "2022-10-09T11:26:51.582Z"
   },
   {
    "duration": 11193,
    "start_time": "2022-10-09T11:26:51.683Z"
   },
   {
    "duration": 11,
    "start_time": "2022-10-09T11:27:02.877Z"
   },
   {
    "duration": 71,
    "start_time": "2022-10-09T11:27:02.890Z"
   },
   {
    "duration": 26,
    "start_time": "2022-10-09T11:28:08.119Z"
   },
   {
    "duration": 72,
    "start_time": "2022-10-09T11:29:32.115Z"
   },
   {
    "duration": 99,
    "start_time": "2022-10-09T11:30:19.743Z"
   },
   {
    "duration": 87,
    "start_time": "2022-10-09T11:30:28.224Z"
   },
   {
    "duration": 11925,
    "start_time": "2022-10-09T11:34:08.415Z"
   },
   {
    "duration": 90,
    "start_time": "2022-10-09T11:34:29.035Z"
   },
   {
    "duration": 12,
    "start_time": "2022-10-09T11:34:35.610Z"
   },
   {
    "duration": 1653,
    "start_time": "2022-10-09T11:34:42.995Z"
   },
   {
    "duration": 1381,
    "start_time": "2022-10-09T11:34:53.835Z"
   },
   {
    "duration": 13226,
    "start_time": "2022-10-09T11:35:57.795Z"
   },
   {
    "duration": 9,
    "start_time": "2022-10-09T11:36:17.897Z"
   },
   {
    "duration": 96,
    "start_time": "2022-10-09T11:36:30.564Z"
   },
   {
    "duration": 2776,
    "start_time": "2022-10-09T11:36:36.444Z"
   },
   {
    "duration": 1888,
    "start_time": "2022-10-09T11:36:47.509Z"
   },
   {
    "duration": 14,
    "start_time": "2022-10-09T11:36:57.911Z"
   },
   {
    "duration": 102,
    "start_time": "2022-10-09T11:37:02.279Z"
   },
   {
    "duration": 1323,
    "start_time": "2022-10-09T11:37:09.031Z"
   },
   {
    "duration": 2,
    "start_time": "2022-10-09T11:37:10.356Z"
   },
   {
    "duration": 577,
    "start_time": "2022-10-09T11:37:10.359Z"
   },
   {
    "duration": 16,
    "start_time": "2022-10-09T11:37:10.939Z"
   },
   {
    "duration": 707,
    "start_time": "2022-10-09T11:37:10.957Z"
   },
   {
    "duration": 288,
    "start_time": "2022-10-09T11:37:11.666Z"
   },
   {
    "duration": 66,
    "start_time": "2022-10-09T11:37:11.956Z"
   },
   {
    "duration": 347,
    "start_time": "2022-10-09T11:37:12.023Z"
   },
   {
    "duration": 421,
    "start_time": "2022-10-09T11:37:12.371Z"
   },
   {
    "duration": 16,
    "start_time": "2022-10-09T11:37:12.794Z"
   },
   {
    "duration": 323,
    "start_time": "2022-10-09T11:37:12.825Z"
   },
   {
    "duration": 5,
    "start_time": "2022-10-09T11:37:13.149Z"
   },
   {
    "duration": 14,
    "start_time": "2022-10-09T11:37:13.155Z"
   },
   {
    "duration": 9,
    "start_time": "2022-10-09T11:37:13.171Z"
   },
   {
    "duration": 14,
    "start_time": "2022-10-09T11:37:13.181Z"
   },
   {
    "duration": 7,
    "start_time": "2022-10-09T11:37:13.196Z"
   },
   {
    "duration": 26,
    "start_time": "2022-10-09T11:37:13.205Z"
   },
   {
    "duration": 16,
    "start_time": "2022-10-09T11:37:13.234Z"
   },
   {
    "duration": 90,
    "start_time": "2022-10-09T11:37:13.252Z"
   },
   {
    "duration": 10900,
    "start_time": "2022-10-09T11:37:13.344Z"
   },
   {
    "duration": 0,
    "start_time": "2022-10-09T11:37:24.246Z"
   },
   {
    "duration": 0,
    "start_time": "2022-10-09T11:37:24.248Z"
   },
   {
    "duration": 108,
    "start_time": "2022-10-09T11:38:19.530Z"
   },
   {
    "duration": 774,
    "start_time": "2022-10-09T11:38:23.234Z"
   },
   {
    "duration": 18,
    "start_time": "2022-10-09T11:38:33.935Z"
   },
   {
    "duration": 17,
    "start_time": "2022-10-09T11:39:23.898Z"
   },
   {
    "duration": 65,
    "start_time": "2022-10-09T11:40:14.871Z"
   },
   {
    "duration": 49,
    "start_time": "2022-10-09T11:40:39.601Z"
   },
   {
    "duration": 15,
    "start_time": "2022-10-09T11:41:24.314Z"
   },
   {
    "duration": 1459,
    "start_time": "2022-10-09T11:43:33.051Z"
   },
   {
    "duration": 226,
    "start_time": "2022-10-09T11:45:34.037Z"
   },
   {
    "duration": 10,
    "start_time": "2022-10-09T11:45:39.090Z"
   },
   {
    "duration": 1677,
    "start_time": "2022-10-09T12:17:15.372Z"
   },
   {
    "duration": 1559,
    "start_time": "2022-10-09T12:17:52.172Z"
   },
   {
    "duration": 10506,
    "start_time": "2022-10-09T12:19:28.415Z"
   },
   {
    "duration": 10110,
    "start_time": "2022-10-09T12:19:52.825Z"
   },
   {
    "duration": 11165,
    "start_time": "2022-10-09T12:20:22.609Z"
   },
   {
    "duration": 155,
    "start_time": "2022-10-09T12:21:13.513Z"
   },
   {
    "duration": 11128,
    "start_time": "2022-10-09T12:21:17.975Z"
   },
   {
    "duration": 11846,
    "start_time": "2022-10-09T12:26:06.475Z"
   },
   {
    "duration": 12896,
    "start_time": "2022-10-09T12:29:52.307Z"
   },
   {
    "duration": 11,
    "start_time": "2022-10-09T12:30:47.800Z"
   },
   {
    "duration": 11712,
    "start_time": "2022-10-09T12:32:17.968Z"
   },
   {
    "duration": 11,
    "start_time": "2022-10-09T12:32:34.952Z"
   },
   {
    "duration": 1297,
    "start_time": "2022-10-09T12:32:58.733Z"
   },
   {
    "duration": 2,
    "start_time": "2022-10-09T12:33:00.032Z"
   },
   {
    "duration": 357,
    "start_time": "2022-10-09T12:33:00.036Z"
   },
   {
    "duration": 18,
    "start_time": "2022-10-09T12:33:00.395Z"
   },
   {
    "duration": 318,
    "start_time": "2022-10-09T12:33:00.422Z"
   },
   {
    "duration": 124,
    "start_time": "2022-10-09T12:33:00.742Z"
   },
   {
    "duration": 13,
    "start_time": "2022-10-09T12:33:00.868Z"
   },
   {
    "duration": 179,
    "start_time": "2022-10-09T12:33:00.883Z"
   },
   {
    "duration": 419,
    "start_time": "2022-10-09T12:33:01.064Z"
   },
   {
    "duration": 16,
    "start_time": "2022-10-09T12:33:01.485Z"
   },
   {
    "duration": 320,
    "start_time": "2022-10-09T12:33:01.503Z"
   },
   {
    "duration": 7,
    "start_time": "2022-10-09T12:33:01.825Z"
   },
   {
    "duration": 13,
    "start_time": "2022-10-09T12:33:01.835Z"
   },
   {
    "duration": 21,
    "start_time": "2022-10-09T12:33:01.850Z"
   },
   {
    "duration": 25,
    "start_time": "2022-10-09T12:33:01.873Z"
   },
   {
    "duration": 9,
    "start_time": "2022-10-09T12:33:01.900Z"
   },
   {
    "duration": 42,
    "start_time": "2022-10-09T12:33:01.911Z"
   },
   {
    "duration": 17,
    "start_time": "2022-10-09T12:33:01.955Z"
   },
   {
    "duration": 10066,
    "start_time": "2022-10-09T12:33:01.974Z"
   },
   {
    "duration": 9,
    "start_time": "2022-10-09T12:33:12.042Z"
   },
   {
    "duration": 10006,
    "start_time": "2022-10-09T12:36:29.186Z"
   },
   {
    "duration": 10,
    "start_time": "2022-10-09T12:36:39.194Z"
   },
   {
    "duration": 89,
    "start_time": "2022-10-09T12:40:55.623Z"
   },
   {
    "duration": 14,
    "start_time": "2022-10-09T12:42:51.984Z"
   },
   {
    "duration": 12,
    "start_time": "2022-10-09T12:43:05.978Z"
   },
   {
    "duration": 1266,
    "start_time": "2022-10-09T12:43:18.795Z"
   },
   {
    "duration": 2,
    "start_time": "2022-10-09T12:43:20.063Z"
   },
   {
    "duration": 330,
    "start_time": "2022-10-09T12:43:20.066Z"
   },
   {
    "duration": 23,
    "start_time": "2022-10-09T12:43:20.398Z"
   },
   {
    "duration": 281,
    "start_time": "2022-10-09T12:43:20.423Z"
   },
   {
    "duration": 107,
    "start_time": "2022-10-09T12:43:20.705Z"
   },
   {
    "duration": 15,
    "start_time": "2022-10-09T12:43:20.813Z"
   },
   {
    "duration": 145,
    "start_time": "2022-10-09T12:43:20.829Z"
   },
   {
    "duration": 582,
    "start_time": "2022-10-09T12:43:20.975Z"
   },
   {
    "duration": 70,
    "start_time": "2022-10-09T12:43:21.560Z"
   },
   {
    "duration": 523,
    "start_time": "2022-10-09T12:43:21.632Z"
   },
   {
    "duration": 5,
    "start_time": "2022-10-09T12:43:22.156Z"
   },
   {
    "duration": 60,
    "start_time": "2022-10-09T12:43:22.163Z"
   },
   {
    "duration": 46,
    "start_time": "2022-10-09T12:43:22.224Z"
   },
   {
    "duration": 57,
    "start_time": "2022-10-09T12:43:22.272Z"
   },
   {
    "duration": 28,
    "start_time": "2022-10-09T12:43:22.331Z"
   },
   {
    "duration": 66,
    "start_time": "2022-10-09T12:43:22.361Z"
   },
   {
    "duration": 11,
    "start_time": "2022-10-09T12:43:22.429Z"
   },
   {
    "duration": 10179,
    "start_time": "2022-10-09T12:43:22.441Z"
   },
   {
    "duration": 9,
    "start_time": "2022-10-09T12:43:32.622Z"
   },
   {
    "duration": 95,
    "start_time": "2022-10-09T12:43:44.013Z"
   },
   {
    "duration": 16,
    "start_time": "2022-10-09T12:44:06.897Z"
   },
   {
    "duration": 11,
    "start_time": "2022-10-09T12:44:48.717Z"
   },
   {
    "duration": 1345,
    "start_time": "2022-10-09T12:45:06.920Z"
   },
   {
    "duration": 3,
    "start_time": "2022-10-09T12:45:08.266Z"
   },
   {
    "duration": 323,
    "start_time": "2022-10-09T12:45:08.271Z"
   },
   {
    "duration": 15,
    "start_time": "2022-10-09T12:45:08.595Z"
   },
   {
    "duration": 290,
    "start_time": "2022-10-09T12:45:08.622Z"
   },
   {
    "duration": 119,
    "start_time": "2022-10-09T12:45:08.915Z"
   },
   {
    "duration": 12,
    "start_time": "2022-10-09T12:45:09.035Z"
   },
   {
    "duration": 148,
    "start_time": "2022-10-09T12:45:09.048Z"
   },
   {
    "duration": 386,
    "start_time": "2022-10-09T12:45:09.198Z"
   },
   {
    "duration": 15,
    "start_time": "2022-10-09T12:45:09.586Z"
   },
   {
    "duration": 341,
    "start_time": "2022-10-09T12:45:09.602Z"
   },
   {
    "duration": 5,
    "start_time": "2022-10-09T12:45:09.945Z"
   },
   {
    "duration": 15,
    "start_time": "2022-10-09T12:45:09.951Z"
   },
   {
    "duration": 14,
    "start_time": "2022-10-09T12:45:09.968Z"
   },
   {
    "duration": 33,
    "start_time": "2022-10-09T12:45:09.983Z"
   },
   {
    "duration": 40,
    "start_time": "2022-10-09T12:45:10.018Z"
   },
   {
    "duration": 30,
    "start_time": "2022-10-09T12:45:10.060Z"
   },
   {
    "duration": 21,
    "start_time": "2022-10-09T12:45:10.092Z"
   },
   {
    "duration": 10874,
    "start_time": "2022-10-09T12:45:10.114Z"
   },
   {
    "duration": 16,
    "start_time": "2022-10-09T12:45:20.990Z"
   },
   {
    "duration": 20,
    "start_time": "2022-10-09T12:45:21.009Z"
   },
   {
    "duration": 59,
    "start_time": "2022-10-09T12:46:12.223Z"
   },
   {
    "duration": 9,
    "start_time": "2022-10-09T12:58:30.798Z"
   },
   {
    "duration": 1279,
    "start_time": "2022-10-09T13:07:26.799Z"
   },
   {
    "duration": 2,
    "start_time": "2022-10-09T13:07:28.080Z"
   },
   {
    "duration": 332,
    "start_time": "2022-10-09T13:07:28.083Z"
   },
   {
    "duration": 18,
    "start_time": "2022-10-09T13:07:28.417Z"
   },
   {
    "duration": 299,
    "start_time": "2022-10-09T13:07:28.437Z"
   },
   {
    "duration": 105,
    "start_time": "2022-10-09T13:07:28.737Z"
   },
   {
    "duration": 10,
    "start_time": "2022-10-09T13:07:28.844Z"
   },
   {
    "duration": 144,
    "start_time": "2022-10-09T13:07:28.856Z"
   },
   {
    "duration": 363,
    "start_time": "2022-10-09T13:07:29.001Z"
   },
   {
    "duration": 15,
    "start_time": "2022-10-09T13:07:29.367Z"
   },
   {
    "duration": 273,
    "start_time": "2022-10-09T13:07:29.384Z"
   },
   {
    "duration": 5,
    "start_time": "2022-10-09T13:07:29.658Z"
   },
   {
    "duration": 11,
    "start_time": "2022-10-09T13:07:29.664Z"
   },
   {
    "duration": 6,
    "start_time": "2022-10-09T13:07:29.676Z"
   },
   {
    "duration": 15,
    "start_time": "2022-10-09T13:07:29.683Z"
   },
   {
    "duration": 21,
    "start_time": "2022-10-09T13:07:29.700Z"
   },
   {
    "duration": 13,
    "start_time": "2022-10-09T13:07:29.723Z"
   },
   {
    "duration": 11,
    "start_time": "2022-10-09T13:07:29.737Z"
   },
   {
    "duration": 11319,
    "start_time": "2022-10-09T13:07:29.749Z"
   },
   {
    "duration": 15,
    "start_time": "2022-10-09T13:07:41.070Z"
   },
   {
    "duration": 61,
    "start_time": "2022-10-09T13:07:41.087Z"
   },
   {
    "duration": 9,
    "start_time": "2022-10-09T13:12:07.520Z"
   },
   {
    "duration": 92,
    "start_time": "2022-10-09T13:16:16.353Z"
   },
   {
    "duration": 1343,
    "start_time": "2022-10-09T13:16:31.892Z"
   },
   {
    "duration": 3,
    "start_time": "2022-10-09T13:16:33.237Z"
   },
   {
    "duration": 684,
    "start_time": "2022-10-09T13:16:33.242Z"
   },
   {
    "duration": 21,
    "start_time": "2022-10-09T13:16:33.928Z"
   },
   {
    "duration": 637,
    "start_time": "2022-10-09T13:16:33.951Z"
   },
   {
    "duration": 135,
    "start_time": "2022-10-09T13:16:34.622Z"
   },
   {
    "duration": 12,
    "start_time": "2022-10-09T13:16:34.759Z"
   },
   {
    "duration": 168,
    "start_time": "2022-10-09T13:16:34.772Z"
   },
   {
    "duration": 370,
    "start_time": "2022-10-09T13:16:34.942Z"
   },
   {
    "duration": 21,
    "start_time": "2022-10-09T13:16:35.314Z"
   },
   {
    "duration": 290,
    "start_time": "2022-10-09T13:16:35.336Z"
   },
   {
    "duration": 4,
    "start_time": "2022-10-09T13:16:35.628Z"
   },
   {
    "duration": 9,
    "start_time": "2022-10-09T13:16:35.634Z"
   },
   {
    "duration": 9,
    "start_time": "2022-10-09T13:16:35.644Z"
   },
   {
    "duration": 21,
    "start_time": "2022-10-09T13:16:35.654Z"
   },
   {
    "duration": 7,
    "start_time": "2022-10-09T13:16:35.677Z"
   },
   {
    "duration": 13,
    "start_time": "2022-10-09T13:16:35.685Z"
   },
   {
    "duration": 22,
    "start_time": "2022-10-09T13:16:35.699Z"
   },
   {
    "duration": 9969,
    "start_time": "2022-10-09T13:16:35.723Z"
   },
   {
    "duration": 14,
    "start_time": "2022-10-09T13:16:45.694Z"
   },
   {
    "duration": 18,
    "start_time": "2022-10-09T13:16:45.709Z"
   },
   {
    "duration": 102,
    "start_time": "2022-10-09T13:16:58.322Z"
   },
   {
    "duration": 1206,
    "start_time": "2022-10-09T13:17:08.280Z"
   },
   {
    "duration": 2,
    "start_time": "2022-10-09T13:17:09.488Z"
   },
   {
    "duration": 340,
    "start_time": "2022-10-09T13:17:09.492Z"
   },
   {
    "duration": 16,
    "start_time": "2022-10-09T13:17:09.834Z"
   },
   {
    "duration": 324,
    "start_time": "2022-10-09T13:17:09.852Z"
   },
   {
    "duration": 124,
    "start_time": "2022-10-09T13:17:10.177Z"
   },
   {
    "duration": 19,
    "start_time": "2022-10-09T13:17:10.303Z"
   },
   {
    "duration": 146,
    "start_time": "2022-10-09T13:17:10.324Z"
   },
   {
    "duration": 380,
    "start_time": "2022-10-09T13:17:10.472Z"
   },
   {
    "duration": 17,
    "start_time": "2022-10-09T13:17:10.854Z"
   },
   {
    "duration": 300,
    "start_time": "2022-10-09T13:17:10.872Z"
   },
   {
    "duration": 5,
    "start_time": "2022-10-09T13:17:11.173Z"
   },
   {
    "duration": 10,
    "start_time": "2022-10-09T13:17:11.180Z"
   },
   {
    "duration": 7,
    "start_time": "2022-10-09T13:17:11.193Z"
   },
   {
    "duration": 21,
    "start_time": "2022-10-09T13:17:11.202Z"
   },
   {
    "duration": 7,
    "start_time": "2022-10-09T13:17:11.224Z"
   },
   {
    "duration": 13,
    "start_time": "2022-10-09T13:17:11.232Z"
   },
   {
    "duration": 11,
    "start_time": "2022-10-09T13:17:11.246Z"
   },
   {
    "duration": 11315,
    "start_time": "2022-10-09T13:17:11.258Z"
   },
   {
    "duration": 14,
    "start_time": "2022-10-09T13:17:22.575Z"
   },
   {
    "duration": 9,
    "start_time": "2022-10-09T13:17:22.591Z"
   },
   {
    "duration": 4,
    "start_time": "2022-10-09T13:21:45.604Z"
   },
   {
    "duration": 5,
    "start_time": "2022-10-09T13:21:55.406Z"
   },
   {
    "duration": 31,
    "start_time": "2022-10-09T13:22:21.698Z"
   },
   {
    "duration": 10,
    "start_time": "2022-10-09T13:22:33.113Z"
   },
   {
    "duration": 102,
    "start_time": "2022-10-09T13:26:30.338Z"
   },
   {
    "duration": 103,
    "start_time": "2022-10-09T13:26:59.980Z"
   },
   {
    "duration": 12,
    "start_time": "2022-10-09T13:27:21.263Z"
   },
   {
    "duration": 12,
    "start_time": "2022-10-09T13:27:28.353Z"
   },
   {
    "duration": 1260,
    "start_time": "2022-10-09T13:28:51.594Z"
   },
   {
    "duration": 3,
    "start_time": "2022-10-09T13:28:52.856Z"
   },
   {
    "duration": 328,
    "start_time": "2022-10-09T13:28:52.860Z"
   },
   {
    "duration": 15,
    "start_time": "2022-10-09T13:28:53.189Z"
   },
   {
    "duration": 302,
    "start_time": "2022-10-09T13:28:53.206Z"
   },
   {
    "duration": 115,
    "start_time": "2022-10-09T13:28:53.509Z"
   },
   {
    "duration": 12,
    "start_time": "2022-10-09T13:28:53.625Z"
   },
   {
    "duration": 154,
    "start_time": "2022-10-09T13:28:53.638Z"
   },
   {
    "duration": 370,
    "start_time": "2022-10-09T13:28:53.794Z"
   },
   {
    "duration": 16,
    "start_time": "2022-10-09T13:28:54.166Z"
   },
   {
    "duration": 288,
    "start_time": "2022-10-09T13:28:54.184Z"
   },
   {
    "duration": 6,
    "start_time": "2022-10-09T13:28:54.474Z"
   },
   {
    "duration": 5,
    "start_time": "2022-10-09T13:28:54.482Z"
   },
   {
    "duration": 7,
    "start_time": "2022-10-09T13:28:54.488Z"
   },
   {
    "duration": 32,
    "start_time": "2022-10-09T13:28:54.497Z"
   },
   {
    "duration": 6,
    "start_time": "2022-10-09T13:28:54.531Z"
   },
   {
    "duration": 13,
    "start_time": "2022-10-09T13:28:54.538Z"
   },
   {
    "duration": 11,
    "start_time": "2022-10-09T13:28:54.552Z"
   },
   {
    "duration": 11382,
    "start_time": "2022-10-09T13:28:54.565Z"
   },
   {
    "duration": 14,
    "start_time": "2022-10-09T13:29:05.949Z"
   },
   {
    "duration": 12,
    "start_time": "2022-10-09T13:29:05.965Z"
   },
   {
    "duration": 60,
    "start_time": "2022-10-09T13:29:05.979Z"
   },
   {
    "duration": 133,
    "start_time": "2022-10-09T13:29:06.041Z"
   },
   {
    "duration": 12,
    "start_time": "2022-10-09T13:29:34.274Z"
   },
   {
    "duration": 186,
    "start_time": "2022-10-09T13:46:46.067Z"
   },
   {
    "duration": 1309,
    "start_time": "2022-10-09T13:46:58.241Z"
   },
   {
    "duration": 2,
    "start_time": "2022-10-09T13:46:59.552Z"
   },
   {
    "duration": 337,
    "start_time": "2022-10-09T13:46:59.556Z"
   },
   {
    "duration": 27,
    "start_time": "2022-10-09T13:46:59.895Z"
   },
   {
    "duration": 321,
    "start_time": "2022-10-09T13:46:59.923Z"
   },
   {
    "duration": 109,
    "start_time": "2022-10-09T13:47:00.246Z"
   },
   {
    "duration": 14,
    "start_time": "2022-10-09T13:47:00.357Z"
   },
   {
    "duration": 160,
    "start_time": "2022-10-09T13:47:00.372Z"
   },
   {
    "duration": 419,
    "start_time": "2022-10-09T13:47:00.534Z"
   },
   {
    "duration": 18,
    "start_time": "2022-10-09T13:47:00.956Z"
   },
   {
    "duration": 325,
    "start_time": "2022-10-09T13:47:00.976Z"
   },
   {
    "duration": 4,
    "start_time": "2022-10-09T13:47:01.303Z"
   },
   {
    "duration": 78,
    "start_time": "2022-10-09T13:47:01.309Z"
   },
   {
    "duration": 26,
    "start_time": "2022-10-09T13:47:01.389Z"
   },
   {
    "duration": 33,
    "start_time": "2022-10-09T13:47:01.416Z"
   },
   {
    "duration": 30,
    "start_time": "2022-10-09T13:47:01.451Z"
   },
   {
    "duration": 30,
    "start_time": "2022-10-09T13:47:01.483Z"
   },
   {
    "duration": 48,
    "start_time": "2022-10-09T13:47:01.515Z"
   },
   {
    "duration": 11001,
    "start_time": "2022-10-09T13:47:01.566Z"
   },
   {
    "duration": 15,
    "start_time": "2022-10-09T13:47:12.569Z"
   },
   {
    "duration": 10,
    "start_time": "2022-10-09T13:47:12.585Z"
   },
   {
    "duration": 114,
    "start_time": "2022-10-09T13:47:12.596Z"
   },
   {
    "duration": 0,
    "start_time": "2022-10-09T13:47:12.722Z"
   },
   {
    "duration": 25,
    "start_time": "2022-10-09T13:48:36.616Z"
   },
   {
    "duration": 12,
    "start_time": "2022-10-09T13:48:38.904Z"
   },
   {
    "duration": 1293,
    "start_time": "2022-10-09T13:48:47.336Z"
   },
   {
    "duration": 3,
    "start_time": "2022-10-09T13:48:48.631Z"
   },
   {
    "duration": 526,
    "start_time": "2022-10-09T13:48:48.635Z"
   },
   {
    "duration": 66,
    "start_time": "2022-10-09T13:48:49.162Z"
   },
   {
    "duration": 542,
    "start_time": "2022-10-09T13:48:49.230Z"
   },
   {
    "duration": 188,
    "start_time": "2022-10-09T13:48:49.773Z"
   },
   {
    "duration": 62,
    "start_time": "2022-10-09T13:48:49.962Z"
   },
   {
    "duration": 314,
    "start_time": "2022-10-09T13:48:50.026Z"
   },
   {
    "duration": 461,
    "start_time": "2022-10-09T13:48:50.341Z"
   },
   {
    "duration": 19,
    "start_time": "2022-10-09T13:48:50.803Z"
   },
   {
    "duration": 308,
    "start_time": "2022-10-09T13:48:50.824Z"
   },
   {
    "duration": 5,
    "start_time": "2022-10-09T13:48:51.133Z"
   },
   {
    "duration": 12,
    "start_time": "2022-10-09T13:48:51.140Z"
   },
   {
    "duration": 8,
    "start_time": "2022-10-09T13:48:51.155Z"
   },
   {
    "duration": 17,
    "start_time": "2022-10-09T13:48:51.166Z"
   },
   {
    "duration": 6,
    "start_time": "2022-10-09T13:48:51.185Z"
   },
   {
    "duration": 12,
    "start_time": "2022-10-09T13:48:51.193Z"
   },
   {
    "duration": 11,
    "start_time": "2022-10-09T13:48:51.222Z"
   },
   {
    "duration": 10516,
    "start_time": "2022-10-09T13:48:51.234Z"
   },
   {
    "duration": 16,
    "start_time": "2022-10-09T13:49:01.752Z"
   },
   {
    "duration": 11,
    "start_time": "2022-10-09T13:49:01.770Z"
   },
   {
    "duration": 54,
    "start_time": "2022-10-09T13:49:01.783Z"
   },
   {
    "duration": 96,
    "start_time": "2022-10-09T13:49:01.839Z"
   },
   {
    "duration": 98,
    "start_time": "2022-10-09T13:49:10.452Z"
   },
   {
    "duration": 1265,
    "start_time": "2022-10-09T13:49:20.428Z"
   },
   {
    "duration": 3,
    "start_time": "2022-10-09T13:49:21.694Z"
   },
   {
    "duration": 340,
    "start_time": "2022-10-09T13:49:21.698Z"
   },
   {
    "duration": 17,
    "start_time": "2022-10-09T13:49:22.040Z"
   },
   {
    "duration": 303,
    "start_time": "2022-10-09T13:49:22.059Z"
   },
   {
    "duration": 110,
    "start_time": "2022-10-09T13:49:22.364Z"
   },
   {
    "duration": 11,
    "start_time": "2022-10-09T13:49:22.476Z"
   },
   {
    "duration": 146,
    "start_time": "2022-10-09T13:49:22.488Z"
   },
   {
    "duration": 366,
    "start_time": "2022-10-09T13:49:22.636Z"
   },
   {
    "duration": 21,
    "start_time": "2022-10-09T13:49:23.004Z"
   },
   {
    "duration": 279,
    "start_time": "2022-10-09T13:49:23.027Z"
   },
   {
    "duration": 14,
    "start_time": "2022-10-09T13:49:23.308Z"
   },
   {
    "duration": 25,
    "start_time": "2022-10-09T13:49:23.324Z"
   },
   {
    "duration": 8,
    "start_time": "2022-10-09T13:49:23.351Z"
   },
   {
    "duration": 17,
    "start_time": "2022-10-09T13:49:23.361Z"
   },
   {
    "duration": 7,
    "start_time": "2022-10-09T13:49:23.379Z"
   },
   {
    "duration": 23,
    "start_time": "2022-10-09T13:49:23.388Z"
   },
   {
    "duration": 11,
    "start_time": "2022-10-09T13:49:23.412Z"
   },
   {
    "duration": 10610,
    "start_time": "2022-10-09T13:49:23.424Z"
   },
   {
    "duration": 15,
    "start_time": "2022-10-09T13:49:34.035Z"
   },
   {
    "duration": 9,
    "start_time": "2022-10-09T13:49:34.051Z"
   },
   {
    "duration": 26,
    "start_time": "2022-10-09T13:49:34.061Z"
   },
   {
    "duration": 90,
    "start_time": "2022-10-09T13:49:34.089Z"
   },
   {
    "duration": 10,
    "start_time": "2022-10-09T13:49:51.480Z"
   },
   {
    "duration": 3,
    "start_time": "2022-10-09T13:53:51.683Z"
   },
   {
    "duration": 1065,
    "start_time": "2022-10-09T13:53:58.915Z"
   },
   {
    "duration": 1333,
    "start_time": "2022-10-09T13:54:11.859Z"
   },
   {
    "duration": 3,
    "start_time": "2022-10-09T13:54:13.194Z"
   },
   {
    "duration": 552,
    "start_time": "2022-10-09T13:54:13.198Z"
   },
   {
    "duration": 17,
    "start_time": "2022-10-09T13:54:13.752Z"
   },
   {
    "duration": 701,
    "start_time": "2022-10-09T13:54:13.771Z"
   },
   {
    "duration": 250,
    "start_time": "2022-10-09T13:54:14.474Z"
   },
   {
    "duration": 16,
    "start_time": "2022-10-09T13:54:14.726Z"
   },
   {
    "duration": 402,
    "start_time": "2022-10-09T13:54:14.743Z"
   },
   {
    "duration": 491,
    "start_time": "2022-10-09T13:54:15.147Z"
   },
   {
    "duration": 16,
    "start_time": "2022-10-09T13:54:15.641Z"
   },
   {
    "duration": 298,
    "start_time": "2022-10-09T13:54:15.659Z"
   },
   {
    "duration": 4,
    "start_time": "2022-10-09T13:54:15.958Z"
   },
   {
    "duration": 27,
    "start_time": "2022-10-09T13:54:15.964Z"
   },
   {
    "duration": 26,
    "start_time": "2022-10-09T13:54:15.992Z"
   },
   {
    "duration": 34,
    "start_time": "2022-10-09T13:54:16.019Z"
   },
   {
    "duration": 19,
    "start_time": "2022-10-09T13:54:16.055Z"
   },
   {
    "duration": 37,
    "start_time": "2022-10-09T13:54:16.076Z"
   },
   {
    "duration": 38,
    "start_time": "2022-10-09T13:54:16.115Z"
   },
   {
    "duration": 10344,
    "start_time": "2022-10-09T13:54:16.155Z"
   },
   {
    "duration": 23,
    "start_time": "2022-10-09T13:54:26.501Z"
   },
   {
    "duration": 11,
    "start_time": "2022-10-09T13:54:26.525Z"
   },
   {
    "duration": 106,
    "start_time": "2022-10-09T13:54:26.538Z"
   },
   {
    "duration": 107,
    "start_time": "2022-10-09T13:54:26.645Z"
   },
   {
    "duration": 0,
    "start_time": "2022-10-09T13:54:26.754Z"
   },
   {
    "duration": 12,
    "start_time": "2022-10-09T13:54:41.871Z"
   },
   {
    "duration": 12,
    "start_time": "2022-10-09T13:55:42.017Z"
   },
   {
    "duration": 1311,
    "start_time": "2022-10-09T13:55:50.812Z"
   },
   {
    "duration": 7,
    "start_time": "2022-10-09T13:55:52.124Z"
   },
   {
    "duration": 337,
    "start_time": "2022-10-09T13:55:52.132Z"
   },
   {
    "duration": 15,
    "start_time": "2022-10-09T13:55:52.471Z"
   },
   {
    "duration": 485,
    "start_time": "2022-10-09T13:55:52.487Z"
   },
   {
    "duration": 265,
    "start_time": "2022-10-09T13:55:52.973Z"
   },
   {
    "duration": 17,
    "start_time": "2022-10-09T13:55:53.242Z"
   },
   {
    "duration": 303,
    "start_time": "2022-10-09T13:55:53.261Z"
   },
   {
    "duration": 818,
    "start_time": "2022-10-09T13:55:53.565Z"
   },
   {
    "duration": 16,
    "start_time": "2022-10-09T13:55:54.386Z"
   },
   {
    "duration": 296,
    "start_time": "2022-10-09T13:55:54.403Z"
   },
   {
    "duration": 5,
    "start_time": "2022-10-09T13:55:54.700Z"
   },
   {
    "duration": 21,
    "start_time": "2022-10-09T13:55:54.707Z"
   },
   {
    "duration": 16,
    "start_time": "2022-10-09T13:55:54.729Z"
   },
   {
    "duration": 14,
    "start_time": "2022-10-09T13:55:54.746Z"
   },
   {
    "duration": 6,
    "start_time": "2022-10-09T13:55:54.762Z"
   },
   {
    "duration": 13,
    "start_time": "2022-10-09T13:55:54.769Z"
   },
   {
    "duration": 12,
    "start_time": "2022-10-09T13:55:54.784Z"
   },
   {
    "duration": 10833,
    "start_time": "2022-10-09T13:55:54.797Z"
   },
   {
    "duration": 15,
    "start_time": "2022-10-09T13:56:05.634Z"
   },
   {
    "duration": 13,
    "start_time": "2022-10-09T13:56:05.650Z"
   },
   {
    "duration": 20,
    "start_time": "2022-10-09T13:56:05.664Z"
   },
   {
    "duration": 27,
    "start_time": "2022-10-09T13:56:05.685Z"
   },
   {
    "duration": 5,
    "start_time": "2022-10-09T13:56:05.713Z"
   },
   {
    "duration": 23,
    "start_time": "2022-10-09T13:56:38.151Z"
   },
   {
    "duration": 8,
    "start_time": "2022-10-09T13:56:40.009Z"
   },
   {
    "duration": 4,
    "start_time": "2022-10-09T13:58:01.708Z"
   },
   {
    "duration": 31,
    "start_time": "2022-10-09T13:59:01.917Z"
   },
   {
    "duration": 4,
    "start_time": "2022-10-09T13:59:03.821Z"
   },
   {
    "duration": 7,
    "start_time": "2022-10-09T13:59:15.181Z"
   },
   {
    "duration": 12,
    "start_time": "2022-10-09T13:59:19.417Z"
   },
   {
    "duration": 21,
    "start_time": "2022-10-09T13:59:28.088Z"
   },
   {
    "duration": 9,
    "start_time": "2022-10-09T13:59:29.647Z"
   },
   {
    "duration": 1315,
    "start_time": "2022-10-09T14:00:54.320Z"
   },
   {
    "duration": 3,
    "start_time": "2022-10-09T14:00:55.637Z"
   },
   {
    "duration": 325,
    "start_time": "2022-10-09T14:00:55.641Z"
   },
   {
    "duration": 15,
    "start_time": "2022-10-09T14:00:55.968Z"
   },
   {
    "duration": 383,
    "start_time": "2022-10-09T14:00:55.985Z"
   },
   {
    "duration": 108,
    "start_time": "2022-10-09T14:00:56.369Z"
   },
   {
    "duration": 13,
    "start_time": "2022-10-09T14:00:56.479Z"
   },
   {
    "duration": 168,
    "start_time": "2022-10-09T14:00:56.496Z"
   },
   {
    "duration": 669,
    "start_time": "2022-10-09T14:00:56.666Z"
   },
   {
    "duration": 16,
    "start_time": "2022-10-09T14:00:57.338Z"
   },
   {
    "duration": 673,
    "start_time": "2022-10-09T14:00:57.355Z"
   },
   {
    "duration": 4,
    "start_time": "2022-10-09T14:00:58.030Z"
   },
   {
    "duration": 17,
    "start_time": "2022-10-09T14:00:58.035Z"
   },
   {
    "duration": 7,
    "start_time": "2022-10-09T14:00:58.053Z"
   },
   {
    "duration": 61,
    "start_time": "2022-10-09T14:00:58.061Z"
   },
   {
    "duration": 11,
    "start_time": "2022-10-09T14:00:58.124Z"
   },
   {
    "duration": 15,
    "start_time": "2022-10-09T14:00:58.137Z"
   },
   {
    "duration": 17,
    "start_time": "2022-10-09T14:00:58.154Z"
   },
   {
    "duration": 11819,
    "start_time": "2022-10-09T14:00:58.221Z"
   },
   {
    "duration": 15,
    "start_time": "2022-10-09T14:01:10.042Z"
   },
   {
    "duration": 9,
    "start_time": "2022-10-09T14:01:10.058Z"
   },
   {
    "duration": 12,
    "start_time": "2022-10-09T14:01:10.069Z"
   },
   {
    "duration": 4,
    "start_time": "2022-10-09T14:01:10.082Z"
   },
   {
    "duration": 45,
    "start_time": "2022-10-09T14:01:10.088Z"
   },
   {
    "duration": 9,
    "start_time": "2022-10-09T14:01:10.136Z"
   },
   {
    "duration": 18,
    "start_time": "2022-10-09T14:01:10.146Z"
   },
   {
    "duration": 4,
    "start_time": "2022-10-09T14:01:10.165Z"
   },
   {
    "duration": 24,
    "start_time": "2022-10-09T14:01:10.173Z"
   },
   {
    "duration": 24,
    "start_time": "2022-10-09T14:01:10.199Z"
   },
   {
    "duration": 14547,
    "start_time": "2022-10-09T14:10:06.430Z"
   },
   {
    "duration": 1248,
    "start_time": "2022-10-09T14:12:29.246Z"
   },
   {
    "duration": 2,
    "start_time": "2022-10-09T14:12:30.496Z"
   },
   {
    "duration": 394,
    "start_time": "2022-10-09T14:12:30.499Z"
   },
   {
    "duration": 16,
    "start_time": "2022-10-09T14:12:30.895Z"
   },
   {
    "duration": 328,
    "start_time": "2022-10-09T14:12:30.912Z"
   },
   {
    "duration": 107,
    "start_time": "2022-10-09T14:12:31.243Z"
   },
   {
    "duration": 12,
    "start_time": "2022-10-09T14:12:31.352Z"
   },
   {
    "duration": 151,
    "start_time": "2022-10-09T14:12:31.366Z"
   },
   {
    "duration": 387,
    "start_time": "2022-10-09T14:12:31.519Z"
   },
   {
    "duration": 29,
    "start_time": "2022-10-09T14:12:31.909Z"
   },
   {
    "duration": 267,
    "start_time": "2022-10-09T14:12:31.939Z"
   },
   {
    "duration": 16,
    "start_time": "2022-10-09T14:12:32.207Z"
   },
   {
    "duration": 14,
    "start_time": "2022-10-09T14:12:32.231Z"
   },
   {
    "duration": 22,
    "start_time": "2022-10-09T14:12:32.246Z"
   },
   {
    "duration": 14,
    "start_time": "2022-10-09T14:12:32.269Z"
   },
   {
    "duration": 8,
    "start_time": "2022-10-09T14:12:32.284Z"
   },
   {
    "duration": 18,
    "start_time": "2022-10-09T14:12:32.294Z"
   },
   {
    "duration": 19,
    "start_time": "2022-10-09T14:12:32.313Z"
   },
   {
    "duration": 12108,
    "start_time": "2022-10-09T14:12:32.336Z"
   },
   {
    "duration": 15,
    "start_time": "2022-10-09T14:12:44.445Z"
   },
   {
    "duration": 9,
    "start_time": "2022-10-09T14:12:44.461Z"
   },
   {
    "duration": 7,
    "start_time": "2022-10-09T14:12:44.471Z"
   },
   {
    "duration": 7,
    "start_time": "2022-10-09T14:12:44.480Z"
   },
   {
    "duration": 49,
    "start_time": "2022-10-09T14:12:44.489Z"
   },
   {
    "duration": 7,
    "start_time": "2022-10-09T14:12:44.540Z"
   },
   {
    "duration": 6,
    "start_time": "2022-10-09T14:12:44.549Z"
   },
   {
    "duration": 4,
    "start_time": "2022-10-09T14:12:44.556Z"
   },
   {
    "duration": 18,
    "start_time": "2022-10-09T14:12:44.563Z"
   },
   {
    "duration": 6,
    "start_time": "2022-10-09T14:12:44.583Z"
   },
   {
    "duration": 48,
    "start_time": "2022-10-09T14:12:44.591Z"
   },
   {
    "duration": 13,
    "start_time": "2022-10-09T14:12:44.641Z"
   },
   {
    "duration": 9,
    "start_time": "2022-10-09T14:15:25.282Z"
   },
   {
    "duration": 7,
    "start_time": "2022-10-09T14:18:29.316Z"
   },
   {
    "duration": 1244,
    "start_time": "2022-10-09T14:19:16.940Z"
   },
   {
    "duration": 3,
    "start_time": "2022-10-09T14:19:18.186Z"
   },
   {
    "duration": 324,
    "start_time": "2022-10-09T14:19:18.190Z"
   },
   {
    "duration": 18,
    "start_time": "2022-10-09T14:19:18.516Z"
   },
   {
    "duration": 288,
    "start_time": "2022-10-09T14:19:18.536Z"
   },
   {
    "duration": 102,
    "start_time": "2022-10-09T14:19:18.825Z"
   },
   {
    "duration": 10,
    "start_time": "2022-10-09T14:19:18.929Z"
   },
   {
    "duration": 157,
    "start_time": "2022-10-09T14:19:18.941Z"
   },
   {
    "duration": 406,
    "start_time": "2022-10-09T14:19:19.099Z"
   },
   {
    "duration": 25,
    "start_time": "2022-10-09T14:19:19.507Z"
   },
   {
    "duration": 285,
    "start_time": "2022-10-09T14:19:19.533Z"
   },
   {
    "duration": 5,
    "start_time": "2022-10-09T14:19:19.819Z"
   },
   {
    "duration": 6,
    "start_time": "2022-10-09T14:19:19.825Z"
   },
   {
    "duration": 9,
    "start_time": "2022-10-09T14:19:19.832Z"
   },
   {
    "duration": 12,
    "start_time": "2022-10-09T14:19:19.843Z"
   },
   {
    "duration": 6,
    "start_time": "2022-10-09T14:19:19.856Z"
   },
   {
    "duration": 16,
    "start_time": "2022-10-09T14:19:19.864Z"
   },
   {
    "duration": 13,
    "start_time": "2022-10-09T14:19:19.882Z"
   },
   {
    "duration": 10912,
    "start_time": "2022-10-09T14:19:19.896Z"
   },
   {
    "duration": 20,
    "start_time": "2022-10-09T14:19:30.810Z"
   },
   {
    "duration": 11,
    "start_time": "2022-10-09T14:19:30.832Z"
   },
   {
    "duration": 52,
    "start_time": "2022-10-09T14:19:30.845Z"
   },
   {
    "duration": 24,
    "start_time": "2022-10-09T14:19:30.898Z"
   },
   {
    "duration": 33,
    "start_time": "2022-10-09T14:19:30.924Z"
   },
   {
    "duration": 23,
    "start_time": "2022-10-09T14:19:30.958Z"
   },
   {
    "duration": 16,
    "start_time": "2022-10-09T14:19:30.983Z"
   },
   {
    "duration": 15,
    "start_time": "2022-10-09T14:19:31.000Z"
   },
   {
    "duration": 9,
    "start_time": "2022-10-09T14:20:11.905Z"
   },
   {
    "duration": 25,
    "start_time": "2022-10-09T14:21:01.689Z"
   },
   {
    "duration": 73,
    "start_time": "2022-10-09T14:22:48.082Z"
   },
   {
    "duration": 4,
    "start_time": "2022-10-09T15:29:54.957Z"
   },
   {
    "duration": 125,
    "start_time": "2022-10-09T15:30:09.527Z"
   },
   {
    "duration": 125,
    "start_time": "2022-10-09T15:30:35.616Z"
   },
   {
    "duration": 24,
    "start_time": "2022-10-09T15:31:04.813Z"
   },
   {
    "duration": 7,
    "start_time": "2022-10-09T15:31:19.273Z"
   },
   {
    "duration": 102,
    "start_time": "2022-10-09T15:34:40.528Z"
   },
   {
    "duration": 2521,
    "start_time": "2022-10-09T15:35:07.830Z"
   },
   {
    "duration": 3,
    "start_time": "2022-10-09T15:35:10.354Z"
   },
   {
    "duration": 458,
    "start_time": "2022-10-09T15:35:10.359Z"
   },
   {
    "duration": 22,
    "start_time": "2022-10-09T15:35:10.819Z"
   },
   {
    "duration": 353,
    "start_time": "2022-10-09T15:35:10.843Z"
   },
   {
    "duration": 113,
    "start_time": "2022-10-09T15:35:11.198Z"
   },
   {
    "duration": 16,
    "start_time": "2022-10-09T15:35:11.312Z"
   },
   {
    "duration": 168,
    "start_time": "2022-10-09T15:35:11.329Z"
   },
   {
    "duration": 507,
    "start_time": "2022-10-09T15:35:11.499Z"
   },
   {
    "duration": 21,
    "start_time": "2022-10-09T15:35:12.009Z"
   },
   {
    "duration": 336,
    "start_time": "2022-10-09T15:35:12.032Z"
   },
   {
    "duration": 5,
    "start_time": "2022-10-09T15:35:12.370Z"
   },
   {
    "duration": 13,
    "start_time": "2022-10-09T15:35:12.376Z"
   },
   {
    "duration": 12,
    "start_time": "2022-10-09T15:35:12.390Z"
   },
   {
    "duration": 28,
    "start_time": "2022-10-09T15:35:12.404Z"
   },
   {
    "duration": 11,
    "start_time": "2022-10-09T15:35:12.435Z"
   },
   {
    "duration": 11,
    "start_time": "2022-10-09T15:35:12.448Z"
   },
   {
    "duration": 13,
    "start_time": "2022-10-09T15:35:12.460Z"
   },
   {
    "duration": 12036,
    "start_time": "2022-10-09T15:35:12.475Z"
   },
   {
    "duration": 20,
    "start_time": "2022-10-09T15:35:24.512Z"
   },
   {
    "duration": 16,
    "start_time": "2022-10-09T15:35:24.535Z"
   },
   {
    "duration": 23,
    "start_time": "2022-10-09T15:35:24.552Z"
   },
   {
    "duration": 7,
    "start_time": "2022-10-09T15:35:24.577Z"
   },
   {
    "duration": 7,
    "start_time": "2022-10-09T15:35:24.586Z"
   },
   {
    "duration": 56,
    "start_time": "2022-10-09T15:35:24.594Z"
   },
   {
    "duration": 8,
    "start_time": "2022-10-09T15:35:24.651Z"
   },
   {
    "duration": 118,
    "start_time": "2022-10-09T15:35:24.660Z"
   },
   {
    "duration": 0,
    "start_time": "2022-10-09T15:35:24.779Z"
   },
   {
    "duration": 0,
    "start_time": "2022-10-09T15:35:24.780Z"
   },
   {
    "duration": 29,
    "start_time": "2022-10-09T15:41:23.549Z"
   },
   {
    "duration": 35,
    "start_time": "2022-10-09T15:41:39.905Z"
   },
   {
    "duration": 53,
    "start_time": "2022-10-09T15:42:55.340Z"
   },
   {
    "duration": 2187,
    "start_time": "2022-10-09T15:43:12.038Z"
   },
   {
    "duration": 3,
    "start_time": "2022-10-09T15:43:14.228Z"
   },
   {
    "duration": 1435,
    "start_time": "2022-10-09T15:43:14.233Z"
   },
   {
    "duration": 22,
    "start_time": "2022-10-09T15:43:15.670Z"
   },
   {
    "duration": 374,
    "start_time": "2022-10-09T15:43:15.694Z"
   },
   {
    "duration": 324,
    "start_time": "2022-10-09T15:43:16.070Z"
   },
   {
    "duration": 20,
    "start_time": "2022-10-09T15:43:16.396Z"
   },
   {
    "duration": 240,
    "start_time": "2022-10-09T15:43:16.418Z"
   },
   {
    "duration": 809,
    "start_time": "2022-10-09T15:43:16.660Z"
   },
   {
    "duration": 23,
    "start_time": "2022-10-09T15:43:17.473Z"
   },
   {
    "duration": 393,
    "start_time": "2022-10-09T15:43:17.499Z"
   },
   {
    "duration": 6,
    "start_time": "2022-10-09T15:43:17.895Z"
   },
   {
    "duration": 21,
    "start_time": "2022-10-09T15:43:17.902Z"
   },
   {
    "duration": 5,
    "start_time": "2022-10-09T15:43:17.924Z"
   },
   {
    "duration": 45,
    "start_time": "2022-10-09T15:43:17.930Z"
   },
   {
    "duration": 8,
    "start_time": "2022-10-09T15:43:17.977Z"
   },
   {
    "duration": 18,
    "start_time": "2022-10-09T15:43:17.987Z"
   },
   {
    "duration": 25,
    "start_time": "2022-10-09T15:43:18.007Z"
   },
   {
    "duration": 12220,
    "start_time": "2022-10-09T15:43:18.034Z"
   },
   {
    "duration": 16,
    "start_time": "2022-10-09T15:43:30.256Z"
   },
   {
    "duration": 18,
    "start_time": "2022-10-09T15:43:30.274Z"
   },
   {
    "duration": 42,
    "start_time": "2022-10-09T15:43:30.294Z"
   },
   {
    "duration": 35,
    "start_time": "2022-10-09T15:43:30.338Z"
   },
   {
    "duration": 41,
    "start_time": "2022-10-09T15:43:30.375Z"
   },
   {
    "duration": 60,
    "start_time": "2022-10-09T15:43:30.418Z"
   },
   {
    "duration": 13,
    "start_time": "2022-10-09T15:43:30.480Z"
   },
   {
    "duration": 36,
    "start_time": "2022-10-09T15:43:30.495Z"
   },
   {
    "duration": 149,
    "start_time": "2022-10-09T15:43:30.537Z"
   },
   {
    "duration": 0,
    "start_time": "2022-10-09T15:43:30.688Z"
   },
   {
    "duration": 0,
    "start_time": "2022-10-09T15:43:30.690Z"
   },
   {
    "duration": 14,
    "start_time": "2022-10-09T15:44:57.577Z"
   },
   {
    "duration": 16,
    "start_time": "2022-10-09T17:24:03.704Z"
   },
   {
    "duration": 1264,
    "start_time": "2022-10-09T17:24:33.510Z"
   },
   {
    "duration": 2,
    "start_time": "2022-10-09T17:24:34.776Z"
   },
   {
    "duration": 679,
    "start_time": "2022-10-09T17:24:34.779Z"
   },
   {
    "duration": 68,
    "start_time": "2022-10-09T17:24:35.460Z"
   },
   {
    "duration": 695,
    "start_time": "2022-10-09T17:24:35.529Z"
   },
   {
    "duration": 228,
    "start_time": "2022-10-09T17:24:36.226Z"
   },
   {
    "duration": 10,
    "start_time": "2022-10-09T17:24:36.456Z"
   },
   {
    "duration": 163,
    "start_time": "2022-10-09T17:24:36.468Z"
   },
   {
    "duration": 365,
    "start_time": "2022-10-09T17:24:36.633Z"
   },
   {
    "duration": 22,
    "start_time": "2022-10-09T17:24:37.000Z"
   },
   {
    "duration": 259,
    "start_time": "2022-10-09T17:24:37.023Z"
   },
   {
    "duration": 5,
    "start_time": "2022-10-09T17:24:37.283Z"
   },
   {
    "duration": 12,
    "start_time": "2022-10-09T17:24:37.289Z"
   },
   {
    "duration": 7,
    "start_time": "2022-10-09T17:24:37.303Z"
   },
   {
    "duration": 17,
    "start_time": "2022-10-09T17:24:37.311Z"
   },
   {
    "duration": 7,
    "start_time": "2022-10-09T17:24:37.329Z"
   },
   {
    "duration": 22,
    "start_time": "2022-10-09T17:24:37.337Z"
   },
   {
    "duration": 14,
    "start_time": "2022-10-09T17:24:37.360Z"
   },
   {
    "duration": 9654,
    "start_time": "2022-10-09T17:24:37.375Z"
   },
   {
    "duration": 13,
    "start_time": "2022-10-09T17:24:47.031Z"
   },
   {
    "duration": 9,
    "start_time": "2022-10-09T17:24:47.045Z"
   },
   {
    "duration": 25,
    "start_time": "2022-10-09T17:24:47.055Z"
   },
   {
    "duration": 7,
    "start_time": "2022-10-09T17:24:47.082Z"
   },
   {
    "duration": 8,
    "start_time": "2022-10-09T17:24:47.091Z"
   },
   {
    "duration": 17,
    "start_time": "2022-10-09T17:24:47.122Z"
   },
   {
    "duration": 16,
    "start_time": "2022-10-09T17:24:47.140Z"
   },
   {
    "duration": 34244,
    "start_time": "2022-10-09T17:24:47.159Z"
   },
   {
    "duration": 1269,
    "start_time": "2022-10-09T17:25:43.420Z"
   },
   {
    "duration": 3,
    "start_time": "2022-10-09T17:25:44.690Z"
   },
   {
    "duration": 315,
    "start_time": "2022-10-09T17:25:44.695Z"
   },
   {
    "duration": 17,
    "start_time": "2022-10-09T17:25:45.013Z"
   },
   {
    "duration": 344,
    "start_time": "2022-10-09T17:25:45.032Z"
   },
   {
    "duration": 246,
    "start_time": "2022-10-09T17:25:45.378Z"
   },
   {
    "duration": 12,
    "start_time": "2022-10-09T17:25:45.625Z"
   },
   {
    "duration": 289,
    "start_time": "2022-10-09T17:25:45.639Z"
   },
   {
    "duration": 808,
    "start_time": "2022-10-09T17:25:45.930Z"
   },
   {
    "duration": 16,
    "start_time": "2022-10-09T17:25:46.740Z"
   },
   {
    "duration": 365,
    "start_time": "2022-10-09T17:25:46.758Z"
   },
   {
    "duration": 5,
    "start_time": "2022-10-09T17:25:47.125Z"
   },
   {
    "duration": 17,
    "start_time": "2022-10-09T17:25:47.131Z"
   },
   {
    "duration": 12,
    "start_time": "2022-10-09T17:25:47.149Z"
   },
   {
    "duration": 21,
    "start_time": "2022-10-09T17:25:47.162Z"
   },
   {
    "duration": 12,
    "start_time": "2022-10-09T17:25:47.185Z"
   },
   {
    "duration": 18,
    "start_time": "2022-10-09T17:25:47.198Z"
   },
   {
    "duration": 19,
    "start_time": "2022-10-09T17:25:47.217Z"
   },
   {
    "duration": 9928,
    "start_time": "2022-10-09T17:25:47.237Z"
   },
   {
    "duration": 13,
    "start_time": "2022-10-09T17:25:57.167Z"
   },
   {
    "duration": 9,
    "start_time": "2022-10-09T17:25:57.182Z"
   },
   {
    "duration": 36,
    "start_time": "2022-10-09T17:25:57.192Z"
   },
   {
    "duration": 7,
    "start_time": "2022-10-09T17:25:57.230Z"
   },
   {
    "duration": 9,
    "start_time": "2022-10-09T17:25:57.238Z"
   },
   {
    "duration": 26,
    "start_time": "2022-10-09T17:25:57.249Z"
   },
   {
    "duration": 6,
    "start_time": "2022-10-09T17:25:57.276Z"
   },
   {
    "duration": 97,
    "start_time": "2022-10-09T17:25:57.283Z"
   },
   {
    "duration": 63,
    "start_time": "2022-10-09T17:28:20.040Z"
   },
   {
    "duration": 16,
    "start_time": "2022-10-09T17:33:38.364Z"
   },
   {
    "duration": 33,
    "start_time": "2022-10-09T17:33:46.107Z"
   },
   {
    "duration": 91,
    "start_time": "2022-10-09T17:34:43.917Z"
   },
   {
    "duration": 25,
    "start_time": "2022-10-09T17:37:27.907Z"
   },
   {
    "duration": 13,
    "start_time": "2022-10-09T17:37:56.649Z"
   },
   {
    "duration": 1269,
    "start_time": "2022-10-09T17:38:06.694Z"
   },
   {
    "duration": 3,
    "start_time": "2022-10-09T17:38:07.964Z"
   },
   {
    "duration": 318,
    "start_time": "2022-10-09T17:38:07.968Z"
   },
   {
    "duration": 15,
    "start_time": "2022-10-09T17:38:08.288Z"
   },
   {
    "duration": 292,
    "start_time": "2022-10-09T17:38:08.304Z"
   },
   {
    "duration": 107,
    "start_time": "2022-10-09T17:38:08.597Z"
   },
   {
    "duration": 18,
    "start_time": "2022-10-09T17:38:08.705Z"
   },
   {
    "duration": 241,
    "start_time": "2022-10-09T17:38:08.725Z"
   },
   {
    "duration": 736,
    "start_time": "2022-10-09T17:38:09.022Z"
   },
   {
    "duration": 67,
    "start_time": "2022-10-09T17:38:09.760Z"
   },
   {
    "duration": 622,
    "start_time": "2022-10-09T17:38:09.829Z"
   },
   {
    "duration": 5,
    "start_time": "2022-10-09T17:38:10.452Z"
   },
   {
    "duration": 9,
    "start_time": "2022-10-09T17:38:10.458Z"
   },
   {
    "duration": 6,
    "start_time": "2022-10-09T17:38:10.468Z"
   },
   {
    "duration": 12,
    "start_time": "2022-10-09T17:38:10.475Z"
   },
   {
    "duration": 7,
    "start_time": "2022-10-09T17:38:10.489Z"
   },
   {
    "duration": 29,
    "start_time": "2022-10-09T17:38:10.497Z"
   },
   {
    "duration": 11,
    "start_time": "2022-10-09T17:38:10.528Z"
   },
   {
    "duration": 10254,
    "start_time": "2022-10-09T17:38:10.540Z"
   },
   {
    "duration": 15,
    "start_time": "2022-10-09T17:38:20.796Z"
   },
   {
    "duration": 15,
    "start_time": "2022-10-09T17:38:20.812Z"
   },
   {
    "duration": 25,
    "start_time": "2022-10-09T17:38:20.829Z"
   },
   {
    "duration": 10,
    "start_time": "2022-10-09T17:38:20.857Z"
   },
   {
    "duration": 10,
    "start_time": "2022-10-09T17:38:20.869Z"
   },
   {
    "duration": 47,
    "start_time": "2022-10-09T17:38:20.881Z"
   },
   {
    "duration": 6,
    "start_time": "2022-10-09T17:38:20.929Z"
   },
   {
    "duration": 110,
    "start_time": "2022-10-09T17:38:20.936Z"
   },
   {
    "duration": 92,
    "start_time": "2022-10-09T17:41:54.479Z"
   },
   {
    "duration": 14,
    "start_time": "2022-10-09T17:42:12.221Z"
   },
   {
    "duration": 5,
    "start_time": "2022-10-09T17:42:24.474Z"
   },
   {
    "duration": 132,
    "start_time": "2022-10-09T17:42:41.549Z"
   },
   {
    "duration": 15,
    "start_time": "2022-10-09T17:43:13.597Z"
   },
   {
    "duration": 157,
    "start_time": "2022-10-09T17:43:57.764Z"
   },
   {
    "duration": 30,
    "start_time": "2022-10-09T17:44:08.322Z"
   },
   {
    "duration": 71,
    "start_time": "2022-10-09T17:44:50.181Z"
   },
   {
    "duration": 3,
    "start_time": "2022-10-09T17:47:29.858Z"
   },
   {
    "duration": 3,
    "start_time": "2022-10-09T17:47:46.315Z"
   },
   {
    "duration": 47,
    "start_time": "2022-10-10T08:35:44.197Z"
   },
   {
    "duration": 1464,
    "start_time": "2022-10-10T08:35:53.966Z"
   },
   {
    "duration": 3,
    "start_time": "2022-10-10T08:35:55.432Z"
   },
   {
    "duration": 897,
    "start_time": "2022-10-10T08:35:55.436Z"
   },
   {
    "duration": 18,
    "start_time": "2022-10-10T08:35:56.335Z"
   },
   {
    "duration": 317,
    "start_time": "2022-10-10T08:35:56.354Z"
   },
   {
    "duration": 429,
    "start_time": "2022-10-10T08:35:56.673Z"
   },
   {
    "duration": 12,
    "start_time": "2022-10-10T08:35:57.104Z"
   },
   {
    "duration": 155,
    "start_time": "2022-10-10T08:35:57.117Z"
   },
   {
    "duration": 1987,
    "start_time": "2022-10-10T08:35:57.274Z"
   },
   {
    "duration": 68,
    "start_time": "2022-10-10T08:35:59.264Z"
   },
   {
    "duration": 621,
    "start_time": "2022-10-10T08:35:59.334Z"
   },
   {
    "duration": 6,
    "start_time": "2022-10-10T08:35:59.956Z"
   },
   {
    "duration": 10,
    "start_time": "2022-10-10T08:35:59.964Z"
   },
   {
    "duration": 12,
    "start_time": "2022-10-10T08:35:59.976Z"
   },
   {
    "duration": 41,
    "start_time": "2022-10-10T08:35:59.990Z"
   },
   {
    "duration": 13,
    "start_time": "2022-10-10T08:36:00.033Z"
   },
   {
    "duration": 43,
    "start_time": "2022-10-10T08:36:00.048Z"
   },
   {
    "duration": 42,
    "start_time": "2022-10-10T08:36:00.093Z"
   },
   {
    "duration": 11548,
    "start_time": "2022-10-10T08:36:00.137Z"
   },
   {
    "duration": 15,
    "start_time": "2022-10-10T08:36:11.687Z"
   },
   {
    "duration": 21,
    "start_time": "2022-10-10T08:36:11.704Z"
   },
   {
    "duration": 25,
    "start_time": "2022-10-10T08:36:11.727Z"
   },
   {
    "duration": 8,
    "start_time": "2022-10-10T08:36:11.753Z"
   },
   {
    "duration": 10,
    "start_time": "2022-10-10T08:36:11.763Z"
   },
   {
    "duration": 43,
    "start_time": "2022-10-10T08:36:11.775Z"
   },
   {
    "duration": 45,
    "start_time": "2022-10-10T08:36:11.820Z"
   },
   {
    "duration": 8,
    "start_time": "2022-10-10T08:36:11.866Z"
   },
   {
    "duration": 106,
    "start_time": "2022-10-10T08:36:11.877Z"
   },
   {
    "duration": 0,
    "start_time": "2022-10-10T08:36:11.985Z"
   },
   {
    "duration": 1539,
    "start_time": "2022-10-10T08:36:17.657Z"
   },
   {
    "duration": 365,
    "start_time": "2022-10-10T08:36:30.786Z"
   },
   {
    "duration": 288,
    "start_time": "2022-10-10T08:37:37.257Z"
   },
   {
    "duration": 170,
    "start_time": "2022-10-10T08:39:11.641Z"
   },
   {
    "duration": 220,
    "start_time": "2022-10-10T08:39:33.461Z"
   },
   {
    "duration": 315,
    "start_time": "2022-10-10T08:39:38.131Z"
   },
   {
    "duration": 311,
    "start_time": "2022-10-10T08:39:50.957Z"
   },
   {
    "duration": 338,
    "start_time": "2022-10-10T08:40:03.455Z"
   },
   {
    "duration": 225,
    "start_time": "2022-10-10T08:40:23.935Z"
   },
   {
    "duration": 207,
    "start_time": "2022-10-10T08:40:27.238Z"
   },
   {
    "duration": 161,
    "start_time": "2022-10-10T08:40:29.866Z"
   },
   {
    "duration": 188,
    "start_time": "2022-10-10T08:40:32.406Z"
   },
   {
    "duration": 204,
    "start_time": "2022-10-10T08:40:39.371Z"
   },
   {
    "duration": 367,
    "start_time": "2022-10-10T08:41:21.583Z"
   },
   {
    "duration": 229,
    "start_time": "2022-10-10T08:41:47.091Z"
   },
   {
    "duration": 236,
    "start_time": "2022-10-10T08:42:13.663Z"
   },
   {
    "duration": 223,
    "start_time": "2022-10-10T08:42:18.402Z"
   },
   {
    "duration": 233,
    "start_time": "2022-10-10T08:42:25.387Z"
   },
   {
    "duration": 374,
    "start_time": "2022-10-10T08:42:29.008Z"
   },
   {
    "duration": 210,
    "start_time": "2022-10-10T08:42:41.121Z"
   },
   {
    "duration": 146,
    "start_time": "2022-10-10T08:42:44.729Z"
   },
   {
    "duration": 191,
    "start_time": "2022-10-10T08:42:52.895Z"
   },
   {
    "duration": 198,
    "start_time": "2022-10-10T08:43:01.099Z"
   },
   {
    "duration": 205,
    "start_time": "2022-10-10T08:44:29.115Z"
   },
   {
    "duration": 340,
    "start_time": "2022-10-10T08:44:46.077Z"
   },
   {
    "duration": 240,
    "start_time": "2022-10-10T08:45:24.772Z"
   },
   {
    "duration": 271,
    "start_time": "2022-10-10T08:46:19.407Z"
   },
   {
    "duration": 222,
    "start_time": "2022-10-10T08:46:50.834Z"
   },
   {
    "duration": 317,
    "start_time": "2022-10-10T08:46:56.554Z"
   },
   {
    "duration": 226,
    "start_time": "2022-10-10T08:47:38.509Z"
   },
   {
    "duration": 329,
    "start_time": "2022-10-10T08:47:49.395Z"
   },
   {
    "duration": 15,
    "start_time": "2022-10-10T08:48:20.030Z"
   },
   {
    "duration": 266,
    "start_time": "2022-10-10T08:48:28.987Z"
   },
   {
    "duration": 225,
    "start_time": "2022-10-10T08:48:36.574Z"
   },
   {
    "duration": 239,
    "start_time": "2022-10-10T08:51:40.660Z"
   },
   {
    "duration": 229,
    "start_time": "2022-10-10T08:51:52.215Z"
   },
   {
    "duration": 229,
    "start_time": "2022-10-10T08:52:34.751Z"
   },
   {
    "duration": 346,
    "start_time": "2022-10-10T08:52:45.795Z"
   },
   {
    "duration": 241,
    "start_time": "2022-10-10T08:52:52.535Z"
   },
   {
    "duration": 225,
    "start_time": "2022-10-10T08:55:14.703Z"
   },
   {
    "duration": 219,
    "start_time": "2022-10-10T08:56:14.703Z"
   },
   {
    "duration": 221,
    "start_time": "2022-10-10T08:57:02.052Z"
   },
   {
    "duration": 226,
    "start_time": "2022-10-10T08:57:34.259Z"
   },
   {
    "duration": 135,
    "start_time": "2022-10-10T11:43:49.632Z"
   },
   {
    "duration": 277,
    "start_time": "2022-10-10T11:44:15.074Z"
   },
   {
    "duration": 206,
    "start_time": "2022-10-10T11:44:18.740Z"
   },
   {
    "duration": 172,
    "start_time": "2022-10-10T11:44:21.760Z"
   },
   {
    "duration": 171,
    "start_time": "2022-10-10T11:44:25.515Z"
   },
   {
    "duration": 159,
    "start_time": "2022-10-10T11:44:37.955Z"
   },
   {
    "duration": 152,
    "start_time": "2022-10-10T11:45:08.337Z"
   },
   {
    "duration": 9,
    "start_time": "2022-10-10T11:49:02.413Z"
   },
   {
    "duration": 199,
    "start_time": "2022-10-10T11:49:29.797Z"
   },
   {
    "duration": 218,
    "start_time": "2022-10-10T11:49:51.474Z"
   },
   {
    "duration": 401,
    "start_time": "2022-10-10T11:50:28.796Z"
   },
   {
    "duration": 221,
    "start_time": "2022-10-10T11:50:34.764Z"
   },
   {
    "duration": 232,
    "start_time": "2022-10-10T11:51:13.684Z"
   },
   {
    "duration": 223,
    "start_time": "2022-10-10T11:51:28.164Z"
   },
   {
    "duration": 227,
    "start_time": "2022-10-10T11:51:35.382Z"
   },
   {
    "duration": 233,
    "start_time": "2022-10-10T11:51:42.583Z"
   },
   {
    "duration": 220,
    "start_time": "2022-10-10T11:51:48.596Z"
   },
   {
    "duration": 364,
    "start_time": "2022-10-10T11:51:52.304Z"
   },
   {
    "duration": 232,
    "start_time": "2022-10-10T11:52:37.744Z"
   },
   {
    "duration": 222,
    "start_time": "2022-10-10T11:52:58.332Z"
   },
   {
    "duration": 207,
    "start_time": "2022-10-10T11:54:36.275Z"
   },
   {
    "duration": 224,
    "start_time": "2022-10-10T11:55:47.588Z"
   },
   {
    "duration": 222,
    "start_time": "2022-10-10T11:55:56.242Z"
   },
   {
    "duration": 237,
    "start_time": "2022-10-10T11:56:48.634Z"
   },
   {
    "duration": 19,
    "start_time": "2022-10-10T11:57:20.482Z"
   },
   {
    "duration": 17,
    "start_time": "2022-10-10T11:57:45.598Z"
   },
   {
    "duration": 16,
    "start_time": "2022-10-10T11:59:23.389Z"
   },
   {
    "duration": 17,
    "start_time": "2022-10-10T11:59:29.699Z"
   },
   {
    "duration": 17,
    "start_time": "2022-10-10T11:59:42.063Z"
   },
   {
    "duration": 16,
    "start_time": "2022-10-10T11:59:57.297Z"
   },
   {
    "duration": 17,
    "start_time": "2022-10-10T12:02:47.588Z"
   },
   {
    "duration": 365,
    "start_time": "2022-10-10T13:12:24.345Z"
   },
   {
    "duration": 220,
    "start_time": "2022-10-10T13:12:37.667Z"
   },
   {
    "duration": 220,
    "start_time": "2022-10-10T13:12:44.682Z"
   },
   {
    "duration": 213,
    "start_time": "2022-10-10T13:12:57.159Z"
   },
   {
    "duration": 226,
    "start_time": "2022-10-10T13:41:46.751Z"
   },
   {
    "duration": 212,
    "start_time": "2022-10-10T13:42:18.552Z"
   },
   {
    "duration": 251,
    "start_time": "2022-10-10T13:43:55.616Z"
   },
   {
    "duration": 353,
    "start_time": "2022-10-10T13:44:03.343Z"
   },
   {
    "duration": 234,
    "start_time": "2022-10-10T13:44:07.900Z"
   },
   {
    "duration": 198,
    "start_time": "2022-10-10T13:46:13.989Z"
   },
   {
    "duration": 109,
    "start_time": "2022-10-10T13:48:16.693Z"
   },
   {
    "duration": 386,
    "start_time": "2022-10-10T13:48:22.929Z"
   },
   {
    "duration": 6,
    "start_time": "2022-10-10T13:48:37.457Z"
   },
   {
    "duration": 270,
    "start_time": "2022-10-10T13:50:16.487Z"
   },
   {
    "duration": 290,
    "start_time": "2022-10-10T13:50:23.125Z"
   },
   {
    "duration": 292,
    "start_time": "2022-10-10T13:50:26.761Z"
   },
   {
    "duration": 378,
    "start_time": "2022-10-10T13:51:36.212Z"
   },
   {
    "duration": 290,
    "start_time": "2022-10-10T13:51:42.653Z"
   },
   {
    "duration": 212,
    "start_time": "2022-10-10T13:52:04.095Z"
   },
   {
    "duration": 7,
    "start_time": "2022-10-10T13:52:31.853Z"
   },
   {
    "duration": 12,
    "start_time": "2022-10-10T13:52:49.038Z"
   },
   {
    "duration": 1625,
    "start_time": "2022-10-10T13:54:02.870Z"
   },
   {
    "duration": 14,
    "start_time": "2022-10-10T13:54:41.442Z"
   },
   {
    "duration": 8,
    "start_time": "2022-10-10T13:54:50.941Z"
   },
   {
    "duration": 238,
    "start_time": "2022-10-10T13:54:53.017Z"
   },
   {
    "duration": 11,
    "start_time": "2022-10-10T13:55:01.416Z"
   },
   {
    "duration": 3712,
    "start_time": "2022-10-10T13:55:06.125Z"
   },
   {
    "duration": 108,
    "start_time": "2022-10-10T13:55:21.336Z"
   },
   {
    "duration": 150,
    "start_time": "2022-10-10T13:55:57.586Z"
   },
   {
    "duration": 1473,
    "start_time": "2022-10-10T14:00:54.023Z"
   },
   {
    "duration": 240,
    "start_time": "2022-10-10T14:58:08.418Z"
   },
   {
    "duration": 7,
    "start_time": "2022-10-10T14:59:05.761Z"
   },
   {
    "duration": 221,
    "start_time": "2022-10-10T14:59:07.559Z"
   },
   {
    "duration": 223,
    "start_time": "2022-10-10T14:59:36.256Z"
   },
   {
    "duration": 369,
    "start_time": "2022-10-10T14:59:49.705Z"
   },
   {
    "duration": 233,
    "start_time": "2022-10-10T15:01:04.356Z"
   },
   {
    "duration": 146,
    "start_time": "2022-10-10T15:01:40.601Z"
   },
   {
    "duration": 171,
    "start_time": "2022-10-10T15:02:42.520Z"
   },
   {
    "duration": 150,
    "start_time": "2022-10-10T15:02:49.649Z"
   },
   {
    "duration": 156,
    "start_time": "2022-10-10T15:03:01.139Z"
   },
   {
    "duration": 152,
    "start_time": "2022-10-10T15:03:06.268Z"
   },
   {
    "duration": 155,
    "start_time": "2022-10-10T15:03:11.299Z"
   },
   {
    "duration": 146,
    "start_time": "2022-10-10T15:03:17.957Z"
   },
   {
    "duration": 144,
    "start_time": "2022-10-10T15:04:36.393Z"
   },
   {
    "duration": 3,
    "start_time": "2022-10-10T15:06:33.614Z"
   },
   {
    "duration": 7,
    "start_time": "2022-10-10T15:07:07.880Z"
   },
   {
    "duration": 3,
    "start_time": "2022-10-10T15:07:09.905Z"
   },
   {
    "duration": 11,
    "start_time": "2022-10-10T15:07:41.034Z"
   },
   {
    "duration": 9,
    "start_time": "2022-10-10T15:07:42.669Z"
   },
   {
    "duration": 3,
    "start_time": "2022-10-10T15:07:44.217Z"
   },
   {
    "duration": 163,
    "start_time": "2022-10-10T15:07:50.270Z"
   },
   {
    "duration": 8,
    "start_time": "2022-10-10T15:08:14.274Z"
   },
   {
    "duration": 8,
    "start_time": "2022-10-10T15:08:15.873Z"
   },
   {
    "duration": 8,
    "start_time": "2022-10-10T15:08:17.471Z"
   },
   {
    "duration": 4,
    "start_time": "2022-10-10T15:08:19.054Z"
   },
   {
    "duration": 154,
    "start_time": "2022-10-10T15:08:21.230Z"
   },
   {
    "duration": 1326,
    "start_time": "2022-10-10T15:08:35.097Z"
   },
   {
    "duration": 3,
    "start_time": "2022-10-10T15:08:36.425Z"
   },
   {
    "duration": 349,
    "start_time": "2022-10-10T15:08:36.430Z"
   },
   {
    "duration": 16,
    "start_time": "2022-10-10T15:08:36.781Z"
   },
   {
    "duration": 340,
    "start_time": "2022-10-10T15:08:36.799Z"
   },
   {
    "duration": 114,
    "start_time": "2022-10-10T15:08:37.140Z"
   },
   {
    "duration": 13,
    "start_time": "2022-10-10T15:08:37.255Z"
   },
   {
    "duration": 164,
    "start_time": "2022-10-10T15:08:37.270Z"
   },
   {
    "duration": 415,
    "start_time": "2022-10-10T15:08:37.436Z"
   },
   {
    "duration": 18,
    "start_time": "2022-10-10T15:08:37.854Z"
   },
   {
    "duration": 311,
    "start_time": "2022-10-10T15:08:37.874Z"
   },
   {
    "duration": 5,
    "start_time": "2022-10-10T15:08:38.186Z"
   },
   {
    "duration": 9,
    "start_time": "2022-10-10T15:08:38.193Z"
   },
   {
    "duration": 19,
    "start_time": "2022-10-10T15:08:38.203Z"
   },
   {
    "duration": 18,
    "start_time": "2022-10-10T15:08:38.224Z"
   },
   {
    "duration": 8,
    "start_time": "2022-10-10T15:08:38.243Z"
   },
   {
    "duration": 12,
    "start_time": "2022-10-10T15:08:38.253Z"
   },
   {
    "duration": 13,
    "start_time": "2022-10-10T15:08:38.267Z"
   },
   {
    "duration": 12697,
    "start_time": "2022-10-10T15:08:38.282Z"
   },
   {
    "duration": 16,
    "start_time": "2022-10-10T15:08:50.981Z"
   },
   {
    "duration": 23,
    "start_time": "2022-10-10T15:08:50.998Z"
   },
   {
    "duration": 26,
    "start_time": "2022-10-10T15:08:51.024Z"
   },
   {
    "duration": 9,
    "start_time": "2022-10-10T15:08:51.052Z"
   },
   {
    "duration": 12,
    "start_time": "2022-10-10T15:08:51.063Z"
   },
   {
    "duration": 23,
    "start_time": "2022-10-10T15:08:51.077Z"
   },
   {
    "duration": 24,
    "start_time": "2022-10-10T15:08:51.121Z"
   },
   {
    "duration": 8,
    "start_time": "2022-10-10T15:08:51.146Z"
   },
   {
    "duration": 335,
    "start_time": "2022-10-10T15:08:51.157Z"
   },
   {
    "duration": 248,
    "start_time": "2022-10-10T15:08:51.494Z"
   },
   {
    "duration": 258,
    "start_time": "2022-10-10T15:08:51.744Z"
   },
   {
    "duration": 237,
    "start_time": "2022-10-10T15:08:52.004Z"
   },
   {
    "duration": 239,
    "start_time": "2022-10-10T15:08:52.243Z"
   },
   {
    "duration": 17,
    "start_time": "2022-10-10T15:08:52.484Z"
   },
   {
    "duration": 32,
    "start_time": "2022-10-10T15:08:52.503Z"
   },
   {
    "duration": 9,
    "start_time": "2022-10-10T15:08:52.537Z"
   },
   {
    "duration": 346,
    "start_time": "2022-10-10T15:08:52.548Z"
   },
   {
    "duration": 164,
    "start_time": "2022-10-10T15:08:52.896Z"
   },
   {
    "duration": 7,
    "start_time": "2022-10-10T15:08:53.062Z"
   },
   {
    "duration": 27,
    "start_time": "2022-10-10T15:08:53.071Z"
   },
   {
    "duration": 9,
    "start_time": "2022-10-10T15:08:53.100Z"
   },
   {
    "duration": 4,
    "start_time": "2022-10-10T15:08:53.110Z"
   },
   {
    "duration": 11,
    "start_time": "2022-10-10T15:10:02.763Z"
   },
   {
    "duration": 7,
    "start_time": "2022-10-10T15:10:04.531Z"
   },
   {
    "duration": 7,
    "start_time": "2022-10-10T15:10:06.367Z"
   },
   {
    "duration": 3,
    "start_time": "2022-10-10T15:10:08.033Z"
   },
   {
    "duration": 1438,
    "start_time": "2022-10-10T15:11:42.286Z"
   },
   {
    "duration": 3,
    "start_time": "2022-10-10T15:11:43.726Z"
   },
   {
    "duration": 357,
    "start_time": "2022-10-10T15:11:43.730Z"
   },
   {
    "duration": 17,
    "start_time": "2022-10-10T15:11:44.089Z"
   },
   {
    "duration": 324,
    "start_time": "2022-10-10T15:11:44.107Z"
   },
   {
    "duration": 119,
    "start_time": "2022-10-10T15:11:44.432Z"
   },
   {
    "duration": 12,
    "start_time": "2022-10-10T15:11:44.554Z"
   },
   {
    "duration": 177,
    "start_time": "2022-10-10T15:11:44.568Z"
   },
   {
    "duration": 396,
    "start_time": "2022-10-10T15:11:44.747Z"
   },
   {
    "duration": 18,
    "start_time": "2022-10-10T15:11:45.146Z"
   },
   {
    "duration": 558,
    "start_time": "2022-10-10T15:11:45.166Z"
   },
   {
    "duration": 6,
    "start_time": "2022-10-10T15:11:45.725Z"
   },
   {
    "duration": 13,
    "start_time": "2022-10-10T15:11:45.732Z"
   },
   {
    "duration": 15,
    "start_time": "2022-10-10T15:11:45.747Z"
   },
   {
    "duration": 66,
    "start_time": "2022-10-10T15:11:45.764Z"
   },
   {
    "duration": 12,
    "start_time": "2022-10-10T15:11:45.832Z"
   },
   {
    "duration": 74,
    "start_time": "2022-10-10T15:11:45.847Z"
   },
   {
    "duration": 13,
    "start_time": "2022-10-10T15:11:45.923Z"
   },
   {
    "duration": 12405,
    "start_time": "2022-10-10T15:11:45.937Z"
   },
   {
    "duration": 16,
    "start_time": "2022-10-10T15:11:58.344Z"
   },
   {
    "duration": 10,
    "start_time": "2022-10-10T15:11:58.362Z"
   },
   {
    "duration": 46,
    "start_time": "2022-10-10T15:11:58.374Z"
   },
   {
    "duration": 9,
    "start_time": "2022-10-10T15:11:58.423Z"
   },
   {
    "duration": 13,
    "start_time": "2022-10-10T15:11:58.434Z"
   },
   {
    "duration": 27,
    "start_time": "2022-10-10T15:11:58.449Z"
   },
   {
    "duration": 47,
    "start_time": "2022-10-10T15:11:58.478Z"
   },
   {
    "duration": 15,
    "start_time": "2022-10-10T15:11:58.527Z"
   },
   {
    "duration": 337,
    "start_time": "2022-10-10T15:11:58.546Z"
   },
   {
    "duration": 334,
    "start_time": "2022-10-10T15:11:58.885Z"
   },
   {
    "duration": 237,
    "start_time": "2022-10-10T15:11:59.222Z"
   },
   {
    "duration": 224,
    "start_time": "2022-10-10T15:11:59.461Z"
   },
   {
    "duration": 237,
    "start_time": "2022-10-10T15:11:59.687Z"
   },
   {
    "duration": 17,
    "start_time": "2022-10-10T15:11:59.926Z"
   },
   {
    "duration": 16,
    "start_time": "2022-10-10T15:11:59.945Z"
   },
   {
    "duration": 8,
    "start_time": "2022-10-10T15:11:59.963Z"
   },
   {
    "duration": 360,
    "start_time": "2022-10-10T15:11:59.972Z"
   },
   {
    "duration": 170,
    "start_time": "2022-10-10T15:12:00.334Z"
   },
   {
    "duration": 15,
    "start_time": "2022-10-10T15:12:00.506Z"
   },
   {
    "duration": 67,
    "start_time": "2022-10-10T15:12:00.523Z"
   },
   {
    "duration": 63,
    "start_time": "2022-10-10T15:12:00.592Z"
   },
   {
    "duration": 67,
    "start_time": "2022-10-10T15:12:00.657Z"
   },
   {
    "duration": 171,
    "start_time": "2022-10-10T15:15:15.310Z"
   },
   {
    "duration": 1413,
    "start_time": "2022-10-10T15:20:55.607Z"
   },
   {
    "duration": 3,
    "start_time": "2022-10-10T15:20:57.022Z"
   },
   {
    "duration": 350,
    "start_time": "2022-10-10T15:20:57.027Z"
   },
   {
    "duration": 17,
    "start_time": "2022-10-10T15:20:57.379Z"
   },
   {
    "duration": 565,
    "start_time": "2022-10-10T15:20:57.398Z"
   },
   {
    "duration": 258,
    "start_time": "2022-10-10T15:20:57.964Z"
   },
   {
    "duration": 19,
    "start_time": "2022-10-10T15:20:58.225Z"
   },
   {
    "duration": 374,
    "start_time": "2022-10-10T15:20:58.246Z"
   },
   {
    "duration": 829,
    "start_time": "2022-10-10T15:20:58.623Z"
   },
   {
    "duration": 18,
    "start_time": "2022-10-10T15:20:59.455Z"
   },
   {
    "duration": 322,
    "start_time": "2022-10-10T15:20:59.474Z"
   },
   {
    "duration": 5,
    "start_time": "2022-10-10T15:20:59.798Z"
   },
   {
    "duration": 17,
    "start_time": "2022-10-10T15:20:59.804Z"
   },
   {
    "duration": 4,
    "start_time": "2022-10-10T15:20:59.823Z"
   },
   {
    "duration": 18,
    "start_time": "2022-10-10T15:20:59.828Z"
   },
   {
    "duration": 7,
    "start_time": "2022-10-10T15:20:59.848Z"
   },
   {
    "duration": 33,
    "start_time": "2022-10-10T15:20:59.857Z"
   },
   {
    "duration": 13,
    "start_time": "2022-10-10T15:20:59.891Z"
   },
   {
    "duration": 12755,
    "start_time": "2022-10-10T15:20:59.906Z"
   },
   {
    "duration": 17,
    "start_time": "2022-10-10T15:21:12.663Z"
   },
   {
    "duration": 9,
    "start_time": "2022-10-10T15:21:12.682Z"
   },
   {
    "duration": 46,
    "start_time": "2022-10-10T15:21:12.693Z"
   },
   {
    "duration": 9,
    "start_time": "2022-10-10T15:21:12.741Z"
   },
   {
    "duration": 9,
    "start_time": "2022-10-10T15:21:12.752Z"
   },
   {
    "duration": 20,
    "start_time": "2022-10-10T15:21:12.763Z"
   },
   {
    "duration": 42,
    "start_time": "2022-10-10T15:21:12.785Z"
   },
   {
    "duration": 8,
    "start_time": "2022-10-10T15:21:12.829Z"
   },
   {
    "duration": 318,
    "start_time": "2022-10-10T15:21:12.841Z"
   },
   {
    "duration": 232,
    "start_time": "2022-10-10T15:21:13.160Z"
   },
   {
    "duration": 239,
    "start_time": "2022-10-10T15:21:13.394Z"
   },
   {
    "duration": 228,
    "start_time": "2022-10-10T15:21:13.635Z"
   },
   {
    "duration": 242,
    "start_time": "2022-10-10T15:21:13.865Z"
   },
   {
    "duration": 25,
    "start_time": "2022-10-10T15:21:14.109Z"
   },
   {
    "duration": 15,
    "start_time": "2022-10-10T15:21:14.135Z"
   },
   {
    "duration": 9,
    "start_time": "2022-10-10T15:21:14.152Z"
   },
   {
    "duration": 327,
    "start_time": "2022-10-10T15:21:14.162Z"
   },
   {
    "duration": 158,
    "start_time": "2022-10-10T15:21:14.490Z"
   },
   {
    "duration": 9,
    "start_time": "2022-10-10T15:21:14.649Z"
   },
   {
    "duration": 22,
    "start_time": "2022-10-10T15:21:14.659Z"
   },
   {
    "duration": 10,
    "start_time": "2022-10-10T15:21:14.682Z"
   },
   {
    "duration": 3,
    "start_time": "2022-10-10T15:21:14.694Z"
   },
   {
    "duration": 225,
    "start_time": "2022-10-10T15:23:55.651Z"
   },
   {
    "duration": 158,
    "start_time": "2022-10-10T15:24:24.228Z"
   },
   {
    "duration": 1337,
    "start_time": "2022-10-10T15:39:51.187Z"
   },
   {
    "duration": 3,
    "start_time": "2022-10-10T15:39:52.526Z"
   },
   {
    "duration": 380,
    "start_time": "2022-10-10T15:39:52.531Z"
   },
   {
    "duration": 21,
    "start_time": "2022-10-10T15:39:52.913Z"
   },
   {
    "duration": 330,
    "start_time": "2022-10-10T15:39:52.936Z"
   },
   {
    "duration": 190,
    "start_time": "2022-10-10T15:39:53.268Z"
   },
   {
    "duration": 70,
    "start_time": "2022-10-10T15:39:53.460Z"
   },
   {
    "duration": 333,
    "start_time": "2022-10-10T15:39:53.532Z"
   },
   {
    "duration": 796,
    "start_time": "2022-10-10T15:39:53.867Z"
   },
   {
    "duration": 72,
    "start_time": "2022-10-10T15:39:54.665Z"
   },
   {
    "duration": 566,
    "start_time": "2022-10-10T15:39:54.738Z"
   },
   {
    "duration": 5,
    "start_time": "2022-10-10T15:39:55.305Z"
   },
   {
    "duration": 20,
    "start_time": "2022-10-10T15:39:55.319Z"
   },
   {
    "duration": 11,
    "start_time": "2022-10-10T15:39:55.341Z"
   },
   {
    "duration": 23,
    "start_time": "2022-10-10T15:39:55.354Z"
   },
   {
    "duration": 8,
    "start_time": "2022-10-10T15:39:55.379Z"
   },
   {
    "duration": 15,
    "start_time": "2022-10-10T15:39:55.388Z"
   },
   {
    "duration": 16,
    "start_time": "2022-10-10T15:39:55.405Z"
   },
   {
    "duration": 11957,
    "start_time": "2022-10-10T15:39:55.423Z"
   },
   {
    "duration": 15,
    "start_time": "2022-10-10T15:40:07.381Z"
   },
   {
    "duration": 16,
    "start_time": "2022-10-10T15:40:07.398Z"
   },
   {
    "duration": 47,
    "start_time": "2022-10-10T15:40:07.420Z"
   },
   {
    "duration": 8,
    "start_time": "2022-10-10T15:40:07.469Z"
   },
   {
    "duration": 28,
    "start_time": "2022-10-10T15:40:07.478Z"
   },
   {
    "duration": 30,
    "start_time": "2022-10-10T15:40:07.508Z"
   },
   {
    "duration": 28,
    "start_time": "2022-10-10T15:40:07.540Z"
   },
   {
    "duration": 13,
    "start_time": "2022-10-10T15:40:07.569Z"
   },
   {
    "duration": 342,
    "start_time": "2022-10-10T15:40:07.585Z"
   },
   {
    "duration": 242,
    "start_time": "2022-10-10T15:40:07.929Z"
   },
   {
    "duration": 256,
    "start_time": "2022-10-10T15:40:08.173Z"
   },
   {
    "duration": 237,
    "start_time": "2022-10-10T15:40:08.430Z"
   },
   {
    "duration": 256,
    "start_time": "2022-10-10T15:40:08.668Z"
   },
   {
    "duration": 22,
    "start_time": "2022-10-10T15:40:08.926Z"
   },
   {
    "duration": 46,
    "start_time": "2022-10-10T15:40:08.950Z"
   },
   {
    "duration": 10,
    "start_time": "2022-10-10T15:40:08.998Z"
   },
   {
    "duration": 374,
    "start_time": "2022-10-10T15:40:09.010Z"
   },
   {
    "duration": 170,
    "start_time": "2022-10-10T15:40:09.386Z"
   },
   {
    "duration": 9,
    "start_time": "2022-10-10T15:40:09.558Z"
   },
   {
    "duration": 17,
    "start_time": "2022-10-10T15:40:09.568Z"
   },
   {
    "duration": 10,
    "start_time": "2022-10-10T15:40:09.587Z"
   },
   {
    "duration": 14,
    "start_time": "2022-10-10T15:41:37.558Z"
   },
   {
    "duration": 16,
    "start_time": "2022-10-10T15:41:39.476Z"
   },
   {
    "duration": 12,
    "start_time": "2022-10-10T15:41:59.378Z"
   },
   {
    "duration": 25,
    "start_time": "2022-10-10T15:42:11.052Z"
   },
   {
    "duration": 12,
    "start_time": "2022-10-10T15:42:15.231Z"
   },
   {
    "duration": 1356,
    "start_time": "2022-10-11T06:51:55.985Z"
   },
   {
    "duration": 2,
    "start_time": "2022-10-11T06:51:57.343Z"
   },
   {
    "duration": 883,
    "start_time": "2022-10-11T06:51:57.347Z"
   },
   {
    "duration": 18,
    "start_time": "2022-10-11T06:51:58.231Z"
   },
   {
    "duration": 281,
    "start_time": "2022-10-11T06:51:58.251Z"
   },
   {
    "duration": 498,
    "start_time": "2022-10-11T06:51:58.534Z"
   },
   {
    "duration": 14,
    "start_time": "2022-10-11T06:51:59.034Z"
   },
   {
    "duration": 164,
    "start_time": "2022-10-11T06:51:59.050Z"
   },
   {
    "duration": 1879,
    "start_time": "2022-10-11T06:51:59.215Z"
   },
   {
    "duration": 17,
    "start_time": "2022-10-11T06:52:01.096Z"
   },
   {
    "duration": 279,
    "start_time": "2022-10-11T06:52:01.114Z"
   },
   {
    "duration": 4,
    "start_time": "2022-10-11T06:52:01.395Z"
   },
   {
    "duration": 24,
    "start_time": "2022-10-11T06:52:01.401Z"
   },
   {
    "duration": 12,
    "start_time": "2022-10-11T06:52:01.426Z"
   },
   {
    "duration": 41,
    "start_time": "2022-10-11T06:52:01.439Z"
   },
   {
    "duration": 32,
    "start_time": "2022-10-11T06:52:01.481Z"
   },
   {
    "duration": 16,
    "start_time": "2022-10-11T06:52:01.514Z"
   },
   {
    "duration": 13,
    "start_time": "2022-10-11T06:52:01.531Z"
   },
   {
    "duration": 10089,
    "start_time": "2022-10-11T06:52:01.546Z"
   },
   {
    "duration": 14,
    "start_time": "2022-10-11T06:52:11.637Z"
   },
   {
    "duration": 9,
    "start_time": "2022-10-11T06:52:11.653Z"
   },
   {
    "duration": 23,
    "start_time": "2022-10-11T06:52:11.663Z"
   },
   {
    "duration": 8,
    "start_time": "2022-10-11T06:52:11.688Z"
   },
   {
    "duration": 8,
    "start_time": "2022-10-11T06:52:11.723Z"
   },
   {
    "duration": 26,
    "start_time": "2022-10-11T06:52:11.732Z"
   },
   {
    "duration": 27,
    "start_time": "2022-10-11T06:52:11.760Z"
   },
   {
    "duration": 6,
    "start_time": "2022-10-11T06:52:11.789Z"
   },
   {
    "duration": 283,
    "start_time": "2022-10-11T06:52:11.798Z"
   },
   {
    "duration": 209,
    "start_time": "2022-10-11T06:52:12.083Z"
   },
   {
    "duration": 209,
    "start_time": "2022-10-11T06:52:12.294Z"
   },
   {
    "duration": 188,
    "start_time": "2022-10-11T06:52:12.504Z"
   },
   {
    "duration": 218,
    "start_time": "2022-10-11T06:52:12.694Z"
   },
   {
    "duration": 20,
    "start_time": "2022-10-11T06:52:12.913Z"
   },
   {
    "duration": 14,
    "start_time": "2022-10-11T06:52:12.935Z"
   },
   {
    "duration": 8,
    "start_time": "2022-10-11T06:52:12.951Z"
   },
   {
    "duration": 318,
    "start_time": "2022-10-11T06:52:12.961Z"
   },
   {
    "duration": 147,
    "start_time": "2022-10-11T06:52:13.280Z"
   },
   {
    "duration": 8,
    "start_time": "2022-10-11T06:52:13.429Z"
   },
   {
    "duration": 10,
    "start_time": "2022-10-11T06:52:13.438Z"
   },
   {
    "duration": 6,
    "start_time": "2022-10-11T06:52:13.449Z"
   },
   {
    "duration": 11,
    "start_time": "2022-10-11T06:52:13.457Z"
   },
   {
    "duration": 9,
    "start_time": "2022-10-11T06:52:13.469Z"
   },
   {
    "duration": 5,
    "start_time": "2022-10-11T07:16:51.059Z"
   },
   {
    "duration": 4,
    "start_time": "2022-10-11T07:16:52.597Z"
   },
   {
    "duration": 13,
    "start_time": "2022-10-11T07:16:59.137Z"
   },
   {
    "duration": 11,
    "start_time": "2022-10-11T07:17:54.348Z"
   },
   {
    "duration": 5,
    "start_time": "2022-10-11T08:23:07.913Z"
   },
   {
    "duration": 5,
    "start_time": "2022-10-11T08:23:09.563Z"
   },
   {
    "duration": 17,
    "start_time": "2022-10-11T08:23:17.033Z"
   },
   {
    "duration": 100,
    "start_time": "2022-10-11T08:23:30.763Z"
   },
   {
    "duration": 5,
    "start_time": "2022-10-11T08:23:40.768Z"
   },
   {
    "duration": 3,
    "start_time": "2022-10-11T08:27:31.942Z"
   },
   {
    "duration": 16,
    "start_time": "2022-10-11T08:29:38.678Z"
   },
   {
    "duration": 14,
    "start_time": "2022-10-11T08:32:15.950Z"
   },
   {
    "duration": 38,
    "start_time": "2022-10-11T08:34:14.938Z"
   },
   {
    "duration": 15,
    "start_time": "2022-10-11T08:35:19.694Z"
   },
   {
    "duration": 14,
    "start_time": "2022-10-11T08:35:53.604Z"
   },
   {
    "duration": 1271,
    "start_time": "2022-10-11T08:36:48.564Z"
   },
   {
    "duration": 3,
    "start_time": "2022-10-11T08:36:49.836Z"
   },
   {
    "duration": 339,
    "start_time": "2022-10-11T08:36:49.840Z"
   },
   {
    "duration": 15,
    "start_time": "2022-10-11T08:36:50.181Z"
   },
   {
    "duration": 314,
    "start_time": "2022-10-11T08:36:50.198Z"
   },
   {
    "duration": 115,
    "start_time": "2022-10-11T08:36:50.514Z"
   },
   {
    "duration": 12,
    "start_time": "2022-10-11T08:36:50.631Z"
   },
   {
    "duration": 167,
    "start_time": "2022-10-11T08:36:50.645Z"
   },
   {
    "duration": 392,
    "start_time": "2022-10-11T08:36:50.813Z"
   },
   {
    "duration": 21,
    "start_time": "2022-10-11T08:36:51.208Z"
   },
   {
    "duration": 295,
    "start_time": "2022-10-11T08:36:51.231Z"
   },
   {
    "duration": 6,
    "start_time": "2022-10-11T08:36:51.528Z"
   },
   {
    "duration": 26,
    "start_time": "2022-10-11T08:36:51.535Z"
   },
   {
    "duration": 15,
    "start_time": "2022-10-11T08:36:51.563Z"
   },
   {
    "duration": 22,
    "start_time": "2022-10-11T08:36:51.579Z"
   },
   {
    "duration": 18,
    "start_time": "2022-10-11T08:36:51.602Z"
   },
   {
    "duration": 12,
    "start_time": "2022-10-11T08:36:51.622Z"
   },
   {
    "duration": 26,
    "start_time": "2022-10-11T08:36:51.636Z"
   },
   {
    "duration": 11273,
    "start_time": "2022-10-11T08:36:51.663Z"
   },
   {
    "duration": 15,
    "start_time": "2022-10-11T08:37:02.938Z"
   },
   {
    "duration": 10,
    "start_time": "2022-10-11T08:37:02.955Z"
   },
   {
    "duration": 26,
    "start_time": "2022-10-11T08:37:02.966Z"
   },
   {
    "duration": 31,
    "start_time": "2022-10-11T08:37:02.993Z"
   },
   {
    "duration": 11,
    "start_time": "2022-10-11T08:37:03.026Z"
   },
   {
    "duration": 27,
    "start_time": "2022-10-11T08:37:03.038Z"
   },
   {
    "duration": 33,
    "start_time": "2022-10-11T08:37:03.066Z"
   },
   {
    "duration": 8,
    "start_time": "2022-10-11T08:37:03.101Z"
   },
   {
    "duration": 303,
    "start_time": "2022-10-11T08:37:03.112Z"
   },
   {
    "duration": 219,
    "start_time": "2022-10-11T08:37:03.416Z"
   },
   {
    "duration": 219,
    "start_time": "2022-10-11T08:37:03.637Z"
   },
   {
    "duration": 203,
    "start_time": "2022-10-11T08:37:03.857Z"
   },
   {
    "duration": 217,
    "start_time": "2022-10-11T08:37:04.061Z"
   },
   {
    "duration": 15,
    "start_time": "2022-10-11T08:37:04.280Z"
   },
   {
    "duration": 31,
    "start_time": "2022-10-11T08:37:04.296Z"
   },
   {
    "duration": 9,
    "start_time": "2022-10-11T08:37:04.331Z"
   },
   {
    "duration": 297,
    "start_time": "2022-10-11T08:37:04.341Z"
   },
   {
    "duration": 149,
    "start_time": "2022-10-11T08:37:04.639Z"
   },
   {
    "duration": 8,
    "start_time": "2022-10-11T08:37:04.790Z"
   },
   {
    "duration": 12,
    "start_time": "2022-10-11T08:37:04.799Z"
   },
   {
    "duration": 8,
    "start_time": "2022-10-11T08:37:04.833Z"
   },
   {
    "duration": 16,
    "start_time": "2022-10-11T08:37:04.842Z"
   },
   {
    "duration": 9,
    "start_time": "2022-10-11T08:37:04.860Z"
   },
   {
    "duration": 4,
    "start_time": "2022-10-11T08:37:04.870Z"
   },
   {
    "duration": 6,
    "start_time": "2022-10-11T08:37:04.876Z"
   },
   {
    "duration": 7,
    "start_time": "2022-10-11T08:37:04.884Z"
   },
   {
    "duration": 7,
    "start_time": "2022-10-11T08:37:04.892Z"
   },
   {
    "duration": 36,
    "start_time": "2022-10-11T08:37:04.900Z"
   },
   {
    "duration": 4,
    "start_time": "2022-10-11T09:06:24.986Z"
   },
   {
    "duration": 110,
    "start_time": "2022-10-11T09:06:36.070Z"
   },
   {
    "duration": 7,
    "start_time": "2022-10-11T09:06:43.099Z"
   },
   {
    "duration": 4,
    "start_time": "2022-10-11T09:06:48.760Z"
   },
   {
    "duration": 4,
    "start_time": "2022-10-11T09:08:23.213Z"
   },
   {
    "duration": 3,
    "start_time": "2022-10-11T09:15:11.594Z"
   },
   {
    "duration": 3,
    "start_time": "2022-10-11T10:01:37.440Z"
   },
   {
    "duration": 4,
    "start_time": "2022-10-11T10:02:19.632Z"
   },
   {
    "duration": 3,
    "start_time": "2022-10-11T10:53:51.181Z"
   },
   {
    "duration": 27,
    "start_time": "2022-10-11T11:18:15.146Z"
   },
   {
    "duration": 4,
    "start_time": "2022-10-11T11:23:55.450Z"
   },
   {
    "duration": 133,
    "start_time": "2022-10-11T11:32:07.835Z"
   },
   {
    "duration": 5,
    "start_time": "2022-10-11T11:32:20.735Z"
   },
   {
    "duration": 74,
    "start_time": "2022-10-11T11:32:31.126Z"
   },
   {
    "duration": 4,
    "start_time": "2022-10-11T11:32:55.377Z"
   },
   {
    "duration": 1592586,
    "start_time": "2022-10-11T11:32:59.042Z"
   },
   {
    "duration": 1200,
    "start_time": "2022-10-11T12:26:40.329Z"
   },
   {
    "duration": 1285,
    "start_time": "2022-10-11T12:26:45.541Z"
   },
   {
    "duration": 3,
    "start_time": "2022-10-11T12:28:52.395Z"
   },
   {
    "duration": 1401,
    "start_time": "2022-10-11T12:28:57.722Z"
   },
   {
    "duration": 1334,
    "start_time": "2022-10-11T12:29:02.291Z"
   },
   {
    "duration": 3,
    "start_time": "2022-10-11T12:29:31.338Z"
   },
   {
    "duration": 4,
    "start_time": "2022-10-11T12:29:51.752Z"
   },
   {
    "duration": 1173,
    "start_time": "2022-10-11T12:29:56.650Z"
   },
   {
    "duration": 4,
    "start_time": "2022-10-11T12:30:20.568Z"
   },
   {
    "duration": 1322,
    "start_time": "2022-10-11T12:30:24.801Z"
   },
   {
    "duration": 1239,
    "start_time": "2022-10-11T12:30:35.483Z"
   },
   {
    "duration": 4,
    "start_time": "2022-10-11T12:30:46.667Z"
   },
   {
    "duration": 1290,
    "start_time": "2022-10-11T12:30:55.538Z"
   },
   {
    "duration": 1421,
    "start_time": "2022-10-11T12:31:11.635Z"
   },
   {
    "duration": 2,
    "start_time": "2022-10-11T12:31:13.059Z"
   },
   {
    "duration": 344,
    "start_time": "2022-10-11T12:31:13.064Z"
   },
   {
    "duration": 18,
    "start_time": "2022-10-11T12:31:13.409Z"
   },
   {
    "duration": 323,
    "start_time": "2022-10-11T12:31:13.429Z"
   },
   {
    "duration": 110,
    "start_time": "2022-10-11T12:31:13.755Z"
   },
   {
    "duration": 13,
    "start_time": "2022-10-11T12:31:13.867Z"
   },
   {
    "duration": 150,
    "start_time": "2022-10-11T12:31:13.881Z"
   },
   {
    "duration": 380,
    "start_time": "2022-10-11T12:31:14.033Z"
   },
   {
    "duration": 21,
    "start_time": "2022-10-11T12:31:14.414Z"
   },
   {
    "duration": 287,
    "start_time": "2022-10-11T12:31:14.436Z"
   },
   {
    "duration": 5,
    "start_time": "2022-10-11T12:31:14.726Z"
   },
   {
    "duration": 9,
    "start_time": "2022-10-11T12:31:14.733Z"
   },
   {
    "duration": 8,
    "start_time": "2022-10-11T12:31:14.745Z"
   },
   {
    "duration": 16,
    "start_time": "2022-10-11T12:31:14.754Z"
   },
   {
    "duration": 6,
    "start_time": "2022-10-11T12:31:14.772Z"
   },
   {
    "duration": 13,
    "start_time": "2022-10-11T12:31:14.780Z"
   },
   {
    "duration": 36,
    "start_time": "2022-10-11T12:31:14.794Z"
   },
   {
    "duration": 10649,
    "start_time": "2022-10-11T12:31:14.832Z"
   },
   {
    "duration": 14,
    "start_time": "2022-10-11T12:31:25.482Z"
   },
   {
    "duration": 16,
    "start_time": "2022-10-11T12:31:25.498Z"
   },
   {
    "duration": 27,
    "start_time": "2022-10-11T12:31:25.522Z"
   },
   {
    "duration": 9,
    "start_time": "2022-10-11T12:31:25.551Z"
   },
   {
    "duration": 17,
    "start_time": "2022-10-11T12:31:25.561Z"
   },
   {
    "duration": 30,
    "start_time": "2022-10-11T12:31:25.580Z"
   },
   {
    "duration": 23,
    "start_time": "2022-10-11T12:31:25.611Z"
   },
   {
    "duration": 7,
    "start_time": "2022-10-11T12:31:25.635Z"
   },
   {
    "duration": 328,
    "start_time": "2022-10-11T12:31:25.644Z"
   },
   {
    "duration": 228,
    "start_time": "2022-10-11T12:31:25.974Z"
   },
   {
    "duration": 221,
    "start_time": "2022-10-11T12:31:26.204Z"
   },
   {
    "duration": 205,
    "start_time": "2022-10-11T12:31:26.427Z"
   },
   {
    "duration": 208,
    "start_time": "2022-10-11T12:31:26.633Z"
   },
   {
    "duration": 14,
    "start_time": "2022-10-11T12:31:26.843Z"
   },
   {
    "duration": 12,
    "start_time": "2022-10-11T12:31:26.859Z"
   },
   {
    "duration": 7,
    "start_time": "2022-10-11T12:31:26.872Z"
   },
   {
    "duration": 251,
    "start_time": "2022-10-11T12:31:26.880Z"
   },
   {
    "duration": 249,
    "start_time": "2022-10-11T12:31:27.133Z"
   },
   {
    "duration": 9,
    "start_time": "2022-10-11T12:31:27.383Z"
   },
   {
    "duration": 15,
    "start_time": "2022-10-11T12:31:27.393Z"
   },
   {
    "duration": 17,
    "start_time": "2022-10-11T12:31:27.410Z"
   },
   {
    "duration": 12,
    "start_time": "2022-10-11T12:31:27.431Z"
   },
   {
    "duration": 10,
    "start_time": "2022-10-11T12:31:27.445Z"
   },
   {
    "duration": 6,
    "start_time": "2022-10-11T12:31:27.457Z"
   },
   {
    "duration": 9,
    "start_time": "2022-10-11T12:31:27.465Z"
   },
   {
    "duration": 7,
    "start_time": "2022-10-11T12:31:27.476Z"
   },
   {
    "duration": 37,
    "start_time": "2022-10-11T12:31:27.485Z"
   },
   {
    "duration": 22,
    "start_time": "2022-10-11T12:31:27.524Z"
   },
   {
    "duration": 4,
    "start_time": "2022-10-11T12:31:27.548Z"
   },
   {
    "duration": 13,
    "start_time": "2022-10-11T12:31:27.554Z"
   },
   {
    "duration": 7,
    "start_time": "2022-10-11T12:31:27.569Z"
   },
   {
    "duration": 1551,
    "start_time": "2022-10-11T12:31:27.578Z"
   },
   {
    "duration": 1696,
    "start_time": "2022-10-11T12:31:29.131Z"
   },
   {
    "duration": 4,
    "start_time": "2022-10-11T12:33:28.950Z"
   },
   {
    "duration": 1154,
    "start_time": "2022-10-11T12:33:36.475Z"
   },
   {
    "duration": 1002,
    "start_time": "2022-10-11T12:33:44.221Z"
   },
   {
    "duration": 6,
    "start_time": "2022-10-11T12:35:13.032Z"
   },
   {
    "duration": 7,
    "start_time": "2022-10-11T12:39:51.240Z"
   },
   {
    "duration": 4,
    "start_time": "2022-10-11T12:39:53.745Z"
   },
   {
    "duration": 7,
    "start_time": "2022-10-11T12:39:55.388Z"
   },
   {
    "duration": 5,
    "start_time": "2022-10-11T12:40:54.568Z"
   },
   {
    "duration": 6,
    "start_time": "2022-10-11T12:40:58.749Z"
   },
   {
    "duration": 3,
    "start_time": "2022-10-11T12:41:06.151Z"
   },
   {
    "duration": 1473,
    "start_time": "2022-10-11T12:41:14.858Z"
   },
   {
    "duration": 1239,
    "start_time": "2022-10-11T12:41:18.388Z"
   },
   {
    "duration": 1451,
    "start_time": "2022-10-11T12:42:27.471Z"
   },
   {
    "duration": 1462,
    "start_time": "2022-10-11T12:42:30.960Z"
   },
   {
    "duration": 1372,
    "start_time": "2022-10-11T12:42:48.655Z"
   },
   {
    "duration": 1309,
    "start_time": "2022-10-11T12:42:50.220Z"
   },
   {
    "duration": 1236,
    "start_time": "2022-10-11T12:45:35.388Z"
   },
   {
    "duration": 1149,
    "start_time": "2022-10-11T12:45:49.882Z"
   },
   {
    "duration": 1478,
    "start_time": "2022-10-11T12:49:34.245Z"
   },
   {
    "duration": 12286,
    "start_time": "2022-10-11T13:05:26.649Z"
   },
   {
    "duration": 1401,
    "start_time": "2022-10-11T13:07:16.363Z"
   },
   {
    "duration": 3,
    "start_time": "2022-10-11T13:07:17.766Z"
   },
   {
    "duration": 375,
    "start_time": "2022-10-11T13:07:17.771Z"
   },
   {
    "duration": 21,
    "start_time": "2022-10-11T13:07:18.148Z"
   },
   {
    "duration": 346,
    "start_time": "2022-10-11T13:07:18.171Z"
   },
   {
    "duration": 112,
    "start_time": "2022-10-11T13:07:18.518Z"
   },
   {
    "duration": 18,
    "start_time": "2022-10-11T13:07:18.631Z"
   },
   {
    "duration": 163,
    "start_time": "2022-10-11T13:07:18.651Z"
   },
   {
    "duration": 460,
    "start_time": "2022-10-11T13:07:18.821Z"
   },
   {
    "duration": 16,
    "start_time": "2022-10-11T13:07:19.283Z"
   },
   {
    "duration": 304,
    "start_time": "2022-10-11T13:07:19.301Z"
   },
   {
    "duration": 15,
    "start_time": "2022-10-11T13:07:19.607Z"
   },
   {
    "duration": 29,
    "start_time": "2022-10-11T13:07:19.623Z"
   },
   {
    "duration": 42,
    "start_time": "2022-10-11T13:07:19.654Z"
   },
   {
    "duration": 30,
    "start_time": "2022-10-11T13:07:19.699Z"
   },
   {
    "duration": 12,
    "start_time": "2022-10-11T13:07:19.731Z"
   },
   {
    "duration": 52,
    "start_time": "2022-10-11T13:07:19.745Z"
   },
   {
    "duration": 60,
    "start_time": "2022-10-11T13:07:19.798Z"
   },
   {
    "duration": 11368,
    "start_time": "2022-10-11T13:07:19.859Z"
   },
   {
    "duration": 16,
    "start_time": "2022-10-11T13:07:31.229Z"
   },
   {
    "duration": 10,
    "start_time": "2022-10-11T13:07:31.247Z"
   },
   {
    "duration": 30,
    "start_time": "2022-10-11T13:07:31.259Z"
   },
   {
    "duration": 9,
    "start_time": "2022-10-11T13:07:31.291Z"
   },
   {
    "duration": 7,
    "start_time": "2022-10-11T13:07:31.322Z"
   },
   {
    "duration": 19,
    "start_time": "2022-10-11T13:07:31.331Z"
   },
   {
    "duration": 37,
    "start_time": "2022-10-11T13:07:31.352Z"
   },
   {
    "duration": 7,
    "start_time": "2022-10-11T13:07:31.391Z"
   },
   {
    "duration": 303,
    "start_time": "2022-10-11T13:07:31.402Z"
   },
   {
    "duration": 216,
    "start_time": "2022-10-11T13:07:31.706Z"
   },
   {
    "duration": 220,
    "start_time": "2022-10-11T13:07:31.924Z"
   },
   {
    "duration": 213,
    "start_time": "2022-10-11T13:07:32.145Z"
   },
   {
    "duration": 240,
    "start_time": "2022-10-11T13:07:32.361Z"
   },
   {
    "duration": 27,
    "start_time": "2022-10-11T13:07:32.602Z"
   },
   {
    "duration": 20,
    "start_time": "2022-10-11T13:07:32.630Z"
   },
   {
    "duration": 8,
    "start_time": "2022-10-11T13:07:32.652Z"
   },
   {
    "duration": 325,
    "start_time": "2022-10-11T13:07:32.662Z"
   },
   {
    "duration": 174,
    "start_time": "2022-10-11T13:07:32.988Z"
   },
   {
    "duration": 9,
    "start_time": "2022-10-11T13:07:33.164Z"
   },
   {
    "duration": 11,
    "start_time": "2022-10-11T13:07:33.174Z"
   },
   {
    "duration": 8,
    "start_time": "2022-10-11T13:07:33.186Z"
   },
   {
    "duration": 35,
    "start_time": "2022-10-11T13:07:33.195Z"
   },
   {
    "duration": 12,
    "start_time": "2022-10-11T13:07:33.232Z"
   },
   {
    "duration": 6,
    "start_time": "2022-10-11T13:07:33.245Z"
   },
   {
    "duration": 7,
    "start_time": "2022-10-11T13:07:33.253Z"
   },
   {
    "duration": 9,
    "start_time": "2022-10-11T13:07:33.262Z"
   },
   {
    "duration": 8,
    "start_time": "2022-10-11T13:07:33.273Z"
   },
   {
    "duration": 52,
    "start_time": "2022-10-11T13:07:33.283Z"
   },
   {
    "duration": 4,
    "start_time": "2022-10-11T13:07:33.337Z"
   },
   {
    "duration": 12570,
    "start_time": "2022-10-11T13:07:33.343Z"
   },
   {
    "duration": 12536,
    "start_time": "2022-10-11T13:07:45.915Z"
   },
   {
    "duration": 1537375,
    "start_time": "2022-10-11T13:07:58.453Z"
   },
   {
    "duration": 255,
    "start_time": "2022-10-11T13:33:35.830Z"
   },
   {
    "duration": 1441,
    "start_time": "2022-10-11T13:33:36.087Z"
   },
   {
    "duration": 1800,
    "start_time": "2022-10-11T13:33:37.530Z"
   },
   {
    "duration": 2208569,
    "start_time": "2022-10-11T13:35:20.141Z"
   },
   {
    "duration": 2219859,
    "start_time": "2022-10-11T14:12:08.712Z"
   },
   {
    "duration": 4,
    "start_time": "2022-10-11T16:40:47.605Z"
   },
   {
    "duration": 4,
    "start_time": "2022-10-11T16:40:59.652Z"
   },
   {
    "duration": 3,
    "start_time": "2022-10-11T16:41:09.099Z"
   },
   {
    "duration": 4,
    "start_time": "2022-10-11T16:45:54.610Z"
   },
   {
    "duration": 57,
    "start_time": "2022-10-11T16:46:09.546Z"
   },
   {
    "duration": 4,
    "start_time": "2022-10-11T16:46:13.512Z"
   },
   {
    "duration": 13,
    "start_time": "2022-10-11T16:53:56.306Z"
   },
   {
    "duration": 1626,
    "start_time": "2022-10-11T16:54:34.996Z"
   },
   {
    "duration": 1504,
    "start_time": "2022-10-11T16:54:36.919Z"
   },
   {
    "duration": 10,
    "start_time": "2022-10-11T16:54:40.975Z"
   },
   {
    "duration": 14,
    "start_time": "2022-10-11T16:56:33.216Z"
   },
   {
    "duration": 14,
    "start_time": "2022-10-11T16:58:07.091Z"
   },
   {
    "duration": 7,
    "start_time": "2022-10-11T16:59:44.865Z"
   },
   {
    "duration": 11,
    "start_time": "2022-10-11T17:00:13.575Z"
   },
   {
    "duration": 3,
    "start_time": "2022-10-11T17:00:29.096Z"
   },
   {
    "duration": 11,
    "start_time": "2022-10-11T17:00:31.179Z"
   },
   {
    "duration": 12,
    "start_time": "2022-10-11T17:41:09.999Z"
   },
   {
    "duration": 2747,
    "start_time": "2022-10-11T19:26:16.988Z"
   },
   {
    "duration": 2,
    "start_time": "2022-10-11T19:26:19.737Z"
   },
   {
    "duration": 339,
    "start_time": "2022-10-11T19:26:19.741Z"
   },
   {
    "duration": 17,
    "start_time": "2022-10-11T19:26:20.083Z"
   },
   {
    "duration": 337,
    "start_time": "2022-10-11T19:26:20.102Z"
   },
   {
    "duration": 112,
    "start_time": "2022-10-11T19:26:20.441Z"
   },
   {
    "duration": 15,
    "start_time": "2022-10-11T19:26:20.556Z"
   },
   {
    "duration": 174,
    "start_time": "2022-10-11T19:26:20.573Z"
   },
   {
    "duration": 404,
    "start_time": "2022-10-11T19:26:20.749Z"
   },
   {
    "duration": 19,
    "start_time": "2022-10-11T19:26:21.156Z"
   },
   {
    "duration": 363,
    "start_time": "2022-10-11T19:26:21.177Z"
   },
   {
    "duration": 5,
    "start_time": "2022-10-11T19:26:21.542Z"
   },
   {
    "duration": 13,
    "start_time": "2022-10-11T19:26:21.557Z"
   },
   {
    "duration": 14,
    "start_time": "2022-10-11T19:26:21.573Z"
   },
   {
    "duration": 24,
    "start_time": "2022-10-11T19:26:21.589Z"
   },
   {
    "duration": 18,
    "start_time": "2022-10-11T19:26:21.616Z"
   },
   {
    "duration": 21,
    "start_time": "2022-10-11T19:26:21.637Z"
   },
   {
    "duration": 21,
    "start_time": "2022-10-11T19:26:21.661Z"
   },
   {
    "duration": 11713,
    "start_time": "2022-10-11T19:26:21.684Z"
   },
   {
    "duration": 18,
    "start_time": "2022-10-11T19:26:33.399Z"
   },
   {
    "duration": 10,
    "start_time": "2022-10-11T19:26:33.418Z"
   },
   {
    "duration": 45,
    "start_time": "2022-10-11T19:26:33.430Z"
   },
   {
    "duration": 9,
    "start_time": "2022-10-11T19:26:33.477Z"
   },
   {
    "duration": 11,
    "start_time": "2022-10-11T19:26:33.488Z"
   },
   {
    "duration": 22,
    "start_time": "2022-10-11T19:26:33.501Z"
   },
   {
    "duration": 40,
    "start_time": "2022-10-11T19:26:33.524Z"
   },
   {
    "duration": 7,
    "start_time": "2022-10-11T19:26:33.566Z"
   },
   {
    "duration": 327,
    "start_time": "2022-10-11T19:26:33.576Z"
   },
   {
    "duration": 248,
    "start_time": "2022-10-11T19:26:33.906Z"
   },
   {
    "duration": 245,
    "start_time": "2022-10-11T19:26:34.155Z"
   },
   {
    "duration": 231,
    "start_time": "2022-10-11T19:26:34.401Z"
   },
   {
    "duration": 241,
    "start_time": "2022-10-11T19:26:34.634Z"
   },
   {
    "duration": 16,
    "start_time": "2022-10-11T19:26:34.876Z"
   },
   {
    "duration": 15,
    "start_time": "2022-10-11T19:26:34.894Z"
   },
   {
    "duration": 10,
    "start_time": "2022-10-11T19:26:34.910Z"
   },
   {
    "duration": 355,
    "start_time": "2022-10-11T19:26:34.922Z"
   },
   {
    "duration": 185,
    "start_time": "2022-10-11T19:26:35.279Z"
   },
   {
    "duration": 10,
    "start_time": "2022-10-11T19:26:35.466Z"
   },
   {
    "duration": 10,
    "start_time": "2022-10-11T19:26:35.478Z"
   },
   {
    "duration": 13,
    "start_time": "2022-10-11T19:26:35.490Z"
   },
   {
    "duration": 48,
    "start_time": "2022-10-11T19:26:35.506Z"
   },
   {
    "duration": 18,
    "start_time": "2022-10-11T19:26:35.557Z"
   },
   {
    "duration": 18,
    "start_time": "2022-10-11T19:26:35.579Z"
   },
   {
    "duration": 11,
    "start_time": "2022-10-11T19:26:35.599Z"
   },
   {
    "duration": 15,
    "start_time": "2022-10-11T19:26:35.612Z"
   },
   {
    "duration": 10,
    "start_time": "2022-10-11T19:26:35.629Z"
   },
   {
    "duration": 20,
    "start_time": "2022-10-11T19:26:35.640Z"
   },
   {
    "duration": 20,
    "start_time": "2022-10-11T19:29:27.829Z"
   },
   {
    "duration": 4,
    "start_time": "2022-10-11T19:29:31.683Z"
   },
   {
    "duration": 12542,
    "start_time": "2022-10-11T19:29:34.590Z"
   },
   {
    "duration": 61,
    "start_time": "2022-10-12T05:31:44.490Z"
   },
   {
    "duration": 1501,
    "start_time": "2022-10-12T06:20:02.050Z"
   },
   {
    "duration": 2,
    "start_time": "2022-10-12T06:20:03.554Z"
   },
   {
    "duration": 800,
    "start_time": "2022-10-12T06:20:03.558Z"
   },
   {
    "duration": 16,
    "start_time": "2022-10-12T06:20:04.360Z"
   },
   {
    "duration": 322,
    "start_time": "2022-10-12T06:20:04.378Z"
   },
   {
    "duration": 427,
    "start_time": "2022-10-12T06:20:04.702Z"
   },
   {
    "duration": 11,
    "start_time": "2022-10-12T06:20:05.131Z"
   },
   {
    "duration": 146,
    "start_time": "2022-10-12T06:20:05.144Z"
   },
   {
    "duration": 1760,
    "start_time": "2022-10-12T06:20:05.292Z"
   },
   {
    "duration": 15,
    "start_time": "2022-10-12T06:20:07.055Z"
   },
   {
    "duration": 263,
    "start_time": "2022-10-12T06:20:07.071Z"
   },
   {
    "duration": 4,
    "start_time": "2022-10-12T06:20:07.335Z"
   },
   {
    "duration": 23,
    "start_time": "2022-10-12T06:20:07.341Z"
   },
   {
    "duration": 32,
    "start_time": "2022-10-12T06:20:07.365Z"
   },
   {
    "duration": 24,
    "start_time": "2022-10-12T06:20:07.398Z"
   },
   {
    "duration": 11,
    "start_time": "2022-10-12T06:20:07.424Z"
   },
   {
    "duration": 24,
    "start_time": "2022-10-12T06:20:07.437Z"
   },
   {
    "duration": 10,
    "start_time": "2022-10-12T06:20:07.462Z"
   },
   {
    "duration": 9402,
    "start_time": "2022-10-12T06:20:07.474Z"
   },
   {
    "duration": 12,
    "start_time": "2022-10-12T06:20:16.878Z"
   },
   {
    "duration": 23,
    "start_time": "2022-10-12T06:20:16.892Z"
   },
   {
    "duration": 19,
    "start_time": "2022-10-12T06:20:16.916Z"
   },
   {
    "duration": 6,
    "start_time": "2022-10-12T06:20:16.937Z"
   },
   {
    "duration": 12,
    "start_time": "2022-10-12T06:20:16.945Z"
   },
   {
    "duration": 16,
    "start_time": "2022-10-12T06:20:16.958Z"
   },
   {
    "duration": 34,
    "start_time": "2022-10-12T06:20:16.975Z"
   },
   {
    "duration": 6,
    "start_time": "2022-10-12T06:20:17.011Z"
   },
   {
    "duration": 277,
    "start_time": "2022-10-12T06:20:17.021Z"
   },
   {
    "duration": 197,
    "start_time": "2022-10-12T06:20:17.299Z"
   },
   {
    "duration": 204,
    "start_time": "2022-10-12T06:20:17.497Z"
   },
   {
    "duration": 181,
    "start_time": "2022-10-12T06:20:17.708Z"
   },
   {
    "duration": 203,
    "start_time": "2022-10-12T06:20:17.891Z"
   },
   {
    "duration": 19,
    "start_time": "2022-10-12T06:20:18.095Z"
   },
   {
    "duration": 13,
    "start_time": "2022-10-12T06:20:18.116Z"
   },
   {
    "duration": 6,
    "start_time": "2022-10-12T06:20:18.130Z"
   },
   {
    "duration": 281,
    "start_time": "2022-10-12T06:20:18.138Z"
   },
   {
    "duration": 146,
    "start_time": "2022-10-12T06:20:18.420Z"
   },
   {
    "duration": 8,
    "start_time": "2022-10-12T06:20:18.568Z"
   },
   {
    "duration": 10,
    "start_time": "2022-10-12T06:20:18.577Z"
   },
   {
    "duration": 24,
    "start_time": "2022-10-12T06:20:18.588Z"
   },
   {
    "duration": 13,
    "start_time": "2022-10-12T06:20:18.613Z"
   },
   {
    "duration": 9,
    "start_time": "2022-10-12T06:20:18.627Z"
   },
   {
    "duration": 4,
    "start_time": "2022-10-12T06:20:18.637Z"
   },
   {
    "duration": 6,
    "start_time": "2022-10-12T06:20:18.642Z"
   },
   {
    "duration": 6,
    "start_time": "2022-10-12T06:20:18.649Z"
   },
   {
    "duration": 5,
    "start_time": "2022-10-12T06:20:18.656Z"
   },
   {
    "duration": 13,
    "start_time": "2022-10-12T06:20:18.663Z"
   },
   {
    "duration": 43,
    "start_time": "2022-10-12T06:20:18.677Z"
   },
   {
    "duration": 3,
    "start_time": "2022-10-12T06:20:18.722Z"
   },
   {
    "duration": 16464,
    "start_time": "2022-10-12T06:20:18.726Z"
   },
   {
    "duration": 14054,
    "start_time": "2022-10-12T06:20:35.191Z"
   },
   {
    "duration": 3,
    "start_time": "2022-10-12T06:20:49.246Z"
   },
   {
    "duration": 2592113,
    "start_time": "2022-10-12T06:20:49.250Z"
   },
   {
    "duration": 1347,
    "start_time": "2022-10-12T07:04:01.365Z"
   },
   {
    "duration": 1602,
    "start_time": "2022-10-12T07:04:02.714Z"
   },
   {
    "duration": 4,
    "start_time": "2022-10-12T07:04:04.408Z"
   },
   {
    "duration": 18,
    "start_time": "2022-10-12T07:04:04.414Z"
   },
   {
    "duration": 191,
    "start_time": "2022-10-12T07:04:04.435Z"
   },
   {
    "duration": 6,
    "start_time": "2022-10-12T07:04:04.628Z"
   },
   {
    "duration": 3,
    "start_time": "2022-10-12T08:19:21.188Z"
   },
   {
    "duration": 128,
    "start_time": "2022-10-12T08:19:29.480Z"
   },
   {
    "duration": 1416,
    "start_time": "2022-10-12T08:21:03.778Z"
   },
   {
    "duration": 2,
    "start_time": "2022-10-12T08:21:05.196Z"
   },
   {
    "duration": 337,
    "start_time": "2022-10-12T08:21:05.199Z"
   },
   {
    "duration": 16,
    "start_time": "2022-10-12T08:21:05.538Z"
   },
   {
    "duration": 268,
    "start_time": "2022-10-12T08:21:05.556Z"
   },
   {
    "duration": 102,
    "start_time": "2022-10-12T08:21:05.826Z"
   },
   {
    "duration": 12,
    "start_time": "2022-10-12T08:21:05.929Z"
   },
   {
    "duration": 138,
    "start_time": "2022-10-12T08:21:05.942Z"
   },
   {
    "duration": 460,
    "start_time": "2022-10-12T08:21:06.081Z"
   },
   {
    "duration": 72,
    "start_time": "2022-10-12T08:21:06.544Z"
   },
   {
    "duration": 507,
    "start_time": "2022-10-12T08:21:06.617Z"
   },
   {
    "duration": 4,
    "start_time": "2022-10-12T08:21:07.125Z"
   },
   {
    "duration": 9,
    "start_time": "2022-10-12T08:21:07.130Z"
   },
   {
    "duration": 4,
    "start_time": "2022-10-12T08:21:07.140Z"
   },
   {
    "duration": 69,
    "start_time": "2022-10-12T08:21:07.145Z"
   },
   {
    "duration": 6,
    "start_time": "2022-10-12T08:21:07.216Z"
   },
   {
    "duration": 12,
    "start_time": "2022-10-12T08:21:07.223Z"
   },
   {
    "duration": 10,
    "start_time": "2022-10-12T08:21:07.237Z"
   },
   {
    "duration": 9827,
    "start_time": "2022-10-12T08:21:07.248Z"
   },
   {
    "duration": 12,
    "start_time": "2022-10-12T08:21:17.077Z"
   },
   {
    "duration": 20,
    "start_time": "2022-10-12T08:21:17.090Z"
   },
   {
    "duration": 20,
    "start_time": "2022-10-12T08:21:17.112Z"
   },
   {
    "duration": 7,
    "start_time": "2022-10-12T08:21:17.134Z"
   },
   {
    "duration": 7,
    "start_time": "2022-10-12T08:21:17.142Z"
   },
   {
    "duration": 17,
    "start_time": "2022-10-12T08:21:17.151Z"
   },
   {
    "duration": 44,
    "start_time": "2022-10-12T08:21:17.169Z"
   },
   {
    "duration": 6,
    "start_time": "2022-10-12T08:21:17.214Z"
   },
   {
    "duration": 280,
    "start_time": "2022-10-12T08:21:17.224Z"
   },
   {
    "duration": 205,
    "start_time": "2022-10-12T08:21:17.505Z"
   },
   {
    "duration": 203,
    "start_time": "2022-10-12T08:21:17.711Z"
   },
   {
    "duration": 191,
    "start_time": "2022-10-12T08:21:17.915Z"
   },
   {
    "duration": 204,
    "start_time": "2022-10-12T08:21:18.108Z"
   },
   {
    "duration": 14,
    "start_time": "2022-10-12T08:21:18.313Z"
   },
   {
    "duration": 12,
    "start_time": "2022-10-12T08:21:18.329Z"
   },
   {
    "duration": 7,
    "start_time": "2022-10-12T08:21:18.342Z"
   },
   {
    "duration": 272,
    "start_time": "2022-10-12T08:21:18.350Z"
   },
   {
    "duration": 148,
    "start_time": "2022-10-12T08:21:18.624Z"
   },
   {
    "duration": 8,
    "start_time": "2022-10-12T08:21:18.773Z"
   },
   {
    "duration": 9,
    "start_time": "2022-10-12T08:21:18.783Z"
   },
   {
    "duration": 19,
    "start_time": "2022-10-12T08:21:18.794Z"
   },
   {
    "duration": 12,
    "start_time": "2022-10-12T08:21:18.814Z"
   },
   {
    "duration": 8,
    "start_time": "2022-10-12T08:21:18.828Z"
   },
   {
    "duration": 4,
    "start_time": "2022-10-12T08:21:18.837Z"
   },
   {
    "duration": 5,
    "start_time": "2022-10-12T08:21:18.843Z"
   },
   {
    "duration": 6,
    "start_time": "2022-10-12T08:21:18.849Z"
   },
   {
    "duration": 24,
    "start_time": "2022-10-12T08:21:18.856Z"
   },
   {
    "duration": 29,
    "start_time": "2022-10-12T08:21:18.881Z"
   },
   {
    "duration": 17,
    "start_time": "2022-10-12T08:21:18.912Z"
   },
   {
    "duration": 3,
    "start_time": "2022-10-12T08:21:18.931Z"
   },
   {
    "duration": 13951,
    "start_time": "2022-10-12T08:21:18.936Z"
   },
   {
    "duration": 14202,
    "start_time": "2022-10-12T08:21:32.889Z"
   },
   {
    "duration": 2,
    "start_time": "2022-10-12T08:21:47.093Z"
   },
   {
    "duration": 181036,
    "start_time": "2022-10-12T08:21:47.096Z"
   },
   {
    "duration": 1279,
    "start_time": "2022-10-12T08:24:48.134Z"
   },
   {
    "duration": 1598,
    "start_time": "2022-10-12T08:24:49.415Z"
   },
   {
    "duration": 95,
    "start_time": "2022-10-12T08:24:51.015Z"
   },
   {
    "duration": 0,
    "start_time": "2022-10-12T08:24:51.112Z"
   },
   {
    "duration": 0,
    "start_time": "2022-10-12T08:24:51.113Z"
   },
   {
    "duration": 0,
    "start_time": "2022-10-12T08:24:51.114Z"
   },
   {
    "duration": 11,
    "start_time": "2022-10-12T08:29:12.384Z"
   },
   {
    "duration": 1394,
    "start_time": "2022-10-12T08:29:56.903Z"
   },
   {
    "duration": 3,
    "start_time": "2022-10-12T08:29:58.299Z"
   },
   {
    "duration": 323,
    "start_time": "2022-10-12T08:29:58.304Z"
   },
   {
    "duration": 16,
    "start_time": "2022-10-12T08:29:58.628Z"
   },
   {
    "duration": 305,
    "start_time": "2022-10-12T08:29:58.646Z"
   },
   {
    "duration": 108,
    "start_time": "2022-10-12T08:29:58.953Z"
   },
   {
    "duration": 13,
    "start_time": "2022-10-12T08:29:59.062Z"
   },
   {
    "duration": 147,
    "start_time": "2022-10-12T08:29:59.077Z"
   },
   {
    "duration": 403,
    "start_time": "2022-10-12T08:29:59.225Z"
   },
   {
    "duration": 17,
    "start_time": "2022-10-12T08:29:59.629Z"
   },
   {
    "duration": 282,
    "start_time": "2022-10-12T08:29:59.647Z"
   },
   {
    "duration": 4,
    "start_time": "2022-10-12T08:29:59.931Z"
   },
   {
    "duration": 9,
    "start_time": "2022-10-12T08:29:59.936Z"
   },
   {
    "duration": 4,
    "start_time": "2022-10-12T08:29:59.948Z"
   },
   {
    "duration": 15,
    "start_time": "2022-10-12T08:29:59.953Z"
   },
   {
    "duration": 8,
    "start_time": "2022-10-12T08:29:59.970Z"
   },
   {
    "duration": 32,
    "start_time": "2022-10-12T08:29:59.979Z"
   },
   {
    "duration": 13,
    "start_time": "2022-10-12T08:30:00.013Z"
   },
   {
    "duration": 182,
    "start_time": "2022-10-12T08:30:00.027Z"
   },
   {
    "duration": 0,
    "start_time": "2022-10-12T08:30:00.211Z"
   },
   {
    "duration": 0,
    "start_time": "2022-10-12T08:30:00.213Z"
   },
   {
    "duration": 0,
    "start_time": "2022-10-12T08:30:00.214Z"
   },
   {
    "duration": 0,
    "start_time": "2022-10-12T08:30:00.215Z"
   },
   {
    "duration": 0,
    "start_time": "2022-10-12T08:30:00.216Z"
   },
   {
    "duration": 0,
    "start_time": "2022-10-12T08:30:00.217Z"
   },
   {
    "duration": 0,
    "start_time": "2022-10-12T08:30:00.218Z"
   },
   {
    "duration": 0,
    "start_time": "2022-10-12T08:30:00.219Z"
   },
   {
    "duration": 0,
    "start_time": "2022-10-12T08:30:00.220Z"
   },
   {
    "duration": 0,
    "start_time": "2022-10-12T08:30:00.221Z"
   },
   {
    "duration": 0,
    "start_time": "2022-10-12T08:30:00.222Z"
   },
   {
    "duration": 0,
    "start_time": "2022-10-12T08:30:00.223Z"
   },
   {
    "duration": 0,
    "start_time": "2022-10-12T08:30:00.224Z"
   },
   {
    "duration": 0,
    "start_time": "2022-10-12T08:30:00.225Z"
   },
   {
    "duration": 1,
    "start_time": "2022-10-12T08:30:00.225Z"
   },
   {
    "duration": 0,
    "start_time": "2022-10-12T08:30:00.226Z"
   },
   {
    "duration": 0,
    "start_time": "2022-10-12T08:30:00.227Z"
   },
   {
    "duration": 0,
    "start_time": "2022-10-12T08:30:00.228Z"
   },
   {
    "duration": 0,
    "start_time": "2022-10-12T08:30:00.229Z"
   },
   {
    "duration": 0,
    "start_time": "2022-10-12T08:30:00.230Z"
   },
   {
    "duration": 0,
    "start_time": "2022-10-12T08:30:00.231Z"
   },
   {
    "duration": 0,
    "start_time": "2022-10-12T08:30:00.232Z"
   },
   {
    "duration": 0,
    "start_time": "2022-10-12T08:30:00.233Z"
   },
   {
    "duration": 0,
    "start_time": "2022-10-12T08:30:00.234Z"
   },
   {
    "duration": 0,
    "start_time": "2022-10-12T08:30:00.235Z"
   },
   {
    "duration": 0,
    "start_time": "2022-10-12T08:30:00.236Z"
   },
   {
    "duration": 0,
    "start_time": "2022-10-12T08:30:00.238Z"
   },
   {
    "duration": 0,
    "start_time": "2022-10-12T08:30:00.239Z"
   },
   {
    "duration": 0,
    "start_time": "2022-10-12T08:30:00.240Z"
   },
   {
    "duration": 0,
    "start_time": "2022-10-12T08:30:00.241Z"
   },
   {
    "duration": 0,
    "start_time": "2022-10-12T08:30:00.242Z"
   },
   {
    "duration": 0,
    "start_time": "2022-10-12T08:30:00.243Z"
   },
   {
    "duration": 0,
    "start_time": "2022-10-12T08:30:00.309Z"
   },
   {
    "duration": 0,
    "start_time": "2022-10-12T08:30:00.310Z"
   },
   {
    "duration": 0,
    "start_time": "2022-10-12T08:30:00.312Z"
   },
   {
    "duration": 0,
    "start_time": "2022-10-12T08:30:00.313Z"
   },
   {
    "duration": 0,
    "start_time": "2022-10-12T08:30:00.313Z"
   },
   {
    "duration": 0,
    "start_time": "2022-10-12T08:30:00.314Z"
   },
   {
    "duration": 0,
    "start_time": "2022-10-12T08:30:00.315Z"
   },
   {
    "duration": 0,
    "start_time": "2022-10-12T08:30:00.316Z"
   },
   {
    "duration": 2273,
    "start_time": "2022-10-12T08:30:34.581Z"
   },
   {
    "duration": 51,
    "start_time": "2022-10-12T08:31:06.133Z"
   },
   {
    "duration": 1318,
    "start_time": "2022-10-12T08:33:11.907Z"
   },
   {
    "duration": 2,
    "start_time": "2022-10-12T08:33:13.227Z"
   },
   {
    "duration": 339,
    "start_time": "2022-10-12T08:33:13.230Z"
   },
   {
    "duration": 17,
    "start_time": "2022-10-12T08:33:13.571Z"
   },
   {
    "duration": 299,
    "start_time": "2022-10-12T08:33:13.589Z"
   },
   {
    "duration": 108,
    "start_time": "2022-10-12T08:33:13.890Z"
   },
   {
    "duration": 20,
    "start_time": "2022-10-12T08:33:14.000Z"
   },
   {
    "duration": 128,
    "start_time": "2022-10-12T08:33:14.021Z"
   },
   {
    "duration": 434,
    "start_time": "2022-10-12T08:33:14.151Z"
   },
   {
    "duration": 29,
    "start_time": "2022-10-12T08:33:14.588Z"
   },
   {
    "duration": 325,
    "start_time": "2022-10-12T08:33:14.619Z"
   },
   {
    "duration": 6,
    "start_time": "2022-10-12T08:33:14.946Z"
   },
   {
    "duration": 7,
    "start_time": "2022-10-12T08:33:14.954Z"
   },
   {
    "duration": 14,
    "start_time": "2022-10-12T08:33:14.963Z"
   },
   {
    "duration": 31,
    "start_time": "2022-10-12T08:33:14.979Z"
   },
   {
    "duration": 9,
    "start_time": "2022-10-12T08:33:15.012Z"
   },
   {
    "duration": 24,
    "start_time": "2022-10-12T08:33:15.024Z"
   },
   {
    "duration": 2247,
    "start_time": "2022-10-12T08:33:15.050Z"
   },
   {
    "duration": 49,
    "start_time": "2022-10-12T08:33:17.299Z"
   },
   {
    "duration": 61,
    "start_time": "2022-10-12T08:33:17.350Z"
   },
   {
    "duration": 46,
    "start_time": "2022-10-12T08:33:17.412Z"
   },
   {
    "duration": 23,
    "start_time": "2022-10-12T08:33:17.460Z"
   },
   {
    "duration": 54,
    "start_time": "2022-10-12T08:33:17.484Z"
   },
   {
    "duration": 45,
    "start_time": "2022-10-12T08:33:17.540Z"
   },
   {
    "duration": 24,
    "start_time": "2022-10-12T08:33:17.586Z"
   },
   {
    "duration": 234,
    "start_time": "2022-10-12T08:33:17.611Z"
   },
   {
    "duration": 415,
    "start_time": "2022-10-12T08:33:17.846Z"
   },
   {
    "duration": 0,
    "start_time": "2022-10-12T08:33:18.263Z"
   },
   {
    "duration": 0,
    "start_time": "2022-10-12T08:33:18.264Z"
   },
   {
    "duration": 0,
    "start_time": "2022-10-12T08:33:18.265Z"
   },
   {
    "duration": 0,
    "start_time": "2022-10-12T08:33:18.266Z"
   },
   {
    "duration": 0,
    "start_time": "2022-10-12T08:33:18.267Z"
   },
   {
    "duration": 0,
    "start_time": "2022-10-12T08:33:18.268Z"
   },
   {
    "duration": 0,
    "start_time": "2022-10-12T08:33:18.269Z"
   },
   {
    "duration": 0,
    "start_time": "2022-10-12T08:33:18.270Z"
   },
   {
    "duration": 0,
    "start_time": "2022-10-12T08:33:18.271Z"
   },
   {
    "duration": 0,
    "start_time": "2022-10-12T08:33:18.272Z"
   },
   {
    "duration": 0,
    "start_time": "2022-10-12T08:33:18.273Z"
   },
   {
    "duration": 0,
    "start_time": "2022-10-12T08:33:18.274Z"
   },
   {
    "duration": 0,
    "start_time": "2022-10-12T08:33:18.274Z"
   },
   {
    "duration": 0,
    "start_time": "2022-10-12T08:33:18.275Z"
   },
   {
    "duration": 0,
    "start_time": "2022-10-12T08:33:18.276Z"
   },
   {
    "duration": 0,
    "start_time": "2022-10-12T08:33:18.277Z"
   },
   {
    "duration": 0,
    "start_time": "2022-10-12T08:33:18.278Z"
   },
   {
    "duration": 0,
    "start_time": "2022-10-12T08:33:18.279Z"
   },
   {
    "duration": 0,
    "start_time": "2022-10-12T08:33:18.280Z"
   },
   {
    "duration": 0,
    "start_time": "2022-10-12T08:33:18.280Z"
   },
   {
    "duration": 0,
    "start_time": "2022-10-12T08:33:18.280Z"
   },
   {
    "duration": 0,
    "start_time": "2022-10-12T08:33:18.281Z"
   },
   {
    "duration": 0,
    "start_time": "2022-10-12T08:33:18.281Z"
   },
   {
    "duration": 0,
    "start_time": "2022-10-12T08:33:18.282Z"
   },
   {
    "duration": 0,
    "start_time": "2022-10-12T08:33:18.282Z"
   },
   {
    "duration": 0,
    "start_time": "2022-10-12T08:33:18.282Z"
   },
   {
    "duration": 0,
    "start_time": "2022-10-12T08:33:18.309Z"
   },
   {
    "duration": 0,
    "start_time": "2022-10-12T08:33:18.311Z"
   },
   {
    "duration": 0,
    "start_time": "2022-10-12T08:33:18.311Z"
   },
   {
    "duration": 0,
    "start_time": "2022-10-12T08:33:18.312Z"
   },
   {
    "duration": 318,
    "start_time": "2022-10-12T08:36:32.961Z"
   },
   {
    "duration": 1458,
    "start_time": "2022-10-12T08:36:46.514Z"
   },
   {
    "duration": 3,
    "start_time": "2022-10-12T08:36:47.974Z"
   },
   {
    "duration": 328,
    "start_time": "2022-10-12T08:36:47.979Z"
   },
   {
    "duration": 16,
    "start_time": "2022-10-12T08:36:48.309Z"
   },
   {
    "duration": 278,
    "start_time": "2022-10-12T08:36:48.326Z"
   },
   {
    "duration": 108,
    "start_time": "2022-10-12T08:36:48.606Z"
   },
   {
    "duration": 12,
    "start_time": "2022-10-12T08:36:48.715Z"
   },
   {
    "duration": 143,
    "start_time": "2022-10-12T08:36:48.728Z"
   },
   {
    "duration": 780,
    "start_time": "2022-10-12T08:36:48.872Z"
   },
   {
    "duration": 70,
    "start_time": "2022-10-12T08:36:49.655Z"
   },
   {
    "duration": 523,
    "start_time": "2022-10-12T08:36:49.726Z"
   },
   {
    "duration": 61,
    "start_time": "2022-10-12T08:36:50.250Z"
   },
   {
    "duration": 8,
    "start_time": "2022-10-12T08:36:50.313Z"
   },
   {
    "duration": 12,
    "start_time": "2022-10-12T08:36:50.323Z"
   },
   {
    "duration": 18,
    "start_time": "2022-10-12T08:36:50.336Z"
   },
   {
    "duration": 53,
    "start_time": "2022-10-12T08:36:50.356Z"
   },
   {
    "duration": 9,
    "start_time": "2022-10-12T08:36:50.411Z"
   },
   {
    "duration": 2411,
    "start_time": "2022-10-12T08:36:50.421Z"
   },
   {
    "duration": 45,
    "start_time": "2022-10-12T08:36:52.834Z"
   },
   {
    "duration": 63,
    "start_time": "2022-10-12T08:36:52.881Z"
   },
   {
    "duration": 26,
    "start_time": "2022-10-12T08:36:52.946Z"
   },
   {
    "duration": 59,
    "start_time": "2022-10-12T08:36:52.974Z"
   },
   {
    "duration": 13,
    "start_time": "2022-10-12T08:36:53.035Z"
   },
   {
    "duration": 245,
    "start_time": "2022-10-12T08:36:53.050Z"
   },
   {
    "duration": 416,
    "start_time": "2022-10-12T08:36:53.297Z"
   },
   {
    "duration": 1,
    "start_time": "2022-10-12T08:36:53.715Z"
   },
   {
    "duration": 0,
    "start_time": "2022-10-12T08:36:53.717Z"
   },
   {
    "duration": 0,
    "start_time": "2022-10-12T08:36:53.718Z"
   },
   {
    "duration": 0,
    "start_time": "2022-10-12T08:36:53.720Z"
   },
   {
    "duration": 0,
    "start_time": "2022-10-12T08:36:53.721Z"
   },
   {
    "duration": 0,
    "start_time": "2022-10-12T08:36:53.722Z"
   },
   {
    "duration": 0,
    "start_time": "2022-10-12T08:36:53.723Z"
   },
   {
    "duration": 0,
    "start_time": "2022-10-12T08:36:53.724Z"
   },
   {
    "duration": 0,
    "start_time": "2022-10-12T08:36:53.725Z"
   },
   {
    "duration": 0,
    "start_time": "2022-10-12T08:36:53.726Z"
   },
   {
    "duration": 0,
    "start_time": "2022-10-12T08:36:53.727Z"
   },
   {
    "duration": 0,
    "start_time": "2022-10-12T08:36:53.728Z"
   },
   {
    "duration": 0,
    "start_time": "2022-10-12T08:36:53.729Z"
   },
   {
    "duration": 0,
    "start_time": "2022-10-12T08:36:53.730Z"
   },
   {
    "duration": 0,
    "start_time": "2022-10-12T08:36:53.731Z"
   },
   {
    "duration": 0,
    "start_time": "2022-10-12T08:36:53.732Z"
   },
   {
    "duration": 0,
    "start_time": "2022-10-12T08:36:53.733Z"
   },
   {
    "duration": 0,
    "start_time": "2022-10-12T08:36:53.734Z"
   },
   {
    "duration": 0,
    "start_time": "2022-10-12T08:36:53.734Z"
   },
   {
    "duration": 0,
    "start_time": "2022-10-12T08:36:53.735Z"
   },
   {
    "duration": 0,
    "start_time": "2022-10-12T08:36:53.737Z"
   },
   {
    "duration": 0,
    "start_time": "2022-10-12T08:36:53.737Z"
   },
   {
    "duration": 0,
    "start_time": "2022-10-12T08:36:53.738Z"
   },
   {
    "duration": 0,
    "start_time": "2022-10-12T08:36:53.739Z"
   },
   {
    "duration": 0,
    "start_time": "2022-10-12T08:36:53.740Z"
   },
   {
    "duration": 0,
    "start_time": "2022-10-12T08:36:53.741Z"
   },
   {
    "duration": 0,
    "start_time": "2022-10-12T08:36:53.742Z"
   },
   {
    "duration": 0,
    "start_time": "2022-10-12T08:36:53.742Z"
   },
   {
    "duration": 0,
    "start_time": "2022-10-12T08:36:53.743Z"
   },
   {
    "duration": 0,
    "start_time": "2022-10-12T08:36:53.744Z"
   },
   {
    "duration": 307,
    "start_time": "2022-10-12T08:37:03.661Z"
   },
   {
    "duration": 262,
    "start_time": "2022-10-12T08:37:39.070Z"
   },
   {
    "duration": 212,
    "start_time": "2022-10-12T08:37:43.426Z"
   },
   {
    "duration": 1116,
    "start_time": "2022-10-12T08:38:32.926Z"
   },
   {
    "duration": 12,
    "start_time": "2022-10-12T08:39:18.396Z"
   },
   {
    "duration": 12,
    "start_time": "2022-10-12T08:39:42.832Z"
   },
   {
    "duration": 1138,
    "start_time": "2022-10-12T08:40:18.913Z"
   },
   {
    "duration": 57,
    "start_time": "2022-10-12T08:41:49.137Z"
   },
   {
    "duration": 401,
    "start_time": "2022-10-12T08:43:50.326Z"
   },
   {
    "duration": 431,
    "start_time": "2022-10-12T08:44:04.445Z"
   },
   {
    "duration": 18813,
    "start_time": "2022-10-12T08:45:20.570Z"
   },
   {
    "duration": 64,
    "start_time": "2022-10-12T08:45:44.139Z"
   },
   {
    "duration": 16,
    "start_time": "2022-10-12T08:45:53.409Z"
   },
   {
    "duration": 14,
    "start_time": "2022-10-12T08:46:06.592Z"
   },
   {
    "duration": 95,
    "start_time": "2022-10-12T08:46:34.604Z"
   },
   {
    "duration": 14,
    "start_time": "2022-10-12T08:47:23.841Z"
   },
   {
    "duration": 1526,
    "start_time": "2022-10-12T08:48:22.511Z"
   },
   {
    "duration": 3,
    "start_time": "2022-10-12T08:48:24.039Z"
   },
   {
    "duration": 370,
    "start_time": "2022-10-12T08:48:24.044Z"
   },
   {
    "duration": 25,
    "start_time": "2022-10-12T08:48:24.418Z"
   },
   {
    "duration": 406,
    "start_time": "2022-10-12T08:48:24.447Z"
   },
   {
    "duration": 125,
    "start_time": "2022-10-12T08:48:24.854Z"
   },
   {
    "duration": 32,
    "start_time": "2022-10-12T08:48:24.981Z"
   },
   {
    "duration": 147,
    "start_time": "2022-10-12T08:48:25.014Z"
   },
   {
    "duration": 430,
    "start_time": "2022-10-12T08:48:25.164Z"
   },
   {
    "duration": 24,
    "start_time": "2022-10-12T08:48:25.597Z"
   },
   {
    "duration": 325,
    "start_time": "2022-10-12T08:48:25.623Z"
   },
   {
    "duration": 6,
    "start_time": "2022-10-12T08:48:25.949Z"
   },
   {
    "duration": 16,
    "start_time": "2022-10-12T08:48:25.957Z"
   },
   {
    "duration": 5,
    "start_time": "2022-10-12T08:48:25.974Z"
   },
   {
    "duration": 43,
    "start_time": "2022-10-12T08:48:25.981Z"
   },
   {
    "duration": 8,
    "start_time": "2022-10-12T08:48:26.026Z"
   },
   {
    "duration": 18,
    "start_time": "2022-10-12T08:48:26.036Z"
   },
   {
    "duration": 68,
    "start_time": "2022-10-12T08:48:26.056Z"
   },
   {
    "duration": 91,
    "start_time": "2022-10-12T08:48:26.126Z"
   },
   {
    "duration": 41,
    "start_time": "2022-10-12T08:48:26.219Z"
   },
   {
    "duration": 11,
    "start_time": "2022-10-12T08:48:26.263Z"
   },
   {
    "duration": 55,
    "start_time": "2022-10-12T08:48:26.276Z"
   },
   {
    "duration": 10,
    "start_time": "2022-10-12T08:48:26.334Z"
   },
   {
    "duration": 23,
    "start_time": "2022-10-12T08:48:26.346Z"
   },
   {
    "duration": 9,
    "start_time": "2022-10-12T08:48:26.371Z"
   },
   {
    "duration": 251,
    "start_time": "2022-10-12T08:48:26.410Z"
   },
   {
    "duration": 259,
    "start_time": "2022-10-12T08:48:26.663Z"
   },
   {
    "duration": 2646,
    "start_time": "2022-10-12T08:48:26.926Z"
   },
   {
    "duration": 418,
    "start_time": "2022-10-12T08:48:29.575Z"
   },
   {
    "duration": 193,
    "start_time": "2022-10-12T08:48:29.995Z"
   },
   {
    "duration": 214,
    "start_time": "2022-10-12T08:48:30.190Z"
   },
   {
    "duration": 19,
    "start_time": "2022-10-12T08:48:30.409Z"
   },
   {
    "duration": 32,
    "start_time": "2022-10-12T08:48:30.431Z"
   },
   {
    "duration": 12,
    "start_time": "2022-10-12T08:48:30.465Z"
   },
   {
    "duration": 233,
    "start_time": "2022-10-12T08:48:30.479Z"
   },
   {
    "duration": 154,
    "start_time": "2022-10-12T08:48:30.714Z"
   },
   {
    "duration": 8,
    "start_time": "2022-10-12T08:48:30.869Z"
   },
   {
    "duration": 30,
    "start_time": "2022-10-12T08:48:30.878Z"
   },
   {
    "duration": 19,
    "start_time": "2022-10-12T08:48:30.909Z"
   },
   {
    "duration": 17,
    "start_time": "2022-10-12T08:48:30.929Z"
   },
   {
    "duration": 15,
    "start_time": "2022-10-12T08:48:30.948Z"
   },
   {
    "duration": 16,
    "start_time": "2022-10-12T08:48:30.965Z"
   },
   {
    "duration": 21,
    "start_time": "2022-10-12T08:48:30.983Z"
   },
   {
    "duration": 17,
    "start_time": "2022-10-12T08:48:31.005Z"
   },
   {
    "duration": 27,
    "start_time": "2022-10-12T08:48:31.023Z"
   },
   {
    "duration": 40,
    "start_time": "2022-10-12T08:48:31.052Z"
   },
   {
    "duration": 23,
    "start_time": "2022-10-12T08:48:31.093Z"
   },
   {
    "duration": 12,
    "start_time": "2022-10-12T08:48:31.118Z"
   },
   {
    "duration": 15263,
    "start_time": "2022-10-12T08:48:31.131Z"
   },
   {
    "duration": 15816,
    "start_time": "2022-10-12T08:48:46.396Z"
   },
   {
    "duration": 3,
    "start_time": "2022-10-12T08:49:02.214Z"
   },
   {
    "duration": 10,
    "start_time": "2022-10-12T08:49:02.219Z"
   },
   {
    "duration": 1891,
    "start_time": "2022-10-12T08:49:02.231Z"
   },
   {
    "duration": 1808,
    "start_time": "2022-10-12T08:49:04.208Z"
   },
   {
    "duration": 261,
    "start_time": "2022-10-12T08:49:06.022Z"
   },
   {
    "duration": 0,
    "start_time": "2022-10-12T08:49:06.285Z"
   },
   {
    "duration": 0,
    "start_time": "2022-10-12T08:49:06.287Z"
   },
   {
    "duration": 0,
    "start_time": "2022-10-12T08:49:06.289Z"
   },
   {
    "duration": 0,
    "start_time": "2022-10-12T08:49:06.290Z"
   },
   {
    "duration": 19,
    "start_time": "2022-10-12T08:49:11.448Z"
   },
   {
    "duration": 18,
    "start_time": "2022-10-12T08:50:13.101Z"
   },
   {
    "duration": 10,
    "start_time": "2022-10-12T08:50:25.994Z"
   },
   {
    "duration": 264,
    "start_time": "2022-10-12T09:07:24.454Z"
   },
   {
    "duration": 323,
    "start_time": "2022-10-12T09:08:02.343Z"
   },
   {
    "duration": 15,
    "start_time": "2022-10-12T09:08:33.385Z"
   },
   {
    "duration": 240,
    "start_time": "2022-10-12T09:08:44.687Z"
   },
   {
    "duration": 191,
    "start_time": "2022-10-12T09:11:13.315Z"
   },
   {
    "duration": 240,
    "start_time": "2022-10-12T09:11:16.703Z"
   },
   {
    "duration": 236,
    "start_time": "2022-10-12T09:12:55.906Z"
   },
   {
    "duration": 7,
    "start_time": "2022-10-12T09:17:25.455Z"
   },
   {
    "duration": 7,
    "start_time": "2022-10-12T09:17:42.826Z"
   },
   {
    "duration": 198,
    "start_time": "2022-10-12T09:17:44.763Z"
   },
   {
    "duration": 305,
    "start_time": "2022-10-12T09:17:59.128Z"
   },
   {
    "duration": 141,
    "start_time": "2022-10-12T09:18:09.732Z"
   },
   {
    "duration": 1304,
    "start_time": "2022-10-12T09:18:18.400Z"
   },
   {
    "duration": 2,
    "start_time": "2022-10-12T09:18:19.706Z"
   },
   {
    "duration": 415,
    "start_time": "2022-10-12T09:18:19.709Z"
   },
   {
    "duration": 16,
    "start_time": "2022-10-12T09:18:20.126Z"
   },
   {
    "duration": 525,
    "start_time": "2022-10-12T09:18:20.143Z"
   },
   {
    "duration": 240,
    "start_time": "2022-10-12T09:18:20.670Z"
   },
   {
    "duration": 11,
    "start_time": "2022-10-12T09:18:20.912Z"
   },
   {
    "duration": 296,
    "start_time": "2022-10-12T09:18:20.925Z"
   },
   {
    "duration": 607,
    "start_time": "2022-10-12T09:18:21.222Z"
   },
   {
    "duration": 17,
    "start_time": "2022-10-12T09:18:21.832Z"
   },
   {
    "duration": 273,
    "start_time": "2022-10-12T09:18:21.851Z"
   },
   {
    "duration": 4,
    "start_time": "2022-10-12T09:18:22.126Z"
   },
   {
    "duration": 16,
    "start_time": "2022-10-12T09:18:22.131Z"
   },
   {
    "duration": 12,
    "start_time": "2022-10-12T09:18:22.148Z"
   },
   {
    "duration": 20,
    "start_time": "2022-10-12T09:18:22.162Z"
   },
   {
    "duration": 6,
    "start_time": "2022-10-12T09:18:22.184Z"
   },
   {
    "duration": 18,
    "start_time": "2022-10-12T09:18:22.192Z"
   },
   {
    "duration": 35,
    "start_time": "2022-10-12T09:18:22.211Z"
   },
   {
    "duration": 10,
    "start_time": "2022-10-12T09:18:22.248Z"
   },
   {
    "duration": 44,
    "start_time": "2022-10-12T09:18:22.259Z"
   },
   {
    "duration": 7,
    "start_time": "2022-10-12T09:18:22.305Z"
   },
   {
    "duration": 24,
    "start_time": "2022-10-12T09:18:22.313Z"
   },
   {
    "duration": 8,
    "start_time": "2022-10-12T09:18:22.338Z"
   },
   {
    "duration": 242,
    "start_time": "2022-10-12T09:18:22.347Z"
   },
   {
    "duration": 239,
    "start_time": "2022-10-12T09:18:22.591Z"
   },
   {
    "duration": 294,
    "start_time": "2022-10-12T09:18:22.832Z"
   },
   {
    "duration": 190,
    "start_time": "2022-10-12T09:18:23.127Z"
   },
   {
    "duration": 206,
    "start_time": "2022-10-12T09:18:23.320Z"
   },
   {
    "duration": 14,
    "start_time": "2022-10-12T09:18:23.527Z"
   },
   {
    "duration": 30,
    "start_time": "2022-10-12T09:18:23.542Z"
   },
   {
    "duration": 19,
    "start_time": "2022-10-12T09:18:23.574Z"
   },
   {
    "duration": 249,
    "start_time": "2022-10-12T09:18:23.594Z"
   },
   {
    "duration": 155,
    "start_time": "2022-10-12T09:18:23.844Z"
   },
   {
    "duration": 12,
    "start_time": "2022-10-12T09:18:24.001Z"
   },
   {
    "duration": 1151,
    "start_time": "2022-10-12T09:18:24.015Z"
   },
   {
    "duration": 0,
    "start_time": "2022-10-12T09:18:25.167Z"
   },
   {
    "duration": 0,
    "start_time": "2022-10-12T09:18:25.168Z"
   },
   {
    "duration": 0,
    "start_time": "2022-10-12T09:18:25.169Z"
   },
   {
    "duration": 0,
    "start_time": "2022-10-12T09:18:25.170Z"
   },
   {
    "duration": 0,
    "start_time": "2022-10-12T09:18:25.172Z"
   },
   {
    "duration": 0,
    "start_time": "2022-10-12T09:18:25.173Z"
   },
   {
    "duration": 0,
    "start_time": "2022-10-12T09:18:25.174Z"
   },
   {
    "duration": 0,
    "start_time": "2022-10-12T09:18:25.175Z"
   },
   {
    "duration": 0,
    "start_time": "2022-10-12T09:18:25.176Z"
   },
   {
    "duration": 0,
    "start_time": "2022-10-12T09:18:25.176Z"
   },
   {
    "duration": 0,
    "start_time": "2022-10-12T09:18:25.178Z"
   },
   {
    "duration": 0,
    "start_time": "2022-10-12T09:18:25.179Z"
   },
   {
    "duration": 0,
    "start_time": "2022-10-12T09:18:25.179Z"
   },
   {
    "duration": 0,
    "start_time": "2022-10-12T09:18:25.180Z"
   },
   {
    "duration": 0,
    "start_time": "2022-10-12T09:18:25.181Z"
   },
   {
    "duration": 0,
    "start_time": "2022-10-12T09:18:25.182Z"
   },
   {
    "duration": 0,
    "start_time": "2022-10-12T09:18:25.183Z"
   },
   {
    "duration": 0,
    "start_time": "2022-10-12T09:18:25.184Z"
   },
   {
    "duration": 0,
    "start_time": "2022-10-12T09:18:25.185Z"
   },
   {
    "duration": 216,
    "start_time": "2022-10-12T09:18:36.352Z"
   },
   {
    "duration": 1313,
    "start_time": "2022-10-12T09:19:09.473Z"
   },
   {
    "duration": 3,
    "start_time": "2022-10-12T09:19:10.788Z"
   },
   {
    "duration": 354,
    "start_time": "2022-10-12T09:19:10.792Z"
   },
   {
    "duration": 16,
    "start_time": "2022-10-12T09:19:11.148Z"
   },
   {
    "duration": 298,
    "start_time": "2022-10-12T09:19:11.166Z"
   },
   {
    "duration": 112,
    "start_time": "2022-10-12T09:19:11.466Z"
   },
   {
    "duration": 13,
    "start_time": "2022-10-12T09:19:11.580Z"
   },
   {
    "duration": 144,
    "start_time": "2022-10-12T09:19:11.595Z"
   },
   {
    "duration": 384,
    "start_time": "2022-10-12T09:19:11.741Z"
   },
   {
    "duration": 17,
    "start_time": "2022-10-12T09:19:12.128Z"
   },
   {
    "duration": 281,
    "start_time": "2022-10-12T09:19:12.146Z"
   },
   {
    "duration": 4,
    "start_time": "2022-10-12T09:19:12.428Z"
   },
   {
    "duration": 8,
    "start_time": "2022-10-12T09:19:12.434Z"
   },
   {
    "duration": 5,
    "start_time": "2022-10-12T09:19:12.444Z"
   },
   {
    "duration": 15,
    "start_time": "2022-10-12T09:19:12.450Z"
   },
   {
    "duration": 6,
    "start_time": "2022-10-12T09:19:12.466Z"
   },
   {
    "duration": 14,
    "start_time": "2022-10-12T09:19:12.474Z"
   },
   {
    "duration": 35,
    "start_time": "2022-10-12T09:19:12.509Z"
   },
   {
    "duration": 9,
    "start_time": "2022-10-12T09:19:12.546Z"
   },
   {
    "duration": 22,
    "start_time": "2022-10-12T09:19:12.557Z"
   },
   {
    "duration": 29,
    "start_time": "2022-10-12T09:19:12.580Z"
   },
   {
    "duration": 17,
    "start_time": "2022-10-12T09:19:12.610Z"
   },
   {
    "duration": 6,
    "start_time": "2022-10-12T09:19:12.629Z"
   },
   {
    "duration": 273,
    "start_time": "2022-10-12T09:19:12.636Z"
   },
   {
    "duration": 240,
    "start_time": "2022-10-12T09:19:12.910Z"
   },
   {
    "duration": 304,
    "start_time": "2022-10-12T09:19:13.152Z"
   },
   {
    "duration": 191,
    "start_time": "2022-10-12T09:19:13.458Z"
   },
   {
    "duration": 203,
    "start_time": "2022-10-12T09:19:13.653Z"
   },
   {
    "duration": 14,
    "start_time": "2022-10-12T09:19:13.858Z"
   },
   {
    "duration": 13,
    "start_time": "2022-10-12T09:19:13.874Z"
   },
   {
    "duration": 25,
    "start_time": "2022-10-12T09:19:13.889Z"
   },
   {
    "duration": 211,
    "start_time": "2022-10-12T09:19:13.915Z"
   },
   {
    "duration": 147,
    "start_time": "2022-10-12T09:19:14.128Z"
   },
   {
    "duration": 7,
    "start_time": "2022-10-12T09:19:14.277Z"
   },
   {
    "duration": 9,
    "start_time": "2022-10-12T09:19:14.285Z"
   },
   {
    "duration": 19,
    "start_time": "2022-10-12T09:19:14.295Z"
   },
   {
    "duration": 11,
    "start_time": "2022-10-12T09:19:14.315Z"
   },
   {
    "duration": 4,
    "start_time": "2022-10-12T09:19:14.327Z"
   },
   {
    "duration": 6,
    "start_time": "2022-10-12T09:19:14.332Z"
   },
   {
    "duration": 6,
    "start_time": "2022-10-12T09:19:14.339Z"
   },
   {
    "duration": 9,
    "start_time": "2022-10-12T09:19:14.346Z"
   },
   {
    "duration": 15,
    "start_time": "2022-10-12T09:19:14.356Z"
   },
   {
    "duration": 46,
    "start_time": "2022-10-12T09:19:14.372Z"
   },
   {
    "duration": 3,
    "start_time": "2022-10-12T09:19:14.420Z"
   },
   {
    "duration": 16153,
    "start_time": "2022-10-12T09:19:14.425Z"
   },
   {
    "duration": 15063,
    "start_time": "2022-10-12T09:19:30.579Z"
   },
   {
    "duration": 3,
    "start_time": "2022-10-12T09:19:45.644Z"
   },
   {
    "duration": 5,
    "start_time": "2022-10-12T09:19:45.649Z"
   },
   {
    "duration": 1454,
    "start_time": "2022-10-12T09:19:45.656Z"
   },
   {
    "duration": 1598,
    "start_time": "2022-10-12T09:19:47.112Z"
   },
   {
    "duration": 205,
    "start_time": "2022-10-12T09:19:48.716Z"
   },
   {
    "duration": 0,
    "start_time": "2022-10-12T09:19:48.923Z"
   },
   {
    "duration": 0,
    "start_time": "2022-10-12T09:19:48.924Z"
   },
   {
    "duration": 1,
    "start_time": "2022-10-12T09:19:48.925Z"
   },
   {
    "duration": 219,
    "start_time": "2022-10-12T09:21:05.973Z"
   },
   {
    "duration": 1228,
    "start_time": "2022-10-12T09:21:16.660Z"
   },
   {
    "duration": 3,
    "start_time": "2022-10-12T09:21:17.889Z"
   },
   {
    "duration": 324,
    "start_time": "2022-10-12T09:21:17.893Z"
   },
   {
    "duration": 17,
    "start_time": "2022-10-12T09:21:18.219Z"
   },
   {
    "duration": 439,
    "start_time": "2022-10-12T09:21:18.237Z"
   },
   {
    "duration": 174,
    "start_time": "2022-10-12T09:21:18.677Z"
   },
   {
    "duration": 66,
    "start_time": "2022-10-12T09:21:18.852Z"
   },
   {
    "duration": 236,
    "start_time": "2022-10-12T09:21:18.920Z"
   },
   {
    "duration": 724,
    "start_time": "2022-10-12T09:21:19.209Z"
   },
   {
    "duration": 16,
    "start_time": "2022-10-12T09:21:19.935Z"
   },
   {
    "duration": 300,
    "start_time": "2022-10-12T09:21:19.952Z"
   },
   {
    "duration": 5,
    "start_time": "2022-10-12T09:21:20.253Z"
   },
   {
    "duration": 6,
    "start_time": "2022-10-12T09:21:20.259Z"
   },
   {
    "duration": 8,
    "start_time": "2022-10-12T09:21:20.267Z"
   },
   {
    "duration": 15,
    "start_time": "2022-10-12T09:21:20.277Z"
   },
   {
    "duration": 16,
    "start_time": "2022-10-12T09:21:20.294Z"
   },
   {
    "duration": 12,
    "start_time": "2022-10-12T09:21:20.311Z"
   },
   {
    "duration": 34,
    "start_time": "2022-10-12T09:21:20.324Z"
   },
   {
    "duration": 10,
    "start_time": "2022-10-12T09:21:20.359Z"
   },
   {
    "duration": 49,
    "start_time": "2022-10-12T09:21:20.371Z"
   },
   {
    "duration": 7,
    "start_time": "2022-10-12T09:21:20.422Z"
   },
   {
    "duration": 17,
    "start_time": "2022-10-12T09:21:20.430Z"
   },
   {
    "duration": 6,
    "start_time": "2022-10-12T09:21:20.448Z"
   },
   {
    "duration": 248,
    "start_time": "2022-10-12T09:21:20.456Z"
   },
   {
    "duration": 236,
    "start_time": "2022-10-12T09:21:20.708Z"
   },
   {
    "duration": 303,
    "start_time": "2022-10-12T09:21:20.946Z"
   },
   {
    "duration": 201,
    "start_time": "2022-10-12T09:21:21.250Z"
   },
   {
    "duration": 204,
    "start_time": "2022-10-12T09:21:21.455Z"
   },
   {
    "duration": 16,
    "start_time": "2022-10-12T09:21:21.661Z"
   },
   {
    "duration": 16,
    "start_time": "2022-10-12T09:21:21.679Z"
   },
   {
    "duration": 7,
    "start_time": "2022-10-12T09:21:21.708Z"
   },
   {
    "duration": 242,
    "start_time": "2022-10-12T09:21:21.716Z"
   },
   {
    "duration": 146,
    "start_time": "2022-10-12T09:21:21.960Z"
   },
   {
    "duration": 7,
    "start_time": "2022-10-12T09:21:22.109Z"
   },
   {
    "duration": 15,
    "start_time": "2022-10-12T09:21:22.117Z"
   },
   {
    "duration": 18,
    "start_time": "2022-10-12T09:21:22.134Z"
   },
   {
    "duration": 12,
    "start_time": "2022-10-12T09:21:22.153Z"
   },
   {
    "duration": 6,
    "start_time": "2022-10-12T09:21:22.167Z"
   },
   {
    "duration": 12,
    "start_time": "2022-10-12T09:21:22.174Z"
   },
   {
    "duration": 17,
    "start_time": "2022-10-12T09:21:22.188Z"
   },
   {
    "duration": 25,
    "start_time": "2022-10-12T09:21:22.207Z"
   },
   {
    "duration": 21,
    "start_time": "2022-10-12T09:21:22.233Z"
   },
   {
    "duration": 21,
    "start_time": "2022-10-12T09:21:22.256Z"
   },
   {
    "duration": 12,
    "start_time": "2022-10-12T09:21:22.279Z"
   },
   {
    "duration": 15480,
    "start_time": "2022-10-12T09:21:22.292Z"
   },
   {
    "duration": 14963,
    "start_time": "2022-10-12T09:21:37.774Z"
   },
   {
    "duration": 3,
    "start_time": "2022-10-12T09:21:52.738Z"
   },
   {
    "duration": 10,
    "start_time": "2022-10-12T09:21:52.742Z"
   },
   {
    "duration": 1358,
    "start_time": "2022-10-12T09:21:52.753Z"
   },
   {
    "duration": 1405,
    "start_time": "2022-10-12T09:21:54.113Z"
   },
   {
    "duration": 159,
    "start_time": "2022-10-12T09:21:55.610Z"
   },
   {
    "duration": 0,
    "start_time": "2022-10-12T09:21:55.770Z"
   },
   {
    "duration": 0,
    "start_time": "2022-10-12T09:21:55.771Z"
   },
   {
    "duration": 0,
    "start_time": "2022-10-12T09:21:55.772Z"
   },
   {
    "duration": 1302,
    "start_time": "2022-10-12T09:35:53.546Z"
   },
   {
    "duration": 3,
    "start_time": "2022-10-12T09:35:54.850Z"
   },
   {
    "duration": 328,
    "start_time": "2022-10-12T09:35:54.854Z"
   },
   {
    "duration": 25,
    "start_time": "2022-10-12T09:35:55.184Z"
   },
   {
    "duration": 262,
    "start_time": "2022-10-12T09:35:55.210Z"
   },
   {
    "duration": 106,
    "start_time": "2022-10-12T09:35:55.473Z"
   },
   {
    "duration": 12,
    "start_time": "2022-10-12T09:35:55.581Z"
   },
   {
    "duration": 132,
    "start_time": "2022-10-12T09:35:55.595Z"
   },
   {
    "duration": 586,
    "start_time": "2022-10-12T09:35:55.728Z"
   },
   {
    "duration": 16,
    "start_time": "2022-10-12T09:35:56.317Z"
   },
   {
    "duration": 518,
    "start_time": "2022-10-12T09:35:56.335Z"
   },
   {
    "duration": 4,
    "start_time": "2022-10-12T09:35:56.910Z"
   },
   {
    "duration": 13,
    "start_time": "2022-10-12T09:35:56.915Z"
   },
   {
    "duration": 8,
    "start_time": "2022-10-12T09:35:56.929Z"
   },
   {
    "duration": 14,
    "start_time": "2022-10-12T09:35:56.938Z"
   },
   {
    "duration": 6,
    "start_time": "2022-10-12T09:35:56.953Z"
   },
   {
    "duration": 14,
    "start_time": "2022-10-12T09:35:57.009Z"
   },
   {
    "duration": 96,
    "start_time": "2022-10-12T09:35:57.025Z"
   },
   {
    "duration": 9,
    "start_time": "2022-10-12T09:35:57.123Z"
   },
   {
    "duration": 84,
    "start_time": "2022-10-12T09:35:57.134Z"
   },
   {
    "duration": 8,
    "start_time": "2022-10-12T09:35:57.219Z"
   },
   {
    "duration": 20,
    "start_time": "2022-10-12T09:35:57.228Z"
   },
   {
    "duration": 62,
    "start_time": "2022-10-12T09:35:57.250Z"
   },
   {
    "duration": 507,
    "start_time": "2022-10-12T09:35:57.314Z"
   },
   {
    "duration": 340,
    "start_time": "2022-10-12T09:35:57.823Z"
   },
   {
    "duration": 303,
    "start_time": "2022-10-12T09:35:58.164Z"
   },
   {
    "duration": 192,
    "start_time": "2022-10-12T09:35:58.468Z"
   },
   {
    "duration": 203,
    "start_time": "2022-10-12T09:35:58.665Z"
   },
   {
    "duration": 15,
    "start_time": "2022-10-12T09:35:58.869Z"
   },
   {
    "duration": 26,
    "start_time": "2022-10-12T09:35:58.886Z"
   },
   {
    "duration": 10,
    "start_time": "2022-10-12T09:35:58.914Z"
   },
   {
    "duration": 240,
    "start_time": "2022-10-12T09:35:58.926Z"
   },
   {
    "duration": 163,
    "start_time": "2022-10-12T09:35:59.168Z"
   },
   {
    "duration": 8,
    "start_time": "2022-10-12T09:35:59.332Z"
   },
   {
    "duration": 10,
    "start_time": "2022-10-12T09:35:59.341Z"
   },
   {
    "duration": 8,
    "start_time": "2022-10-12T09:35:59.352Z"
   },
   {
    "duration": 18,
    "start_time": "2022-10-12T09:35:59.361Z"
   },
   {
    "duration": 5,
    "start_time": "2022-10-12T09:35:59.381Z"
   },
   {
    "duration": 26,
    "start_time": "2022-10-12T09:35:59.387Z"
   },
   {
    "duration": 17,
    "start_time": "2022-10-12T09:35:59.414Z"
   },
   {
    "duration": 6,
    "start_time": "2022-10-12T09:35:59.432Z"
   },
   {
    "duration": 20,
    "start_time": "2022-10-12T09:35:59.439Z"
   },
   {
    "duration": 4,
    "start_time": "2022-10-12T09:35:59.460Z"
   },
   {
    "duration": 16175,
    "start_time": "2022-10-12T09:35:59.465Z"
   },
   {
    "duration": 15006,
    "start_time": "2022-10-12T09:36:15.642Z"
   },
   {
    "duration": 2762247,
    "start_time": "2022-10-12T09:36:30.649Z"
   },
   {
    "duration": 2900956,
    "start_time": "2022-10-12T10:22:32.898Z"
   },
   {
    "duration": 1354,
    "start_time": "2022-10-12T11:10:53.856Z"
   },
   {
    "duration": 1899,
    "start_time": "2022-10-12T11:10:55.211Z"
   },
   {
    "duration": 3,
    "start_time": "2022-10-12T11:10:57.112Z"
   },
   {
    "duration": 93,
    "start_time": "2022-10-12T11:10:57.116Z"
   },
   {
    "duration": 99,
    "start_time": "2022-10-12T11:10:57.212Z"
   },
   {
    "duration": 4,
    "start_time": "2022-10-12T11:10:57.313Z"
   },
   {
    "duration": 3,
    "start_time": "2022-10-12T11:20:41.818Z"
   },
   {
    "duration": 13,
    "start_time": "2022-10-12T11:23:20.203Z"
   },
   {
    "duration": 11,
    "start_time": "2022-10-12T11:23:22.027Z"
   },
   {
    "duration": 4,
    "start_time": "2022-10-12T11:23:25.495Z"
   },
   {
    "duration": 489,
    "start_time": "2022-10-12T11:27:30.343Z"
   },
   {
    "duration": 4,
    "start_time": "2022-10-12T11:27:42.925Z"
   },
   {
    "duration": 5,
    "start_time": "2022-10-12T11:27:59.408Z"
   },
   {
    "duration": 441315,
    "start_time": "2022-10-12T11:33:26.335Z"
   },
   {
    "duration": 430990,
    "start_time": "2022-10-12T11:40:47.653Z"
   },
   {
    "duration": 146,
    "start_time": "2022-10-12T11:49:11.589Z"
   },
   {
    "duration": 9,
    "start_time": "2022-10-12T11:49:24.522Z"
   },
   {
    "duration": 8,
    "start_time": "2022-10-12T11:49:45.774Z"
   },
   {
    "duration": 4,
    "start_time": "2022-10-12T11:49:49.017Z"
   },
   {
    "duration": 7,
    "start_time": "2022-10-12T11:51:41.381Z"
   },
   {
    "duration": 9,
    "start_time": "2022-10-12T11:51:43.841Z"
   },
   {
    "duration": 4,
    "start_time": "2022-10-12T11:51:46.553Z"
   },
   {
    "duration": 7,
    "start_time": "2022-10-12T11:51:55.267Z"
   },
   {
    "duration": 8,
    "start_time": "2022-10-12T11:51:57.129Z"
   },
   {
    "duration": 6,
    "start_time": "2022-10-12T11:51:59.800Z"
   },
   {
    "duration": 1374,
    "start_time": "2022-10-12T11:54:46.753Z"
   },
   {
    "duration": 3,
    "start_time": "2022-10-12T11:54:48.128Z"
   },
   {
    "duration": 397,
    "start_time": "2022-10-12T11:54:48.133Z"
   },
   {
    "duration": 18,
    "start_time": "2022-10-12T11:54:48.532Z"
   },
   {
    "duration": 360,
    "start_time": "2022-10-12T11:54:48.552Z"
   },
   {
    "duration": 113,
    "start_time": "2022-10-12T11:54:48.914Z"
   },
   {
    "duration": 15,
    "start_time": "2022-10-12T11:54:49.029Z"
   },
   {
    "duration": 154,
    "start_time": "2022-10-12T11:54:49.046Z"
   },
   {
    "duration": 439,
    "start_time": "2022-10-12T11:54:49.201Z"
   },
   {
    "duration": 23,
    "start_time": "2022-10-12T11:54:49.643Z"
   },
   {
    "duration": 310,
    "start_time": "2022-10-12T11:54:49.668Z"
   },
   {
    "duration": 5,
    "start_time": "2022-10-12T11:54:49.980Z"
   },
   {
    "duration": 7,
    "start_time": "2022-10-12T11:54:49.987Z"
   },
   {
    "duration": 17,
    "start_time": "2022-10-12T11:54:49.996Z"
   },
   {
    "duration": 23,
    "start_time": "2022-10-12T11:54:50.014Z"
   },
   {
    "duration": 14,
    "start_time": "2022-10-12T11:54:50.038Z"
   },
   {
    "duration": 14,
    "start_time": "2022-10-12T11:54:50.054Z"
   },
   {
    "duration": 55,
    "start_time": "2022-10-12T11:54:50.070Z"
   },
   {
    "duration": 12,
    "start_time": "2022-10-12T11:54:50.127Z"
   },
   {
    "duration": 26,
    "start_time": "2022-10-12T11:54:50.141Z"
   },
   {
    "duration": 7,
    "start_time": "2022-10-12T11:54:50.169Z"
   },
   {
    "duration": 52,
    "start_time": "2022-10-12T11:54:50.178Z"
   },
   {
    "duration": 9,
    "start_time": "2022-10-12T11:54:50.231Z"
   },
   {
    "duration": 283,
    "start_time": "2022-10-12T11:54:50.241Z"
   },
   {
    "duration": 253,
    "start_time": "2022-10-12T11:54:50.526Z"
   },
   {
    "duration": 332,
    "start_time": "2022-10-12T11:54:50.781Z"
   },
   {
    "duration": 244,
    "start_time": "2022-10-12T11:54:51.115Z"
   },
   {
    "duration": 219,
    "start_time": "2022-10-12T11:54:51.363Z"
   },
   {
    "duration": 26,
    "start_time": "2022-10-12T11:54:51.584Z"
   },
   {
    "duration": 21,
    "start_time": "2022-10-12T11:54:51.612Z"
   },
   {
    "duration": 9,
    "start_time": "2022-10-12T11:54:51.635Z"
   },
   {
    "duration": 245,
    "start_time": "2022-10-12T11:54:51.645Z"
   },
   {
    "duration": 219,
    "start_time": "2022-10-12T11:54:51.892Z"
   },
   {
    "duration": 11,
    "start_time": "2022-10-12T11:54:52.113Z"
   },
   {
    "duration": 12,
    "start_time": "2022-10-12T11:54:52.126Z"
   },
   {
    "duration": 10,
    "start_time": "2022-10-12T11:54:52.140Z"
   },
   {
    "duration": 18,
    "start_time": "2022-10-12T11:54:52.152Z"
   },
   {
    "duration": 37,
    "start_time": "2022-10-12T11:54:52.173Z"
   },
   {
    "duration": 8,
    "start_time": "2022-10-12T11:54:52.211Z"
   },
   {
    "duration": 9,
    "start_time": "2022-10-12T11:54:52.220Z"
   },
   {
    "duration": 12,
    "start_time": "2022-10-12T11:54:52.231Z"
   },
   {
    "duration": 32,
    "start_time": "2022-10-12T11:54:52.245Z"
   },
   {
    "duration": 4,
    "start_time": "2022-10-12T11:54:52.280Z"
   },
   {
    "duration": 17588,
    "start_time": "2022-10-12T11:54:52.286Z"
   },
   {
    "duration": 15527,
    "start_time": "2022-10-12T11:55:09.876Z"
   },
   {
    "duration": 423321,
    "start_time": "2022-10-12T11:55:25.404Z"
   },
   {
    "duration": 432556,
    "start_time": "2022-10-12T12:02:28.726Z"
   },
   {
    "duration": 4936,
    "start_time": "2022-10-12T12:09:41.283Z"
   },
   {
    "duration": 2302,
    "start_time": "2022-10-12T12:09:46.221Z"
   },
   {
    "duration": 86,
    "start_time": "2022-10-12T12:09:48.525Z"
   },
   {
    "duration": 114,
    "start_time": "2022-10-12T12:09:48.613Z"
   },
   {
    "duration": 11,
    "start_time": "2022-10-12T12:09:48.729Z"
   },
   {
    "duration": 9,
    "start_time": "2022-10-12T12:09:48.741Z"
   },
   {
    "duration": 9,
    "start_time": "2022-10-12T12:09:48.751Z"
   },
   {
    "duration": 11,
    "start_time": "2022-10-12T12:09:48.761Z"
   },
   {
    "duration": 7,
    "start_time": "2022-10-12T12:09:48.774Z"
   },
   {
    "duration": 10,
    "start_time": "2022-10-12T12:12:23.190Z"
   },
   {
    "duration": 10,
    "start_time": "2022-10-12T12:12:35.243Z"
   },
   {
    "duration": 5657,
    "start_time": "2022-10-12T12:12:54.873Z"
   },
   {
    "duration": 5702,
    "start_time": "2022-10-12T12:13:24.246Z"
   },
   {
    "duration": 3,
    "start_time": "2022-10-12T12:13:37.795Z"
   },
   {
    "duration": 7,
    "start_time": "2022-10-12T12:14:39.091Z"
   },
   {
    "duration": 7,
    "start_time": "2022-10-12T12:14:40.869Z"
   },
   {
    "duration": 4,
    "start_time": "2022-10-12T12:14:47.389Z"
   },
   {
    "duration": 2806,
    "start_time": "2022-10-12T19:16:30.995Z"
   },
   {
    "duration": 3,
    "start_time": "2022-10-12T19:16:33.803Z"
   },
   {
    "duration": 318,
    "start_time": "2022-10-12T19:16:33.807Z"
   },
   {
    "duration": 19,
    "start_time": "2022-10-12T19:16:34.127Z"
   },
   {
    "duration": 307,
    "start_time": "2022-10-12T19:16:34.148Z"
   },
   {
    "duration": 127,
    "start_time": "2022-10-12T19:16:34.458Z"
   },
   {
    "duration": 22,
    "start_time": "2022-10-12T19:16:34.586Z"
   },
   {
    "duration": 150,
    "start_time": "2022-10-12T19:16:34.609Z"
   },
   {
    "duration": 369,
    "start_time": "2022-10-12T19:16:34.761Z"
   },
   {
    "duration": 17,
    "start_time": "2022-10-12T19:16:35.132Z"
   },
   {
    "duration": 301,
    "start_time": "2022-10-12T19:16:35.150Z"
   },
   {
    "duration": 6,
    "start_time": "2022-10-12T19:16:35.453Z"
   },
   {
    "duration": 6,
    "start_time": "2022-10-12T19:16:35.460Z"
   },
   {
    "duration": 4,
    "start_time": "2022-10-12T19:16:35.468Z"
   },
   {
    "duration": 34,
    "start_time": "2022-10-12T19:16:35.474Z"
   },
   {
    "duration": 8,
    "start_time": "2022-10-12T19:16:35.509Z"
   },
   {
    "duration": 13,
    "start_time": "2022-10-12T19:16:35.518Z"
   },
   {
    "duration": 40,
    "start_time": "2022-10-12T19:16:35.533Z"
   },
   {
    "duration": 32,
    "start_time": "2022-10-12T19:16:35.574Z"
   },
   {
    "duration": 25,
    "start_time": "2022-10-12T19:16:35.608Z"
   },
   {
    "duration": 8,
    "start_time": "2022-10-12T19:16:35.634Z"
   },
   {
    "duration": 19,
    "start_time": "2022-10-12T19:16:35.644Z"
   },
   {
    "duration": 7,
    "start_time": "2022-10-12T19:16:35.664Z"
   },
   {
    "duration": 245,
    "start_time": "2022-10-12T19:16:35.701Z"
   },
   {
    "duration": 234,
    "start_time": "2022-10-12T19:16:35.947Z"
   },
   {
    "duration": 306,
    "start_time": "2022-10-12T19:16:36.183Z"
   },
   {
    "duration": 195,
    "start_time": "2022-10-12T19:16:36.490Z"
   },
   {
    "duration": 194,
    "start_time": "2022-10-12T19:16:36.688Z"
   },
   {
    "duration": 20,
    "start_time": "2022-10-12T19:16:36.883Z"
   },
   {
    "duration": 12,
    "start_time": "2022-10-12T19:16:36.905Z"
   },
   {
    "duration": 7,
    "start_time": "2022-10-12T19:16:36.918Z"
   },
   {
    "duration": 224,
    "start_time": "2022-10-12T19:16:36.926Z"
   },
   {
    "duration": 145,
    "start_time": "2022-10-12T19:16:37.151Z"
   },
   {
    "duration": 8,
    "start_time": "2022-10-12T19:16:37.299Z"
   },
   {
    "duration": 10,
    "start_time": "2022-10-12T19:16:37.308Z"
   },
   {
    "duration": 6,
    "start_time": "2022-10-12T19:16:37.319Z"
   },
   {
    "duration": 12,
    "start_time": "2022-10-12T19:16:37.327Z"
   },
   {
    "duration": 5,
    "start_time": "2022-10-12T19:16:37.340Z"
   },
   {
    "duration": 5,
    "start_time": "2022-10-12T19:16:37.347Z"
   },
   {
    "duration": 6,
    "start_time": "2022-10-12T19:16:37.353Z"
   },
   {
    "duration": 40,
    "start_time": "2022-10-12T19:16:37.360Z"
   },
   {
    "duration": 19,
    "start_time": "2022-10-12T19:16:37.402Z"
   },
   {
    "duration": 14,
    "start_time": "2022-10-12T19:17:10.715Z"
   },
   {
    "duration": 13,
    "start_time": "2022-10-12T19:17:31.497Z"
   },
   {
    "duration": 19,
    "start_time": "2022-10-12T19:20:01.128Z"
   },
   {
    "duration": 3,
    "start_time": "2022-10-12T19:20:04.961Z"
   },
   {
    "duration": 12643,
    "start_time": "2022-10-12T19:20:08.085Z"
   },
   {
    "duration": 1690,
    "start_time": "2022-10-12T19:24:45.311Z"
   },
   {
    "duration": 3,
    "start_time": "2022-10-12T19:24:47.003Z"
   },
   {
    "duration": 342,
    "start_time": "2022-10-12T19:24:47.007Z"
   },
   {
    "duration": 19,
    "start_time": "2022-10-12T19:24:47.352Z"
   },
   {
    "duration": 310,
    "start_time": "2022-10-12T19:24:47.373Z"
   },
   {
    "duration": 102,
    "start_time": "2022-10-12T19:24:47.685Z"
   },
   {
    "duration": 13,
    "start_time": "2022-10-12T19:24:47.789Z"
   },
   {
    "duration": 169,
    "start_time": "2022-10-12T19:24:47.803Z"
   },
   {
    "duration": 370,
    "start_time": "2022-10-12T19:24:47.973Z"
   },
   {
    "duration": 17,
    "start_time": "2022-10-12T19:24:48.345Z"
   },
   {
    "duration": 296,
    "start_time": "2022-10-12T19:24:48.363Z"
   },
   {
    "duration": 4,
    "start_time": "2022-10-12T19:24:48.661Z"
   },
   {
    "duration": 10,
    "start_time": "2022-10-12T19:24:48.667Z"
   },
   {
    "duration": 21,
    "start_time": "2022-10-12T19:24:48.679Z"
   },
   {
    "duration": 12,
    "start_time": "2022-10-12T19:24:48.702Z"
   },
   {
    "duration": 6,
    "start_time": "2022-10-12T19:24:48.716Z"
   },
   {
    "duration": 15,
    "start_time": "2022-10-12T19:24:48.723Z"
   },
   {
    "duration": 42,
    "start_time": "2022-10-12T19:24:48.740Z"
   },
   {
    "duration": 24,
    "start_time": "2022-10-12T19:24:48.784Z"
   },
   {
    "duration": 27,
    "start_time": "2022-10-12T19:24:48.810Z"
   },
   {
    "duration": 7,
    "start_time": "2022-10-12T19:24:48.839Z"
   },
   {
    "duration": 19,
    "start_time": "2022-10-12T19:24:48.847Z"
   },
   {
    "duration": 34,
    "start_time": "2022-10-12T19:24:48.867Z"
   },
   {
    "duration": 266,
    "start_time": "2022-10-12T19:24:48.902Z"
   },
   {
    "duration": 249,
    "start_time": "2022-10-12T19:24:49.169Z"
   },
   {
    "duration": 345,
    "start_time": "2022-10-12T19:24:49.420Z"
   },
   {
    "duration": 214,
    "start_time": "2022-10-12T19:24:49.767Z"
   },
   {
    "duration": 212,
    "start_time": "2022-10-12T19:24:49.983Z"
   },
   {
    "duration": 15,
    "start_time": "2022-10-12T19:24:50.199Z"
   },
   {
    "duration": 13,
    "start_time": "2022-10-12T19:24:50.215Z"
   },
   {
    "duration": 8,
    "start_time": "2022-10-12T19:24:50.229Z"
   },
   {
    "duration": 236,
    "start_time": "2022-10-12T19:24:50.238Z"
   },
   {
    "duration": 157,
    "start_time": "2022-10-12T19:24:50.475Z"
   },
   {
    "duration": 81,
    "start_time": "2022-10-12T19:24:50.633Z"
   },
   {
    "duration": 0,
    "start_time": "2022-10-12T19:24:50.716Z"
   },
   {
    "duration": 0,
    "start_time": "2022-10-12T19:24:50.717Z"
   },
   {
    "duration": 7,
    "start_time": "2022-10-12T19:25:22.249Z"
   },
   {
    "duration": 11,
    "start_time": "2022-10-12T19:25:23.061Z"
   },
   {
    "duration": 7,
    "start_time": "2022-10-12T19:25:23.817Z"
   },
   {
    "duration": 14,
    "start_time": "2022-10-12T19:25:25.725Z"
   },
   {
    "duration": 5,
    "start_time": "2022-10-12T19:25:30.550Z"
   },
   {
    "duration": 5,
    "start_time": "2022-10-12T19:25:31.014Z"
   },
   {
    "duration": 5,
    "start_time": "2022-10-12T19:25:32.883Z"
   },
   {
    "duration": 4,
    "start_time": "2022-10-12T19:25:33.551Z"
   },
   {
    "duration": 19,
    "start_time": "2022-10-12T19:25:35.320Z"
   },
   {
    "duration": 3,
    "start_time": "2022-10-12T19:25:45.375Z"
   },
   {
    "duration": 336219,
    "start_time": "2022-10-12T19:25:59.026Z"
   },
   {
    "duration": 450197,
    "start_time": "2022-10-12T19:37:55.782Z"
   },
   {
    "duration": 8,
    "start_time": "2022-10-12T19:47:12.216Z"
   },
   {
    "duration": 12,
    "start_time": "2022-10-12T19:47:15.757Z"
   },
   {
    "duration": 3,
    "start_time": "2022-10-12T19:47:20.304Z"
   },
   {
    "duration": 7,
    "start_time": "2022-10-12T19:47:30.203Z"
   },
   {
    "duration": 7,
    "start_time": "2022-10-12T19:47:32.607Z"
   },
   {
    "duration": 3,
    "start_time": "2022-10-12T19:47:36.490Z"
   },
   {
    "duration": 1366,
    "start_time": "2022-10-13T06:31:01.540Z"
   },
   {
    "duration": 3,
    "start_time": "2022-10-13T06:31:02.908Z"
   },
   {
    "duration": 1181,
    "start_time": "2022-10-13T06:31:02.913Z"
   },
   {
    "duration": 16,
    "start_time": "2022-10-13T06:31:04.096Z"
   },
   {
    "duration": 285,
    "start_time": "2022-10-13T06:31:04.113Z"
   },
   {
    "duration": 416,
    "start_time": "2022-10-13T06:31:04.399Z"
   },
   {
    "duration": 11,
    "start_time": "2022-10-13T06:31:04.816Z"
   },
   {
    "duration": 138,
    "start_time": "2022-10-13T06:31:04.829Z"
   },
   {
    "duration": 1751,
    "start_time": "2022-10-13T06:31:04.968Z"
   },
   {
    "duration": 15,
    "start_time": "2022-10-13T06:31:06.722Z"
   },
   {
    "duration": 281,
    "start_time": "2022-10-13T06:31:06.739Z"
   },
   {
    "duration": 5,
    "start_time": "2022-10-13T06:31:07.022Z"
   },
   {
    "duration": 7,
    "start_time": "2022-10-13T06:31:07.029Z"
   },
   {
    "duration": 8,
    "start_time": "2022-10-13T06:31:07.037Z"
   },
   {
    "duration": 13,
    "start_time": "2022-10-13T06:31:07.046Z"
   },
   {
    "duration": 6,
    "start_time": "2022-10-13T06:31:07.060Z"
   },
   {
    "duration": 11,
    "start_time": "2022-10-13T06:31:07.068Z"
   },
   {
    "duration": 69,
    "start_time": "2022-10-13T06:31:07.080Z"
   },
   {
    "duration": 9,
    "start_time": "2022-10-13T06:31:07.150Z"
   },
   {
    "duration": 24,
    "start_time": "2022-10-13T06:31:07.160Z"
   },
   {
    "duration": 7,
    "start_time": "2022-10-13T06:31:07.205Z"
   },
   {
    "duration": 21,
    "start_time": "2022-10-13T06:31:07.213Z"
   },
   {
    "duration": 6,
    "start_time": "2022-10-13T06:31:07.235Z"
   },
   {
    "duration": 312,
    "start_time": "2022-10-13T06:31:07.242Z"
   },
   {
    "duration": 300,
    "start_time": "2022-10-13T06:31:07.555Z"
   },
   {
    "duration": 268,
    "start_time": "2022-10-13T06:31:07.857Z"
   },
   {
    "duration": 194,
    "start_time": "2022-10-13T06:31:08.127Z"
   },
   {
    "duration": 198,
    "start_time": "2022-10-13T06:31:08.326Z"
   },
   {
    "duration": 16,
    "start_time": "2022-10-13T06:31:08.525Z"
   },
   {
    "duration": 14,
    "start_time": "2022-10-13T06:31:08.543Z"
   },
   {
    "duration": 7,
    "start_time": "2022-10-13T06:31:08.559Z"
   },
   {
    "duration": 223,
    "start_time": "2022-10-13T06:31:08.567Z"
   },
   {
    "duration": 147,
    "start_time": "2022-10-13T06:31:08.791Z"
   },
   {
    "duration": 7,
    "start_time": "2022-10-13T06:31:08.939Z"
   },
   {
    "duration": 9,
    "start_time": "2022-10-13T06:31:08.947Z"
   },
   {
    "duration": 6,
    "start_time": "2022-10-13T06:31:08.958Z"
   },
   {
    "duration": 14,
    "start_time": "2022-10-13T06:31:08.966Z"
   },
   {
    "duration": 4,
    "start_time": "2022-10-13T06:31:08.983Z"
   },
   {
    "duration": 4,
    "start_time": "2022-10-13T06:31:09.005Z"
   },
   {
    "duration": 7,
    "start_time": "2022-10-13T06:31:09.010Z"
   },
   {
    "duration": 9,
    "start_time": "2022-10-13T06:31:09.018Z"
   },
   {
    "duration": 21,
    "start_time": "2022-10-13T06:31:09.028Z"
   },
   {
    "duration": 4,
    "start_time": "2022-10-13T06:31:09.051Z"
   },
   {
    "duration": 12281,
    "start_time": "2022-10-13T06:31:09.056Z"
   },
   {
    "duration": 12454,
    "start_time": "2022-10-13T06:31:21.339Z"
   },
   {
    "duration": 2832363,
    "start_time": "2022-10-13T06:31:33.795Z"
   },
   {
    "duration": 2849167,
    "start_time": "2022-10-13T07:18:46.160Z"
   },
   {
    "duration": 1381,
    "start_time": "2022-10-13T08:06:15.329Z"
   },
   {
    "duration": 1496,
    "start_time": "2022-10-13T08:06:16.712Z"
   },
   {
    "duration": 5,
    "start_time": "2022-10-13T08:06:18.210Z"
   },
   {
    "duration": 120,
    "start_time": "2022-10-13T08:06:18.216Z"
   },
   {
    "duration": 17,
    "start_time": "2022-10-13T08:06:18.338Z"
   },
   {
    "duration": 3,
    "start_time": "2022-10-13T08:06:18.357Z"
   },
   {
    "duration": 11,
    "start_time": "2022-10-13T08:06:18.361Z"
   },
   {
    "duration": 5,
    "start_time": "2022-10-13T08:06:18.374Z"
   },
   {
    "duration": 25,
    "start_time": "2022-10-13T08:06:18.381Z"
   },
   {
    "duration": 6,
    "start_time": "2022-10-13T09:02:29.451Z"
   },
   {
    "duration": 22,
    "start_time": "2022-10-13T09:02:43.973Z"
   },
   {
    "duration": 1255,
    "start_time": "2022-10-13T09:03:42.010Z"
   },
   {
    "duration": 3,
    "start_time": "2022-10-13T09:03:43.267Z"
   },
   {
    "duration": 296,
    "start_time": "2022-10-13T09:03:43.271Z"
   },
   {
    "duration": 16,
    "start_time": "2022-10-13T09:03:43.569Z"
   },
   {
    "duration": 292,
    "start_time": "2022-10-13T09:03:43.587Z"
   },
   {
    "duration": 98,
    "start_time": "2022-10-13T09:03:43.881Z"
   },
   {
    "duration": 13,
    "start_time": "2022-10-13T09:03:43.981Z"
   },
   {
    "duration": 151,
    "start_time": "2022-10-13T09:03:43.995Z"
   },
   {
    "duration": 340,
    "start_time": "2022-10-13T09:03:44.148Z"
   },
   {
    "duration": 19,
    "start_time": "2022-10-13T09:03:44.491Z"
   },
   {
    "duration": 274,
    "start_time": "2022-10-13T09:03:44.511Z"
   },
   {
    "duration": 4,
    "start_time": "2022-10-13T09:03:44.787Z"
   },
   {
    "duration": 14,
    "start_time": "2022-10-13T09:03:44.792Z"
   },
   {
    "duration": 5,
    "start_time": "2022-10-13T09:03:44.808Z"
   },
   {
    "duration": 12,
    "start_time": "2022-10-13T09:03:44.815Z"
   },
   {
    "duration": 6,
    "start_time": "2022-10-13T09:03:44.828Z"
   },
   {
    "duration": 14,
    "start_time": "2022-10-13T09:03:44.836Z"
   },
   {
    "duration": 60,
    "start_time": "2022-10-13T09:03:44.851Z"
   },
   {
    "duration": 10,
    "start_time": "2022-10-13T09:03:44.912Z"
   },
   {
    "duration": 24,
    "start_time": "2022-10-13T09:03:44.923Z"
   },
   {
    "duration": 7,
    "start_time": "2022-10-13T09:03:44.949Z"
   },
   {
    "duration": 24,
    "start_time": "2022-10-13T09:03:44.957Z"
   },
   {
    "duration": 25,
    "start_time": "2022-10-13T09:03:44.983Z"
   },
   {
    "duration": 254,
    "start_time": "2022-10-13T09:03:45.009Z"
   },
   {
    "duration": 244,
    "start_time": "2022-10-13T09:03:45.265Z"
   },
   {
    "duration": 299,
    "start_time": "2022-10-13T09:03:45.511Z"
   },
   {
    "duration": 196,
    "start_time": "2022-10-13T09:03:45.812Z"
   },
   {
    "duration": 198,
    "start_time": "2022-10-13T09:03:46.012Z"
   },
   {
    "duration": 14,
    "start_time": "2022-10-13T09:03:46.211Z"
   },
   {
    "duration": 24,
    "start_time": "2022-10-13T09:03:46.227Z"
   },
   {
    "duration": 17,
    "start_time": "2022-10-13T09:03:46.253Z"
   },
   {
    "duration": 215,
    "start_time": "2022-10-13T09:03:46.271Z"
   },
   {
    "duration": 154,
    "start_time": "2022-10-13T09:03:46.488Z"
   },
   {
    "duration": 7,
    "start_time": "2022-10-13T09:03:46.644Z"
   },
   {
    "duration": 27,
    "start_time": "2022-10-13T09:03:46.652Z"
   },
   {
    "duration": 14,
    "start_time": "2022-10-13T09:03:46.681Z"
   },
   {
    "duration": 18,
    "start_time": "2022-10-13T09:03:46.697Z"
   },
   {
    "duration": 14,
    "start_time": "2022-10-13T09:03:46.717Z"
   },
   {
    "duration": 8,
    "start_time": "2022-10-13T09:03:46.733Z"
   },
   {
    "duration": 17,
    "start_time": "2022-10-13T09:03:46.742Z"
   },
   {
    "duration": 14,
    "start_time": "2022-10-13T09:03:46.760Z"
   },
   {
    "duration": 28,
    "start_time": "2022-10-13T09:03:46.775Z"
   },
   {
    "duration": 5,
    "start_time": "2022-10-13T09:03:46.804Z"
   },
   {
    "duration": 12421,
    "start_time": "2022-10-13T09:03:46.810Z"
   },
   {
    "duration": 12482,
    "start_time": "2022-10-13T09:03:59.232Z"
   },
   {
    "duration": 2813879,
    "start_time": "2022-10-13T09:04:11.716Z"
   },
   {
    "duration": 2867429,
    "start_time": "2022-10-13T09:51:05.597Z"
   },
   {
    "duration": 1479,
    "start_time": "2022-10-13T10:38:53.027Z"
   },
   {
    "duration": 1499,
    "start_time": "2022-10-13T10:38:54.507Z"
   },
   {
    "duration": 4,
    "start_time": "2022-10-13T10:38:56.008Z"
   },
   {
    "duration": 23,
    "start_time": "2022-10-13T10:38:56.013Z"
   },
   {
    "duration": 22,
    "start_time": "2022-10-13T10:38:56.106Z"
   },
   {
    "duration": 3,
    "start_time": "2022-10-13T10:38:56.129Z"
   },
   {
    "duration": 7,
    "start_time": "2022-10-13T10:38:56.134Z"
   },
   {
    "duration": 8,
    "start_time": "2022-10-13T10:38:56.142Z"
   },
   {
    "duration": 7,
    "start_time": "2022-10-13T10:38:56.151Z"
   },
   {
    "duration": 6,
    "start_time": "2022-10-13T11:55:23.463Z"
   },
   {
    "duration": 5,
    "start_time": "2022-10-13T11:55:33.143Z"
   },
   {
    "duration": 4,
    "start_time": "2022-10-13T11:55:36.851Z"
   },
   {
    "duration": 46,
    "start_time": "2022-10-15T13:12:35.397Z"
   },
   {
    "duration": 1484,
    "start_time": "2022-10-15T13:12:51.377Z"
   },
   {
    "duration": 3,
    "start_time": "2022-10-15T13:12:52.863Z"
   },
   {
    "duration": 875,
    "start_time": "2022-10-15T13:12:52.868Z"
   },
   {
    "duration": 17,
    "start_time": "2022-10-15T13:12:53.745Z"
   },
   {
    "duration": 298,
    "start_time": "2022-10-15T13:12:53.764Z"
   },
   {
    "duration": 188,
    "start_time": "2022-10-15T13:12:54.063Z"
   },
   {
    "duration": 12,
    "start_time": "2022-10-15T13:12:54.252Z"
   },
   {
    "duration": 173,
    "start_time": "2022-10-15T13:12:54.266Z"
   },
   {
    "duration": 638,
    "start_time": "2022-10-15T13:12:54.440Z"
   },
   {
    "duration": 17,
    "start_time": "2022-10-15T13:12:55.081Z"
   },
   {
    "duration": 298,
    "start_time": "2022-10-15T13:12:55.099Z"
   },
   {
    "duration": 7,
    "start_time": "2022-10-15T13:12:55.399Z"
   },
   {
    "duration": 10,
    "start_time": "2022-10-15T13:12:55.408Z"
   },
   {
    "duration": 16,
    "start_time": "2022-10-15T13:12:55.420Z"
   },
   {
    "duration": 15,
    "start_time": "2022-10-15T13:12:55.438Z"
   },
   {
    "duration": 10,
    "start_time": "2022-10-15T13:12:55.455Z"
   },
   {
    "duration": 17,
    "start_time": "2022-10-15T13:12:55.466Z"
   },
   {
    "duration": 57,
    "start_time": "2022-10-15T13:12:55.485Z"
   },
   {
    "duration": 11,
    "start_time": "2022-10-15T13:12:55.544Z"
   },
   {
    "duration": 27,
    "start_time": "2022-10-15T13:12:55.556Z"
   },
   {
    "duration": 7,
    "start_time": "2022-10-15T13:12:55.585Z"
   },
   {
    "duration": 49,
    "start_time": "2022-10-15T13:12:55.594Z"
   },
   {
    "duration": 7,
    "start_time": "2022-10-15T13:12:55.645Z"
   },
   {
    "duration": 332,
    "start_time": "2022-10-15T13:12:55.654Z"
   },
   {
    "duration": 285,
    "start_time": "2022-10-15T13:12:55.987Z"
   },
   {
    "duration": 421,
    "start_time": "2022-10-15T13:12:56.274Z"
   },
   {
    "duration": 221,
    "start_time": "2022-10-15T13:12:56.697Z"
   },
   {
    "duration": 231,
    "start_time": "2022-10-15T13:12:56.921Z"
   },
   {
    "duration": 15,
    "start_time": "2022-10-15T13:12:57.153Z"
   },
   {
    "duration": 12,
    "start_time": "2022-10-15T13:12:57.170Z"
   },
   {
    "duration": 7,
    "start_time": "2022-10-15T13:12:57.184Z"
   },
   {
    "duration": 250,
    "start_time": "2022-10-15T13:12:57.193Z"
   },
   {
    "duration": 170,
    "start_time": "2022-10-15T13:12:57.445Z"
   },
   {
    "duration": 7,
    "start_time": "2022-10-15T13:12:57.617Z"
   },
   {
    "duration": 15,
    "start_time": "2022-10-15T13:12:57.625Z"
   },
   {
    "duration": 8,
    "start_time": "2022-10-15T13:12:57.642Z"
   },
   {
    "duration": 17,
    "start_time": "2022-10-15T13:12:57.651Z"
   },
   {
    "duration": 5,
    "start_time": "2022-10-15T13:12:57.669Z"
   },
   {
    "duration": 6,
    "start_time": "2022-10-15T13:12:57.676Z"
   },
   {
    "duration": 6,
    "start_time": "2022-10-15T13:12:57.684Z"
   },
   {
    "duration": 6,
    "start_time": "2022-10-15T13:12:57.692Z"
   },
   {
    "duration": 43,
    "start_time": "2022-10-15T13:12:57.699Z"
   },
   {
    "duration": 3,
    "start_time": "2022-10-15T13:12:57.744Z"
   },
   {
    "duration": 14342,
    "start_time": "2022-10-15T13:12:57.749Z"
   },
   {
    "duration": 14399,
    "start_time": "2022-10-15T13:13:12.093Z"
   },
   {
    "duration": 3307705,
    "start_time": "2022-10-15T13:13:26.495Z"
   },
   {
    "duration": 3382020,
    "start_time": "2022-10-15T14:08:34.202Z"
   },
   {
    "duration": 1614,
    "start_time": "2022-10-15T15:04:56.224Z"
   },
   {
    "duration": 1599,
    "start_time": "2022-10-15T15:04:57.840Z"
   },
   {
    "duration": 4,
    "start_time": "2022-10-15T15:04:59.442Z"
   },
   {
    "duration": 94,
    "start_time": "2022-10-15T15:04:59.448Z"
   },
   {
    "duration": 32,
    "start_time": "2022-10-15T15:04:59.544Z"
   },
   {
    "duration": 3,
    "start_time": "2022-10-15T15:04:59.578Z"
   },
   {
    "duration": 54,
    "start_time": "2022-10-15T15:04:59.583Z"
   },
   {
    "duration": 7,
    "start_time": "2022-10-15T15:04:59.639Z"
   },
   {
    "duration": 9,
    "start_time": "2022-10-15T15:04:59.648Z"
   },
   {
    "duration": 50,
    "start_time": "2022-10-30T11:28:35.096Z"
   },
   {
    "duration": 1596,
    "start_time": "2022-10-30T11:29:12.297Z"
   },
   {
    "duration": 2,
    "start_time": "2022-10-30T11:29:13.895Z"
   },
   {
    "duration": 1018,
    "start_time": "2022-10-30T11:29:13.899Z"
   },
   {
    "duration": 16,
    "start_time": "2022-10-30T11:29:14.919Z"
   },
   {
    "duration": 331,
    "start_time": "2022-10-30T11:29:14.938Z"
   },
   {
    "duration": 448,
    "start_time": "2022-10-30T11:29:15.271Z"
   },
   {
    "duration": 13,
    "start_time": "2022-10-30T11:29:15.721Z"
   },
   {
    "duration": 155,
    "start_time": "2022-10-30T11:29:15.735Z"
   },
   {
    "duration": 1951,
    "start_time": "2022-10-30T11:29:15.892Z"
   },
   {
    "duration": 18,
    "start_time": "2022-10-30T11:29:17.845Z"
   },
   {
    "duration": 323,
    "start_time": "2022-10-30T11:29:17.865Z"
   },
   {
    "duration": 5,
    "start_time": "2022-10-30T11:29:18.189Z"
   },
   {
    "duration": 7,
    "start_time": "2022-10-30T11:29:18.196Z"
   },
   {
    "duration": 5,
    "start_time": "2022-10-30T11:29:18.205Z"
   },
   {
    "duration": 31,
    "start_time": "2022-10-30T11:29:18.211Z"
   },
   {
    "duration": 6,
    "start_time": "2022-10-30T11:29:18.244Z"
   },
   {
    "duration": 14,
    "start_time": "2022-10-30T11:29:18.252Z"
   },
   {
    "duration": 43,
    "start_time": "2022-10-30T11:29:18.267Z"
   },
   {
    "duration": 11,
    "start_time": "2022-10-30T11:29:18.333Z"
   },
   {
    "duration": 28,
    "start_time": "2022-10-30T11:29:18.345Z"
   },
   {
    "duration": 7,
    "start_time": "2022-10-30T11:29:18.375Z"
   },
   {
    "duration": 58,
    "start_time": "2022-10-30T11:29:18.383Z"
   },
   {
    "duration": 11,
    "start_time": "2022-10-30T11:29:18.443Z"
   },
   {
    "duration": 269,
    "start_time": "2022-10-30T11:29:18.456Z"
   },
   {
    "duration": 275,
    "start_time": "2022-10-30T11:29:18.727Z"
   },
   {
    "duration": 373,
    "start_time": "2022-10-30T11:29:19.003Z"
   },
   {
    "duration": 234,
    "start_time": "2022-10-30T11:29:19.378Z"
   },
   {
    "duration": 275,
    "start_time": "2022-10-30T11:29:19.616Z"
   },
   {
    "duration": 17,
    "start_time": "2022-10-30T11:29:19.892Z"
   },
   {
    "duration": 31,
    "start_time": "2022-10-30T11:29:19.911Z"
   },
   {
    "duration": 12,
    "start_time": "2022-10-30T11:29:19.944Z"
   },
   {
    "duration": 276,
    "start_time": "2022-10-30T11:29:19.958Z"
   },
   {
    "duration": 219,
    "start_time": "2022-10-30T11:29:20.243Z"
   },
   {
    "duration": 9,
    "start_time": "2022-10-30T11:29:20.466Z"
   },
   {
    "duration": 17,
    "start_time": "2022-10-30T11:29:20.477Z"
   },
   {
    "duration": 8,
    "start_time": "2022-10-30T11:29:20.497Z"
   },
   {
    "duration": 33,
    "start_time": "2022-10-30T11:29:20.508Z"
   },
   {
    "duration": 4,
    "start_time": "2022-10-30T11:29:20.544Z"
   },
   {
    "duration": 8,
    "start_time": "2022-10-30T11:29:20.550Z"
   },
   {
    "duration": 8,
    "start_time": "2022-10-30T11:29:20.560Z"
   },
   {
    "duration": 9,
    "start_time": "2022-10-30T11:29:20.570Z"
   },
   {
    "duration": 24,
    "start_time": "2022-10-30T11:29:20.581Z"
   },
   {
    "duration": 3,
    "start_time": "2022-10-30T11:29:20.608Z"
   },
   {
    "duration": 14705,
    "start_time": "2022-10-30T11:29:20.633Z"
   },
   {
    "duration": 16849,
    "start_time": "2022-10-30T11:29:35.340Z"
   },
   {
    "duration": 3319306,
    "start_time": "2022-10-30T11:29:52.191Z"
   },
   {
    "duration": 3360379,
    "start_time": "2022-10-30T12:25:11.500Z"
   },
   {
    "duration": 1458,
    "start_time": "2022-10-30T13:21:11.881Z"
   },
   {
    "duration": 1599,
    "start_time": "2022-10-30T13:21:13.342Z"
   },
   {
    "duration": 5,
    "start_time": "2022-10-30T13:21:15.033Z"
   },
   {
    "duration": 11,
    "start_time": "2022-10-30T13:21:15.041Z"
   },
   {
    "duration": 100,
    "start_time": "2022-10-30T13:21:15.055Z"
   },
   {
    "duration": 4,
    "start_time": "2022-10-30T13:21:15.157Z"
   },
   {
    "duration": 8,
    "start_time": "2022-10-30T13:21:15.162Z"
   },
   {
    "duration": 6,
    "start_time": "2022-10-30T13:21:15.172Z"
   },
   {
    "duration": 6,
    "start_time": "2022-10-30T13:21:15.180Z"
   }
  ],
  "kernelspec": {
   "display_name": "Python 3 (ipykernel)",
   "language": "python",
   "name": "python3"
  },
  "language_info": {
   "codemirror_mode": {
    "name": "ipython",
    "version": 3
   },
   "file_extension": ".py",
   "mimetype": "text/x-python",
   "name": "python",
   "nbconvert_exporter": "python",
   "pygments_lexer": "ipython3",
   "version": "3.9.12"
  },
  "toc": {
   "base_numbering": 1,
   "nav_menu": {},
   "number_sections": true,
   "sideBar": true,
   "skip_h1_title": true,
   "title_cell": "Содержание",
   "title_sidebar": "Contents",
   "toc_cell": true,
   "toc_position": {
    "height": "calc(100% - 180px)",
    "left": "10px",
    "top": "150px",
    "width": "165px"
   },
   "toc_section_display": true,
   "toc_window_display": true
  }
 },
 "nbformat": 4,
 "nbformat_minor": 2
}
